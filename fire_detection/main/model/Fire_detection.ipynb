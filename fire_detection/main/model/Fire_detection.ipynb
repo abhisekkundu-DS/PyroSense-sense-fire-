{
  "cells": [
    {
      "cell_type": "code",
      "execution_count": null,
      "metadata": {
        "id": "qNPXSwNDq-tm"
      },
      "outputs": [],
      "source": [
        "# !pip install opendatasets"
      ]
    },
    {
      "cell_type": "code",
      "execution_count": null,
      "metadata": {
        "colab": {
          "base_uri": "https://localhost:8080/"
        },
        "id": "Uu-hEfMdrAo7",
        "outputId": "fd07edff-02b0-4e18-b037-99c08bb81d11"
      },
      "outputs": [
        {
          "name": "stdout",
          "output_type": "stream",
          "text": [
            "Skipping, found downloaded files in \"./construction-site-safety-image-dataset-roboflow\" (use force=True to force download)\n"
          ]
        }
      ],
      "source": [
        "# import opendatasets as od\n",
        "# od.download(\"https://www.kaggle.com/datasets/snehilsanyal/construction-site-safety-image-dataset-roboflow/data\")"
      ]
    },
    {
      "cell_type": "code",
      "execution_count": 1,
      "metadata": {
        "colab": {
          "base_uri": "https://localhost:8080/"
        },
        "id": "8ssZotK2ODob",
        "outputId": "00d3fd4e-3f75-4a00-8d18-63e11222e6b5"
      },
      "outputs": [
        {
          "output_type": "stream",
          "name": "stdout",
          "text": [
            "Collecting roboflow\n",
            "  Downloading roboflow-1.2.3-py3-none-any.whl.metadata (9.7 kB)\n",
            "Requirement already satisfied: certifi in /usr/local/lib/python3.11/dist-packages (from roboflow) (2025.8.3)\n",
            "Collecting idna==3.7 (from roboflow)\n",
            "  Downloading idna-3.7-py3-none-any.whl.metadata (9.9 kB)\n",
            "Requirement already satisfied: cycler in /usr/local/lib/python3.11/dist-packages (from roboflow) (0.12.1)\n",
            "Requirement already satisfied: kiwisolver>=1.3.1 in /usr/local/lib/python3.11/dist-packages (from roboflow) (1.4.8)\n",
            "Requirement already satisfied: matplotlib in /usr/local/lib/python3.11/dist-packages (from roboflow) (3.10.0)\n",
            "Requirement already satisfied: numpy>=1.18.5 in /usr/local/lib/python3.11/dist-packages (from roboflow) (2.0.2)\n",
            "Collecting opencv-python-headless==4.10.0.84 (from roboflow)\n",
            "  Downloading opencv_python_headless-4.10.0.84-cp37-abi3-manylinux_2_17_x86_64.manylinux2014_x86_64.whl.metadata (20 kB)\n",
            "Requirement already satisfied: Pillow>=7.1.2 in /usr/local/lib/python3.11/dist-packages (from roboflow) (11.3.0)\n",
            "Collecting pi-heif<2 (from roboflow)\n",
            "  Downloading pi_heif-1.1.0-cp311-cp311-manylinux_2_27_x86_64.manylinux_2_28_x86_64.whl.metadata (6.5 kB)\n",
            "Collecting pillow-avif-plugin<2 (from roboflow)\n",
            "  Downloading pillow_avif_plugin-1.5.2-cp311-cp311-manylinux_2_28_x86_64.whl.metadata (2.1 kB)\n",
            "Requirement already satisfied: python-dateutil in /usr/local/lib/python3.11/dist-packages (from roboflow) (2.9.0.post0)\n",
            "Collecting python-dotenv (from roboflow)\n",
            "  Downloading python_dotenv-1.1.1-py3-none-any.whl.metadata (24 kB)\n",
            "Requirement already satisfied: requests in /usr/local/lib/python3.11/dist-packages (from roboflow) (2.32.3)\n",
            "Requirement already satisfied: six in /usr/local/lib/python3.11/dist-packages (from roboflow) (1.17.0)\n",
            "Requirement already satisfied: urllib3>=1.26.6 in /usr/local/lib/python3.11/dist-packages (from roboflow) (2.5.0)\n",
            "Requirement already satisfied: tqdm>=4.41.0 in /usr/local/lib/python3.11/dist-packages (from roboflow) (4.67.1)\n",
            "Requirement already satisfied: PyYAML>=5.3.1 in /usr/local/lib/python3.11/dist-packages (from roboflow) (6.0.2)\n",
            "Requirement already satisfied: requests-toolbelt in /usr/local/lib/python3.11/dist-packages (from roboflow) (1.0.0)\n",
            "Collecting filetype (from roboflow)\n",
            "  Downloading filetype-1.2.0-py2.py3-none-any.whl.metadata (6.5 kB)\n",
            "Requirement already satisfied: contourpy>=1.0.1 in /usr/local/lib/python3.11/dist-packages (from matplotlib->roboflow) (1.3.3)\n",
            "Requirement already satisfied: fonttools>=4.22.0 in /usr/local/lib/python3.11/dist-packages (from matplotlib->roboflow) (4.59.0)\n",
            "Requirement already satisfied: packaging>=20.0 in /usr/local/lib/python3.11/dist-packages (from matplotlib->roboflow) (25.0)\n",
            "Requirement already satisfied: pyparsing>=2.3.1 in /usr/local/lib/python3.11/dist-packages (from matplotlib->roboflow) (3.2.3)\n",
            "Requirement already satisfied: charset-normalizer<4,>=2 in /usr/local/lib/python3.11/dist-packages (from requests->roboflow) (3.4.2)\n",
            "Downloading roboflow-1.2.3-py3-none-any.whl (86 kB)\n",
            "\u001b[2K   \u001b[90m━━━━━━━━━━━━━━━━━━━━━━━━━━━━━━━━━━━━━━━━\u001b[0m \u001b[32m86.9/86.9 kB\u001b[0m \u001b[31m5.6 MB/s\u001b[0m eta \u001b[36m0:00:00\u001b[0m\n",
            "\u001b[?25hDownloading idna-3.7-py3-none-any.whl (66 kB)\n",
            "\u001b[2K   \u001b[90m━━━━━━━━━━━━━━━━━━━━━━━━━━━━━━━━━━━━━━━━\u001b[0m \u001b[32m66.8/66.8 kB\u001b[0m \u001b[31m5.6 MB/s\u001b[0m eta \u001b[36m0:00:00\u001b[0m\n",
            "\u001b[?25hDownloading opencv_python_headless-4.10.0.84-cp37-abi3-manylinux_2_17_x86_64.manylinux2014_x86_64.whl (49.9 MB)\n",
            "\u001b[2K   \u001b[90m━━━━━━━━━━━━━━━━━━━━━━━━━━━━━━━━━━━━━━━━\u001b[0m \u001b[32m49.9/49.9 MB\u001b[0m \u001b[31m15.3 MB/s\u001b[0m eta \u001b[36m0:00:00\u001b[0m\n",
            "\u001b[?25hDownloading pi_heif-1.1.0-cp311-cp311-manylinux_2_27_x86_64.manylinux_2_28_x86_64.whl (1.4 MB)\n",
            "\u001b[2K   \u001b[90m━━━━━━━━━━━━━━━━━━━━━━━━━━━━━━━━━━━━━━━━\u001b[0m \u001b[32m1.4/1.4 MB\u001b[0m \u001b[31m46.6 MB/s\u001b[0m eta \u001b[36m0:00:00\u001b[0m\n",
            "\u001b[?25hDownloading pillow_avif_plugin-1.5.2-cp311-cp311-manylinux_2_28_x86_64.whl (4.2 MB)\n",
            "\u001b[2K   \u001b[90m━━━━━━━━━━━━━━━━━━━━━━━━━━━━━━━━━━━━━━━━\u001b[0m \u001b[32m4.2/4.2 MB\u001b[0m \u001b[31m34.6 MB/s\u001b[0m eta \u001b[36m0:00:00\u001b[0m\n",
            "\u001b[?25hDownloading filetype-1.2.0-py2.py3-none-any.whl (19 kB)\n",
            "Downloading python_dotenv-1.1.1-py3-none-any.whl (20 kB)\n",
            "Installing collected packages: pillow-avif-plugin, filetype, python-dotenv, pi-heif, opencv-python-headless, idna, roboflow\n",
            "  Attempting uninstall: opencv-python-headless\n",
            "    Found existing installation: opencv-python-headless 4.12.0.88\n",
            "    Uninstalling opencv-python-headless-4.12.0.88:\n",
            "      Successfully uninstalled opencv-python-headless-4.12.0.88\n",
            "  Attempting uninstall: idna\n",
            "    Found existing installation: idna 3.10\n",
            "    Uninstalling idna-3.10:\n",
            "      Successfully uninstalled idna-3.10\n",
            "Successfully installed filetype-1.2.0 idna-3.7 opencv-python-headless-4.10.0.84 pi-heif-1.1.0 pillow-avif-plugin-1.5.2 python-dotenv-1.1.1 roboflow-1.2.3\n",
            "loading Roboflow workspace...\n",
            "loading Roboflow project...\n"
          ]
        },
        {
          "output_type": "stream",
          "name": "stderr",
          "text": [
            "Downloading Dataset Version Zip in fire-1 to yolov8:: 100%|██████████| 173851/173851 [00:05<00:00, 29503.39it/s]"
          ]
        },
        {
          "output_type": "stream",
          "name": "stdout",
          "text": [
            "\n"
          ]
        },
        {
          "output_type": "stream",
          "name": "stderr",
          "text": [
            "\n",
            "Extracting Dataset Version Zip to fire-1 in yolov8:: 100%|██████████| 8374/8374 [00:01<00:00, 8032.37it/s] \n"
          ]
        }
      ],
      "source": [
        "!pip install roboflow\n",
        "\n",
        "from roboflow import Roboflow\n",
        "rf = Roboflow(api_key=\"9FlwdIhxIXAPlqERzAfu\")\n",
        "project = rf.workspace(\"wildfire-xrkxf\").project(\"fire-oeezo\")\n",
        "version = project.version(1)\n",
        "dataset = version.download(\"yolov8\")\n"
      ]
    },
    {
      "cell_type": "code",
      "execution_count": 2,
      "metadata": {
        "colab": {
          "base_uri": "https://localhost:8080/"
        },
        "id": "OF0O6FnosZaG",
        "outputId": "c2ecce7a-51e7-4959-e125-463f27a6a6e0"
      },
      "outputs": [
        {
          "output_type": "stream",
          "name": "stdout",
          "text": [
            "Collecting ultralytics\n",
            "  Downloading ultralytics-8.3.176-py3-none-any.whl.metadata (37 kB)\n",
            "Requirement already satisfied: numpy>=1.23.0 in /usr/local/lib/python3.11/dist-packages (from ultralytics) (2.0.2)\n",
            "Requirement already satisfied: matplotlib>=3.3.0 in /usr/local/lib/python3.11/dist-packages (from ultralytics) (3.10.0)\n",
            "Requirement already satisfied: opencv-python>=4.6.0 in /usr/local/lib/python3.11/dist-packages (from ultralytics) (4.12.0.88)\n",
            "Requirement already satisfied: pillow>=7.1.2 in /usr/local/lib/python3.11/dist-packages (from ultralytics) (11.3.0)\n",
            "Requirement already satisfied: pyyaml>=5.3.1 in /usr/local/lib/python3.11/dist-packages (from ultralytics) (6.0.2)\n",
            "Requirement already satisfied: requests>=2.23.0 in /usr/local/lib/python3.11/dist-packages (from ultralytics) (2.32.3)\n",
            "Requirement already satisfied: scipy>=1.4.1 in /usr/local/lib/python3.11/dist-packages (from ultralytics) (1.16.1)\n",
            "Requirement already satisfied: torch>=1.8.0 in /usr/local/lib/python3.11/dist-packages (from ultralytics) (2.6.0+cu124)\n",
            "Requirement already satisfied: torchvision>=0.9.0 in /usr/local/lib/python3.11/dist-packages (from ultralytics) (0.21.0+cu124)\n",
            "Requirement already satisfied: tqdm>=4.64.0 in /usr/local/lib/python3.11/dist-packages (from ultralytics) (4.67.1)\n",
            "Requirement already satisfied: psutil in /usr/local/lib/python3.11/dist-packages (from ultralytics) (5.9.5)\n",
            "Requirement already satisfied: py-cpuinfo in /usr/local/lib/python3.11/dist-packages (from ultralytics) (9.0.0)\n",
            "Requirement already satisfied: pandas>=1.1.4 in /usr/local/lib/python3.11/dist-packages (from ultralytics) (2.2.2)\n",
            "Collecting ultralytics-thop>=2.0.0 (from ultralytics)\n",
            "  Downloading ultralytics_thop-2.0.15-py3-none-any.whl.metadata (14 kB)\n",
            "Requirement already satisfied: contourpy>=1.0.1 in /usr/local/lib/python3.11/dist-packages (from matplotlib>=3.3.0->ultralytics) (1.3.3)\n",
            "Requirement already satisfied: cycler>=0.10 in /usr/local/lib/python3.11/dist-packages (from matplotlib>=3.3.0->ultralytics) (0.12.1)\n",
            "Requirement already satisfied: fonttools>=4.22.0 in /usr/local/lib/python3.11/dist-packages (from matplotlib>=3.3.0->ultralytics) (4.59.0)\n",
            "Requirement already satisfied: kiwisolver>=1.3.1 in /usr/local/lib/python3.11/dist-packages (from matplotlib>=3.3.0->ultralytics) (1.4.8)\n",
            "Requirement already satisfied: packaging>=20.0 in /usr/local/lib/python3.11/dist-packages (from matplotlib>=3.3.0->ultralytics) (25.0)\n",
            "Requirement already satisfied: pyparsing>=2.3.1 in /usr/local/lib/python3.11/dist-packages (from matplotlib>=3.3.0->ultralytics) (3.2.3)\n",
            "Requirement already satisfied: python-dateutil>=2.7 in /usr/local/lib/python3.11/dist-packages (from matplotlib>=3.3.0->ultralytics) (2.9.0.post0)\n",
            "Requirement already satisfied: pytz>=2020.1 in /usr/local/lib/python3.11/dist-packages (from pandas>=1.1.4->ultralytics) (2025.2)\n",
            "Requirement already satisfied: tzdata>=2022.7 in /usr/local/lib/python3.11/dist-packages (from pandas>=1.1.4->ultralytics) (2025.2)\n",
            "Requirement already satisfied: charset-normalizer<4,>=2 in /usr/local/lib/python3.11/dist-packages (from requests>=2.23.0->ultralytics) (3.4.2)\n",
            "Requirement already satisfied: idna<4,>=2.5 in /usr/local/lib/python3.11/dist-packages (from requests>=2.23.0->ultralytics) (3.7)\n",
            "Requirement already satisfied: urllib3<3,>=1.21.1 in /usr/local/lib/python3.11/dist-packages (from requests>=2.23.0->ultralytics) (2.5.0)\n",
            "Requirement already satisfied: certifi>=2017.4.17 in /usr/local/lib/python3.11/dist-packages (from requests>=2.23.0->ultralytics) (2025.8.3)\n",
            "Requirement already satisfied: filelock in /usr/local/lib/python3.11/dist-packages (from torch>=1.8.0->ultralytics) (3.18.0)\n",
            "Requirement already satisfied: typing-extensions>=4.10.0 in /usr/local/lib/python3.11/dist-packages (from torch>=1.8.0->ultralytics) (4.14.1)\n",
            "Requirement already satisfied: networkx in /usr/local/lib/python3.11/dist-packages (from torch>=1.8.0->ultralytics) (3.5)\n",
            "Requirement already satisfied: jinja2 in /usr/local/lib/python3.11/dist-packages (from torch>=1.8.0->ultralytics) (3.1.6)\n",
            "Requirement already satisfied: fsspec in /usr/local/lib/python3.11/dist-packages (from torch>=1.8.0->ultralytics) (2025.3.0)\n",
            "Collecting nvidia-cuda-nvrtc-cu12==12.4.127 (from torch>=1.8.0->ultralytics)\n",
            "  Downloading nvidia_cuda_nvrtc_cu12-12.4.127-py3-none-manylinux2014_x86_64.whl.metadata (1.5 kB)\n",
            "Collecting nvidia-cuda-runtime-cu12==12.4.127 (from torch>=1.8.0->ultralytics)\n",
            "  Downloading nvidia_cuda_runtime_cu12-12.4.127-py3-none-manylinux2014_x86_64.whl.metadata (1.5 kB)\n",
            "Collecting nvidia-cuda-cupti-cu12==12.4.127 (from torch>=1.8.0->ultralytics)\n",
            "  Downloading nvidia_cuda_cupti_cu12-12.4.127-py3-none-manylinux2014_x86_64.whl.metadata (1.6 kB)\n",
            "Collecting nvidia-cudnn-cu12==9.1.0.70 (from torch>=1.8.0->ultralytics)\n",
            "  Downloading nvidia_cudnn_cu12-9.1.0.70-py3-none-manylinux2014_x86_64.whl.metadata (1.6 kB)\n",
            "Collecting nvidia-cublas-cu12==12.4.5.8 (from torch>=1.8.0->ultralytics)\n",
            "  Downloading nvidia_cublas_cu12-12.4.5.8-py3-none-manylinux2014_x86_64.whl.metadata (1.5 kB)\n",
            "Collecting nvidia-cufft-cu12==11.2.1.3 (from torch>=1.8.0->ultralytics)\n",
            "  Downloading nvidia_cufft_cu12-11.2.1.3-py3-none-manylinux2014_x86_64.whl.metadata (1.5 kB)\n",
            "Collecting nvidia-curand-cu12==10.3.5.147 (from torch>=1.8.0->ultralytics)\n",
            "  Downloading nvidia_curand_cu12-10.3.5.147-py3-none-manylinux2014_x86_64.whl.metadata (1.5 kB)\n",
            "Collecting nvidia-cusolver-cu12==11.6.1.9 (from torch>=1.8.0->ultralytics)\n",
            "  Downloading nvidia_cusolver_cu12-11.6.1.9-py3-none-manylinux2014_x86_64.whl.metadata (1.6 kB)\n",
            "Collecting nvidia-cusparse-cu12==12.3.1.170 (from torch>=1.8.0->ultralytics)\n",
            "  Downloading nvidia_cusparse_cu12-12.3.1.170-py3-none-manylinux2014_x86_64.whl.metadata (1.6 kB)\n",
            "Requirement already satisfied: nvidia-cusparselt-cu12==0.6.2 in /usr/local/lib/python3.11/dist-packages (from torch>=1.8.0->ultralytics) (0.6.2)\n",
            "Collecting nvidia-nccl-cu12==2.21.5 (from torch>=1.8.0->ultralytics)\n",
            "  Downloading nvidia_nccl_cu12-2.21.5-py3-none-manylinux2014_x86_64.whl.metadata (1.8 kB)\n",
            "Requirement already satisfied: nvidia-nvtx-cu12==12.4.127 in /usr/local/lib/python3.11/dist-packages (from torch>=1.8.0->ultralytics) (12.4.127)\n",
            "Collecting nvidia-nvjitlink-cu12==12.4.127 (from torch>=1.8.0->ultralytics)\n",
            "  Downloading nvidia_nvjitlink_cu12-12.4.127-py3-none-manylinux2014_x86_64.whl.metadata (1.5 kB)\n",
            "Requirement already satisfied: triton==3.2.0 in /usr/local/lib/python3.11/dist-packages (from torch>=1.8.0->ultralytics) (3.2.0)\n",
            "Requirement already satisfied: sympy==1.13.1 in /usr/local/lib/python3.11/dist-packages (from torch>=1.8.0->ultralytics) (1.13.1)\n",
            "Requirement already satisfied: mpmath<1.4,>=1.1.0 in /usr/local/lib/python3.11/dist-packages (from sympy==1.13.1->torch>=1.8.0->ultralytics) (1.3.0)\n",
            "Requirement already satisfied: six>=1.5 in /usr/local/lib/python3.11/dist-packages (from python-dateutil>=2.7->matplotlib>=3.3.0->ultralytics) (1.17.0)\n",
            "Requirement already satisfied: MarkupSafe>=2.0 in /usr/local/lib/python3.11/dist-packages (from jinja2->torch>=1.8.0->ultralytics) (3.0.2)\n",
            "Downloading ultralytics-8.3.176-py3-none-any.whl (1.0 MB)\n",
            "\u001b[2K   \u001b[90m━━━━━━━━━━━━━━━━━━━━━━━━━━━━━━━━━━━━━━━━\u001b[0m \u001b[32m1.0/1.0 MB\u001b[0m \u001b[31m32.4 MB/s\u001b[0m eta \u001b[36m0:00:00\u001b[0m\n",
            "\u001b[?25hDownloading nvidia_cublas_cu12-12.4.5.8-py3-none-manylinux2014_x86_64.whl (363.4 MB)\n",
            "\u001b[2K   \u001b[90m━━━━━━━━━━━━━━━━━━━━━━━━━━━━━━━━━━━━━━━━\u001b[0m \u001b[32m363.4/363.4 MB\u001b[0m \u001b[31m4.5 MB/s\u001b[0m eta \u001b[36m0:00:00\u001b[0m\n",
            "\u001b[?25hDownloading nvidia_cuda_cupti_cu12-12.4.127-py3-none-manylinux2014_x86_64.whl (13.8 MB)\n",
            "\u001b[2K   \u001b[90m━━━━━━━━━━━━━━━━━━━━━━━━━━━━━━━━━━━━━━━━\u001b[0m \u001b[32m13.8/13.8 MB\u001b[0m \u001b[31m125.2 MB/s\u001b[0m eta \u001b[36m0:00:00\u001b[0m\n",
            "\u001b[?25hDownloading nvidia_cuda_nvrtc_cu12-12.4.127-py3-none-manylinux2014_x86_64.whl (24.6 MB)\n",
            "\u001b[2K   \u001b[90m━━━━━━━━━━━━━━━━━━━━━━━━━━━━━━━━━━━━━━━━\u001b[0m \u001b[32m24.6/24.6 MB\u001b[0m \u001b[31m96.6 MB/s\u001b[0m eta \u001b[36m0:00:00\u001b[0m\n",
            "\u001b[?25hDownloading nvidia_cuda_runtime_cu12-12.4.127-py3-none-manylinux2014_x86_64.whl (883 kB)\n",
            "\u001b[2K   \u001b[90m━━━━━━━━━━━━━━━━━━━━━━━━━━━━━━━━━━━━━━━━\u001b[0m \u001b[32m883.7/883.7 kB\u001b[0m \u001b[31m59.2 MB/s\u001b[0m eta \u001b[36m0:00:00\u001b[0m\n",
            "\u001b[?25hDownloading nvidia_cudnn_cu12-9.1.0.70-py3-none-manylinux2014_x86_64.whl (664.8 MB)\n",
            "\u001b[2K   \u001b[90m━━━━━━━━━━━━━━━━━━━━━━━━━━━━━━━━━━━━━━━━\u001b[0m \u001b[32m664.8/664.8 MB\u001b[0m \u001b[31m1.5 MB/s\u001b[0m eta \u001b[36m0:00:00\u001b[0m\n",
            "\u001b[?25hDownloading nvidia_cufft_cu12-11.2.1.3-py3-none-manylinux2014_x86_64.whl (211.5 MB)\n",
            "\u001b[2K   \u001b[90m━━━━━━━━━━━━━━━━━━━━━━━━━━━━━━━━━━━━━━━━\u001b[0m \u001b[32m211.5/211.5 MB\u001b[0m \u001b[31m5.1 MB/s\u001b[0m eta \u001b[36m0:00:00\u001b[0m\n",
            "\u001b[?25hDownloading nvidia_curand_cu12-10.3.5.147-py3-none-manylinux2014_x86_64.whl (56.3 MB)\n",
            "\u001b[2K   \u001b[90m━━━━━━━━━━━━━━━━━━━━━━━━━━━━━━━━━━━━━━━━\u001b[0m \u001b[32m56.3/56.3 MB\u001b[0m \u001b[31m11.7 MB/s\u001b[0m eta \u001b[36m0:00:00\u001b[0m\n",
            "\u001b[?25hDownloading nvidia_cusolver_cu12-11.6.1.9-py3-none-manylinux2014_x86_64.whl (127.9 MB)\n",
            "\u001b[2K   \u001b[90m━━━━━━━━━━━━━━━━━━━━━━━━━━━━━━━━━━━━━━━━\u001b[0m \u001b[32m127.9/127.9 MB\u001b[0m \u001b[31m7.5 MB/s\u001b[0m eta \u001b[36m0:00:00\u001b[0m\n",
            "\u001b[?25hDownloading nvidia_cusparse_cu12-12.3.1.170-py3-none-manylinux2014_x86_64.whl (207.5 MB)\n",
            "\u001b[2K   \u001b[90m━━━━━━━━━━━━━━━━━━━━━━━━━━━━━━━━━━━━━━━━\u001b[0m \u001b[32m207.5/207.5 MB\u001b[0m \u001b[31m5.4 MB/s\u001b[0m eta \u001b[36m0:00:00\u001b[0m\n",
            "\u001b[?25hDownloading nvidia_nccl_cu12-2.21.5-py3-none-manylinux2014_x86_64.whl (188.7 MB)\n",
            "\u001b[2K   \u001b[90m━━━━━━━━━━━━━━━━━━━━━━━━━━━━━━━━━━━━━━━━\u001b[0m \u001b[32m188.7/188.7 MB\u001b[0m \u001b[31m5.9 MB/s\u001b[0m eta \u001b[36m0:00:00\u001b[0m\n",
            "\u001b[?25hDownloading nvidia_nvjitlink_cu12-12.4.127-py3-none-manylinux2014_x86_64.whl (21.1 MB)\n",
            "\u001b[2K   \u001b[90m━━━━━━━━━━━━━━━━━━━━━━━━━━━━━━━━━━━━━━━━\u001b[0m \u001b[32m21.1/21.1 MB\u001b[0m \u001b[31m83.9 MB/s\u001b[0m eta \u001b[36m0:00:00\u001b[0m\n",
            "\u001b[?25hDownloading ultralytics_thop-2.0.15-py3-none-any.whl (28 kB)\n",
            "Installing collected packages: nvidia-nvjitlink-cu12, nvidia-nccl-cu12, nvidia-curand-cu12, nvidia-cufft-cu12, nvidia-cuda-runtime-cu12, nvidia-cuda-nvrtc-cu12, nvidia-cuda-cupti-cu12, nvidia-cublas-cu12, nvidia-cusparse-cu12, nvidia-cudnn-cu12, nvidia-cusolver-cu12, ultralytics-thop, ultralytics\n",
            "  Attempting uninstall: nvidia-nvjitlink-cu12\n",
            "    Found existing installation: nvidia-nvjitlink-cu12 12.5.82\n",
            "    Uninstalling nvidia-nvjitlink-cu12-12.5.82:\n",
            "      Successfully uninstalled nvidia-nvjitlink-cu12-12.5.82\n",
            "  Attempting uninstall: nvidia-nccl-cu12\n",
            "    Found existing installation: nvidia-nccl-cu12 2.23.4\n",
            "    Uninstalling nvidia-nccl-cu12-2.23.4:\n",
            "      Successfully uninstalled nvidia-nccl-cu12-2.23.4\n",
            "  Attempting uninstall: nvidia-curand-cu12\n",
            "    Found existing installation: nvidia-curand-cu12 10.3.6.82\n",
            "    Uninstalling nvidia-curand-cu12-10.3.6.82:\n",
            "      Successfully uninstalled nvidia-curand-cu12-10.3.6.82\n",
            "  Attempting uninstall: nvidia-cufft-cu12\n",
            "    Found existing installation: nvidia-cufft-cu12 11.2.3.61\n",
            "    Uninstalling nvidia-cufft-cu12-11.2.3.61:\n",
            "      Successfully uninstalled nvidia-cufft-cu12-11.2.3.61\n",
            "  Attempting uninstall: nvidia-cuda-runtime-cu12\n",
            "    Found existing installation: nvidia-cuda-runtime-cu12 12.5.82\n",
            "    Uninstalling nvidia-cuda-runtime-cu12-12.5.82:\n",
            "      Successfully uninstalled nvidia-cuda-runtime-cu12-12.5.82\n",
            "  Attempting uninstall: nvidia-cuda-nvrtc-cu12\n",
            "    Found existing installation: nvidia-cuda-nvrtc-cu12 12.5.82\n",
            "    Uninstalling nvidia-cuda-nvrtc-cu12-12.5.82:\n",
            "      Successfully uninstalled nvidia-cuda-nvrtc-cu12-12.5.82\n",
            "  Attempting uninstall: nvidia-cuda-cupti-cu12\n",
            "    Found existing installation: nvidia-cuda-cupti-cu12 12.5.82\n",
            "    Uninstalling nvidia-cuda-cupti-cu12-12.5.82:\n",
            "      Successfully uninstalled nvidia-cuda-cupti-cu12-12.5.82\n",
            "  Attempting uninstall: nvidia-cublas-cu12\n",
            "    Found existing installation: nvidia-cublas-cu12 12.5.3.2\n",
            "    Uninstalling nvidia-cublas-cu12-12.5.3.2:\n",
            "      Successfully uninstalled nvidia-cublas-cu12-12.5.3.2\n",
            "  Attempting uninstall: nvidia-cusparse-cu12\n",
            "    Found existing installation: nvidia-cusparse-cu12 12.5.1.3\n",
            "    Uninstalling nvidia-cusparse-cu12-12.5.1.3:\n",
            "      Successfully uninstalled nvidia-cusparse-cu12-12.5.1.3\n",
            "  Attempting uninstall: nvidia-cudnn-cu12\n",
            "    Found existing installation: nvidia-cudnn-cu12 9.3.0.75\n",
            "    Uninstalling nvidia-cudnn-cu12-9.3.0.75:\n",
            "      Successfully uninstalled nvidia-cudnn-cu12-9.3.0.75\n",
            "  Attempting uninstall: nvidia-cusolver-cu12\n",
            "    Found existing installation: nvidia-cusolver-cu12 11.6.3.83\n",
            "    Uninstalling nvidia-cusolver-cu12-11.6.3.83:\n",
            "      Successfully uninstalled nvidia-cusolver-cu12-11.6.3.83\n",
            "Successfully installed nvidia-cublas-cu12-12.4.5.8 nvidia-cuda-cupti-cu12-12.4.127 nvidia-cuda-nvrtc-cu12-12.4.127 nvidia-cuda-runtime-cu12-12.4.127 nvidia-cudnn-cu12-9.1.0.70 nvidia-cufft-cu12-11.2.1.3 nvidia-curand-cu12-10.3.5.147 nvidia-cusolver-cu12-11.6.1.9 nvidia-cusparse-cu12-12.3.1.170 nvidia-nccl-cu12-2.21.5 nvidia-nvjitlink-cu12-12.4.127 ultralytics-8.3.176 ultralytics-thop-2.0.15\n"
          ]
        }
      ],
      "source": [
        "\n",
        "!pip install ultralytics"
      ]
    },
    {
      "cell_type": "code",
      "execution_count": 3,
      "metadata": {
        "colab": {
          "base_uri": "https://localhost:8080/"
        },
        "id": "ZgRceIZescqh",
        "outputId": "41306c10-3256-4b95-c25c-943b67fe93f0"
      },
      "outputs": [
        {
          "output_type": "stream",
          "name": "stdout",
          "text": [
            "Creating new Ultralytics Settings v0.0.6 file ✅ \n",
            "View Ultralytics Settings with 'yolo settings' or at '/root/.config/Ultralytics/settings.json'\n",
            "Update Settings with 'yolo settings key=value', i.e. 'yolo settings runs_dir=path/to/dir'. For help see https://docs.ultralytics.com/quickstart/#ultralytics-settings.\n"
          ]
        }
      ],
      "source": [
        "\n",
        "from ultralytics import YOLO"
      ]
    },
    {
      "cell_type": "code",
      "execution_count": 4,
      "metadata": {
        "id": "86HRX3rOsf3S"
      },
      "outputs": [],
      "source": [
        "import torch\n",
        "torch.cuda.empty_cache()"
      ]
    },
    {
      "cell_type": "code",
      "execution_count": 5,
      "metadata": {
        "colab": {
          "base_uri": "https://localhost:8080/"
        },
        "id": "WIN2Wov5sieO",
        "outputId": "edea1d36-a0b0-421f-fff6-2c1c1e9c7104"
      },
      "outputs": [
        {
          "output_type": "stream",
          "name": "stderr",
          "text": [
            "Downloading https://github.com/ultralytics/assets/releases/download/v8.3.0/yolov8n.pt to 'yolov8n.pt': 100%|██████████| 6.25M/6.25M [00:00<00:00, 111MB/s]\n"
          ]
        },
        {
          "output_type": "stream",
          "name": "stdout",
          "text": [
            "Ultralytics 8.3.176 🚀 Python-3.11.13 torch-2.6.0+cu124 CUDA:0 (Tesla T4, 15095MiB)\n",
            "\u001b[34m\u001b[1mengine/trainer: \u001b[0magnostic_nms=False, amp=True, augment=False, auto_augment=randaugment, batch=8, bgr=0.0, box=7.5, cache=False, cfg=None, classes=None, close_mosaic=10, cls=0.5, conf=None, copy_paste=0.0, copy_paste_mode=flip, cos_lr=False, cutmix=0.0, data=custom_data.yaml, degrees=0.0, deterministic=True, device=None, dfl=1.5, dnn=False, dropout=0.0, dynamic=False, embed=None, epochs=100, erasing=0.4, exist_ok=False, fliplr=0.5, flipud=0.0, format=torchscript, fraction=1.0, freeze=None, half=False, hsv_h=0.015, hsv_s=0.7, hsv_v=0.4, imgsz=640, int8=False, iou=0.7, keras=False, kobj=1.0, line_width=None, lr0=0.01, lrf=0.01, mask_ratio=4, max_det=300, mixup=0.0, mode=train, model=yolov8n.pt, momentum=0.937, mosaic=1.0, multi_scale=False, name=train, nbs=64, nms=False, opset=None, optimize=False, optimizer=auto, overlap_mask=True, patience=100, perspective=0.0, plots=True, pose=12.0, pretrained=True, profile=False, project=None, rect=False, resume=False, retina_masks=False, save=True, save_conf=False, save_crop=False, save_dir=runs/detect/train, save_frames=False, save_json=False, save_period=-1, save_txt=False, scale=0.5, seed=0, shear=0.0, show=False, show_boxes=True, show_conf=True, show_labels=True, simplify=True, single_cls=False, source=None, split=val, stream_buffer=False, task=detect, time=None, tracker=botsort.yaml, translate=0.1, val=True, verbose=True, vid_stride=1, visualize=False, warmup_bias_lr=0.1, warmup_epochs=3.0, warmup_momentum=0.8, weight_decay=0.0005, workers=8, workspace=None\n"
          ]
        },
        {
          "output_type": "stream",
          "name": "stderr",
          "text": [
            "Downloading https://ultralytics.com/assets/Arial.ttf to '/root/.config/Ultralytics/Arial.ttf': 100%|██████████| 755k/755k [00:00<00:00, 36.2MB/s]"
          ]
        },
        {
          "output_type": "stream",
          "name": "stdout",
          "text": [
            "Overriding model.yaml nc=80 with nc=1\n",
            "\n",
            "                   from  n    params  module                                       arguments                     \n",
            "  0                  -1  1       464  ultralytics.nn.modules.conv.Conv             [3, 16, 3, 2]                 \n",
            "  1                  -1  1      4672  ultralytics.nn.modules.conv.Conv             [16, 32, 3, 2]                \n",
            "  2                  -1  1      7360  ultralytics.nn.modules.block.C2f             [32, 32, 1, True]             \n",
            "  3                  -1  1     18560  ultralytics.nn.modules.conv.Conv             [32, 64, 3, 2]                \n",
            "  4                  -1  2     49664  ultralytics.nn.modules.block.C2f             [64, 64, 2, True]             \n",
            "  5                  -1  1     73984  ultralytics.nn.modules.conv.Conv             [64, 128, 3, 2]               \n",
            "  6                  -1  2    197632  ultralytics.nn.modules.block.C2f             [128, 128, 2, True]           \n",
            "  7                  -1  1    295424  ultralytics.nn.modules.conv.Conv             [128, 256, 3, 2]              \n",
            "  8                  -1  1    460288  ultralytics.nn.modules.block.C2f             [256, 256, 1, True]           \n",
            "  9                  -1  1    164608  ultralytics.nn.modules.block.SPPF            [256, 256, 5]                 \n",
            " 10                  -1  1         0  torch.nn.modules.upsampling.Upsample         [None, 2, 'nearest']          \n",
            " 11             [-1, 6]  1         0  ultralytics.nn.modules.conv.Concat           [1]                           \n",
            " 12                  -1  1    148224  ultralytics.nn.modules.block.C2f             [384, 128, 1]                 \n",
            " 13                  -1  1         0  torch.nn.modules.upsampling.Upsample         [None, 2, 'nearest']          \n",
            " 14             [-1, 4]  1         0  ultralytics.nn.modules.conv.Concat           [1]                           \n",
            " 15                  -1  1     37248  ultralytics.nn.modules.block.C2f             [192, 64, 1]                  \n",
            " 16                  -1  1     36992  ultralytics.nn.modules.conv.Conv             [64, 64, 3, 2]                \n",
            " 17            [-1, 12]  1         0  ultralytics.nn.modules.conv.Concat           [1]                           \n",
            " 18                  -1  1    123648  ultralytics.nn.modules.block.C2f             [192, 128, 1]                 \n",
            " 19                  -1  1    147712  ultralytics.nn.modules.conv.Conv             [128, 128, 3, 2]              \n",
            " 20             [-1, 9]  1         0  ultralytics.nn.modules.conv.Concat           [1]                           \n",
            " 21                  -1  1    493056  ultralytics.nn.modules.block.C2f             [384, 256, 1]                 \n",
            " 22        [15, 18, 21]  1    751507  ultralytics.nn.modules.head.Detect           [1, [64, 128, 256]]           \n"
          ]
        },
        {
          "output_type": "stream",
          "name": "stderr",
          "text": [
            "\n"
          ]
        },
        {
          "output_type": "stream",
          "name": "stdout",
          "text": [
            "Model summary: 129 layers, 3,011,043 parameters, 3,011,027 gradients, 8.2 GFLOPs\n",
            "\n",
            "Transferred 319/355 items from pretrained weights\n",
            "Freezing layer 'model.22.dfl.conv.weight'\n",
            "\u001b[34m\u001b[1mAMP: \u001b[0mrunning Automatic Mixed Precision (AMP) checks...\n"
          ]
        },
        {
          "output_type": "stream",
          "name": "stderr",
          "text": [
            "Downloading https://github.com/ultralytics/assets/releases/download/v8.3.0/yolo11n.pt to 'yolo11n.pt': 100%|██████████| 5.35M/5.35M [00:00<00:00, 103MB/s]\n"
          ]
        },
        {
          "output_type": "stream",
          "name": "stdout",
          "text": [
            "\u001b[34m\u001b[1mAMP: \u001b[0mchecks passed ✅\n",
            "\u001b[34m\u001b[1mtrain: \u001b[0mFast image access ✅ (ping: 0.0±0.0 ms, read: 14.1±3.2 MB/s, size: 32.2 KB)\n"
          ]
        },
        {
          "output_type": "stream",
          "name": "stderr",
          "text": [
            "\u001b[34m\u001b[1mtrain: \u001b[0mScanning /content/fire-1/train/labels... 3990 images, 1 backgrounds, 1340 corrupt: 100%|██████████| 3990/3990 [00:04<00:00, 847.28it/s] "
          ]
        },
        {
          "output_type": "stream",
          "name": "stdout",
          "text": [
            "\u001b[34m\u001b[1mtrain: \u001b[0m/content/fire-1/train/images/0055_jpg.rf.f775049f5a6ec8d0a64463839c53337d.jpg: ignoring corrupt image/label: Label class 1 exceeds dataset class count 1. Possible class labels are 0-0\n",
            "\u001b[34m\u001b[1mtrain: \u001b[0m/content/fire-1/train/images/0068_jpg.rf.5990eb7dbee532b8ff1aeb0e478db582.jpg: ignoring corrupt image/label: Label class 1 exceeds dataset class count 1. Possible class labels are 0-0\n",
            "\u001b[34m\u001b[1mtrain: \u001b[0m/content/fire-1/train/images/0069_jpg.rf.c21b690c8ca1cf31f4afb4518d7d6534.jpg: ignoring corrupt image/label: Label class 1 exceeds dataset class count 1. Possible class labels are 0-0\n",
            "\u001b[34m\u001b[1mtrain: \u001b[0m/content/fire-1/train/images/0070_JPG_jpg.rf.a74894a048fd524eb564da957ae3e482.jpg: ignoring corrupt image/label: Label class 1 exceeds dataset class count 1. Possible class labels are 0-0\n",
            "\u001b[34m\u001b[1mtrain: \u001b[0m/content/fire-1/train/images/0076_jpg.rf.6a4402d9240353a2b8f90c622f81bd04.jpg: ignoring corrupt image/label: Label class 1 exceeds dataset class count 1. Possible class labels are 0-0\n",
            "\u001b[34m\u001b[1mtrain: \u001b[0m/content/fire-1/train/images/0080_JPG_jpg.rf.8b952a4e21034a55a9404b3341f7db81.jpg: ignoring corrupt image/label: Label class 1 exceeds dataset class count 1. Possible class labels are 0-0\n",
            "\u001b[34m\u001b[1mtrain: \u001b[0m/content/fire-1/train/images/0094_jpg.rf.f595687ec19773677466c3d7d7575b58.jpg: ignoring corrupt image/label: Label class 1 exceeds dataset class count 1. Possible class labels are 0-0\n",
            "\u001b[34m\u001b[1mtrain: \u001b[0m/content/fire-1/train/images/0099_jpg.rf.ea4fbe5a4bd8c550380071d974452bda.jpg: ignoring corrupt image/label: Label class 1 exceeds dataset class count 1. Possible class labels are 0-0\n",
            "\u001b[34m\u001b[1mtrain: \u001b[0m/content/fire-1/train/images/0115_jpg.rf.43b2000abc878104c7ac913e64daa581.jpg: ignoring corrupt image/label: Label class 1 exceeds dataset class count 1. Possible class labels are 0-0\n",
            "\u001b[34m\u001b[1mtrain: \u001b[0m/content/fire-1/train/images/0123_jpg.rf.536acb6c8a6cf027396b5a5bc60152c2.jpg: ignoring corrupt image/label: Label class 1 exceeds dataset class count 1. Possible class labels are 0-0\n",
            "\u001b[34m\u001b[1mtrain: \u001b[0m/content/fire-1/train/images/0128_jpg.rf.0f932815652e0d1ba7fd3a9abeb7d027.jpg: ignoring corrupt image/label: Label class 1 exceeds dataset class count 1. Possible class labels are 0-0\n",
            "\u001b[34m\u001b[1mtrain: \u001b[0m/content/fire-1/train/images/0134_jpg.rf.1bbd8e66e49d8d87cfd9a1e7e4512be3.jpg: ignoring corrupt image/label: Label class 1 exceeds dataset class count 1. Possible class labels are 0-0\n",
            "\u001b[34m\u001b[1mtrain: \u001b[0m/content/fire-1/train/images/0138_jpg.rf.287a2aabe374f751b5d004c27f4ccd67.jpg: ignoring corrupt image/label: Label class 1 exceeds dataset class count 1. Possible class labels are 0-0\n",
            "\u001b[34m\u001b[1mtrain: \u001b[0m/content/fire-1/train/images/0139_jpg.rf.c02e5e0d3393f5b60ad62aab2ce1e87d.jpg: ignoring corrupt image/label: Label class 1 exceeds dataset class count 1. Possible class labels are 0-0\n",
            "\u001b[34m\u001b[1mtrain: \u001b[0m/content/fire-1/train/images/0145_JPG_jpg.rf.4a15cca787e7cc0f124eee52fa8b654a.jpg: ignoring corrupt image/label: Label class 1 exceeds dataset class count 1. Possible class labels are 0-0\n",
            "\u001b[34m\u001b[1mtrain: \u001b[0m/content/fire-1/train/images/0146_JPG_jpg.rf.ea5b7516533ac17a84140e871f5e200f.jpg: ignoring corrupt image/label: Label class 1 exceeds dataset class count 1. Possible class labels are 0-0\n",
            "\u001b[34m\u001b[1mtrain: \u001b[0m/content/fire-1/train/images/102-Copy_jpg.rf.e7a014b01bcf1a437f95f90cfe2b9509.jpg: ignoring corrupt image/label: Label class 1 exceeds dataset class count 1. Possible class labels are 0-0\n",
            "\u001b[34m\u001b[1mtrain: \u001b[0m/content/fire-1/train/images/1034_jpg.rf.68b9f99fa691f12995b59dbb0d264de5.jpg: ignoring corrupt image/label: Label class 1 exceeds dataset class count 1. Possible class labels are 0-0\n",
            "\u001b[34m\u001b[1mtrain: \u001b[0m/content/fire-1/train/images/1041_jpg.rf.fa99a434d322e8434612303836eb7655.jpg: ignoring corrupt image/label: Label class 1 exceeds dataset class count 1. Possible class labels are 0-0\n",
            "\u001b[34m\u001b[1mtrain: \u001b[0m/content/fire-1/train/images/1055_jpg.rf.74959bbe97966659fdbcd07241ca92a2.jpg: ignoring corrupt image/label: Label class 1 exceeds dataset class count 1. Possible class labels are 0-0\n",
            "\u001b[34m\u001b[1mtrain: \u001b[0m/content/fire-1/train/images/1073_jpg.rf.d4ce4c5988e11f5bcae89b0049fcd011.jpg: ignoring corrupt image/label: Label class 1 exceeds dataset class count 1. Possible class labels are 0-0\n",
            "\u001b[34m\u001b[1mtrain: \u001b[0m/content/fire-1/train/images/10_jpg.rf.8ed8f6d0444f22b8a0d2cd960e686605.jpg: ignoring corrupt image/label: Label class 1 exceeds dataset class count 1. Possible class labels are 0-0\n",
            "\u001b[34m\u001b[1mtrain: \u001b[0m/content/fire-1/train/images/1121_jpg.rf.ed84c7c0eaf5129c2c796b89ffd2af65.jpg: ignoring corrupt image/label: Label class 1 exceeds dataset class count 1. Possible class labels are 0-0\n",
            "\u001b[34m\u001b[1mtrain: \u001b[0m/content/fire-1/train/images/12_jpg.rf.2aebadf2b18b85387751387c7bb9cf80.jpg: ignoring corrupt image/label: Label class 1 exceeds dataset class count 1. Possible class labels are 0-0\n",
            "\u001b[34m\u001b[1mtrain: \u001b[0m/content/fire-1/train/images/144_jpg.rf.dd4e89521e6ce3009011b96037c206a5.jpg: ignoring corrupt image/label: Label class 1 exceeds dataset class count 1. Possible class labels are 0-0\n",
            "\u001b[34m\u001b[1mtrain: \u001b[0m/content/fire-1/train/images/14_jpg.rf.dbed4d8653ef14773a15b38462233100.jpg: ignoring corrupt image/label: Label class 1 exceeds dataset class count 1. Possible class labels are 0-0\n",
            "\u001b[34m\u001b[1mtrain: \u001b[0m/content/fire-1/train/images/16_jpg.rf.be151a9216c4d2746bf607da33b077f4.jpg: ignoring corrupt image/label: Label class 1 exceeds dataset class count 1. Possible class labels are 0-0\n",
            "\u001b[34m\u001b[1mtrain: \u001b[0m/content/fire-1/train/images/17_jpg.rf.859d3fe1f6e854c1710dd6843b80d310.jpg: ignoring corrupt image/label: Label class 1 exceeds dataset class count 1. Possible class labels are 0-0\n",
            "\u001b[34m\u001b[1mtrain: \u001b[0m/content/fire-1/train/images/267_jpg.rf.f45a3fe504d769a139912431975deb25.jpg: ignoring corrupt image/label: Label class 1 exceeds dataset class count 1. Possible class labels are 0-0\n",
            "\u001b[34m\u001b[1mtrain: \u001b[0m/content/fire-1/train/images/29_jpg.rf.4c3a3aa72a67dc64393b8348a2350c43.jpg: ignoring corrupt image/label: Label class 1 exceeds dataset class count 1. Possible class labels are 0-0\n",
            "\u001b[34m\u001b[1mtrain: \u001b[0m/content/fire-1/train/images/2_jpg.rf.b3efd1617295e6d9a2685317bddc2b73.jpg: ignoring corrupt image/label: Label class 1 exceeds dataset class count 1. Possible class labels are 0-0\n",
            "\u001b[34m\u001b[1mtrain: \u001b[0m/content/fire-1/train/images/2d30fdc58f112046_jpg.rf.b178b33d487e776873bcf72480893b39.jpg: ignoring corrupt image/label: Label class 1 exceeds dataset class count 1. Possible class labels are 0-0\n",
            "\u001b[34m\u001b[1mtrain: \u001b[0m/content/fire-1/train/images/30_jpg.rf.30481d4b2eaba1cf39b4618653316b3e.jpg: ignoring corrupt image/label: Label class 1 exceeds dataset class count 1. Possible class labels are 0-0\n",
            "\u001b[34m\u001b[1mtrain: \u001b[0m/content/fire-1/train/images/32_jpg.rf.de2f0748a6d4894b65804a0e51b0598d.jpg: ignoring corrupt image/label: Label class 1 exceeds dataset class count 1. Possible class labels are 0-0\n",
            "\u001b[34m\u001b[1mtrain: \u001b[0m/content/fire-1/train/images/332_jpg.rf.3e48098b20101f8bdd1702638cbbe45a.jpg: ignoring corrupt image/label: Label class 1 exceeds dataset class count 1. Possible class labels are 0-0\n",
            "\u001b[34m\u001b[1mtrain: \u001b[0m/content/fire-1/train/images/33_jpg.rf.94e9e77535c8e89feee45521f482aa5b.jpg: ignoring corrupt image/label: Label class 1 exceeds dataset class count 1. Possible class labels are 0-0\n",
            "\u001b[34m\u001b[1mtrain: \u001b[0m/content/fire-1/train/images/347_jpg.rf.8db8986548a625fd21ad388f21966783.jpg: ignoring corrupt image/label: Label class 1 exceeds dataset class count 1. Possible class labels are 0-0\n",
            "\u001b[34m\u001b[1mtrain: \u001b[0m/content/fire-1/train/images/39_jpg.rf.ce63f1cfd2e870149ad2b4560c701669.jpg: ignoring corrupt image/label: Label class 1 exceeds dataset class count 1. Possible class labels are 0-0\n",
            "\u001b[34m\u001b[1mtrain: \u001b[0m/content/fire-1/train/images/406_jpg.rf.902881fa539699932938314003454e62.jpg: ignoring corrupt image/label: Label class 1 exceeds dataset class count 1. Possible class labels are 0-0\n",
            "\u001b[34m\u001b[1mtrain: \u001b[0m/content/fire-1/train/images/40_jpg.rf.a4f17e4039fa47f3dee1bf0e839e88a3.jpg: ignoring corrupt image/label: Label class 1 exceeds dataset class count 1. Possible class labels are 0-0\n",
            "\u001b[34m\u001b[1mtrain: \u001b[0m/content/fire-1/train/images/423_jpg.rf.06fa77afdb814e5c1f54bf96cd1aa2ef.jpg: ignoring corrupt image/label: Label class 1 exceeds dataset class count 1. Possible class labels are 0-0\n",
            "\u001b[34m\u001b[1mtrain: \u001b[0m/content/fire-1/train/images/436_jpg.rf.8cfb995666ece6d66f7580253f43b2b7.jpg: ignoring corrupt image/label: Label class 1 exceeds dataset class count 1. Possible class labels are 0-0\n",
            "\u001b[34m\u001b[1mtrain: \u001b[0m/content/fire-1/train/images/43_jpg.rf.527df994f93d276b47984d0ffba98d5e.jpg: ignoring corrupt image/label: Label class 1 exceeds dataset class count 1. Possible class labels are 0-0\n",
            "\u001b[34m\u001b[1mtrain: \u001b[0m/content/fire-1/train/images/440_jpg.rf.ee200bc38f8cd97c151d1be1170bcc63.jpg: ignoring corrupt image/label: Label class 1 exceeds dataset class count 1. Possible class labels are 0-0\n",
            "\u001b[34m\u001b[1mtrain: \u001b[0m/content/fire-1/train/images/44_jpg.rf.84012c725d9c7068bd23bb34146782b4.jpg: ignoring corrupt image/label: Label class 1 exceeds dataset class count 1. Possible class labels are 0-0\n",
            "\u001b[34m\u001b[1mtrain: \u001b[0m/content/fire-1/train/images/456_jpg.rf.e50da7f4a6c488e5974c899a46216003.jpg: ignoring corrupt image/label: Label class 1 exceeds dataset class count 1. Possible class labels are 0-0\n",
            "\u001b[34m\u001b[1mtrain: \u001b[0m/content/fire-1/train/images/45_jpg.rf.296bd0e72797efe8f3b8e3711df4ad97.jpg: ignoring corrupt image/label: Label class 1 exceeds dataset class count 1. Possible class labels are 0-0\n",
            "\u001b[34m\u001b[1mtrain: \u001b[0m/content/fire-1/train/images/46_jpg.rf.00990fe6d088e6d98c63ec9481c61349.jpg: ignoring corrupt image/label: Label class 1 exceeds dataset class count 1. Possible class labels are 0-0\n",
            "\u001b[34m\u001b[1mtrain: \u001b[0m/content/fire-1/train/images/479_jpg.rf.1c76aa370110d2f607145aeec5ea6187.jpg: ignoring corrupt image/label: Label class 1 exceeds dataset class count 1. Possible class labels are 0-0\n",
            "\u001b[34m\u001b[1mtrain: \u001b[0m/content/fire-1/train/images/482_jpg.rf.e2d97df6b877bdbd4833b262bb115b4c.jpg: ignoring corrupt image/label: Label class 1 exceeds dataset class count 1. Possible class labels are 0-0\n",
            "\u001b[34m\u001b[1mtrain: \u001b[0m/content/fire-1/train/images/48_jpg.rf.e66a0f0a901eb6f7c925cf6804e676da.jpg: ignoring corrupt image/label: Label class 1 exceeds dataset class count 1. Possible class labels are 0-0\n",
            "\u001b[34m\u001b[1mtrain: \u001b[0m/content/fire-1/train/images/49_jpg.rf.0f7c6b1b2a3db41629ec513d607343ee.jpg: ignoring corrupt image/label: Label class 1 exceeds dataset class count 1. Possible class labels are 0-0\n",
            "\u001b[34m\u001b[1mtrain: \u001b[0m/content/fire-1/train/images/503_jpg.rf.536fba989e5c943ccdb438cf57f47674.jpg: ignoring corrupt image/label: Label class 1 exceeds dataset class count 1. Possible class labels are 0-0\n",
            "\u001b[34m\u001b[1mtrain: \u001b[0m/content/fire-1/train/images/506_jpg.rf.efbd763dd6aeb5500450372f871a8946.jpg: ignoring corrupt image/label: Label class 1 exceeds dataset class count 1. Possible class labels are 0-0\n",
            "\u001b[34m\u001b[1mtrain: \u001b[0m/content/fire-1/train/images/50_jpg.rf.0a6a1f176240c5663e9f45d3e27fdd1c.jpg: ignoring corrupt image/label: Label class 1 exceeds dataset class count 1. Possible class labels are 0-0\n",
            "\u001b[34m\u001b[1mtrain: \u001b[0m/content/fire-1/train/images/532_jpg.rf.1d133a0b47415ac1617b01fcc36d8966.jpg: ignoring corrupt image/label: Label class 1 exceeds dataset class count 1. Possible class labels are 0-0\n",
            "\u001b[34m\u001b[1mtrain: \u001b[0m/content/fire-1/train/images/535_jpg.rf.c2b2a9f7c25e7ff782b761fb92a1d98f.jpg: ignoring corrupt image/label: Label class 1 exceeds dataset class count 1. Possible class labels are 0-0\n",
            "\u001b[34m\u001b[1mtrain: \u001b[0m/content/fire-1/train/images/535_jpg.rf.d73752a7c7de0d657c43cc4117506caf.jpg: ignoring corrupt image/label: Label class 1 exceeds dataset class count 1. Possible class labels are 0-0\n",
            "\u001b[34m\u001b[1mtrain: \u001b[0m/content/fire-1/train/images/536_jpg.rf.b89ac9b658b1b007f149702fa9954104.jpg: ignoring corrupt image/label: Label class 1 exceeds dataset class count 1. Possible class labels are 0-0\n",
            "\u001b[34m\u001b[1mtrain: \u001b[0m/content/fire-1/train/images/564_jpg.rf.63245cfe400e4fc3b3d98f84e9a4b8c6.jpg: ignoring corrupt image/label: Label class 1 exceeds dataset class count 1. Possible class labels are 0-0\n",
            "\u001b[34m\u001b[1mtrain: \u001b[0m/content/fire-1/train/images/564_jpg.rf.937cf75feb799143c964d5e3620584db.jpg: ignoring corrupt image/label: Label class 1 exceeds dataset class count 1. Possible class labels are 0-0\n",
            "\u001b[34m\u001b[1mtrain: \u001b[0m/content/fire-1/train/images/578_jpg.rf.b81094f39cb79acfd18b23ddb19b0f42.jpg: ignoring corrupt image/label: Label class 1 exceeds dataset class count 1. Possible class labels are 0-0\n",
            "\u001b[34m\u001b[1mtrain: \u001b[0m/content/fire-1/train/images/596_jpg.rf.8b44b762e03cb6e307845ab744e8872f.jpg: ignoring corrupt image/label: Label class 1 exceeds dataset class count 1. Possible class labels are 0-0\n",
            "\u001b[34m\u001b[1mtrain: \u001b[0m/content/fire-1/train/images/5_jpg.rf.c80c1869b42426fa0685bd5ea305b9b9.jpg: ignoring corrupt image/label: Label class 1 exceeds dataset class count 1. Possible class labels are 0-0\n",
            "\u001b[34m\u001b[1mtrain: \u001b[0m/content/fire-1/train/images/604_jpg.rf.6b473fcaf018f9e639fb8615d7e5c3bc.jpg: ignoring corrupt image/label: Label class 1 exceeds dataset class count 1. Possible class labels are 0-0\n",
            "\u001b[34m\u001b[1mtrain: \u001b[0m/content/fire-1/train/images/61-Copy_jpg.rf.bc0c9dbf852f67d92f5a5658a58c2889.jpg: ignoring corrupt image/label: Label class 1 exceeds dataset class count 1. Possible class labels are 0-0\n",
            "\u001b[34m\u001b[1mtrain: \u001b[0m/content/fire-1/train/images/628_jpg.rf.760bc0bfa0e658ca79e007ff00d5b528.jpg: ignoring corrupt image/label: Label class 1 exceeds dataset class count 1. Possible class labels are 0-0\n",
            "\u001b[34m\u001b[1mtrain: \u001b[0m/content/fire-1/train/images/644_jpg.rf.8d298677d8fb9d5fbfd7c942f4a67fe5.jpg: ignoring corrupt image/label: Label class 1 exceeds dataset class count 1. Possible class labels are 0-0\n",
            "\u001b[34m\u001b[1mtrain: \u001b[0m/content/fire-1/train/images/647_jpg.rf.c17ffca1d3f24c523213336594b9d6fb.jpg: ignoring corrupt image/label: Label class 1 exceeds dataset class count 1. Possible class labels are 0-0\n",
            "\u001b[34m\u001b[1mtrain: \u001b[0m/content/fire-1/train/images/655_jpg.rf.23f2cc2bfe4122a12eed8e386f3a0fd8.jpg: ignoring corrupt image/label: Label class 1 exceeds dataset class count 1. Possible class labels are 0-0\n",
            "\u001b[34m\u001b[1mtrain: \u001b[0m/content/fire-1/train/images/655_jpg.rf.c827ebd86a1a81e144ccf393e8ae491c.jpg: ignoring corrupt image/label: Label class 1 exceeds dataset class count 1. Possible class labels are 0-0\n",
            "\u001b[34m\u001b[1mtrain: \u001b[0m/content/fire-1/train/images/675_jpg.rf.ff15677281636a41e99ef6865bc035af.jpg: ignoring corrupt image/label: Label class 1 exceeds dataset class count 1. Possible class labels are 0-0\n",
            "\u001b[34m\u001b[1mtrain: \u001b[0m/content/fire-1/train/images/694_jpg.rf.04db16f37bb05c238b40623da78eac07.jpg: ignoring corrupt image/label: Label class 1 exceeds dataset class count 1. Possible class labels are 0-0\n",
            "\u001b[34m\u001b[1mtrain: \u001b[0m/content/fire-1/train/images/745_jpg.rf.ebc8fd9c21d70ce980bb0dc28fe68f14.jpg: ignoring corrupt image/label: Label class 1 exceeds dataset class count 1. Possible class labels are 0-0\n",
            "\u001b[34m\u001b[1mtrain: \u001b[0m/content/fire-1/train/images/766_jpg.rf.dc4ecf3adf0563f23818c07612f3b715.jpg: ignoring corrupt image/label: Label class 1 exceeds dataset class count 1. Possible class labels are 0-0\n",
            "\u001b[34m\u001b[1mtrain: \u001b[0m/content/fire-1/train/images/770_jpg.rf.cddff831fa87772cf6f26afe01932229.jpg: ignoring corrupt image/label: Label class 1 exceeds dataset class count 1. Possible class labels are 0-0\n",
            "\u001b[34m\u001b[1mtrain: \u001b[0m/content/fire-1/train/images/773_jpg.rf.2d06e7b0ea380ac196b7e2c6e412984a.jpg: ignoring corrupt image/label: Label class 1 exceeds dataset class count 1. Possible class labels are 0-0\n",
            "\u001b[34m\u001b[1mtrain: \u001b[0m/content/fire-1/train/images/776_jpg.rf.922da2db7a0cfb2a9a9c01e8f1dcdff3.jpg: ignoring corrupt image/label: Label class 1 exceeds dataset class count 1. Possible class labels are 0-0\n",
            "\u001b[34m\u001b[1mtrain: \u001b[0m/content/fire-1/train/images/80-Copy_jpg.rf.ba606075ae17b6276d9540e8e571f9be.jpg: ignoring corrupt image/label: Label class 1 exceeds dataset class count 1. Possible class labels are 0-0\n",
            "\u001b[34m\u001b[1mtrain: \u001b[0m/content/fire-1/train/images/80-Copy_jpg.rf.d1baf4b0b9030adc8d3f986ebe9ae1a4.jpg: ignoring corrupt image/label: Label class 1 exceeds dataset class count 1. Possible class labels are 0-0\n",
            "\u001b[34m\u001b[1mtrain: \u001b[0m/content/fire-1/train/images/803_jpg.rf.5975612e13c3459c40286f5ec73d3e62.jpg: ignoring corrupt image/label: Label class 1 exceeds dataset class count 1. Possible class labels are 0-0\n",
            "\u001b[34m\u001b[1mtrain: \u001b[0m/content/fire-1/train/images/805_jpg.rf.0938be7d30c19fedfc293537cf73ad42.jpg: ignoring corrupt image/label: Label class 1 exceeds dataset class count 1. Possible class labels are 0-0\n",
            "\u001b[34m\u001b[1mtrain: \u001b[0m/content/fire-1/train/images/805_jpg.rf.f471ec5ae05a316e567105a80630eaff.jpg: ignoring corrupt image/label: Label class 1 exceeds dataset class count 1. Possible class labels are 0-0\n",
            "\u001b[34m\u001b[1mtrain: \u001b[0m/content/fire-1/train/images/807_jpg.rf.f1defa699b45871a951c45a99194ba45.jpg: ignoring corrupt image/label: Label class 1 exceeds dataset class count 1. Possible class labels are 0-0\n",
            "\u001b[34m\u001b[1mtrain: \u001b[0m/content/fire-1/train/images/813_jpg.rf.9dbc217baeb359953abcef024ca32ab5.jpg: ignoring corrupt image/label: Label class 1 exceeds dataset class count 1. Possible class labels are 0-0\n",
            "\u001b[34m\u001b[1mtrain: \u001b[0m/content/fire-1/train/images/82-Copy_jpg.rf.d0bc117d83bf21e9af10d51537828cfd.jpg: ignoring corrupt image/label: Label class 1 exceeds dataset class count 1. Possible class labels are 0-0\n",
            "\u001b[34m\u001b[1mtrain: \u001b[0m/content/fire-1/train/images/823_jpg.rf.13989a507b09f94189efff7863022d33.jpg: ignoring corrupt image/label: Label class 1 exceeds dataset class count 1. Possible class labels are 0-0\n",
            "\u001b[34m\u001b[1mtrain: \u001b[0m/content/fire-1/train/images/83-59ebbe7676ecf-image_jpg.rf.278bad3bbb3cccb008f9998cd278621a.jpg: ignoring corrupt image/label: Label class 1 exceeds dataset class count 1. Possible class labels are 0-0\n",
            "\u001b[34m\u001b[1mtrain: \u001b[0m/content/fire-1/train/images/851_jpg.rf.10ef4169d09c14273d69a43d4cce4d13.jpg: ignoring corrupt image/label: Label class 1 exceeds dataset class count 1. Possible class labels are 0-0\n",
            "\u001b[34m\u001b[1mtrain: \u001b[0m/content/fire-1/train/images/851_jpg.rf.b1d65a4c1d482985d1d3e2954b367012.jpg: ignoring corrupt image/label: Label class 1 exceeds dataset class count 1. Possible class labels are 0-0\n",
            "\u001b[34m\u001b[1mtrain: \u001b[0m/content/fire-1/train/images/858_jpg.rf.2da72de86b1b88a1fbf107b941a98596.jpg: ignoring corrupt image/label: Label class 1 exceeds dataset class count 1. Possible class labels are 0-0\n",
            "\u001b[34m\u001b[1mtrain: \u001b[0m/content/fire-1/train/images/859_jpg.rf.8bb861a40eb3c1df2fcd71671ad5a7a9.jpg: ignoring corrupt image/label: Label class 1 exceeds dataset class count 1. Possible class labels are 0-0\n",
            "\u001b[34m\u001b[1mtrain: \u001b[0m/content/fire-1/train/images/860_jpg.rf.101e16be778d2abaff6c623f57a81a3a.jpg: ignoring corrupt image/label: Label class 1 exceeds dataset class count 1. Possible class labels are 0-0\n",
            "\u001b[34m\u001b[1mtrain: \u001b[0m/content/fire-1/train/images/871_jpg.rf.c6c4f9a6ca5addf1bc376fc46f1a8c33.jpg: ignoring corrupt image/label: Label class 1 exceeds dataset class count 1. Possible class labels are 0-0\n",
            "\u001b[34m\u001b[1mtrain: \u001b[0m/content/fire-1/train/images/873_jpg.rf.c3a2871697d08db59ec201baab941797.jpg: ignoring corrupt image/label: Label class 1 exceeds dataset class count 1. Possible class labels are 0-0\n",
            "\u001b[34m\u001b[1mtrain: \u001b[0m/content/fire-1/train/images/874_jpg.rf.a0d9afd37621ad2aa977cfdccdc8b500.jpg: ignoring corrupt image/label: Label class 1 exceeds dataset class count 1. Possible class labels are 0-0\n",
            "\u001b[34m\u001b[1mtrain: \u001b[0m/content/fire-1/train/images/874_jpg.rf.cd946ee108443dacf51a998435535c1d.jpg: ignoring corrupt image/label: Label class 1 exceeds dataset class count 1. Possible class labels are 0-0\n",
            "\u001b[34m\u001b[1mtrain: \u001b[0m/content/fire-1/train/images/88-Copy_jpg.rf.105dd9a78d2d45c0383b285ad341ebb1.jpg: ignoring corrupt image/label: Label class 1 exceeds dataset class count 1. Possible class labels are 0-0\n",
            "\u001b[34m\u001b[1mtrain: \u001b[0m/content/fire-1/train/images/88-Copy_jpg.rf.33f1a84b1bb085be363446486ae19816.jpg: ignoring corrupt image/label: Label class 1 exceeds dataset class count 1. Possible class labels are 0-0\n",
            "\u001b[34m\u001b[1mtrain: \u001b[0m/content/fire-1/train/images/884_jpg.rf.fc8f557cc338b5f0c6e8c4ac565f7f42.jpg: ignoring corrupt image/label: Label class 1 exceeds dataset class count 1. Possible class labels are 0-0\n",
            "\u001b[34m\u001b[1mtrain: \u001b[0m/content/fire-1/train/images/891_jpg.rf.1caa331262a0c08fecdbe515f3bfbfd4.jpg: ignoring corrupt image/label: Label class 1 exceeds dataset class count 1. Possible class labels are 0-0\n",
            "\u001b[34m\u001b[1mtrain: \u001b[0m/content/fire-1/train/images/891_jpg.rf.cb12a6236ddf27e557f5d4cb2cc205e6.jpg: ignoring corrupt image/label: Label class 1 exceeds dataset class count 1. Possible class labels are 0-0\n",
            "\u001b[34m\u001b[1mtrain: \u001b[0m/content/fire-1/train/images/899_jpg.rf.2d0b8aefd88abbaa20c0478f969754ff.jpg: ignoring corrupt image/label: Label class 1 exceeds dataset class count 1. Possible class labels are 0-0\n",
            "\u001b[34m\u001b[1mtrain: \u001b[0m/content/fire-1/train/images/899_jpg.rf.edac4b7b6307028d988195108a45f6e0.jpg: ignoring corrupt image/label: Label class 1 exceeds dataset class count 1. Possible class labels are 0-0\n",
            "\u001b[34m\u001b[1mtrain: \u001b[0m/content/fire-1/train/images/8_jpg.rf.3b0cf8aa6aa5a6bf9d32ceb5391627a5.jpg: ignoring corrupt image/label: Label class 1 exceeds dataset class count 1. Possible class labels are 0-0\n",
            "\u001b[34m\u001b[1mtrain: \u001b[0m/content/fire-1/train/images/914_jpg.rf.882d13f5f6a174915d7adb7bc3d3b36f.jpg: ignoring corrupt image/label: Label class 1 exceeds dataset class count 1. Possible class labels are 0-0\n",
            "\u001b[34m\u001b[1mtrain: \u001b[0m/content/fire-1/train/images/915_jpg.rf.bcb45ceff9dd12ae3b4cd13641fcf8cc.jpg: ignoring corrupt image/label: Label class 1 exceeds dataset class count 1. Possible class labels are 0-0\n",
            "\u001b[34m\u001b[1mtrain: \u001b[0m/content/fire-1/train/images/91_jpg.rf.49f652ac10ea453f9472ba6f306d96a4.jpg: ignoring corrupt image/label: Label class 1 exceeds dataset class count 1. Possible class labels are 0-0\n",
            "\u001b[34m\u001b[1mtrain: \u001b[0m/content/fire-1/train/images/931_jpg.rf.0872029fa134ad47a838794ee09345f7.jpg: ignoring corrupt image/label: Label class 1 exceeds dataset class count 1. Possible class labels are 0-0\n",
            "\u001b[34m\u001b[1mtrain: \u001b[0m/content/fire-1/train/images/931_jpg.rf.846a2ecaa2290d74038fec11ac41cbe1.jpg: ignoring corrupt image/label: Label class 1 exceeds dataset class count 1. Possible class labels are 0-0\n",
            "\u001b[34m\u001b[1mtrain: \u001b[0m/content/fire-1/train/images/937_jpg.rf.fbc2425778e67ca1714255341b27e05c.jpg: ignoring corrupt image/label: Label class 1 exceeds dataset class count 1. Possible class labels are 0-0\n",
            "\u001b[34m\u001b[1mtrain: \u001b[0m/content/fire-1/train/images/939_jpg.rf.0a5abb05ab8e5a3f78af5ec3c7000214.jpg: ignoring corrupt image/label: Label class 1 exceeds dataset class count 1. Possible class labels are 0-0\n",
            "\u001b[34m\u001b[1mtrain: \u001b[0m/content/fire-1/train/images/94_jpg.rf.f26c63354900364f64510ea1f13c9f7c.jpg: ignoring corrupt image/label: Label class 1 exceeds dataset class count 1. Possible class labels are 0-0\n",
            "\u001b[34m\u001b[1mtrain: \u001b[0m/content/fire-1/train/images/95-Copy_jpg.rf.4d12b4c9011c4d9ad77d2c5f50184cb7.jpg: ignoring corrupt image/label: Label class 1 exceeds dataset class count 1. Possible class labels are 0-0\n",
            "\u001b[34m\u001b[1mtrain: \u001b[0m/content/fire-1/train/images/95-Copy_jpg.rf.cc852d95ee7b40b3329bb36112dde50a.jpg: ignoring corrupt image/label: Label class 1 exceeds dataset class count 1. Possible class labels are 0-0\n",
            "\u001b[34m\u001b[1mtrain: \u001b[0m/content/fire-1/train/images/953_jpg.rf.d9e9e674f4df8eef96720412328e916f.jpg: ignoring corrupt image/label: Label class 1 exceeds dataset class count 1. Possible class labels are 0-0\n",
            "\u001b[34m\u001b[1mtrain: \u001b[0m/content/fire-1/train/images/962_jpg.rf.1e40c69e589fe94aade10525ac2f4165.jpg: ignoring corrupt image/label: Label class 1 exceeds dataset class count 1. Possible class labels are 0-0\n",
            "\u001b[34m\u001b[1mtrain: \u001b[0m/content/fire-1/train/images/963_jpg.rf.4fe55a87ada8d01a7df7740a04ad8942.jpg: ignoring corrupt image/label: Label class 1 exceeds dataset class count 1. Possible class labels are 0-0\n",
            "\u001b[34m\u001b[1mtrain: \u001b[0m/content/fire-1/train/images/967_jpg.rf.286aeb2e473df673d7e81ece851b665d.jpg: ignoring corrupt image/label: Label class 1 exceeds dataset class count 1. Possible class labels are 0-0\n",
            "\u001b[34m\u001b[1mtrain: \u001b[0m/content/fire-1/train/images/984_jpg.rf.145470fc2532222083bc6fd15d4695fe.jpg: ignoring corrupt image/label: Label class 1 exceeds dataset class count 1. Possible class labels are 0-0\n",
            "\u001b[34m\u001b[1mtrain: \u001b[0m/content/fire-1/train/images/984_jpg.rf.4f6e2d2186778c1a91727dbbcf21c331.jpg: ignoring corrupt image/label: Label class 1 exceeds dataset class count 1. Possible class labels are 0-0\n",
            "\u001b[34m\u001b[1mtrain: \u001b[0m/content/fire-1/train/images/98_jpg.rf.ea405255667fd28e1188eb261b095dc9.jpg: ignoring corrupt image/label: Label class 1 exceeds dataset class count 1. Possible class labels are 0-0\n",
            "\u001b[34m\u001b[1mtrain: \u001b[0m/content/fire-1/train/images/BowFire_MirrorWEBSmoke2608_jpg.rf.267d498274425971862cfc95fc93dbf0.jpg: ignoring corrupt image/label: Label class 1 exceeds dataset class count 1. Possible class labels are 0-0\n",
            "\u001b[34m\u001b[1mtrain: \u001b[0m/content/fire-1/train/images/BowFire_MirrorWEBSmoke2609_jpg.rf.c903b9221426393b3266faba7cc22b8f.jpg: ignoring corrupt image/label: Label class 1 exceeds dataset class count 1. Possible class labels are 0-0\n",
            "\u001b[34m\u001b[1mtrain: \u001b[0m/content/fire-1/train/images/BowFire_NoiseWEBSmoke2607_jpg.rf.5d0971febefd999880fd4349436c490e.jpg: ignoring corrupt image/label: Label class 1 exceeds dataset class count 1. Possible class labels are 0-0\n",
            "\u001b[34m\u001b[1mtrain: \u001b[0m/content/fire-1/train/images/BowFire_NoiseWEBSmoke2608_jpg.rf.27ace3879b1e2fb4530a4599885850bb.jpg: ignoring corrupt image/label: Label class 1 exceeds dataset class count 1. Possible class labels are 0-0\n",
            "\u001b[34m\u001b[1mtrain: \u001b[0m/content/fire-1/train/images/BowFire_WEBSmoke2609_jpg.rf.b8a50740581acaaec00b855310b9d674.jpg: ignoring corrupt image/label: Label class 1 exceeds dataset class count 1. Possible class labels are 0-0\n",
            "\u001b[34m\u001b[1mtrain: \u001b[0m/content/fire-1/train/images/FireDetectionImage_MirrorWEBFire066_jpg.rf.88c60695284e796e64ca9c89467de688.jpg: ignoring corrupt image/label: Label class 1 exceeds dataset class count 1. Possible class labels are 0-0\n",
            "\u001b[34m\u001b[1mtrain: \u001b[0m/content/fire-1/train/images/FireDetectionImage_MirrorWEBFire099_jpg.rf.f713e5df6cabe66e9b090c8a41963f02.jpg: ignoring corrupt image/label: Label class 1 exceeds dataset class count 1. Possible class labels are 0-0\n",
            "\u001b[34m\u001b[1mtrain: \u001b[0m/content/fire-1/train/images/FireDetectionImage_MirrorWEBFire1049_jpg.rf.ab147dea050ecea3c8ddf502a42ad1d8.jpg: ignoring corrupt image/label: Label class 1 exceeds dataset class count 1. Possible class labels are 0-0\n",
            "\u001b[34m\u001b[1mtrain: \u001b[0m/content/fire-1/train/images/FireDetectionImage_NoiseWEBFire066_jpg.rf.478fcc015f5b3cc269910b75fa48ae9c.jpg: ignoring corrupt image/label: Label class 1 exceeds dataset class count 1. Possible class labels are 0-0\n",
            "\u001b[34m\u001b[1mtrain: \u001b[0m/content/fire-1/train/images/FireDetectionImage_NoiseWEBFire090_jpg.rf.1821e41e7ee0d7386bc8ed2a3e2938d9.jpg: ignoring corrupt image/label: Label class 1 exceeds dataset class count 1. Possible class labels are 0-0\n",
            "\u001b[34m\u001b[1mtrain: \u001b[0m/content/fire-1/train/images/FireDetectionImage_NoiseWEBFire099_jpg.rf.b065b7f3df0e2d35ae223984e6d122a5.jpg: ignoring corrupt image/label: Label class 1 exceeds dataset class count 1. Possible class labels are 0-0\n",
            "\u001b[34m\u001b[1mtrain: \u001b[0m/content/fire-1/train/images/FireDetectionImage_NoiseWEBFire133_jpg.rf.4d288f579159bfe8e255a9e238a94a36.jpg: ignoring corrupt image/label: Label class 1 exceeds dataset class count 1. Possible class labels are 0-0\n",
            "\u001b[34m\u001b[1mtrain: \u001b[0m/content/fire-1/train/images/FireDetectionImage_NoiseWEBFire136_jpg.rf.b15d4b9ec430b5fb44112731caab3f6e.jpg: ignoring corrupt image/label: Label class 1 exceeds dataset class count 1. Possible class labels are 0-0\n",
            "\u001b[34m\u001b[1mtrain: \u001b[0m/content/fire-1/train/images/FireDetectionImage_WEBFire090_jpg.rf.5d62f90878a13c7f6957c3d01c520051.jpg: ignoring corrupt image/label: Label class 1 exceeds dataset class count 1. Possible class labels are 0-0\n",
            "\u001b[34m\u001b[1mtrain: \u001b[0m/content/fire-1/train/images/FireDetectionImage_WEBFire099_jpg.rf.53602fd8dfcf72c0216fe504caa0bace.jpg: ignoring corrupt image/label: Label class 1 exceeds dataset class count 1. Possible class labels are 0-0\n",
            "\u001b[34m\u001b[1mtrain: \u001b[0m/content/fire-1/train/images/FireDetectionImage_WEBFire1104_jpg.rf.a475c852674b4382cd082d7e5f1cd145.jpg: ignoring corrupt image/label: Label class 1 exceeds dataset class count 1. Possible class labels are 0-0\n",
            "\u001b[34m\u001b[1mtrain: \u001b[0m/content/fire-1/train/images/FireDetectionImage_WEBFire136_jpg.rf.c477a449dae36374484c32545eae0a02.jpg: ignoring corrupt image/label: Label class 1 exceeds dataset class count 1. Possible class labels are 0-0\n",
            "\u001b[34m\u001b[1mtrain: \u001b[0m/content/fire-1/train/images/GettyImages-1228574257_Bobcat-Fire_Sept-2020_web_jpg.rf.07f17c741725607cde0abeefd92d34a9.jpg: ignoring corrupt image/label: Label class 1 exceeds dataset class count 1. Possible class labels are 0-0\n",
            "\u001b[34m\u001b[1mtrain: \u001b[0m/content/fire-1/train/images/MirrorWEBFire052_jpg.rf.0c65f2eddf9276ff08103560d1cc115e.jpg: ignoring corrupt image/label: Label class 1 exceeds dataset class count 1. Possible class labels are 0-0\n",
            "\u001b[34m\u001b[1mtrain: \u001b[0m/content/fire-1/train/images/MirrorWEBFire057_jpg.rf.30fafecafd0b8a3f0a201cc57da79f80.jpg: ignoring corrupt image/label: Label class 1 exceeds dataset class count 1. Possible class labels are 0-0\n",
            "\u001b[34m\u001b[1mtrain: \u001b[0m/content/fire-1/train/images/MirrorWEBFire060_jpg.rf.92e299a0f9fa505d428d0fe2f3870019.jpg: ignoring corrupt image/label: Label class 1 exceeds dataset class count 1. Possible class labels are 0-0\n",
            "\u001b[34m\u001b[1mtrain: \u001b[0m/content/fire-1/train/images/MirrorWEBFire1042_jpg.rf.69b65ac802fdb40fec3aaac6b706bf32.jpg: ignoring corrupt image/label: Label class 1 exceeds dataset class count 1. Possible class labels are 0-0\n",
            "\u001b[34m\u001b[1mtrain: \u001b[0m/content/fire-1/train/images/MirrorWEBFire1047_jpg.rf.7a0686f767cce45c78a736e2baf9db0a.jpg: ignoring corrupt image/label: Label class 1 exceeds dataset class count 1. Possible class labels are 0-0\n",
            "\u001b[34m\u001b[1mtrain: \u001b[0m/content/fire-1/train/images/MirrorWEBFire1048_jpg.rf.716cb9406a3f43fd4f993e12623405d8.jpg: ignoring corrupt image/label: Label class 1 exceeds dataset class count 1. Possible class labels are 0-0\n",
            "\u001b[34m\u001b[1mtrain: \u001b[0m/content/fire-1/train/images/MirrorWEBFire1048_jpg.rf.bc5070f2a2717417d165d29e48fb68dd.jpg: ignoring corrupt image/label: Label class 1 exceeds dataset class count 1. Possible class labels are 0-0\n",
            "\u001b[34m\u001b[1mtrain: \u001b[0m/content/fire-1/train/images/MirrorWEBFire1050_jpg.rf.79f1ba86f62e0e8f8611f305ec109be0.jpg: ignoring corrupt image/label: Label class 1 exceeds dataset class count 1. Possible class labels are 0-0\n",
            "\u001b[34m\u001b[1mtrain: \u001b[0m/content/fire-1/train/images/MirrorWEBFire1056_jpg.rf.249ff757c225be8daca6fdbc01947453.jpg: ignoring corrupt image/label: Label class 1 exceeds dataset class count 1. Possible class labels are 0-0\n",
            "\u001b[34m\u001b[1mtrain: \u001b[0m/content/fire-1/train/images/MirrorWEBFire1057_jpg.rf.047cc767b652b0dd216e41b809ef726b.jpg: ignoring corrupt image/label: Label class 1 exceeds dataset class count 1. Possible class labels are 0-0\n",
            "\u001b[34m\u001b[1mtrain: \u001b[0m/content/fire-1/train/images/MirrorWEBFire1079_jpg.rf.0b4e2dcfda7b1df3eb876421b1f1386e.jpg: ignoring corrupt image/label: Label class 1 exceeds dataset class count 1. Possible class labels are 0-0\n",
            "\u001b[34m\u001b[1mtrain: \u001b[0m/content/fire-1/train/images/MirrorWEBFire1084_jpg.rf.381befaf4ab8762655e5d82bc377e473.jpg: ignoring corrupt image/label: Label class 1 exceeds dataset class count 1. Possible class labels are 0-0\n",
            "\u001b[34m\u001b[1mtrain: \u001b[0m/content/fire-1/train/images/MirrorWEBFire1090_jpg.rf.de53245d6a5957a1c6b4380d8cc134d6.jpg: ignoring corrupt image/label: Label class 1 exceeds dataset class count 1. Possible class labels are 0-0\n",
            "\u001b[34m\u001b[1mtrain: \u001b[0m/content/fire-1/train/images/MirrorWEBFire1119_jpg.rf.15fc63fc39bdacc1df087a30bd56dbd1.jpg: ignoring corrupt image/label: Label class 1 exceeds dataset class count 1. Possible class labels are 0-0\n",
            "\u001b[34m\u001b[1mtrain: \u001b[0m/content/fire-1/train/images/MirrorWEBFire1120_jpg.rf.bffcc27a569fc62250a53a9c027ef575.jpg: ignoring corrupt image/label: Label class 1 exceeds dataset class count 1. Possible class labels are 0-0\n",
            "\u001b[34m\u001b[1mtrain: \u001b[0m/content/fire-1/train/images/MirrorWEBFire1121_jpg.rf.023fd8489c5764c5ed496985f02d1840.jpg: ignoring corrupt image/label: Label class 1 exceeds dataset class count 1. Possible class labels are 0-0\n",
            "\u001b[34m\u001b[1mtrain: \u001b[0m/content/fire-1/train/images/MirrorWEBFire1131_jpg.rf.623c4417298891229dd209b229f28a6d.jpg: ignoring corrupt image/label: Label class 1 exceeds dataset class count 1. Possible class labels are 0-0\n",
            "\u001b[34m\u001b[1mtrain: \u001b[0m/content/fire-1/train/images/MirrorWEBFire1143_jpg.rf.bcd9deea9943400dcc376111145a1ebf.jpg: ignoring corrupt image/label: Label class 1 exceeds dataset class count 1. Possible class labels are 0-0\n",
            "\u001b[34m\u001b[1mtrain: \u001b[0m/content/fire-1/train/images/MirrorWEBFire1147_jpg.rf.4e146600c8eae27c7797b8e31462156a.jpg: ignoring corrupt image/label: Label class 1 exceeds dataset class count 1. Possible class labels are 0-0\n",
            "\u001b[34m\u001b[1mtrain: \u001b[0m/content/fire-1/train/images/MirrorWEBFire1178_jpg.rf.01488e9abd0e63871ab951a13533394a.jpg: ignoring corrupt image/label: Label class 1 exceeds dataset class count 1. Possible class labels are 0-0\n",
            "\u001b[34m\u001b[1mtrain: \u001b[0m/content/fire-1/train/images/MirrorWEBFire1183_jpg.rf.104486007dab659006dbfbce30794a95.jpg: ignoring corrupt image/label: Label class 1 exceeds dataset class count 1. Possible class labels are 0-0\n",
            "\u001b[34m\u001b[1mtrain: \u001b[0m/content/fire-1/train/images/MirrorWEBFire1207_jpg.rf.013c0844b4e7abac10ad78e82dcf06a6.jpg: ignoring corrupt image/label: Label class 1 exceeds dataset class count 1. Possible class labels are 0-0\n",
            "\u001b[34m\u001b[1mtrain: \u001b[0m/content/fire-1/train/images/MirrorWEBFire1207_jpg.rf.cee5833413f83d7ff3de6c5bd735b20d.jpg: ignoring corrupt image/label: Label class 1 exceeds dataset class count 1. Possible class labels are 0-0\n",
            "\u001b[34m\u001b[1mtrain: \u001b[0m/content/fire-1/train/images/MirrorWEBFire1209_jpg.rf.88a007fad6c2969e61522cbc34ffafaf.jpg: ignoring corrupt image/label: Label class 1 exceeds dataset class count 1. Possible class labels are 0-0\n",
            "\u001b[34m\u001b[1mtrain: \u001b[0m/content/fire-1/train/images/MirrorWEBFire1210_jpg.rf.0355edc0f359dd6a41af819e1309d14d.jpg: ignoring corrupt image/label: Label class 1 exceeds dataset class count 1. Possible class labels are 0-0\n",
            "\u001b[34m\u001b[1mtrain: \u001b[0m/content/fire-1/train/images/MirrorWEBFire1212_jpg.rf.0ff469f73f133834aaaa6216a95a6697.jpg: ignoring corrupt image/label: Label class 1 exceeds dataset class count 1. Possible class labels are 0-0\n",
            "\u001b[34m\u001b[1mtrain: \u001b[0m/content/fire-1/train/images/MirrorWEBFire1215_jpg.rf.ee5c138049bd18d985da2eaaf4a242c7.jpg: ignoring corrupt image/label: Label class 1 exceeds dataset class count 1. Possible class labels are 0-0\n",
            "\u001b[34m\u001b[1mtrain: \u001b[0m/content/fire-1/train/images/MirrorWEBFire1251_jpg.rf.fec51295f0c52291267319e13992ffed.jpg: ignoring corrupt image/label: Label class 1 exceeds dataset class count 1. Possible class labels are 0-0\n",
            "\u001b[34m\u001b[1mtrain: \u001b[0m/content/fire-1/train/images/MirrorWEBFire1259_jpg.rf.5412ffe33d1e848a24a28d2ab47c2e6f.jpg: ignoring corrupt image/label: Label class 1 exceeds dataset class count 1. Possible class labels are 0-0\n",
            "\u001b[34m\u001b[1mtrain: \u001b[0m/content/fire-1/train/images/MirrorWEBFire1259_jpg.rf.78337811fcb513f0bf7f90d27a4a55b1.jpg: ignoring corrupt image/label: Label class 1 exceeds dataset class count 1. Possible class labels are 0-0\n",
            "\u001b[34m\u001b[1mtrain: \u001b[0m/content/fire-1/train/images/MirrorWEBFire1324_jpg.rf.a322825781fd7565bb86d30d5fae8294.jpg: ignoring corrupt image/label: Label class 1 exceeds dataset class count 1. Possible class labels are 0-0\n",
            "\u001b[34m\u001b[1mtrain: \u001b[0m/content/fire-1/train/images/MirrorWEBFire1342_jpg.rf.17022e438f4b59a4326490626f20f966.jpg: ignoring corrupt image/label: Label class 1 exceeds dataset class count 1. Possible class labels are 0-0\n",
            "\u001b[34m\u001b[1mtrain: \u001b[0m/content/fire-1/train/images/MirrorWEBFire1342_jpg.rf.d5074173e73bca37409abfc7c19d9122.jpg: ignoring corrupt image/label: Label class 1 exceeds dataset class count 1. Possible class labels are 0-0\n",
            "\u001b[34m\u001b[1mtrain: \u001b[0m/content/fire-1/train/images/MirrorWEBFire1347_jpg.rf.e446f9fb23baef7b3f5d6b328fc3bbb8.jpg: ignoring corrupt image/label: Label class 1 exceeds dataset class count 1. Possible class labels are 0-0\n",
            "\u001b[34m\u001b[1mtrain: \u001b[0m/content/fire-1/train/images/MirrorWEBFire1352_jpg.rf.d86a8f6f16670d4d5df8cda8d032a2d3.jpg: ignoring corrupt image/label: Label class 1 exceeds dataset class count 1. Possible class labels are 0-0\n",
            "\u001b[34m\u001b[1mtrain: \u001b[0m/content/fire-1/train/images/MirrorWEBFire1355_jpg.rf.c2d763ba8c39cc225c51b7a493ad7ed4.jpg: ignoring corrupt image/label: Label class 1 exceeds dataset class count 1. Possible class labels are 0-0\n",
            "\u001b[34m\u001b[1mtrain: \u001b[0m/content/fire-1/train/images/MirrorWEBFire1356_jpg.rf.7fcb8298396fb90fcf30d293a4747546.jpg: ignoring corrupt image/label: Label class 1 exceeds dataset class count 1. Possible class labels are 0-0\n",
            "\u001b[34m\u001b[1mtrain: \u001b[0m/content/fire-1/train/images/MirrorWEBFire1356_jpg.rf.ac06e29fe96502f991e60183fdd41244.jpg: ignoring corrupt image/label: Label class 1 exceeds dataset class count 1. Possible class labels are 0-0\n",
            "\u001b[34m\u001b[1mtrain: \u001b[0m/content/fire-1/train/images/MirrorWEBFire1358_jpg.rf.179b5c53b0e85176df08ed42f4418bdd.jpg: ignoring corrupt image/label: Label class 1 exceeds dataset class count 1. Possible class labels are 0-0\n",
            "\u001b[34m\u001b[1mtrain: \u001b[0m/content/fire-1/train/images/MirrorWEBFire1362_jpg.rf.3136c90cd39b2ff9cc54931d0d35ee85.jpg: ignoring corrupt image/label: Label class 1 exceeds dataset class count 1. Possible class labels are 0-0\n",
            "\u001b[34m\u001b[1mtrain: \u001b[0m/content/fire-1/train/images/MirrorWEBFire1368_jpg.rf.1c821a0234997c0f2691b21ff5c3c0d5.jpg: ignoring corrupt image/label: Label class 1 exceeds dataset class count 1. Possible class labels are 0-0\n",
            "\u001b[34m\u001b[1mtrain: \u001b[0m/content/fire-1/train/images/MirrorWEBFire1368_jpg.rf.a305a919468cec889a24d498712b1b9d.jpg: ignoring corrupt image/label: Label class 1 exceeds dataset class count 1. Possible class labels are 0-0\n",
            "\u001b[34m\u001b[1mtrain: \u001b[0m/content/fire-1/train/images/MirrorWEBFire1371_jpg.rf.6d50268acd6d78a9e5778c32ed8e8990.jpg: ignoring corrupt image/label: Label class 1 exceeds dataset class count 1. Possible class labels are 0-0\n",
            "\u001b[34m\u001b[1mtrain: \u001b[0m/content/fire-1/train/images/MirrorWEBFire1374_jpg.rf.76e770f074c83ab97873e92935ee5c46.jpg: ignoring corrupt image/label: Label class 1 exceeds dataset class count 1. Possible class labels are 0-0\n",
            "\u001b[34m\u001b[1mtrain: \u001b[0m/content/fire-1/train/images/MirrorWEBFire1379_jpg.rf.b1262254a6324147016672a9e31e4129.jpg: ignoring corrupt image/label: Label class 1 exceeds dataset class count 1. Possible class labels are 0-0\n",
            "\u001b[34m\u001b[1mtrain: \u001b[0m/content/fire-1/train/images/MirrorWEBFire1384_jpg.rf.86209b67613849a599faf1e631ad667c.jpg: ignoring corrupt image/label: Label class 1 exceeds dataset class count 1. Possible class labels are 0-0\n",
            "\u001b[34m\u001b[1mtrain: \u001b[0m/content/fire-1/train/images/MirrorWEBFire1384_jpg.rf.ffc8797df6a5e3ab1b4663ab052c085b.jpg: ignoring corrupt image/label: Label class 1 exceeds dataset class count 1. Possible class labels are 0-0\n",
            "\u001b[34m\u001b[1mtrain: \u001b[0m/content/fire-1/train/images/MirrorWEBFire1394_jpg.rf.bb35bb07f3696a3bd3f09fd75afa96fd.jpg: ignoring corrupt image/label: Label class 1 exceeds dataset class count 1. Possible class labels are 0-0\n",
            "\u001b[34m\u001b[1mtrain: \u001b[0m/content/fire-1/train/images/MirrorWEBFire1398_jpg.rf.7eeac1f1bfda8643826444bdfc315dac.jpg: ignoring corrupt image/label: Label class 1 exceeds dataset class count 1. Possible class labels are 0-0\n",
            "\u001b[34m\u001b[1mtrain: \u001b[0m/content/fire-1/train/images/MirrorWEBFire1401_jpg.rf.63aae9dee5fce09833752ee68ef45bd0.jpg: ignoring corrupt image/label: Label class 1 exceeds dataset class count 1. Possible class labels are 0-0\n",
            "\u001b[34m\u001b[1mtrain: \u001b[0m/content/fire-1/train/images/MirrorWEBFire1411_jpg.rf.4c2f74729be1258f01941d450e043a21.jpg: ignoring corrupt image/label: Label class 1 exceeds dataset class count 1. Possible class labels are 0-0\n",
            "\u001b[34m\u001b[1mtrain: \u001b[0m/content/fire-1/train/images/MirrorWEBFire1412_jpg.rf.583104833538aa478d1a14d8406e9919.jpg: ignoring corrupt image/label: Label class 1 exceeds dataset class count 1. Possible class labels are 0-0\n",
            "\u001b[34m\u001b[1mtrain: \u001b[0m/content/fire-1/train/images/MirrorWEBFire1414_jpg.rf.087d6eaf6e2d2a6c471afc73f95f4fd1.jpg: ignoring corrupt image/label: Label class 1 exceeds dataset class count 1. Possible class labels are 0-0\n",
            "\u001b[34m\u001b[1mtrain: \u001b[0m/content/fire-1/train/images/MirrorWEBFire1419_jpg.rf.ff166c962d63a53eaf64ed8ec4e0f4e8.jpg: ignoring corrupt image/label: Label class 1 exceeds dataset class count 1. Possible class labels are 0-0\n",
            "\u001b[34m\u001b[1mtrain: \u001b[0m/content/fire-1/train/images/MirrorWEBFire1420_jpg.rf.1a5b1fe8e02c2a9d34839ac32b734c99.jpg: ignoring corrupt image/label: Label class 1 exceeds dataset class count 1. Possible class labels are 0-0\n",
            "\u001b[34m\u001b[1mtrain: \u001b[0m/content/fire-1/train/images/MirrorWEBFire1422_jpg.rf.011f47c364216fbf6fb00733f26c388e.jpg: ignoring corrupt image/label: Label class 1 exceeds dataset class count 1. Possible class labels are 0-0\n",
            "\u001b[34m\u001b[1mtrain: \u001b[0m/content/fire-1/train/images/MirrorWEBFire1422_jpg.rf.8089c7701f07ee96566a0b32d870a1e1.jpg: ignoring corrupt image/label: Label class 1 exceeds dataset class count 1. Possible class labels are 0-0\n",
            "\u001b[34m\u001b[1mtrain: \u001b[0m/content/fire-1/train/images/MirrorWEBFire1423_jpg.rf.281f8e8e466b70a78a54f05f0c7879f5.jpg: ignoring corrupt image/label: Label class 1 exceeds dataset class count 1. Possible class labels are 0-0\n",
            "\u001b[34m\u001b[1mtrain: \u001b[0m/content/fire-1/train/images/MirrorWEBFire1430_jpg.rf.fb31fde4c606b876d8def7af1fca0846.jpg: ignoring corrupt image/label: Label class 1 exceeds dataset class count 1. Possible class labels are 0-0\n",
            "\u001b[34m\u001b[1mtrain: \u001b[0m/content/fire-1/train/images/MirrorWEBFire1433_jpg.rf.523c9c368a43b19e1f87de69c588011c.jpg: ignoring corrupt image/label: Label class 1 exceeds dataset class count 1. Possible class labels are 0-0\n",
            "\u001b[34m\u001b[1mtrain: \u001b[0m/content/fire-1/train/images/MirrorWEBFire1433_jpg.rf.94e3063d840860ec288c95a969940225.jpg: ignoring corrupt image/label: Label class 1 exceeds dataset class count 1. Possible class labels are 0-0\n",
            "\u001b[34m\u001b[1mtrain: \u001b[0m/content/fire-1/train/images/MirrorWEBFire1440_jpg.rf.6e56495e4cb8f09a6228e901bd0a1475.jpg: ignoring corrupt image/label: Label class 1 exceeds dataset class count 1. Possible class labels are 0-0\n",
            "\u001b[34m\u001b[1mtrain: \u001b[0m/content/fire-1/train/images/MirrorWEBFire1443_jpg.rf.2181d05431ea1c01281a26f035b730f4.jpg: ignoring corrupt image/label: Label class 1 exceeds dataset class count 1. Possible class labels are 0-0\n",
            "\u001b[34m\u001b[1mtrain: \u001b[0m/content/fire-1/train/images/MirrorWEBFire1445_jpg.rf.af6d61aaed9dcd123a9b3c2fb6c2ca91.jpg: ignoring corrupt image/label: Label class 1 exceeds dataset class count 1. Possible class labels are 0-0\n",
            "\u001b[34m\u001b[1mtrain: \u001b[0m/content/fire-1/train/images/MirrorWEBFire1447_jpg.rf.3b86d3d83acbbf6612bf74056becf93a.jpg: ignoring corrupt image/label: Label class 1 exceeds dataset class count 1. Possible class labels are 0-0\n",
            "\u001b[34m\u001b[1mtrain: \u001b[0m/content/fire-1/train/images/MirrorWEBFire1449_jpg.rf.20ecc7f0fdd136ee7a047c8f4ee80b0b.jpg: ignoring corrupt image/label: Label class 1 exceeds dataset class count 1. Possible class labels are 0-0\n",
            "\u001b[34m\u001b[1mtrain: \u001b[0m/content/fire-1/train/images/MirrorWEBFire1449_jpg.rf.b0a7698b7821b4b1d76feb9a12b8aaa6.jpg: ignoring corrupt image/label: Label class 1 exceeds dataset class count 1. Possible class labels are 0-0\n",
            "\u001b[34m\u001b[1mtrain: \u001b[0m/content/fire-1/train/images/MirrorWEBFire1468_jpg.rf.bbbb9ff1b78ff98b59a5a9d71c96e55a.jpg: ignoring corrupt image/label: Label class 1 exceeds dataset class count 1. Possible class labels are 0-0\n",
            "\u001b[34m\u001b[1mtrain: \u001b[0m/content/fire-1/train/images/MirrorWEBFire1483_jpg.rf.3b677b782ee0bd7b1a541778e62546c8.jpg: ignoring corrupt image/label: Label class 1 exceeds dataset class count 1. Possible class labels are 0-0\n",
            "\u001b[34m\u001b[1mtrain: \u001b[0m/content/fire-1/train/images/MirrorWEBFire148_jpg.rf.b60345ed45821d7baa577dd7e7c1f2a8.jpg: ignoring corrupt image/label: Label class 1 exceeds dataset class count 1. Possible class labels are 0-0\n",
            "\u001b[34m\u001b[1mtrain: \u001b[0m/content/fire-1/train/images/MirrorWEBFire1584_jpg.rf.9cf1c5e1b25b720321b6807a75c3f725.jpg: ignoring corrupt image/label: Label class 1 exceeds dataset class count 1. Possible class labels are 0-0\n",
            "\u001b[34m\u001b[1mtrain: \u001b[0m/content/fire-1/train/images/MirrorWEBFire1588_jpg.rf.f776dc1cc515f881fd5fa984502b0214.jpg: ignoring corrupt image/label: Label class 1 exceeds dataset class count 1. Possible class labels are 0-0\n",
            "\u001b[34m\u001b[1mtrain: \u001b[0m/content/fire-1/train/images/MirrorWEBFire1631_jpg.rf.02d24a53ff92e47dba77132849018668.jpg: ignoring corrupt image/label: Label class 1 exceeds dataset class count 1. Possible class labels are 0-0\n",
            "\u001b[34m\u001b[1mtrain: \u001b[0m/content/fire-1/train/images/MirrorWEBFire1643_jpg.rf.406bce9556703d293908bfc03a6a76fd.jpg: ignoring corrupt image/label: Label class 1 exceeds dataset class count 1. Possible class labels are 0-0\n",
            "\u001b[34m\u001b[1mtrain: \u001b[0m/content/fire-1/train/images/MirrorWEBFire1662_jpg.rf.084e4defbaece2b5cc52ea608dcb4f7f.jpg: ignoring corrupt image/label: Label class 1 exceeds dataset class count 1. Possible class labels are 0-0\n",
            "\u001b[34m\u001b[1mtrain: \u001b[0m/content/fire-1/train/images/MirrorWEBFire1668_jpg.rf.55c8f89334b9580206ac6e9a632691d6.jpg: ignoring corrupt image/label: Label class 1 exceeds dataset class count 1. Possible class labels are 0-0\n",
            "\u001b[34m\u001b[1mtrain: \u001b[0m/content/fire-1/train/images/MirrorWEBFire169_jpg.rf.e00e0d77259a416d8d35a2ff34d6181a.jpg: ignoring corrupt image/label: Label class 1 exceeds dataset class count 1. Possible class labels are 0-0\n",
            "\u001b[34m\u001b[1mtrain: \u001b[0m/content/fire-1/train/images/MirrorWEBFire1704_jpg.rf.4fbddb2705554cd3a9fc01cee50031ac.jpg: ignoring corrupt image/label: Label class 1 exceeds dataset class count 1. Possible class labels are 0-0\n",
            "\u001b[34m\u001b[1mtrain: \u001b[0m/content/fire-1/train/images/MirrorWEBFire1709_jpg.rf.4a883bdb609821e10efb103fd2f8645f.jpg: ignoring corrupt image/label: Label class 1 exceeds dataset class count 1. Possible class labels are 0-0\n",
            "\u001b[34m\u001b[1mtrain: \u001b[0m/content/fire-1/train/images/MirrorWEBFire1754_jpg.rf.ba75bfcef4947d9aca764d08c654c482.jpg: ignoring corrupt image/label: Label class 1 exceeds dataset class count 1. Possible class labels are 0-0\n",
            "\u001b[34m\u001b[1mtrain: \u001b[0m/content/fire-1/train/images/MirrorWEBFire175_jpg.rf.25d8a1ef6147f7a4d48a2798bdc1aeb7.jpg: ignoring corrupt image/label: Label class 1 exceeds dataset class count 1. Possible class labels are 0-0\n",
            "\u001b[34m\u001b[1mtrain: \u001b[0m/content/fire-1/train/images/MirrorWEBFire177_jpg.rf.bae9ff83dfbef475ca2757bffbccb518.jpg: ignoring corrupt image/label: Label class 1 exceeds dataset class count 1. Possible class labels are 0-0\n",
            "\u001b[34m\u001b[1mtrain: \u001b[0m/content/fire-1/train/images/MirrorWEBFire180_jpg.rf.f8f28729594b15587f6b4ee9c0c2954e.jpg: ignoring corrupt image/label: Label class 1 exceeds dataset class count 1. Possible class labels are 0-0\n",
            "\u001b[34m\u001b[1mtrain: \u001b[0m/content/fire-1/train/images/MirrorWEBFire189_jpg.rf.2430e50cbb105aa0a0da57717c75afc0.jpg: ignoring corrupt image/label: Label class 1 exceeds dataset class count 1. Possible class labels are 0-0\n",
            "\u001b[34m\u001b[1mtrain: \u001b[0m/content/fire-1/train/images/MirrorWEBFire192_jpg.rf.51ec4a3f2c67e142e91020be62762a22.jpg: ignoring corrupt image/label: Label class 1 exceeds dataset class count 1. Possible class labels are 0-0\n",
            "\u001b[34m\u001b[1mtrain: \u001b[0m/content/fire-1/train/images/MirrorWEBFire194_jpg.rf.e563313ff6540920c2e02aa6d8050e6f.jpg: ignoring corrupt image/label: Label class 1 exceeds dataset class count 1. Possible class labels are 0-0\n",
            "\u001b[34m\u001b[1mtrain: \u001b[0m/content/fire-1/train/images/MirrorWEBFire2009_jpg.rf.0d23b91effa1370c7cab8b146eaa576e.jpg: ignoring corrupt image/label: Label class 1 exceeds dataset class count 1. Possible class labels are 0-0\n",
            "\u001b[34m\u001b[1mtrain: \u001b[0m/content/fire-1/train/images/MirrorWEBFire2034_jpg.rf.c17c0cf0410f4ddfe17eac718734328d.jpg: ignoring corrupt image/label: Label class 1 exceeds dataset class count 1. Possible class labels are 0-0\n",
            "\u001b[34m\u001b[1mtrain: \u001b[0m/content/fire-1/train/images/MirrorWEBFire2050_jpg.rf.5b4def696bb2162d751e040a22ee6bbc.jpg: ignoring corrupt image/label: Label class 1 exceeds dataset class count 1. Possible class labels are 0-0\n",
            "\u001b[34m\u001b[1mtrain: \u001b[0m/content/fire-1/train/images/MirrorWEBFire2053_jpg.rf.2d82b0b5bf65c96bed3f884b3b9ad4d6.jpg: ignoring corrupt image/label: Label class 1 exceeds dataset class count 1. Possible class labels are 0-0\n",
            "\u001b[34m\u001b[1mtrain: \u001b[0m/content/fire-1/train/images/MirrorWEBFire206_jpg.rf.157f2c0c3505b629ee94fdf500c773de.jpg: ignoring corrupt image/label: Label class 1 exceeds dataset class count 1. Possible class labels are 0-0\n",
            "\u001b[34m\u001b[1mtrain: \u001b[0m/content/fire-1/train/images/MirrorWEBFire2085_jpg.rf.511525692de5534c643ee1bc29eb14a8.jpg: ignoring corrupt image/label: Label class 1 exceeds dataset class count 1. Possible class labels are 0-0\n",
            "\u001b[34m\u001b[1mtrain: \u001b[0m/content/fire-1/train/images/MirrorWEBFire2085_jpg.rf.d15e2fa229f4449c7002758af8338ae9.jpg: ignoring corrupt image/label: Label class 1 exceeds dataset class count 1. Possible class labels are 0-0\n",
            "\u001b[34m\u001b[1mtrain: \u001b[0m/content/fire-1/train/images/MirrorWEBFire211_jpg.rf.8968f16c3c98f6a499acf42a78c2ea8e.jpg: ignoring corrupt image/label: Label class 1 exceeds dataset class count 1. Possible class labels are 0-0\n",
            "\u001b[34m\u001b[1mtrain: \u001b[0m/content/fire-1/train/images/MirrorWEBFire2132_jpg.rf.883d2d24897180a294895de05639621d.jpg: ignoring corrupt image/label: Label class 1 exceeds dataset class count 1. Possible class labels are 0-0\n",
            "\u001b[34m\u001b[1mtrain: \u001b[0m/content/fire-1/train/images/MirrorWEBFire214_jpg.rf.a2dbc22c0a07cfae6460365a9537f60f.jpg: ignoring corrupt image/label: Label class 1 exceeds dataset class count 1. Possible class labels are 0-0\n",
            "\u001b[34m\u001b[1mtrain: \u001b[0m/content/fire-1/train/images/MirrorWEBFire2235_jpg.rf.891d0d8a88fb59b34728a8d0a2923879.jpg: ignoring corrupt image/label: Label class 1 exceeds dataset class count 1. Possible class labels are 0-0\n",
            "\u001b[34m\u001b[1mtrain: \u001b[0m/content/fire-1/train/images/MirrorWEBFire258_jpg.rf.09b72ce353eb6629ef94fb168eb84c49.jpg: ignoring corrupt image/label: Label class 1 exceeds dataset class count 1. Possible class labels are 0-0\n",
            "\u001b[34m\u001b[1mtrain: \u001b[0m/content/fire-1/train/images/MirrorWEBFire258_jpg.rf.eabf61512c697ee2771019333194593e.jpg: ignoring corrupt image/label: Label class 1 exceeds dataset class count 1. Possible class labels are 0-0\n",
            "\u001b[34m\u001b[1mtrain: \u001b[0m/content/fire-1/train/images/MirrorWEBFire262_jpg.rf.c89cd438620d307bbd7c215fd7dbac65.jpg: ignoring corrupt image/label: Label class 1 exceeds dataset class count 1. Possible class labels are 0-0\n",
            "\u001b[34m\u001b[1mtrain: \u001b[0m/content/fire-1/train/images/MirrorWEBFire267_jpg.rf.e730d712fe579a474e1e408b5ec6db6c.jpg: ignoring corrupt image/label: Label class 1 exceeds dataset class count 1. Possible class labels are 0-0\n",
            "\u001b[34m\u001b[1mtrain: \u001b[0m/content/fire-1/train/images/MirrorWEBFire268_jpg.rf.aff88b3cb5c1f94afe4aabaed89d9439.jpg: ignoring corrupt image/label: Label class 1 exceeds dataset class count 1. Possible class labels are 0-0\n",
            "\u001b[34m\u001b[1mtrain: \u001b[0m/content/fire-1/train/images/MirrorWEBFire390_jpg.rf.f2032cba5b800f07679cbe5801b20770.jpg: ignoring corrupt image/label: Label class 1 exceeds dataset class count 1. Possible class labels are 0-0\n",
            "\u001b[34m\u001b[1mtrain: \u001b[0m/content/fire-1/train/images/MirrorWEBFire393_jpg.rf.075825526e87d185a8cab022b82949d6.jpg: ignoring corrupt image/label: Label class 1 exceeds dataset class count 1. Possible class labels are 0-0\n",
            "\u001b[34m\u001b[1mtrain: \u001b[0m/content/fire-1/train/images/MirrorWEBFire394_jpg.rf.a56ff0e3c79575fe6fb37422b995c9c7.jpg: ignoring corrupt image/label: Label class 1 exceeds dataset class count 1. Possible class labels are 0-0\n",
            "\u001b[34m\u001b[1mtrain: \u001b[0m/content/fire-1/train/images/MirrorWEBFire394_jpg.rf.ab93bb0750e14a9ce261dc4cf013a117.jpg: ignoring corrupt image/label: Label class 1 exceeds dataset class count 1. Possible class labels are 0-0\n",
            "\u001b[34m\u001b[1mtrain: \u001b[0m/content/fire-1/train/images/MirrorWEBFire395_jpg.rf.d0e79b49ee818c7c972d8890150e4357.jpg: ignoring corrupt image/label: Label class 1 exceeds dataset class count 1. Possible class labels are 0-0\n",
            "\u001b[34m\u001b[1mtrain: \u001b[0m/content/fire-1/train/images/MirrorWEBFire396_jpg.rf.886ca0ccd7372bd5a158ca7f2dd41fe6.jpg: ignoring corrupt image/label: Label class 1 exceeds dataset class count 1. Possible class labels are 0-0\n",
            "\u001b[34m\u001b[1mtrain: \u001b[0m/content/fire-1/train/images/MirrorWEBFire397_jpg.rf.7cb29af22050bdfaec604e7729595db4.jpg: ignoring corrupt image/label: Label class 1 exceeds dataset class count 1. Possible class labels are 0-0\n",
            "\u001b[34m\u001b[1mtrain: \u001b[0m/content/fire-1/train/images/MirrorWEBFire397_jpg.rf.d5465754ee0c33132e11a4ebd803caa4.jpg: ignoring corrupt image/label: Label class 1 exceeds dataset class count 1. Possible class labels are 0-0\n",
            "\u001b[34m\u001b[1mtrain: \u001b[0m/content/fire-1/train/images/MirrorWEBFire398_jpg.rf.0465a6724bf4f07f8396691863529c7a.jpg: ignoring corrupt image/label: Label class 1 exceeds dataset class count 1. Possible class labels are 0-0\n",
            "\u001b[34m\u001b[1mtrain: \u001b[0m/content/fire-1/train/images/MirrorWEBFire398_jpg.rf.9995b447773ffe09a910ded2122fb687.jpg: ignoring corrupt image/label: Label class 1 exceeds dataset class count 1. Possible class labels are 0-0\n",
            "\u001b[34m\u001b[1mtrain: \u001b[0m/content/fire-1/train/images/MirrorWEBFire402_jpg.rf.4c5aabe338977aa57a8f0ee6d9b71bac.jpg: ignoring corrupt image/label: Label class 1 exceeds dataset class count 1. Possible class labels are 0-0\n",
            "\u001b[34m\u001b[1mtrain: \u001b[0m/content/fire-1/train/images/MirrorWEBFire405_jpg.rf.33366a284dd0289529118a5dfd58cb99.jpg: ignoring corrupt image/label: Label class 1 exceeds dataset class count 1. Possible class labels are 0-0\n",
            "\u001b[34m\u001b[1mtrain: \u001b[0m/content/fire-1/train/images/MirrorWEBSmoke013_jpg.rf.866cffd3ea75f84117a7bb5e700e6800.jpg: ignoring corrupt image/label: Label class 1 exceeds dataset class count 1. Possible class labels are 0-0\n",
            "\u001b[34m\u001b[1mtrain: \u001b[0m/content/fire-1/train/images/MirrorWEBSmoke100_jpg.rf.d8b681cdc0124a9d1ff6912d9084a626.jpg: ignoring corrupt image/label: Label class 1 exceeds dataset class count 1. Possible class labels are 0-0\n",
            "\u001b[34m\u001b[1mtrain: \u001b[0m/content/fire-1/train/images/MirrorWEBSmoke1082_jpg.rf.5bbab8f37b01a1d1b75a0e6d2ab9e6e9.jpg: ignoring corrupt image/label: Label class 1 exceeds dataset class count 1. Possible class labels are 0-0\n",
            "\u001b[34m\u001b[1mtrain: \u001b[0m/content/fire-1/train/images/MirrorWEBSmoke1082_jpg.rf.e0efe29ac8ddc578d5c5479e66cba7a8.jpg: ignoring corrupt image/label: Label class 1 exceeds dataset class count 1. Possible class labels are 0-0\n",
            "\u001b[34m\u001b[1mtrain: \u001b[0m/content/fire-1/train/images/MirrorWEBSmoke1089_jpg.rf.fe22795c04c2152a6271ec9577f750cf.jpg: ignoring corrupt image/label: Label class 1 exceeds dataset class count 1. Possible class labels are 0-0\n",
            "\u001b[34m\u001b[1mtrain: \u001b[0m/content/fire-1/train/images/MirrorWEBSmoke1205_jpg.rf.bb5ec4906162465d2b76cca9bc1bd544.jpg: ignoring corrupt image/label: Label class 1 exceeds dataset class count 1. Possible class labels are 0-0\n",
            "\u001b[34m\u001b[1mtrain: \u001b[0m/content/fire-1/train/images/MirrorWEBSmoke1210_jpg.rf.e681b7a0260469deef8b4f973363b0cf.jpg: ignoring corrupt image/label: Label class 1 exceeds dataset class count 1. Possible class labels are 0-0\n",
            "\u001b[34m\u001b[1mtrain: \u001b[0m/content/fire-1/train/images/MirrorWEBSmoke1215_jpg.rf.1c7698599eddbd2d973ba3fe4a8e5bb3.jpg: ignoring corrupt image/label: Label class 1 exceeds dataset class count 1. Possible class labels are 0-0\n",
            "\u001b[34m\u001b[1mtrain: \u001b[0m/content/fire-1/train/images/MirrorWEBSmoke1215_jpg.rf.d82a78a00f27a8b3acbdbd70529fa953.jpg: ignoring corrupt image/label: Label class 1 exceeds dataset class count 1. Possible class labels are 0-0\n",
            "\u001b[34m\u001b[1mtrain: \u001b[0m/content/fire-1/train/images/MirrorWEBSmoke1218_jpg.rf.fd94ebf1ee806e68d3aa4800d1241a62.jpg: ignoring corrupt image/label: Label class 1 exceeds dataset class count 1. Possible class labels are 0-0\n",
            "\u001b[34m\u001b[1mtrain: \u001b[0m/content/fire-1/train/images/MirrorWEBSmoke1566_jpg.rf.7fa4f7fbb3087e46db5e53d1e7f4e794.jpg: ignoring corrupt image/label: Label class 1 exceeds dataset class count 1. Possible class labels are 0-0\n",
            "\u001b[34m\u001b[1mtrain: \u001b[0m/content/fire-1/train/images/MirrorWEBSmoke1795_jpg.rf.105f6c3a76595612805c4b8cb51fe5dc.jpg: ignoring corrupt image/label: Label class 1 exceeds dataset class count 1. Possible class labels are 0-0\n",
            "\u001b[34m\u001b[1mtrain: \u001b[0m/content/fire-1/train/images/MirrorWEBSmoke1862_jpg.rf.9fdf1ddc72ebfc835e397fde98aecf97.jpg: ignoring corrupt image/label: Label class 1 exceeds dataset class count 1. Possible class labels are 0-0\n",
            "\u001b[34m\u001b[1mtrain: \u001b[0m/content/fire-1/train/images/MirrorWEBSmoke1882_jpg.rf.65a8dbf244817f669e1a24a42a5f0752.jpg: ignoring corrupt image/label: Label class 1 exceeds dataset class count 1. Possible class labels are 0-0\n",
            "\u001b[34m\u001b[1mtrain: \u001b[0m/content/fire-1/train/images/MirrorWEBSmoke1914_jpg.rf.765a735bf4b5aacec9e415f30f14ab9b.jpg: ignoring corrupt image/label: Label class 1 exceeds dataset class count 1. Possible class labels are 0-0\n",
            "\u001b[34m\u001b[1mtrain: \u001b[0m/content/fire-1/train/images/MirrorWEBSmoke2032_jpg.rf.1b5b43a3438e2c0b3ba14e495a4748fa.jpg: ignoring corrupt image/label: Label class 1 exceeds dataset class count 1. Possible class labels are 0-0\n",
            "\u001b[34m\u001b[1mtrain: \u001b[0m/content/fire-1/train/images/MirrorWEBSmoke2032_jpg.rf.66a9b4ec0740cd32ceee789d99e849a8.jpg: ignoring corrupt image/label: Label class 1 exceeds dataset class count 1. Possible class labels are 0-0\n",
            "\u001b[34m\u001b[1mtrain: \u001b[0m/content/fire-1/train/images/MirrorWEBSmoke2267_jpg.rf.f0389b6d9b31594fddc7014900bfa0aa.jpg: ignoring corrupt image/label: Label class 1 exceeds dataset class count 1. Possible class labels are 0-0\n",
            "\u001b[34m\u001b[1mtrain: \u001b[0m/content/fire-1/train/images/MirrorWEBSmoke2269_jpg.rf.8b65774a5b64b04dc88ecedb315649ed.jpg: ignoring corrupt image/label: Label class 1 exceeds dataset class count 1. Possible class labels are 0-0\n",
            "\u001b[34m\u001b[1mtrain: \u001b[0m/content/fire-1/train/images/MirrorWEBSmoke2270_jpg.rf.2df57f00494844c95a7b8d1da415de19.jpg: ignoring corrupt image/label: Label class 1 exceeds dataset class count 1. Possible class labels are 0-0\n",
            "\u001b[34m\u001b[1mtrain: \u001b[0m/content/fire-1/train/images/MirrorWEBSmoke2270_jpg.rf.ea3431ec804db7334da261f650266f2d.jpg: ignoring corrupt image/label: Label class 1 exceeds dataset class count 1. Possible class labels are 0-0\n",
            "\u001b[34m\u001b[1mtrain: \u001b[0m/content/fire-1/train/images/MirrorWEBSmoke2275_jpg.rf.9731350e059e66e51228f9dfba11f21b.jpg: ignoring corrupt image/label: Label class 1 exceeds dataset class count 1. Possible class labels are 0-0\n",
            "\u001b[34m\u001b[1mtrain: \u001b[0m/content/fire-1/train/images/MirrorWEBSmoke2277_jpg.rf.cf6d9335882b99af9f04b645cd8b1071.jpg: ignoring corrupt image/label: Label class 1 exceeds dataset class count 1. Possible class labels are 0-0\n",
            "\u001b[34m\u001b[1mtrain: \u001b[0m/content/fire-1/train/images/MirrorWEBSmoke2281_jpg.rf.d16af1e9c8bccb83d701a66737322760.jpg: ignoring corrupt image/label: Label class 1 exceeds dataset class count 1. Possible class labels are 0-0\n",
            "\u001b[34m\u001b[1mtrain: \u001b[0m/content/fire-1/train/images/MirrorWEBSmoke2286_jpg.rf.3aadeef8cf6b1486d2f120522025b09f.jpg: ignoring corrupt image/label: Label class 1 exceeds dataset class count 1. Possible class labels are 0-0\n",
            "\u001b[34m\u001b[1mtrain: \u001b[0m/content/fire-1/train/images/MirrorWEBSmoke2288_jpg.rf.14e05bc53cd76afb324bb1e147a52270.jpg: ignoring corrupt image/label: Label class 1 exceeds dataset class count 1. Possible class labels are 0-0\n",
            "\u001b[34m\u001b[1mtrain: \u001b[0m/content/fire-1/train/images/MirrorWEBSmoke2291_jpg.rf.89f2d22c2a7892543f1adfd71e9a8c64.jpg: ignoring corrupt image/label: Label class 1 exceeds dataset class count 1. Possible class labels are 0-0\n",
            "\u001b[34m\u001b[1mtrain: \u001b[0m/content/fire-1/train/images/MirrorWEBSmoke2292_jpg.rf.f2df737155f8abaaf7dc03f886edc55b.jpg: ignoring corrupt image/label: Label class 1 exceeds dataset class count 1. Possible class labels are 0-0\n",
            "\u001b[34m\u001b[1mtrain: \u001b[0m/content/fire-1/train/images/MirrorWEBSmoke2357_jpg.rf.02d608598052807599df09a4c22c6bc3.jpg: ignoring corrupt image/label: Label class 1 exceeds dataset class count 1. Possible class labels are 0-0\n",
            "\u001b[34m\u001b[1mtrain: \u001b[0m/content/fire-1/train/images/MirrorWEBSmoke2367_jpg.rf.bfae161e5f7f75e4989daa1085a47bb0.jpg: ignoring corrupt image/label: Label class 1 exceeds dataset class count 1. Possible class labels are 0-0\n",
            "\u001b[34m\u001b[1mtrain: \u001b[0m/content/fire-1/train/images/MirrorWEBSmoke2372_jpg.rf.b3463e498d55931bd907ffac0bcf9380.jpg: ignoring corrupt image/label: Label class 1 exceeds dataset class count 1. Possible class labels are 0-0\n",
            "\u001b[34m\u001b[1mtrain: \u001b[0m/content/fire-1/train/images/MirrorWEBSmoke2374_jpg.rf.3fdb8caa93697d523e88ee2dad40227c.jpg: ignoring corrupt image/label: Label class 1 exceeds dataset class count 1. Possible class labels are 0-0\n",
            "\u001b[34m\u001b[1mtrain: \u001b[0m/content/fire-1/train/images/MirrorWEBSmoke2375_jpg.rf.1e7e8e71dfc0efe433522e03cd277efc.jpg: ignoring corrupt image/label: Label class 1 exceeds dataset class count 1. Possible class labels are 0-0\n",
            "\u001b[34m\u001b[1mtrain: \u001b[0m/content/fire-1/train/images/MirrorWEBSmoke2375_jpg.rf.28ef477fd02dd47b0e3bb3d7c7188f63.jpg: ignoring corrupt image/label: Label class 1 exceeds dataset class count 1. Possible class labels are 0-0\n",
            "\u001b[34m\u001b[1mtrain: \u001b[0m/content/fire-1/train/images/MirrorWEBSmoke2378_jpg.rf.79b3b6615825a7485f309430f712cc1d.jpg: ignoring corrupt image/label: Label class 1 exceeds dataset class count 1. Possible class labels are 0-0\n",
            "\u001b[34m\u001b[1mtrain: \u001b[0m/content/fire-1/train/images/MirrorWEBSmoke2380_jpg.rf.4d1a30250253209c3434a731f53cfdf7.jpg: ignoring corrupt image/label: Label class 1 exceeds dataset class count 1. Possible class labels are 0-0\n",
            "\u001b[34m\u001b[1mtrain: \u001b[0m/content/fire-1/train/images/MirrorWEBSmoke2386_jpg.rf.1f46526e8edf2cb5c2f8b3017e8f7f96.jpg: ignoring corrupt image/label: Label class 1 exceeds dataset class count 1. Possible class labels are 0-0\n",
            "\u001b[34m\u001b[1mtrain: \u001b[0m/content/fire-1/train/images/MirrorWEBSmoke2386_jpg.rf.94368197075198add4d3443b1678baa8.jpg: ignoring corrupt image/label: Label class 1 exceeds dataset class count 1. Possible class labels are 0-0\n",
            "\u001b[34m\u001b[1mtrain: \u001b[0m/content/fire-1/train/images/MirrorWEBSmoke2430_jpg.rf.a22007d1d2495d9c64d226794ab3440c.jpg: ignoring corrupt image/label: Label class 1 exceeds dataset class count 1. Possible class labels are 0-0\n",
            "\u001b[34m\u001b[1mtrain: \u001b[0m/content/fire-1/train/images/MirrorWEBSmoke247_jpg.rf.4fcf24f568e04f38959dc4adc56c28b0.jpg: ignoring corrupt image/label: Label class 1 exceeds dataset class count 1. Possible class labels are 0-0\n",
            "\u001b[34m\u001b[1mtrain: \u001b[0m/content/fire-1/train/images/MirrorWEBSmoke2486_jpg.rf.5a9792b52c40baea90e3ed07e3151755.jpg: ignoring corrupt image/label: Label class 1 exceeds dataset class count 1. Possible class labels are 0-0\n",
            "\u001b[34m\u001b[1mtrain: \u001b[0m/content/fire-1/train/images/MirrorWEBSmoke2486_jpg.rf.cb1c76aa55305a759b9cde7165d0b5d2.jpg: ignoring corrupt image/label: Label class 1 exceeds dataset class count 1. Possible class labels are 0-0\n",
            "\u001b[34m\u001b[1mtrain: \u001b[0m/content/fire-1/train/images/MirrorWEBSmoke2509_jpg.rf.a9b0dd80c3cca9fb4cf82270abbdb76f.jpg: ignoring corrupt image/label: Label class 1 exceeds dataset class count 1. Possible class labels are 0-0\n",
            "\u001b[34m\u001b[1mtrain: \u001b[0m/content/fire-1/train/images/MirrorWEBSmoke2522_jpg.rf.3b6e11e7a3a3339a1f6029d5f6b913cb.jpg: ignoring corrupt image/label: Label class 1 exceeds dataset class count 1. Possible class labels are 0-0\n",
            "\u001b[34m\u001b[1mtrain: \u001b[0m/content/fire-1/train/images/MirrorWEBSmoke2524_jpg.rf.4add8cd1188e750c6f126f58974c830a.jpg: ignoring corrupt image/label: Label class 1 exceeds dataset class count 1. Possible class labels are 0-0\n",
            "\u001b[34m\u001b[1mtrain: \u001b[0m/content/fire-1/train/images/MirrorWEBSmoke2529_jpg.rf.db3a9c5bb05b2bcaa8e3aa77bbda540b.jpg: ignoring corrupt image/label: Label class 1 exceeds dataset class count 1. Possible class labels are 0-0\n",
            "\u001b[34m\u001b[1mtrain: \u001b[0m/content/fire-1/train/images/MirrorWEBSmoke2531_jpg.rf.37f07df373ed10871ee0893d4ceb2cfc.jpg: ignoring corrupt image/label: Label class 1 exceeds dataset class count 1. Possible class labels are 0-0\n",
            "\u001b[34m\u001b[1mtrain: \u001b[0m/content/fire-1/train/images/MirrorWEBSmoke2535_jpg.rf.2e05fafce940f0407989e239775fc93b.jpg: ignoring corrupt image/label: Label class 1 exceeds dataset class count 1. Possible class labels are 0-0\n",
            "\u001b[34m\u001b[1mtrain: \u001b[0m/content/fire-1/train/images/MirrorWEBSmoke2539_jpg.rf.478a8d1f70ff47745cc4efe251801429.jpg: ignoring corrupt image/label: Label class 1 exceeds dataset class count 1. Possible class labels are 0-0\n",
            "\u001b[34m\u001b[1mtrain: \u001b[0m/content/fire-1/train/images/MirrorWEBSmoke2540_jpg.rf.bcb0194107613522b174d3c57ce52bf0.jpg: ignoring corrupt image/label: Label class 1 exceeds dataset class count 1. Possible class labels are 0-0\n",
            "\u001b[34m\u001b[1mtrain: \u001b[0m/content/fire-1/train/images/MirrorWEBSmoke2605_jpg.rf.f4718438671da6c323a12599427bc6e5.jpg: ignoring corrupt image/label: Label class 1 exceeds dataset class count 1. Possible class labels are 0-0\n",
            "\u001b[34m\u001b[1mtrain: \u001b[0m/content/fire-1/train/images/MirrorWEBSmoke2825_jpg.rf.b9d893534f4a29a597997aaa184814f1.jpg: ignoring corrupt image/label: Label class 1 exceeds dataset class count 1. Possible class labels are 0-0\n",
            "\u001b[34m\u001b[1mtrain: \u001b[0m/content/fire-1/train/images/MirrorWEBSmoke2847_jpg.rf.f7c971290f9bcb32fdfb733c4032c7e2.jpg: ignoring corrupt image/label: Label class 1 exceeds dataset class count 1. Possible class labels are 0-0\n",
            "\u001b[34m\u001b[1mtrain: \u001b[0m/content/fire-1/train/images/MirrorWEBSmoke2854_jpg.rf.6826c001623feca9ddc08498e27a5ea6.jpg: ignoring corrupt image/label: Label class 1 exceeds dataset class count 1. Possible class labels are 0-0\n",
            "\u001b[34m\u001b[1mtrain: \u001b[0m/content/fire-1/train/images/MirrorWEBSmoke2858_jpg.rf.7dd84337f7d1028e9302e9fecf56fad2.jpg: ignoring corrupt image/label: Label class 1 exceeds dataset class count 1. Possible class labels are 0-0\n",
            "\u001b[34m\u001b[1mtrain: \u001b[0m/content/fire-1/train/images/MirrorWEBSmoke2952_jpg.rf.378befe456170610505784586812ea2f.jpg: ignoring corrupt image/label: Label class 1 exceeds dataset class count 1. Possible class labels are 0-0\n",
            "\u001b[34m\u001b[1mtrain: \u001b[0m/content/fire-1/train/images/MirrorWEBSmoke2952_jpg.rf.67945f319aa3eb4eaa8c90b3145638b3.jpg: ignoring corrupt image/label: Label class 1 exceeds dataset class count 1. Possible class labels are 0-0\n",
            "\u001b[34m\u001b[1mtrain: \u001b[0m/content/fire-1/train/images/MirrorWEBSmoke298_jpg.rf.16ee0b546aedb5b589b222bf3385397f.jpg: ignoring corrupt image/label: Label class 1 exceeds dataset class count 1. Possible class labels are 0-0\n",
            "\u001b[34m\u001b[1mtrain: \u001b[0m/content/fire-1/train/images/MirrorWEBSmoke298_jpg.rf.f49cf9be7ea09e1cc62fe3272634dae1.jpg: ignoring corrupt image/label: Label class 1 exceeds dataset class count 1. Possible class labels are 0-0\n",
            "\u001b[34m\u001b[1mtrain: \u001b[0m/content/fire-1/train/images/MirrorWEBSmoke2999_jpg.rf.a3fc360c8337cf8ddc223ee9f489f09f.jpg: ignoring corrupt image/label: Label class 1 exceeds dataset class count 1. Possible class labels are 0-0\n",
            "\u001b[34m\u001b[1mtrain: \u001b[0m/content/fire-1/train/images/MirrorWEBSmoke3087_jpg.rf.c8d734cbfcbce06dd25ca172cd7ff5f0.jpg: ignoring corrupt image/label: Label class 1 exceeds dataset class count 1. Possible class labels are 0-0\n",
            "\u001b[34m\u001b[1mtrain: \u001b[0m/content/fire-1/train/images/MirrorWEBSmoke329_jpg.rf.03a9a615448ee8c12e5087cfc1990a0f.jpg: ignoring corrupt image/label: Label class 1 exceeds dataset class count 1. Possible class labels are 0-0\n",
            "\u001b[34m\u001b[1mtrain: \u001b[0m/content/fire-1/train/images/MirrorWEBSmoke329_jpg.rf.3a8f6dca21f216a4f3f349bd04f32374.jpg: ignoring corrupt image/label: Label class 1 exceeds dataset class count 1. Possible class labels are 0-0\n",
            "\u001b[34m\u001b[1mtrain: \u001b[0m/content/fire-1/train/images/MirrorWEBSmoke3326_jpg.rf.09f3fac5a56e15c7316d2d6c07986633.jpg: ignoring corrupt image/label: Label class 1 exceeds dataset class count 1. Possible class labels are 0-0\n",
            "\u001b[34m\u001b[1mtrain: \u001b[0m/content/fire-1/train/images/MirrorWEBSmoke3327_jpg.rf.01ce71ee4401e1a850431d46a3817b6c.jpg: ignoring corrupt image/label: Label class 1 exceeds dataset class count 1. Possible class labels are 0-0\n",
            "\u001b[34m\u001b[1mtrain: \u001b[0m/content/fire-1/train/images/MirrorWEBSmoke333_jpg.rf.5362c47a36d6cace348bf5989de053e1.jpg: ignoring corrupt image/label: Label class 1 exceeds dataset class count 1. Possible class labels are 0-0\n",
            "\u001b[34m\u001b[1mtrain: \u001b[0m/content/fire-1/train/images/MirrorWEBSmoke3349_jpg.rf.b1a2af59a734186a495bd67c6fdc549d.jpg: ignoring corrupt image/label: Label class 1 exceeds dataset class count 1. Possible class labels are 0-0\n",
            "\u001b[34m\u001b[1mtrain: \u001b[0m/content/fire-1/train/images/MirrorWEBSmoke3380_jpg.rf.8109b864592f85f784ffd17cf810b346.jpg: ignoring corrupt image/label: Label class 1 exceeds dataset class count 1. Possible class labels are 0-0\n",
            "\u001b[34m\u001b[1mtrain: \u001b[0m/content/fire-1/train/images/MirrorWEBSmoke3534_jpg.rf.5fc8d5c6c1769ef1c0732bde1086e624.jpg: ignoring corrupt image/label: Label class 1 exceeds dataset class count 1. Possible class labels are 0-0\n",
            "\u001b[34m\u001b[1mtrain: \u001b[0m/content/fire-1/train/images/MirrorWEBSmoke373_jpg.rf.650ce5fe114c15c80422d60816dbe44d.jpg: ignoring corrupt image/label: Label class 1 exceeds dataset class count 1. Possible class labels are 0-0\n",
            "\u001b[34m\u001b[1mtrain: \u001b[0m/content/fire-1/train/images/MirrorWEBSmoke390_jpg.rf.2cc0ddbdb27a2762e09bf926884ca8bf.jpg: ignoring corrupt image/label: Label class 1 exceeds dataset class count 1. Possible class labels are 0-0\n",
            "\u001b[34m\u001b[1mtrain: \u001b[0m/content/fire-1/train/images/MirrorWEBSmoke390_jpg.rf.e7869f63c04a3515eface904aad121e4.jpg: ignoring corrupt image/label: Label class 1 exceeds dataset class count 1. Possible class labels are 0-0\n",
            "\u001b[34m\u001b[1mtrain: \u001b[0m/content/fire-1/train/images/MirrorWEBSmoke493_jpg.rf.f3d04f4e04a33946d46e5265ee5a9059.jpg: ignoring corrupt image/label: Label class 1 exceeds dataset class count 1. Possible class labels are 0-0\n",
            "\u001b[34m\u001b[1mtrain: \u001b[0m/content/fire-1/train/images/MirrorWEBSmoke616_jpg.rf.34d6dce3d11afbb6987758bd42259ebd.jpg: ignoring corrupt image/label: Label class 1 exceeds dataset class count 1. Possible class labels are 0-0\n",
            "\u001b[34m\u001b[1mtrain: \u001b[0m/content/fire-1/train/images/MirrorWEBSmoke687_jpg.rf.37c05c124f4bb17be0776556f0252d8d.jpg: ignoring corrupt image/label: Label class 1 exceeds dataset class count 1. Possible class labels are 0-0\n",
            "\u001b[34m\u001b[1mtrain: \u001b[0m/content/fire-1/train/images/MirrorWEBSmoke709_jpg.rf.00bb3ddf915c04aec613fe56d6f2de9a.jpg: ignoring corrupt image/label: Label class 1 exceeds dataset class count 1. Possible class labels are 0-0\n",
            "\u001b[34m\u001b[1mtrain: \u001b[0m/content/fire-1/train/images/MirrorWEBSmoke721_jpg.rf.07498ce6f967de95e78f499594a2a04c.jpg: ignoring corrupt image/label: Label class 1 exceeds dataset class count 1. Possible class labels are 0-0\n",
            "\u001b[34m\u001b[1mtrain: \u001b[0m/content/fire-1/train/images/MirrorWEBSmoke804_jpg.rf.1181bdb8d335157564db568acb5f252c.jpg: ignoring corrupt image/label: Label class 1 exceeds dataset class count 1. Possible class labels are 0-0\n",
            "\u001b[34m\u001b[1mtrain: \u001b[0m/content/fire-1/train/images/MirrorWEBSmoke867_jpg.rf.2f5f769c9502b8d27edd2408c110d0dc.jpg: ignoring corrupt image/label: Label class 1 exceeds dataset class count 1. Possible class labels are 0-0\n",
            "\u001b[34m\u001b[1mtrain: \u001b[0m/content/fire-1/train/images/NoiseWEBFire052_jpg.rf.d5e210899b1aa327f67d35758c53c1e3.jpg: ignoring corrupt image/label: Label class 1 exceeds dataset class count 1. Possible class labels are 0-0\n",
            "\u001b[34m\u001b[1mtrain: \u001b[0m/content/fire-1/train/images/NoiseWEBFire054_jpg.rf.6fdc35d2667e86eff40b40c5496a1f57.jpg: ignoring corrupt image/label: Label class 1 exceeds dataset class count 1. Possible class labels are 0-0\n",
            "\u001b[34m\u001b[1mtrain: \u001b[0m/content/fire-1/train/images/NoiseWEBFire1100_jpg.rf.72db829f535a9dc092f4fcea88829b14.jpg: ignoring corrupt image/label: Label class 1 exceeds dataset class count 1. Possible class labels are 0-0\n",
            "\u001b[34m\u001b[1mtrain: \u001b[0m/content/fire-1/train/images/NoiseWEBFire1368_jpg.rf.fdd802d4f9ba2a637bb8c944dd51c55f.jpg: ignoring corrupt image/label: Label class 1 exceeds dataset class count 1. Possible class labels are 0-0\n",
            "\u001b[34m\u001b[1mtrain: \u001b[0m/content/fire-1/train/images/NoiseWEBFire1433_jpg.rf.172dbe8ec1667881be836544d5f5aa00.jpg: ignoring corrupt image/label: Label class 1 exceeds dataset class count 1. Possible class labels are 0-0\n",
            "\u001b[34m\u001b[1mtrain: \u001b[0m/content/fire-1/train/images/NoiseWEBFire178_jpg.rf.0b3af245aed8a1f2a50851a05aab2118.jpg: ignoring corrupt image/label: Label class 1 exceeds dataset class count 1. Possible class labels are 0-0\n",
            "\u001b[34m\u001b[1mtrain: \u001b[0m/content/fire-1/train/images/NoiseWEBSmoke1215_jpg.rf.ccd94e59c58175d7dff0f350b46f7090.jpg: ignoring corrupt image/label: Label class 1 exceeds dataset class count 1. Possible class labels are 0-0\n",
            "\u001b[34m\u001b[1mtrain: \u001b[0m/content/fire-1/train/images/NoiseWEBSmoke1221_jpg.rf.c52e69bccbb41a67d80a1318a2ff62ec.jpg: ignoring corrupt image/label: Label class 1 exceeds dataset class count 1. Possible class labels are 0-0\n",
            "\u001b[34m\u001b[1mtrain: \u001b[0m/content/fire-1/train/images/NoiseWEBSmoke2131_jpg.rf.4cbba40b04c4483b762c295d68bd6850.jpg: ignoring corrupt image/label: Label class 1 exceeds dataset class count 1. Possible class labels are 0-0\n",
            "\u001b[34m\u001b[1mtrain: \u001b[0m/content/fire-1/train/images/NoiseWEBSmoke2208_jpg.rf.33f503744207571043b340a2aa12d01a.jpg: ignoring corrupt image/label: Label class 1 exceeds dataset class count 1. Possible class labels are 0-0\n",
            "\u001b[34m\u001b[1mtrain: \u001b[0m/content/fire-1/train/images/NoiseWEBSmoke2539_jpg.rf.d7b144d48d776204e6b890e9b31e2f93.jpg: ignoring corrupt image/label: Label class 1 exceeds dataset class count 1. Possible class labels are 0-0\n",
            "\u001b[34m\u001b[1mtrain: \u001b[0m/content/fire-1/train/images/NoiseWEBSmoke2540_jpg.rf.b68906798df9cabb446bc460607df4e0.jpg: ignoring corrupt image/label: Label class 1 exceeds dataset class count 1. Possible class labels are 0-0\n",
            "\u001b[34m\u001b[1mtrain: \u001b[0m/content/fire-1/train/images/NoiseWEBSmoke2853_jpg.rf.b26105444753f95335c8f6ffec9adb5b.jpg: ignoring corrupt image/label: Label class 1 exceeds dataset class count 1. Possible class labels are 0-0\n",
            "\u001b[34m\u001b[1mtrain: \u001b[0m/content/fire-1/train/images/NoiseWEBSmoke2874_jpg.rf.57cf055491d8b9bf44808990c121f118.jpg: ignoring corrupt image/label: Label class 1 exceeds dataset class count 1. Possible class labels are 0-0\n",
            "\u001b[34m\u001b[1mtrain: \u001b[0m/content/fire-1/train/images/NoiseWEBSmoke3325_jpg.rf.f91de763e4068f2688ded322427265cc.jpg: ignoring corrupt image/label: Label class 1 exceeds dataset class count 1. Possible class labels are 0-0\n",
            "\u001b[34m\u001b[1mtrain: \u001b[0m/content/fire-1/train/images/NoiseWEBSmoke333_jpg.rf.5bddd0ce6fb368b40fdfac8582c82a3c.jpg: ignoring corrupt image/label: Label class 1 exceeds dataset class count 1. Possible class labels are 0-0\n",
            "\u001b[34m\u001b[1mtrain: \u001b[0m/content/fire-1/train/images/NoiseWEBSmoke3351_jpg.rf.37adc8f0bfae7f1ed4bc0c90fce9faf5.jpg: ignoring corrupt image/label: Label class 1 exceeds dataset class count 1. Possible class labels are 0-0\n",
            "\u001b[34m\u001b[1mtrain: \u001b[0m/content/fire-1/train/images/NoiseWEBSmoke3355_jpg.rf.fe6909c781e26cc00253d5ab25a5eb4c.jpg: ignoring corrupt image/label: Label class 1 exceeds dataset class count 1. Possible class labels are 0-0\n",
            "\u001b[34m\u001b[1mtrain: \u001b[0m/content/fire-1/train/images/NoiseWEBSmoke3380_jpg.rf.9e12e631bc873d26b789e3d2860f4a8c.jpg: ignoring corrupt image/label: Label class 1 exceeds dataset class count 1. Possible class labels are 0-0\n",
            "\u001b[34m\u001b[1mtrain: \u001b[0m/content/fire-1/train/images/NoiseWEBSmoke3425_jpg.rf.fe949521c7bf5bb5c71640577b5319b0.jpg: ignoring corrupt image/label: Label class 1 exceeds dataset class count 1. Possible class labels are 0-0\n",
            "\u001b[34m\u001b[1mtrain: \u001b[0m/content/fire-1/train/images/NoiseWEBSmoke343_jpg.rf.bbb78d3e2af1d5af20dbb32c28f735de.jpg: ignoring corrupt image/label: Label class 1 exceeds dataset class count 1. Possible class labels are 0-0\n",
            "\u001b[34m\u001b[1mtrain: \u001b[0m/content/fire-1/train/images/NoiseWEBSmoke371_jpg.rf.8f60fce821326855a15e3d1873904c4f.jpg: ignoring corrupt image/label: Label class 1 exceeds dataset class count 1. Possible class labels are 0-0\n",
            "\u001b[34m\u001b[1mtrain: \u001b[0m/content/fire-1/train/images/NoiseWEBSmoke371_jpg.rf.e58e612853c4ffa8e4b38e32e6929ea7.jpg: ignoring corrupt image/label: Label class 1 exceeds dataset class count 1. Possible class labels are 0-0\n",
            "\u001b[34m\u001b[1mtrain: \u001b[0m/content/fire-1/train/images/NoiseWEBSmoke378_jpg.rf.b4d6049d4ed26e297c0ab78d1d893e8c.jpg: ignoring corrupt image/label: Label class 1 exceeds dataset class count 1. Possible class labels are 0-0\n",
            "\u001b[34m\u001b[1mtrain: \u001b[0m/content/fire-1/train/images/NoiseWEBSmoke390_jpg.rf.580aef0c5ebf81c6ca4940d3f285b11a.jpg: ignoring corrupt image/label: Label class 1 exceeds dataset class count 1. Possible class labels are 0-0\n",
            "\u001b[34m\u001b[1mtrain: \u001b[0m/content/fire-1/train/images/NoiseWEBSmoke396_jpg.rf.9d4906da1171762af8647c18f9317e55.jpg: ignoring corrupt image/label: Label class 1 exceeds dataset class count 1. Possible class labels are 0-0\n",
            "\u001b[34m\u001b[1mtrain: \u001b[0m/content/fire-1/train/images/NoiseWEBSmoke433_jpg.rf.f7c18121c4eab3ef0fe3033754d84913.jpg: ignoring corrupt image/label: Label class 1 exceeds dataset class count 1. Possible class labels are 0-0\n",
            "\u001b[34m\u001b[1mtrain: \u001b[0m/content/fire-1/train/images/NoiseWEBSmoke480_jpg.rf.e0151e9a2ca01e1cf9e32047c7a364f2.jpg: ignoring corrupt image/label: Label class 1 exceeds dataset class count 1. Possible class labels are 0-0\n",
            "\u001b[34m\u001b[1mtrain: \u001b[0m/content/fire-1/train/images/NoiseWEBSmoke623_jpg.rf.8f1172b8c92d46341647fcaaf36d511c.jpg: ignoring corrupt image/label: Label class 1 exceeds dataset class count 1. Possible class labels are 0-0\n",
            "\u001b[34m\u001b[1mtrain: \u001b[0m/content/fire-1/train/images/NoiseWEBSmoke709_jpg.rf.40ca3472334ff65dd3cb4001b9dabd82.jpg: ignoring corrupt image/label: Label class 1 exceeds dataset class count 1. Possible class labels are 0-0\n",
            "\u001b[34m\u001b[1mtrain: \u001b[0m/content/fire-1/train/images/NoiseWEBSmoke709_jpg.rf.fc55b931d8fff015e254a1ef6e793263.jpg: ignoring corrupt image/label: Label class 1 exceeds dataset class count 1. Possible class labels are 0-0\n",
            "\u001b[34m\u001b[1mtrain: \u001b[0m/content/fire-1/train/images/SYCZZAJQ65HKRAXZP63DEOKGW4_jpg.rf.af366c06c4b23ba85fd374a1b6218133.jpg: ignoring corrupt image/label: Label class 1 exceeds dataset class count 1. Possible class labels are 0-0\n",
            "\u001b[34m\u001b[1mtrain: \u001b[0m/content/fire-1/train/images/SYCZZAJQ65HKRAXZP63DEOKGW4_jpg.rf.affa4a2c3e2141244f650ffc8b1f8ebd.jpg: ignoring corrupt image/label: Label class 1 exceeds dataset class count 1. Possible class labels are 0-0\n",
            "\u001b[34m\u001b[1mtrain: \u001b[0m/content/fire-1/train/images/WEBFire052_jpg.rf.9814b289d505cdfc0ea2d25722e1fa4d.jpg: ignoring corrupt image/label: Label class 1 exceeds dataset class count 1. Possible class labels are 0-0\n",
            "\u001b[34m\u001b[1mtrain: \u001b[0m/content/fire-1/train/images/WEBFire054_jpg.rf.2e70ad2f012bf7d594ae357f07530447.jpg: ignoring corrupt image/label: Label class 1 exceeds dataset class count 1. Possible class labels are 0-0\n",
            "\u001b[34m\u001b[1mtrain: \u001b[0m/content/fire-1/train/images/WEBFire054_jpg.rf.b302bbbf625982ee21e8bc880c8c93e4.jpg: ignoring corrupt image/label: Label class 1 exceeds dataset class count 1. Possible class labels are 0-0\n",
            "\u001b[34m\u001b[1mtrain: \u001b[0m/content/fire-1/train/images/WEBFire057_jpg.rf.d039c4f60545d221609df11b116e5443.jpg: ignoring corrupt image/label: Label class 1 exceeds dataset class count 1. Possible class labels are 0-0\n",
            "\u001b[34m\u001b[1mtrain: \u001b[0m/content/fire-1/train/images/WEBFire067_jpg.rf.9b44bba33bb0a5325fec38ae0030cc58.jpg: ignoring corrupt image/label: Label class 1 exceeds dataset class count 1. Possible class labels are 0-0\n",
            "\u001b[34m\u001b[1mtrain: \u001b[0m/content/fire-1/train/images/WEBFire067_jpg.rf.9d564d6edd2aeaca39d14eea4cf1e0bf.jpg: ignoring corrupt image/label: Label class 1 exceeds dataset class count 1. Possible class labels are 0-0\n",
            "\u001b[34m\u001b[1mtrain: \u001b[0m/content/fire-1/train/images/WEBFire1025_jpg.rf.954a1220663915bd58624941907fdfad.jpg: ignoring corrupt image/label: Label class 1 exceeds dataset class count 1. Possible class labels are 0-0\n",
            "\u001b[34m\u001b[1mtrain: \u001b[0m/content/fire-1/train/images/WEBFire1042_jpg.rf.e05ed849bc4d649efbb48354cb8e1d80.jpg: ignoring corrupt image/label: Label class 1 exceeds dataset class count 1. Possible class labels are 0-0\n",
            "\u001b[34m\u001b[1mtrain: \u001b[0m/content/fire-1/train/images/WEBFire1043_jpg.rf.e82147d158971e8443ec4f5c3c771fe6.jpg: ignoring corrupt image/label: Label class 1 exceeds dataset class count 1. Possible class labels are 0-0\n",
            "\u001b[34m\u001b[1mtrain: \u001b[0m/content/fire-1/train/images/WEBFire1052_jpg.rf.d78b1f4f94c5ebd324df1f56943239de.jpg: ignoring corrupt image/label: Label class 1 exceeds dataset class count 1. Possible class labels are 0-0\n",
            "\u001b[34m\u001b[1mtrain: \u001b[0m/content/fire-1/train/images/WEBFire1054_jpg.rf.a9dbc836651f69eda6838696ee4a398d.jpg: ignoring corrupt image/label: Label class 1 exceeds dataset class count 1. Possible class labels are 0-0\n",
            "\u001b[34m\u001b[1mtrain: \u001b[0m/content/fire-1/train/images/WEBFire1083_jpg.rf.8833ea095bc664d6e4092b92a743b48c.jpg: ignoring corrupt image/label: Label class 1 exceeds dataset class count 1. Possible class labels are 0-0\n",
            "\u001b[34m\u001b[1mtrain: \u001b[0m/content/fire-1/train/images/WEBFire1085_jpg.rf.322db096e6e49796f7aee759007118b0.jpg: ignoring corrupt image/label: Label class 1 exceeds dataset class count 1. Possible class labels are 0-0\n",
            "\u001b[34m\u001b[1mtrain: \u001b[0m/content/fire-1/train/images/WEBFire1085_jpg.rf.374d5fc184931b6c8bf050b1e2272745.jpg: ignoring corrupt image/label: Label class 1 exceeds dataset class count 1. Possible class labels are 0-0\n",
            "\u001b[34m\u001b[1mtrain: \u001b[0m/content/fire-1/train/images/WEBFire1091_jpg.rf.7043fde1e3611b9874d956ddccc08d46.jpg: ignoring corrupt image/label: Label class 1 exceeds dataset class count 1. Possible class labels are 0-0\n",
            "\u001b[34m\u001b[1mtrain: \u001b[0m/content/fire-1/train/images/WEBFire1092_jpg.rf.c7f69d5a32cb33a5caaac3791394aa40.jpg: ignoring corrupt image/label: Label class 1 exceeds dataset class count 1. Possible class labels are 0-0\n",
            "\u001b[34m\u001b[1mtrain: \u001b[0m/content/fire-1/train/images/WEBFire1121_jpg.rf.04cc7d561b3c42a4f64dc57b06d5a5ec.jpg: ignoring corrupt image/label: Label class 1 exceeds dataset class count 1. Possible class labels are 0-0\n",
            "\u001b[34m\u001b[1mtrain: \u001b[0m/content/fire-1/train/images/WEBFire1131_jpg.rf.b669d2a7422e341f5c621d39c632897b.jpg: ignoring corrupt image/label: Label class 1 exceeds dataset class count 1. Possible class labels are 0-0\n",
            "\u001b[34m\u001b[1mtrain: \u001b[0m/content/fire-1/train/images/WEBFire1147_jpg.rf.eb9ae81cefac1d06c68491a75a07b9df.jpg: ignoring corrupt image/label: Label class 1 exceeds dataset class count 1. Possible class labels are 0-0\n",
            "\u001b[34m\u001b[1mtrain: \u001b[0m/content/fire-1/train/images/WEBFire1187_jpg.rf.fd34cbc2774be5b63e703ec90ca44498.jpg: ignoring corrupt image/label: Label class 1 exceeds dataset class count 1. Possible class labels are 0-0\n",
            "\u001b[34m\u001b[1mtrain: \u001b[0m/content/fire-1/train/images/WEBFire1191_jpg.rf.436a672b1bee8e966a74b40aa623945b.jpg: ignoring corrupt image/label: Label class 1 exceeds dataset class count 1. Possible class labels are 0-0\n",
            "\u001b[34m\u001b[1mtrain: \u001b[0m/content/fire-1/train/images/WEBFire1191_jpg.rf.4b672ff5c9b50b17dc640201e4036a17.jpg: ignoring corrupt image/label: Label class 1 exceeds dataset class count 1. Possible class labels are 0-0\n",
            "\u001b[34m\u001b[1mtrain: \u001b[0m/content/fire-1/train/images/WEBFire1194_jpg.rf.c47abb17344d7bbd669a04288c09afe5.jpg: ignoring corrupt image/label: Label class 1 exceeds dataset class count 1. Possible class labels are 0-0\n",
            "\u001b[34m\u001b[1mtrain: \u001b[0m/content/fire-1/train/images/WEBFire1196_jpg.rf.3d58dce63cd206d93b397e6031b86f77.jpg: ignoring corrupt image/label: Label class 1 exceeds dataset class count 1. Possible class labels are 0-0\n",
            "\u001b[34m\u001b[1mtrain: \u001b[0m/content/fire-1/train/images/WEBFire1196_jpg.rf.e82e93a32e1cb2f6fc55ea9268d37d84.jpg: ignoring corrupt image/label: Label class 1 exceeds dataset class count 1. Possible class labels are 0-0\n",
            "\u001b[34m\u001b[1mtrain: \u001b[0m/content/fire-1/train/images/WEBFire1207_jpg.rf.3eb3b1325b6f071be201e682c989444e.jpg: ignoring corrupt image/label: Label class 1 exceeds dataset class count 1. Possible class labels are 0-0\n",
            "\u001b[34m\u001b[1mtrain: \u001b[0m/content/fire-1/train/images/WEBFire1210_jpg.rf.969a592fe879f20b331e941b9aa98fed.jpg: ignoring corrupt image/label: Label class 1 exceeds dataset class count 1. Possible class labels are 0-0\n",
            "\u001b[34m\u001b[1mtrain: \u001b[0m/content/fire-1/train/images/WEBFire1212_jpg.rf.add6e2c60285b60320b9d5fdf77fee5e.jpg: ignoring corrupt image/label: Label class 1 exceeds dataset class count 1. Possible class labels are 0-0\n",
            "\u001b[34m\u001b[1mtrain: \u001b[0m/content/fire-1/train/images/WEBFire1226_jpg.rf.1f7953debc38445f160afca9e1f6d15e.jpg: ignoring corrupt image/label: Label class 1 exceeds dataset class count 1. Possible class labels are 0-0\n",
            "\u001b[34m\u001b[1mtrain: \u001b[0m/content/fire-1/train/images/WEBFire1251_jpg.rf.d1f01ad6f294f1cf45231c64e24aac46.jpg: ignoring corrupt image/label: Label class 1 exceeds dataset class count 1. Possible class labels are 0-0\n",
            "\u001b[34m\u001b[1mtrain: \u001b[0m/content/fire-1/train/images/WEBFire1259_jpg.rf.92129b1d239d4e49be1d93aa8446a732.jpg: ignoring corrupt image/label: Label class 1 exceeds dataset class count 1. Possible class labels are 0-0\n",
            "\u001b[34m\u001b[1mtrain: \u001b[0m/content/fire-1/train/images/WEBFire1324_jpg.rf.16077f278db8fc5aaaff54465acc96a2.jpg: ignoring corrupt image/label: Label class 1 exceeds dataset class count 1. Possible class labels are 0-0\n",
            "\u001b[34m\u001b[1mtrain: \u001b[0m/content/fire-1/train/images/WEBFire1354_jpg.rf.398b2b7d42a0e32f2a9900d0d4181294.jpg: ignoring corrupt image/label: Label class 1 exceeds dataset class count 1. Possible class labels are 0-0\n",
            "\u001b[34m\u001b[1mtrain: \u001b[0m/content/fire-1/train/images/WEBFire1354_jpg.rf.43e2083a55c3c701b26c2b56d2311c2e.jpg: ignoring corrupt image/label: Label class 1 exceeds dataset class count 1. Possible class labels are 0-0\n",
            "\u001b[34m\u001b[1mtrain: \u001b[0m/content/fire-1/train/images/WEBFire1356_jpg.rf.ba256b6355cc8c2b201386d6e21ae34b.jpg: ignoring corrupt image/label: Label class 1 exceeds dataset class count 1. Possible class labels are 0-0\n",
            "\u001b[34m\u001b[1mtrain: \u001b[0m/content/fire-1/train/images/WEBFire1356_jpg.rf.d935c18260fe5f1ab5011690c29fc1b5.jpg: ignoring corrupt image/label: Label class 1 exceeds dataset class count 1. Possible class labels are 0-0\n",
            "\u001b[34m\u001b[1mtrain: \u001b[0m/content/fire-1/train/images/WEBFire1362_jpg.rf.3932760c078ad944aa553f46e2118eaf.jpg: ignoring corrupt image/label: Label class 1 exceeds dataset class count 1. Possible class labels are 0-0\n",
            "\u001b[34m\u001b[1mtrain: \u001b[0m/content/fire-1/train/images/WEBFire1365_jpg.rf.3e29a9b5e5ff0584ac21f9948757e1fc.jpg: ignoring corrupt image/label: Label class 1 exceeds dataset class count 1. Possible class labels are 0-0\n",
            "\u001b[34m\u001b[1mtrain: \u001b[0m/content/fire-1/train/images/WEBFire1365_jpg.rf.e867b4c8e6ff92a9f5ea30e896503ec8.jpg: ignoring corrupt image/label: Label class 1 exceeds dataset class count 1. Possible class labels are 0-0\n",
            "\u001b[34m\u001b[1mtrain: \u001b[0m/content/fire-1/train/images/WEBFire1371_jpg.rf.f9b6f95dd2dbde391b7ee27a93a48e64.jpg: ignoring corrupt image/label: Label class 1 exceeds dataset class count 1. Possible class labels are 0-0\n",
            "\u001b[34m\u001b[1mtrain: \u001b[0m/content/fire-1/train/images/WEBFire1374_jpg.rf.62c29c3fd6eb1a46547d184faf086c06.jpg: ignoring corrupt image/label: Label class 1 exceeds dataset class count 1. Possible class labels are 0-0\n",
            "\u001b[34m\u001b[1mtrain: \u001b[0m/content/fire-1/train/images/WEBFire1378_jpg.rf.73777b308d2d911f623fc0a01c93d03e.jpg: ignoring corrupt image/label: Label class 1 exceeds dataset class count 1. Possible class labels are 0-0\n",
            "\u001b[34m\u001b[1mtrain: \u001b[0m/content/fire-1/train/images/WEBFire1394_jpg.rf.dc8f0cacd4ec0a1943c272e4e455ba40.jpg: ignoring corrupt image/label: Label class 1 exceeds dataset class count 1. Possible class labels are 0-0\n",
            "\u001b[34m\u001b[1mtrain: \u001b[0m/content/fire-1/train/images/WEBFire1398_jpg.rf.e97a85496b1745dcdf92c3fafb5d06b3.jpg: ignoring corrupt image/label: Label class 1 exceeds dataset class count 1. Possible class labels are 0-0\n",
            "\u001b[34m\u001b[1mtrain: \u001b[0m/content/fire-1/train/images/WEBFire1409_jpg.rf.cc775def2d1429262e5d6f39b419745f.jpg: ignoring corrupt image/label: Label class 1 exceeds dataset class count 1. Possible class labels are 0-0\n",
            "\u001b[34m\u001b[1mtrain: \u001b[0m/content/fire-1/train/images/WEBFire1411_jpg.rf.49620bfc134f449d80cfce95837cbeac.jpg: ignoring corrupt image/label: Label class 1 exceeds dataset class count 1. Possible class labels are 0-0\n",
            "\u001b[34m\u001b[1mtrain: \u001b[0m/content/fire-1/train/images/WEBFire1411_jpg.rf.beaa62262351f47d353b37bbc1772acf.jpg: ignoring corrupt image/label: Label class 1 exceeds dataset class count 1. Possible class labels are 0-0\n",
            "\u001b[34m\u001b[1mtrain: \u001b[0m/content/fire-1/train/images/WEBFire1430_jpg.rf.66090398ff1155c330d1b7c2b3494fbb.jpg: ignoring corrupt image/label: Label class 1 exceeds dataset class count 1. Possible class labels are 0-0\n",
            "\u001b[34m\u001b[1mtrain: \u001b[0m/content/fire-1/train/images/WEBFire1431_jpg.rf.ed326963ffa37232e9f7e0139137fa64.jpg: ignoring corrupt image/label: Label class 1 exceeds dataset class count 1. Possible class labels are 0-0\n",
            "\u001b[34m\u001b[1mtrain: \u001b[0m/content/fire-1/train/images/WEBFire1433_jpg.rf.62c742d5071024161de4089dc15f7035.jpg: ignoring corrupt image/label: Label class 1 exceeds dataset class count 1. Possible class labels are 0-0\n",
            "\u001b[34m\u001b[1mtrain: \u001b[0m/content/fire-1/train/images/WEBFire1433_jpg.rf.77eac92bee8eeded6aba287491223b97.jpg: ignoring corrupt image/label: Label class 1 exceeds dataset class count 1. Possible class labels are 0-0\n",
            "\u001b[34m\u001b[1mtrain: \u001b[0m/content/fire-1/train/images/WEBFire1440_jpg.rf.658891758812ed0c10dc28a5cb6d91df.jpg: ignoring corrupt image/label: Label class 1 exceeds dataset class count 1. Possible class labels are 0-0\n",
            "\u001b[34m\u001b[1mtrain: \u001b[0m/content/fire-1/train/images/WEBFire1441_jpg.rf.a4476ea11980cd7fec640cdd04b24e13.jpg: ignoring corrupt image/label: Label class 1 exceeds dataset class count 1. Possible class labels are 0-0\n",
            "\u001b[34m\u001b[1mtrain: \u001b[0m/content/fire-1/train/images/WEBFire1442_jpg.rf.365b1dbbb7b118ed88240ac7c4fb9ebe.jpg: ignoring corrupt image/label: Label class 1 exceeds dataset class count 1. Possible class labels are 0-0\n",
            "\u001b[34m\u001b[1mtrain: \u001b[0m/content/fire-1/train/images/WEBFire1443_jpg.rf.059c01da9795b80dc20487391abc1a34.jpg: ignoring corrupt image/label: Label class 1 exceeds dataset class count 1. Possible class labels are 0-0\n",
            "\u001b[34m\u001b[1mtrain: \u001b[0m/content/fire-1/train/images/WEBFire1443_jpg.rf.c263d311dcbd64d24b30d126285e3e01.jpg: ignoring corrupt image/label: Label class 1 exceeds dataset class count 1. Possible class labels are 0-0\n",
            "\u001b[34m\u001b[1mtrain: \u001b[0m/content/fire-1/train/images/WEBFire1445_jpg.rf.65e2518d781c4aecbbcd161b4781e358.jpg: ignoring corrupt image/label: Label class 1 exceeds dataset class count 1. Possible class labels are 0-0\n",
            "\u001b[34m\u001b[1mtrain: \u001b[0m/content/fire-1/train/images/WEBFire1468_jpg.rf.e9ba587ed1a25aa90052397549f81fc8.jpg: ignoring corrupt image/label: Label class 1 exceeds dataset class count 1. Possible class labels are 0-0\n",
            "\u001b[34m\u001b[1mtrain: \u001b[0m/content/fire-1/train/images/WEBFire1584_jpg.rf.717091221dfe0bba2dd8e6f6df832caf.jpg: ignoring corrupt image/label: Label class 1 exceeds dataset class count 1. Possible class labels are 0-0\n",
            "\u001b[34m\u001b[1mtrain: \u001b[0m/content/fire-1/train/images/WEBFire1584_jpg.rf.bd425bc3d6a5909de112509fd435652f.jpg: ignoring corrupt image/label: Label class 1 exceeds dataset class count 1. Possible class labels are 0-0\n",
            "\u001b[34m\u001b[1mtrain: \u001b[0m/content/fire-1/train/images/WEBFire1588_jpg.rf.7367492a3cfe4979e18957d35c65e5e5.jpg: ignoring corrupt image/label: Label class 1 exceeds dataset class count 1. Possible class labels are 0-0\n",
            "\u001b[34m\u001b[1mtrain: \u001b[0m/content/fire-1/train/images/WEBFire164_jpg.rf.13fe5be9a805436fa352f2cca4df1fc0.jpg: ignoring corrupt image/label: Label class 1 exceeds dataset class count 1. Possible class labels are 0-0\n",
            "\u001b[34m\u001b[1mtrain: \u001b[0m/content/fire-1/train/images/WEBFire164_jpg.rf.92ca4ad3085948cae6fd4719fc831281.jpg: ignoring corrupt image/label: Label class 1 exceeds dataset class count 1. Possible class labels are 0-0\n",
            "\u001b[34m\u001b[1mtrain: \u001b[0m/content/fire-1/train/images/WEBFire1654_jpg.rf.035259e93008d6b83d581ad0eb59130a.jpg: ignoring corrupt image/label: Label class 1 exceeds dataset class count 1. Possible class labels are 0-0\n",
            "\u001b[34m\u001b[1mtrain: \u001b[0m/content/fire-1/train/images/WEBFire1667_jpg.rf.ce7a9deeba8bb1084902217e81614f88.jpg: ignoring corrupt image/label: Label class 1 exceeds dataset class count 1. Possible class labels are 0-0\n",
            "\u001b[34m\u001b[1mtrain: \u001b[0m/content/fire-1/train/images/WEBFire1671_jpg.rf.0ec1d52fa1acc15120f26cc6434ae357.jpg: ignoring corrupt image/label: Label class 1 exceeds dataset class count 1. Possible class labels are 0-0\n",
            "\u001b[34m\u001b[1mtrain: \u001b[0m/content/fire-1/train/images/WEBFire1688_jpg.rf.0b1a9eb43c0fe411fcacd921f1fb1410.jpg: ignoring corrupt image/label: Label class 1 exceeds dataset class count 1. Possible class labels are 0-0\n",
            "\u001b[34m\u001b[1mtrain: \u001b[0m/content/fire-1/train/images/WEBFire1688_jpg.rf.5192190edab8ac83efc6ed4f32e8bc69.jpg: ignoring corrupt image/label: Label class 1 exceeds dataset class count 1. Possible class labels are 0-0\n",
            "\u001b[34m\u001b[1mtrain: \u001b[0m/content/fire-1/train/images/WEBFire1695_jpg.rf.a0fbbb7ad0f781d95d5c1f66c90ad1ec.jpg: ignoring corrupt image/label: Label class 1 exceeds dataset class count 1. Possible class labels are 0-0\n",
            "\u001b[34m\u001b[1mtrain: \u001b[0m/content/fire-1/train/images/WEBFire1746_jpg.rf.3764abc753ec627393a6190f7a1cd654.jpg: ignoring corrupt image/label: Label class 1 exceeds dataset class count 1. Possible class labels are 0-0\n",
            "\u001b[34m\u001b[1mtrain: \u001b[0m/content/fire-1/train/images/WEBFire177_jpg.rf.e1887a611d602ff7cff37643e4119666.jpg: ignoring corrupt image/label: Label class 1 exceeds dataset class count 1. Possible class labels are 0-0\n",
            "\u001b[34m\u001b[1mtrain: \u001b[0m/content/fire-1/train/images/WEBFire180_jpg.rf.19831a6f9ae3a90f15667c13ae01c437.jpg: ignoring corrupt image/label: Label class 1 exceeds dataset class count 1. Possible class labels are 0-0\n",
            "\u001b[34m\u001b[1mtrain: \u001b[0m/content/fire-1/train/images/WEBFire185_jpg.rf.d64a767557768488bac4a70d155e3698.jpg: ignoring corrupt image/label: Label class 1 exceeds dataset class count 1. Possible class labels are 0-0\n",
            "\u001b[34m\u001b[1mtrain: \u001b[0m/content/fire-1/train/images/WEBFire197_jpg.rf.ee625498cec6bcea0a860be4cbf1cd82.jpg: ignoring corrupt image/label: Label class 1 exceeds dataset class count 1. Possible class labels are 0-0\n",
            "\u001b[34m\u001b[1mtrain: \u001b[0m/content/fire-1/train/images/WEBFire2034_jpg.rf.0a26f8b5c8a6c87adce5affa1b8f4b10.jpg: ignoring corrupt image/label: Label class 1 exceeds dataset class count 1. Possible class labels are 0-0\n",
            "\u001b[34m\u001b[1mtrain: \u001b[0m/content/fire-1/train/images/WEBFire2048_jpg.rf.4ca28bf5c83414f56950aa769b7c0d38.jpg: ignoring corrupt image/label: Label class 1 exceeds dataset class count 1. Possible class labels are 0-0\n",
            "\u001b[34m\u001b[1mtrain: \u001b[0m/content/fire-1/train/images/WEBFire207_jpg.rf.e5bf82cefebe4a66a552e07f0f3168b8.jpg: ignoring corrupt image/label: Label class 1 exceeds dataset class count 1. Possible class labels are 0-0\n",
            "\u001b[34m\u001b[1mtrain: \u001b[0m/content/fire-1/train/images/WEBFire207_jpg.rf.e7b27df1f041210a9afa2424da74fb38.jpg: ignoring corrupt image/label: Label class 1 exceeds dataset class count 1. Possible class labels are 0-0\n",
            "\u001b[34m\u001b[1mtrain: \u001b[0m/content/fire-1/train/images/WEBFire2084_jpg.rf.72c076858a167182c22fbd35f0daf1ab.jpg: ignoring corrupt image/label: Label class 1 exceeds dataset class count 1. Possible class labels are 0-0\n",
            "\u001b[34m\u001b[1mtrain: \u001b[0m/content/fire-1/train/images/WEBFire211_jpg.rf.8aa6881b17746153175683ef1814936e.jpg: ignoring corrupt image/label: Label class 1 exceeds dataset class count 1. Possible class labels are 0-0\n",
            "\u001b[34m\u001b[1mtrain: \u001b[0m/content/fire-1/train/images/WEBFire2137_jpg.rf.54bc8e0e979cff571a165e08d3f73ab9.jpg: ignoring corrupt image/label: Label class 1 exceeds dataset class count 1. Possible class labels are 0-0\n",
            "\u001b[34m\u001b[1mtrain: \u001b[0m/content/fire-1/train/images/WEBFire2235_jpg.rf.a413e7e64b692533788d7dea58eea487.jpg: ignoring corrupt image/label: Label class 1 exceeds dataset class count 1. Possible class labels are 0-0\n",
            "\u001b[34m\u001b[1mtrain: \u001b[0m/content/fire-1/train/images/WEBFire250_jpg.rf.2e1d1e4e0de71018d1a9151a49a88a8f.jpg: ignoring corrupt image/label: Label class 1 exceeds dataset class count 1. Possible class labels are 0-0\n",
            "\u001b[34m\u001b[1mtrain: \u001b[0m/content/fire-1/train/images/WEBFire287_jpg.rf.88c64dd2e369483c65955730aad4c006.jpg: ignoring corrupt image/label: Label class 1 exceeds dataset class count 1. Possible class labels are 0-0\n",
            "\u001b[34m\u001b[1mtrain: \u001b[0m/content/fire-1/train/images/WEBFire291_jpg.rf.ba76ef350a5e4ff21b7bfca950ba8a43.jpg: ignoring corrupt image/label: Label class 1 exceeds dataset class count 1. Possible class labels are 0-0\n",
            "\u001b[34m\u001b[1mtrain: \u001b[0m/content/fire-1/train/images/WEBFire295_jpg.rf.87ba1ced090c0a097150e1e36680f2bb.jpg: ignoring corrupt image/label: Label class 1 exceeds dataset class count 1. Possible class labels are 0-0\n",
            "\u001b[34m\u001b[1mtrain: \u001b[0m/content/fire-1/train/images/WEBFire299_jpg.rf.b6197b498bd4f6042d45d4115c58cffd.jpg: ignoring corrupt image/label: Label class 1 exceeds dataset class count 1. Possible class labels are 0-0\n",
            "\u001b[34m\u001b[1mtrain: \u001b[0m/content/fire-1/train/images/WEBFire428_jpg.rf.94c2292381489cc77f325c7a7b29f610.jpg: ignoring corrupt image/label: Label class 1 exceeds dataset class count 1. Possible class labels are 0-0\n",
            "\u001b[34m\u001b[1mtrain: \u001b[0m/content/fire-1/train/images/WEBSmoke1003_jpg.rf.87f6944bb636843ac206f8dd047e585c.jpg: ignoring corrupt image/label: Label class 1 exceeds dataset class count 1. Possible class labels are 0-0\n",
            "\u001b[34m\u001b[1mtrain: \u001b[0m/content/fire-1/train/images/WEBSmoke1304_jpg.rf.3649e1d78579bb036429649bc4f80f5b.jpg: ignoring corrupt image/label: Label class 1 exceeds dataset class count 1. Possible class labels are 0-0\n",
            "\u001b[34m\u001b[1mtrain: \u001b[0m/content/fire-1/train/images/WEBSmoke1309_jpg.rf.3281f1fb366a7c1635ad05360d3db579.jpg: ignoring corrupt image/label: Label class 1 exceeds dataset class count 1. Possible class labels are 0-0\n",
            "\u001b[34m\u001b[1mtrain: \u001b[0m/content/fire-1/train/images/WEBSmoke1622_jpg.rf.3f35a2f125d04b2556faa43c3e3b8aa1.jpg: ignoring corrupt image/label: Label class 1 exceeds dataset class count 1. Possible class labels are 0-0\n",
            "\u001b[34m\u001b[1mtrain: \u001b[0m/content/fire-1/train/images/WEBSmoke1795_jpg.rf.6be570f58526aaaaa9cb3590173f8ddc.jpg: ignoring corrupt image/label: Label class 1 exceeds dataset class count 1. Possible class labels are 0-0\n",
            "\u001b[34m\u001b[1mtrain: \u001b[0m/content/fire-1/train/images/WEBSmoke1995_jpg.rf.1e8e04bdd9841fea8a0fca45d83f933e.jpg: ignoring corrupt image/label: Label class 1 exceeds dataset class count 1. Possible class labels are 0-0\n",
            "\u001b[34m\u001b[1mtrain: \u001b[0m/content/fire-1/train/images/WEBSmoke2374_jpg.rf.9b02cd6756c51c7627d85beec5b5ac18.jpg: ignoring corrupt image/label: Label class 1 exceeds dataset class count 1. Possible class labels are 0-0\n",
            "\u001b[34m\u001b[1mtrain: \u001b[0m/content/fire-1/train/images/WEBSmoke2380_jpg.rf.69ce96115e2db64d2ce7fe082d842bd4.jpg: ignoring corrupt image/label: Label class 1 exceeds dataset class count 1. Possible class labels are 0-0\n",
            "\u001b[34m\u001b[1mtrain: \u001b[0m/content/fire-1/train/images/ck0k99e6p79go0944lmxivkmv_jpeg_jpg.rf.f530dc234bd4370d1d07f50421bcb72d.jpg: ignoring corrupt image/label: Label class 1 exceeds dataset class count 1. Possible class labels are 0-0\n",
            "\u001b[34m\u001b[1mtrain: \u001b[0m/content/fire-1/train/images/ck0k9aqm99o2o0721aml8qpqr_jpeg_jpg.rf.cc8901b0d7a8e8d0109609c3f11f0026.jpg: ignoring corrupt image/label: Label class 1 exceeds dataset class count 1. Possible class labels are 0-0\n",
            "\u001b[34m\u001b[1mtrain: \u001b[0m/content/fire-1/train/images/ck0k9dg0vjxcg0848rmqzl38w_jpeg_jpg.rf.78025af72c5da66a4f0a834892a87254.jpg: ignoring corrupt image/label: Label class 1 exceeds dataset class count 1. Possible class labels are 0-0\n",
            "\u001b[34m\u001b[1mtrain: \u001b[0m/content/fire-1/train/images/ck0k9dzyzirme0a46fhirxayi_jpeg_jpg.rf.f24d14a9af991868f48ec59273178c75.jpg: ignoring corrupt image/label: Label class 1 exceeds dataset class count 1. Possible class labels are 0-0\n",
            "\u001b[34m\u001b[1mtrain: \u001b[0m/content/fire-1/train/images/ck0k9etuqjxhh0848k6i1mw2f_jpeg_jpg.rf.8188217126b250714f78a4008b6b83af.jpg: ignoring corrupt image/label: Label class 1 exceeds dataset class count 1. Possible class labels are 0-0\n",
            "\u001b[34m\u001b[1mtrain: \u001b[0m/content/fire-1/train/images/ck0k9ghqt7a8l0944mcvy0jsx_jpeg_jpg.rf.65bfc576321a83f508fed0bc3d196318.jpg: ignoring corrupt image/label: Label class 1 exceeds dataset class count 1. Possible class labels are 0-0\n",
            "\u001b[34m\u001b[1mtrain: \u001b[0m/content/fire-1/train/images/ck0k9jss09oxq0721c8pd7eds_jpeg_jpg.rf.f6b3c54aadcfc6077c71053112cda11c.jpg: ignoring corrupt image/label: Label class 1 exceeds dataset class count 1. Possible class labels are 0-0\n",
            "\u001b[34m\u001b[1mtrain: \u001b[0m/content/fire-1/train/images/ck0k9lqaz4ict0863typf3ngd_jpeg_jpg.rf.8bab976e480ec8e9a710563c19684725.jpg: ignoring corrupt image/label: Label class 1 exceeds dataset class count 1. Possible class labels are 0-0\n",
            "\u001b[34m\u001b[1mtrain: \u001b[0m/content/fire-1/train/images/ck0kcaec57i7s0944jkpjyecx_jpeg_jpg.rf.0f7770619bd9afe9bbfee6e7b890d6bc.jpg: ignoring corrupt image/label: Label class 1 exceeds dataset class count 1. Possible class labels are 0-0\n",
            "\u001b[34m\u001b[1mtrain: \u001b[0m/content/fire-1/train/images/ck0kcbvwl4tja0794csyimfqu_jpeg_jpg.rf.4370444da2d29a498039e50e8d2b9874.jpg: ignoring corrupt image/label: Label class 1 exceeds dataset class count 1. Possible class labels are 0-0\n",
            "\u001b[34m\u001b[1mtrain: \u001b[0m/content/fire-1/train/images/ck0kcju199xgd0721ljl6cd2n_jpeg_jpg.rf.0ee0b5ab555e6e3b1bcee80a3f64703e.jpg: ignoring corrupt image/label: Label class 1 exceeds dataset class count 1. Possible class labels are 0-0\n",
            "\u001b[34m\u001b[1mtrain: \u001b[0m/content/fire-1/train/images/ck0kck2czj0l10a46f6xkvofl_jpeg_jpg.rf.40ab3591cff703c63529d77ad97cdcdb.jpg: ignoring corrupt image/label: Label class 1 exceeds dataset class count 1. Possible class labels are 0-0\n",
            "\u001b[34m\u001b[1mtrain: \u001b[0m/content/fire-1/train/images/ck0kcko719xjn0721pujcl4if_jpeg_jpg.rf.260f1107a348df174dfab8bdd7fbcd7d.jpg: ignoring corrupt image/label: Label class 1 exceeds dataset class count 1. Possible class labels are 0-0\n",
            "\u001b[34m\u001b[1mtrain: \u001b[0m/content/fire-1/train/images/ck0kcljocj0qo0a46rzj3y211_jpeg_jpg.rf.c70cb49200d2b35b3bfad6c3f188a783.jpg: ignoring corrupt image/label: Label class 1 exceeds dataset class count 1. Possible class labels are 0-0\n",
            "\u001b[34m\u001b[1mtrain: \u001b[0m/content/fire-1/train/images/ck0kcnh1p4uns0794bs53wqam_jpeg_jpg.rf.a0189c16b25b25570c715f920c28c33f.jpg: ignoring corrupt image/label: Label class 1 exceeds dataset class count 1. Possible class labels are 0-0\n",
            "\u001b[34m\u001b[1mtrain: \u001b[0m/content/fire-1/train/images/ck0kcnqqgk6li0848vp3bn5sx_jpeg_jpg.rf.3a5097bb625d6b1ca9c2b4e310930e5b.jpg: ignoring corrupt image/label: Label class 1 exceeds dataset class count 1. Possible class labels are 0-0\n",
            "\u001b[34m\u001b[1mtrain: \u001b[0m/content/fire-1/train/images/ck0kcoc8ik6ni0848clxs0vif_jpeg_jpg.rf.72bf42382183882ac62b16b2073ba65d.jpg: ignoring corrupt image/label: Label class 1 exceeds dataset class count 1. Possible class labels are 0-0\n",
            "\u001b[34m\u001b[1mtrain: \u001b[0m/content/fire-1/train/images/ck0kcouioj11m0a46yjyp0zlc_jpeg_jpg.rf.02ee2e14de932bab4ff82ec9178ab8aa.jpg: ignoring corrupt image/label: Label class 1 exceeds dataset class count 1. Possible class labels are 0-0\n",
            "\u001b[34m\u001b[1mtrain: \u001b[0m/content/fire-1/train/images/ck0kcpbi29y0x0721g7dlzzcs_jpeg_jpg.rf.cff377d3ba5036fd828980bd04d1801a.jpg: ignoring corrupt image/label: Label class 1 exceeds dataset class count 1. Possible class labels are 0-0\n",
            "\u001b[34m\u001b[1mtrain: \u001b[0m/content/fire-1/train/images/ck0kcsfho4r010863q5sjbub6_jpeg_jpg.rf.d90dc863602ab88daf5bee6bb50079aa.jpg: ignoring corrupt image/label: Label class 1 exceeds dataset class count 1. Possible class labels are 0-0\n",
            "\u001b[34m\u001b[1mtrain: \u001b[0m/content/fire-1/train/images/ck0kcso214r0r0863m2otgmja_jpeg_jpg.rf.5008c769f8d5b187891db575a8d469c7.jpg: ignoring corrupt image/label: Label class 1 exceeds dataset class count 1. Possible class labels are 0-0\n",
            "\u001b[34m\u001b[1mtrain: \u001b[0m/content/fire-1/train/images/ck0kcubsi4r530863gt6or3em_jpeg_jpg.rf.4b8b0fb1d88eff3e95309eccb1199d87.jpg: ignoring corrupt image/label: Label class 1 exceeds dataset class count 1. Possible class labels are 0-0\n",
            "\u001b[34m\u001b[1mtrain: \u001b[0m/content/fire-1/train/images/ck0kcy2pmj1v70a464cl53bkw_jpeg_jpg.rf.78956af8d0243fdd76328329c10a6c29.jpg: ignoring corrupt image/label: Label class 1 exceeds dataset class count 1. Possible class labels are 0-0\n",
            "\u001b[34m\u001b[1mtrain: \u001b[0m/content/fire-1/train/images/ck0kcz0wr67xc0838pqo5w48a_jpeg_jpg.rf.6bfdb4da66ff24c1efac7546b5234ba2.jpg: ignoring corrupt image/label: Label class 1 exceeds dataset class count 1. Possible class labels are 0-0\n",
            "\u001b[34m\u001b[1mtrain: \u001b[0m/content/fire-1/train/images/ck0kd21cfj2810a46eicmjtng_jpeg_jpg.rf.4d8b782ad125aeea5cdbe1918231511e.jpg: ignoring corrupt image/label: Label class 1 exceeds dataset class count 1. Possible class labels are 0-0\n",
            "\u001b[34m\u001b[1mtrain: \u001b[0m/content/fire-1/train/images/ck0kd2lpc7kvu0944pq8xomg1_jpeg_jpg.rf.0aca2ee116b1c9d37ae086bcaf8e0f74.jpg: ignoring corrupt image/label: Label class 1 exceeds dataset class count 1. Possible class labels are 0-0\n",
            "\u001b[34m\u001b[1mtrain: \u001b[0m/content/fire-1/train/images/ck0kd4afx8g470701watkwxut_jpeg_jpg.rf.f32a43a11cfa0f6e23804e028d509f17.jpg: ignoring corrupt image/label: Label class 1 exceeds dataset class count 1. Possible class labels are 0-0\n",
            "\u001b[34m\u001b[1mtrain: \u001b[0m/content/fire-1/train/images/ck0kd70pu4w7b07946742zfpg_jpeg_jpg.rf.acacafaa6211fe8e7508dd5d1f4ee7b2.jpg: ignoring corrupt image/label: Label class 1 exceeds dataset class count 1. Possible class labels are 0-0\n",
            "\u001b[34m\u001b[1mtrain: \u001b[0m/content/fire-1/train/images/ck0kd7h8nj2m70a469e4k6x92_jpeg_jpg.rf.79b229d4239b343d9dfc618d34dcf0de.jpg: ignoring corrupt image/label: Label class 1 exceeds dataset class count 1. Possible class labels are 0-0\n",
            "\u001b[34m\u001b[1mtrain: \u001b[0m/content/fire-1/train/images/ck0kd86qe8gf507018qw8usfe_jpeg_jpg.rf.6309ce3d71ee44a11449a86f81a1a9fa.jpg: ignoring corrupt image/label: Label class 1 exceeds dataset class count 1. Possible class labels are 0-0\n",
            "\u001b[34m\u001b[1mtrain: \u001b[0m/content/fire-1/train/images/ck0kdeqv8a00m0721x8avt6qe_jpeg_jpg.rf.2ff64b088ca495d6ffc994c49d883c5c.jpg: ignoring corrupt image/label: Label class 1 exceeds dataset class count 1. Possible class labels are 0-0\n",
            "\u001b[34m\u001b[1mtrain: \u001b[0m/content/fire-1/train/images/ck0kdgfrn7loi0944bc5njxd7_jpeg_jpg.rf.baf24742e2ab0ac1fa71c0d5b9dba49e.jpg: ignoring corrupt image/label: Label class 1 exceeds dataset class count 1. Possible class labels are 0-0\n",
            "\u001b[34m\u001b[1mtrain: \u001b[0m/content/fire-1/train/images/ck0kdgpnj8gvt0701oaod540q_jpeg_jpg.rf.24db96dd14922d2c2386a2d58f8232fa.jpg: ignoring corrupt image/label: Label class 1 exceeds dataset class count 1. Possible class labels are 0-0\n",
            "\u001b[34m\u001b[1mtrain: \u001b[0m/content/fire-1/train/images/ck0kdh8yok8rw08486abmn3z3_jpeg_jpg.rf.7e1edd9be8a5b4350571a3930db0caa8.jpg: ignoring corrupt image/label: Label class 1 exceeds dataset class count 1. Possible class labels are 0-0\n",
            "\u001b[34m\u001b[1mtrain: \u001b[0m/content/fire-1/train/images/ck0kdhizwj37t0a461n7bsvun_jpeg_jpg.rf.da5a50d872745ac28a9a80c082df261a.jpg: ignoring corrupt image/label: Label class 1 exceeds dataset class count 1. Possible class labels are 0-0\n",
            "\u001b[34m\u001b[1mtrain: \u001b[0m/content/fire-1/train/images/ck0kdhymna0b10721v4wntit8_jpeg_jpg.rf.206096f4b6b257200cf35ee841c0ec1d.jpg: ignoring corrupt image/label: Label class 1 exceeds dataset class count 1. Possible class labels are 0-0\n",
            "\u001b[34m\u001b[1mtrain: \u001b[0m/content/fire-1/train/images/ck0kdklhl8h7h07015yka75gg_jpeg_jpg.rf.a00cdd22f38f6280c544470f569da54d.jpg: ignoring corrupt image/label: Label class 1 exceeds dataset class count 1. Possible class labels are 0-0\n",
            "\u001b[34m\u001b[1mtrain: \u001b[0m/content/fire-1/train/images/ck0kdobka8hev07019b3gbgq6_jpeg_jpg.rf.d710ad983096328049004703db892be0.jpg: ignoring corrupt image/label: Label class 1 exceeds dataset class count 1. Possible class labels are 0-0\n",
            "\u001b[34m\u001b[1mtrain: \u001b[0m/content/fire-1/train/images/ck0kdox8w69td0838i6leuzy9_jpeg_jpg.rf.27d67299bd8de0866b7a5b9059a0eb12.jpg: ignoring corrupt image/label: Label class 1 exceeds dataset class count 1. Possible class labels are 0-0\n",
            "\u001b[34m\u001b[1mtrain: \u001b[0m/content/fire-1/train/images/ck0kdpfyk4t8v08633b9u5zhe_jpeg_jpg.rf.c82e4f07032fa8ef14c1334246480d31.jpg: ignoring corrupt image/label: Label class 1 exceeds dataset class count 1. Possible class labels are 0-0\n",
            "\u001b[34m\u001b[1mtrain: \u001b[0m/content/fire-1/train/images/ck0kdra5c7mjh0944w97n0exh_jpeg_jpg.rf.2396f57c1d014ac1001547f869de7360.jpg: ignoring corrupt image/label: Label class 1 exceeds dataset class count 1. Possible class labels are 0-0\n",
            "\u001b[34m\u001b[1mtrain: \u001b[0m/content/fire-1/train/images/ck0kdsrnk4tm80863omawzddc_jpeg_jpg.rf.3546f6d082efd0b37cdc78ee161ae551.jpg: ignoring corrupt image/label: Label class 1 exceeds dataset class count 1. Possible class labels are 0-0\n",
            "\u001b[34m\u001b[1mtrain: \u001b[0m/content/fire-1/train/images/ck0kdvg6tj4hn0a46k06job5k_jpeg_jpg.rf.53a51470f0fc043d337bb1719ad5d1a1.jpg: ignoring corrupt image/label: Label class 1 exceeds dataset class count 1. Possible class labels are 0-0\n",
            "\u001b[34m\u001b[1mtrain: \u001b[0m/content/fire-1/train/images/ck0kdwh3o6akx0838c87v3jbu_jpeg_jpg.rf.7821c5b8d8e30ac4eb39748f6f59c13a.jpg: ignoring corrupt image/label: Label class 1 exceeds dataset class count 1. Possible class labels are 0-0\n",
            "\u001b[34m\u001b[1mtrain: \u001b[0m/content/fire-1/train/images/ck0ken8886dvt0838isatschp_jpeg_jpg.rf.82ad5552efec9750f1050fdb55aa60b9.jpg: ignoring corrupt image/label: Label class 1 exceeds dataset class count 1. Possible class labels are 0-0\n",
            "\u001b[34m\u001b[1mtrain: \u001b[0m/content/fire-1/train/images/ck0kengxx4xiw0863hvii9d2r_jpeg_jpg.rf.36357489ff1949d94615c62a94688d0b.jpg: ignoring corrupt image/label: Label class 1 exceeds dataset class count 1. Possible class labels are 0-0\n",
            "\u001b[34m\u001b[1mtrain: \u001b[0m/content/fire-1/train/images/ck0keo0re4xll086378211i65_jpeg_jpg.rf.2e11b52f81e6a39aa205fad39abf8618.jpg: ignoring corrupt image/label: Label class 1 exceeds dataset class count 1. Possible class labels are 0-0\n",
            "\u001b[34m\u001b[1mtrain: \u001b[0m/content/fire-1/train/images/ck0keop2ya51r072149ntr73o_jpeg_jpg.rf.7c0de19451aaf1abb6f852cde5e8d8c1.jpg: ignoring corrupt image/label: Label class 1 exceeds dataset class count 1. Possible class labels are 0-0\n",
            "\u001b[34m\u001b[1mtrain: \u001b[0m/content/fire-1/train/images/ck0kepbs9kdym0848hgpcf3y9_jpeg_jpg.rf.35fd639120e59817749bc56e5dada856.jpg: ignoring corrupt image/label: Label class 1 exceeds dataset class count 1. Possible class labels are 0-0\n",
            "\u001b[34m\u001b[1mtrain: \u001b[0m/content/fire-1/train/images/ck0kepk22a57e07215s22fyiv_jpeg_jpg.rf.92ac754001e55a100b03cc7bf6b702b1.jpg: ignoring corrupt image/label: Label class 1 exceeds dataset class count 1. Possible class labels are 0-0\n",
            "\u001b[34m\u001b[1mtrain: \u001b[0m/content/fire-1/train/images/ck0keprw9ke1d08483vmle7ed_jpeg_jpg.rf.0b6a461142f019602f4691cc31d47593.jpg: ignoring corrupt image/label: Label class 1 exceeds dataset class count 1. Possible class labels are 0-0\n",
            "\u001b[34m\u001b[1mtrain: \u001b[0m/content/fire-1/train/images/ck0keq7xa4xxd0863otmigtsy_jpeg_jpg.rf.ed3644ea12aa2a5dc30291844cea3dc1.jpg: ignoring corrupt image/label: Label class 1 exceeds dataset class count 1. Possible class labels are 0-0\n",
            "\u001b[34m\u001b[1mtrain: \u001b[0m/content/fire-1/train/images/ck0keqofqkeab0848eq712ch1_jpeg_jpg.rf.c948abc77ad584d7e890d083597d30df.jpg: ignoring corrupt image/label: Label class 1 exceeds dataset class count 1. Possible class labels are 0-0\n",
            "\u001b[34m\u001b[1mtrain: \u001b[0m/content/fire-1/train/images/ck0kewjljj9q20a46zd3hi5wl_jpeg_jpg.rf.3338d8268084ad317159de6b54a2dc70.jpg: ignoring corrupt image/label: Label class 1 exceeds dataset class count 1. Possible class labels are 0-0\n",
            "\u001b[34m\u001b[1mtrain: \u001b[0m/content/fire-1/train/images/ck0kewsaha6hh07215jgx1bp2_jpeg_jpg.rf.ca3cbfc6aca22e59f36ff209f5f94935.jpg: ignoring corrupt image/label: Label class 1 exceeds dataset class count 1. Possible class labels are 0-0\n",
            "\u001b[34m\u001b[1mtrain: \u001b[0m/content/fire-1/train/images/ck0kexd04j9w30a4628x0rzxi_jpeg_jpg.rf.fa25ad53a190e4ce532b24c030cc33ae.jpg: ignoring corrupt image/label: Label class 1 exceeds dataset class count 1. Possible class labels are 0-0\n",
            "\u001b[34m\u001b[1mtrain: \u001b[0m/content/fire-1/train/images/ck0kfjen48qhj0701wjkosmel_jpeg_jpg.rf.1d8a875e3c1bd86ad7e35b34a2b740e4.jpg: ignoring corrupt image/label: Label class 1 exceeds dataset class count 1. Possible class labels are 0-0\n",
            "\u001b[34m\u001b[1mtrain: \u001b[0m/content/fire-1/train/images/ck0kfk23ukj1m0848e93um98b_jpeg_jpg.rf.e65accf5b27af9bdc0482b072fa27d78.jpg: ignoring corrupt image/label: Label class 1 exceeds dataset class count 1. Possible class labels are 0-0\n",
            "\u001b[34m\u001b[1mtrain: \u001b[0m/content/fire-1/train/images/ck0kfljfp7vuk09441308dug1_jpeg_jpg.rf.25f7ec96dc7b6953f7e23713b1890005.jpg: ignoring corrupt image/label: Label class 1 exceeds dataset class count 1. Possible class labels are 0-0\n",
            "\u001b[34m\u001b[1mtrain: \u001b[0m/content/fire-1/train/images/ck0kfm0ie6jf7083851froruk_jpeg_jpg.rf.c160523f078adba1a71d7e5b3aee1a7b.jpg: ignoring corrupt image/label: Label class 1 exceeds dataset class count 1. Possible class labels are 0-0\n",
            "\u001b[34m\u001b[1mtrain: \u001b[0m/content/fire-1/train/images/ck0kfmg3p6jh90838qxnikor1_jpeg_jpg.rf.fbbdf1f95e52d63986dd3ffedc5d92eb.jpg: ignoring corrupt image/label: Label class 1 exceeds dataset class count 1. Possible class labels are 0-0\n",
            "\u001b[34m\u001b[1mtrain: \u001b[0m/content/fire-1/train/images/ck0kfnjva6jp60838d6vqyxq2_jpeg_jpg.rf.0e6b144ed9b0a2f1eaa3b12db3984f89.jpg: ignoring corrupt image/label: Label class 1 exceeds dataset class count 1. Possible class labels are 0-0\n",
            "\u001b[34m\u001b[1mtrain: \u001b[0m/content/fire-1/train/images/ck0khrg9xan7u0721mn5rxpzo_jpeg_jpg.rf.5978b013e834e25270f50918d531990d.jpg: ignoring corrupt image/label: Label class 1 exceeds dataset class count 1. Possible class labels are 0-0\n",
            "\u001b[34m\u001b[1mtrain: \u001b[0m/content/fire-1/train/images/ck0khrpvr6w7p08381txzz4na_jpeg_jpg.rf.0ca75b1791a190ad03d659416d45c979.jpg: ignoring corrupt image/label: Label class 1 exceeds dataset class count 1. Possible class labels are 0-0\n",
            "\u001b[34m\u001b[1mtrain: \u001b[0m/content/fire-1/train/images/ck0khrzkh940s0701k1i2tfe3_jpeg_jpg.rf.28a2e005c9d8e0219c7424de7f572e49.jpg: ignoring corrupt image/label: Label class 1 exceeds dataset class count 1. Possible class labels are 0-0\n",
            "\u001b[34m\u001b[1mtrain: \u001b[0m/content/fire-1/train/images/ck0khsg8rangi07215h1hso72_jpeg_jpg.rf.68229f3b06e14230fd3f4e23c3d9ed26.jpg: ignoring corrupt image/label: Label class 1 exceeds dataset class count 1. Possible class labels are 0-0\n",
            "\u001b[34m\u001b[1mtrain: \u001b[0m/content/fire-1/train/images/ck0kht0vs5k2r079428olg3jt_jpeg_jpg.rf.043cc10ebe13b28745af5e6b10707efe.jpg: ignoring corrupt image/label: Label class 1 exceeds dataset class count 1. Possible class labels are 0-0\n",
            "\u001b[34m\u001b[1mtrain: \u001b[0m/content/fire-1/train/images/ck0khu2xz94nj070165dkfirk_jpeg_jpg.rf.eecc71adf6f7893b501138cbe3c351c7.jpg: ignoring corrupt image/label: Label class 1 exceeds dataset class count 1. Possible class labels are 0-0\n",
            "\u001b[34m\u001b[1mtrain: \u001b[0m/content/fire-1/train/images/ck0khubxx5khq0794ja58vgv5_jpeg_jpg.rf.36a993ac7069d5e7bf9374e33f4b57bd.jpg: ignoring corrupt image/label: Label class 1 exceeds dataset class count 1. Possible class labels are 0-0\n",
            "\u001b[34m\u001b[1mtrain: \u001b[0m/content/fire-1/train/images/ck0kk7o8o5vu70794mj0deixq_jpeg_jpg.rf.22b07e40c05708b0799ada0450d5e159.jpg: ignoring corrupt image/label: Label class 1 exceeds dataset class count 1. Possible class labels are 0-0\n",
            "\u001b[34m\u001b[1mtrain: \u001b[0m/content/fire-1/train/images/ck0kkep0vb0nz0721g3sq0a4g_jpeg_jpg.rf.c75c8f4326177465af8f1ed5f3a50ad4.jpg: ignoring corrupt image/label: Label class 1 exceeds dataset class count 1. Possible class labels are 0-0\n",
            "\u001b[34m\u001b[1mtrain: \u001b[0m/content/fire-1/train/images/ck0kkg0u65u3q0863z6w2psqp_jpeg_jpg.rf.ccae41d7da7b406038aaf0feccf6b1c2.jpg: ignoring corrupt image/label: Label class 1 exceeds dataset class count 1. Possible class labels are 0-0\n",
            "\u001b[34m\u001b[1mtrain: \u001b[0m/content/fire-1/train/images/ck0kkg80v5x900794hcgsb4e1_jpeg_jpg.rf.ca6c63a66bbd486228292976e6ac2945.jpg: ignoring corrupt image/label: Label class 1 exceeds dataset class count 1. Possible class labels are 0-0\n",
            "\u001b[34m\u001b[1mtrain: \u001b[0m/content/fire-1/train/images/ck0kkgh0ik3y20a46kzrit8v2_jpeg_jpg.rf.515df4ad97cf74874c314b5cf5fbf8ac.jpg: ignoring corrupt image/label: Label class 1 exceeds dataset class count 1. Possible class labels are 0-0\n",
            "\u001b[34m\u001b[1mtrain: \u001b[0m/content/fire-1/train/images/ck0kkgwvk9hhg0701edmbvr7r_jpeg_jpg.rf.d0dad8fdf8dd4467fe0773d3469707c4.jpg: ignoring corrupt image/label: Label class 1 exceeds dataset class count 1. Possible class labels are 0-0\n",
            "\u001b[34m\u001b[1mtrain: \u001b[0m/content/fire-1/train/images/ck0kkhi2lb1b30721f7ltwn14_jpeg_jpg.rf.a8d02ddad521dcff5bac9c2609ae281b.jpg: ignoring corrupt image/label: Label class 1 exceeds dataset class count 1. Possible class labels are 0-0\n",
            "\u001b[34m\u001b[1mtrain: \u001b[0m/content/fire-1/train/images/ck0kkizhblbln0848zygsqz0h_jpeg_jpg.rf.6d0ed6e9f5f945f1dd37484654ed8c6e.jpg: ignoring corrupt image/label: Label class 1 exceeds dataset class count 1. Possible class labels are 0-0\n",
            "\u001b[34m\u001b[1mtrain: \u001b[0m/content/fire-1/train/images/ck0kkjnqo5xx10794xzpyur0y_jpeg_jpg.rf.fdecc2142e6346aa42df4e4522f77c18.jpg: ignoring corrupt image/label: Label class 1 exceeds dataset class count 1. Possible class labels are 0-0\n",
            "\u001b[34m\u001b[1mtrain: \u001b[0m/content/fire-1/train/images/ck0kksymy5z9j0794x0i3rdvo_jpeg_jpg.rf.feed5ad8c7d0f3e53bb5f1f14e30f3a9.jpg: ignoring corrupt image/label: Label class 1 exceeds dataset class count 1. Possible class labels are 0-0\n",
            "\u001b[34m\u001b[1mtrain: \u001b[0m/content/fire-1/train/images/ck0kkta309jh807010cayyl5d_jpeg_jpg.rf.220c32dd6e534e489697c5d9bf3533e6.jpg: ignoring corrupt image/label: Label class 1 exceeds dataset class count 1. Possible class labels are 0-0\n",
            "\u001b[34m\u001b[1mtrain: \u001b[0m/content/fire-1/train/images/ck0kkthj17c9g0838c3vjfndl_jpeg_jpg.rf.45236011bc342e4fd227a0a7c6da590c.jpg: ignoring corrupt image/label: Label class 1 exceeds dataset class count 1. Possible class labels are 0-0\n",
            "\u001b[34m\u001b[1mtrain: \u001b[0m/content/fire-1/train/images/ck0kkv2jf8pil09448qnz1ndu_jpeg_jpg.rf.1f75a82e3bbeac5bbb46bac4a15d3380.jpg: ignoring corrupt image/label: Label class 1 exceeds dataset class count 1. Possible class labels are 0-0\n",
            "\u001b[34m\u001b[1mtrain: \u001b[0m/content/fire-1/train/images/ck0kkwqeq5zxe07942ouxkr5q_jpeg_jpg.rf.69f37c6bb756df37688f33f31583ca7d.jpg: ignoring corrupt image/label: Label class 1 exceeds dataset class count 1. Possible class labels are 0-0\n",
            "\u001b[34m\u001b[1mtrain: \u001b[0m/content/fire-1/train/images/ck0kkxafs5wwc08631zxdpdyd_jpeg_jpg.rf.b05f7e85c6c96fa5345b3e488fd6d2f8.jpg: ignoring corrupt image/label: Label class 1 exceeds dataset class count 1. Possible class labels are 0-0\n",
            "\u001b[34m\u001b[1mtrain: \u001b[0m/content/fire-1/train/images/ck0kkxngib3qh0721x6mgyttk_jpeg_jpg.rf.b09fa25af3c0613bf8c7615445ac29aa.jpg: ignoring corrupt image/label: Label class 1 exceeds dataset class count 1. Possible class labels are 0-0\n",
            "\u001b[34m\u001b[1mtrain: \u001b[0m/content/fire-1/train/images/ck0kkywt08q2d0944abjjfi8q_jpeg_jpg.rf.9344a58e320798235cff98dc68d69a59.jpg: ignoring corrupt image/label: Label class 1 exceeds dataset class count 1. Possible class labels are 0-0\n",
            "\u001b[34m\u001b[1mtrain: \u001b[0m/content/fire-1/train/images/ck0kkz639le090848leseakdk_jpeg_jpg.rf.44175091ac0d95a11f5e37779bedb8d9.jpg: ignoring corrupt image/label: Label class 1 exceeds dataset class count 1. Possible class labels are 0-0\n",
            "\u001b[34m\u001b[1mtrain: \u001b[0m/content/fire-1/train/images/ck0kkzh767dc70838hdq9sv4u_jpeg_jpg.rf.eecbd9f775e34b5803170174e4c16a41.jpg: ignoring corrupt image/label: Label class 1 exceeds dataset class count 1. Possible class labels are 0-0\n",
            "\u001b[34m\u001b[1mtrain: \u001b[0m/content/fire-1/train/images/ck0kkzzufk6zy0a464la26n1c_jpeg_jpg.rf.288544e4d5fdc805233c37c9196d3d5c.jpg: ignoring corrupt image/label: Label class 1 exceeds dataset class count 1. Possible class labels are 0-0\n",
            "\u001b[34m\u001b[1mtrain: \u001b[0m/content/fire-1/train/images/ck0kl079lk71f0a46m6yo4q9m_jpeg_jpg.rf.88ff21c915e655bf9d854ca27c946224.jpg: ignoring corrupt image/label: Label class 1 exceeds dataset class count 1. Possible class labels are 0-0\n",
            "\u001b[34m\u001b[1mtrain: \u001b[0m/content/fire-1/train/images/ck0kl0ifc5xd60863hxynsup8_jpeg_jpg.rf.ea61dc1f846c5a86c2eb69158813cfe4.jpg: ignoring corrupt image/label: Label class 1 exceeds dataset class count 1. Possible class labels are 0-0\n",
            "\u001b[34m\u001b[1mtrain: \u001b[0m/content/fire-1/train/images/ck0kl11aa7dlt0838zoqikube_jpeg_jpg.rf.5032d558bf3fd344e6c3ae63e9db48e5.jpg: ignoring corrupt image/label: Label class 1 exceeds dataset class count 1. Possible class labels are 0-0\n",
            "\u001b[34m\u001b[1mtrain: \u001b[0m/content/fire-1/train/images/ck0kl1k8d9ks80701twyaq08t_jpeg_jpg.rf.9a5ccd8226d2427252a6df502029d744.jpg: ignoring corrupt image/label: Label class 1 exceeds dataset class count 1. Possible class labels are 0-0\n",
            "\u001b[34m\u001b[1mtrain: \u001b[0m/content/fire-1/train/images/ck0kl2hwy5xu80863zi6j6gy4_jpeg_jpg.rf.7d93899ba9415d87cc269374a2518108.jpg: ignoring corrupt image/label: Label class 1 exceeds dataset class count 1. Possible class labels are 0-0\n",
            "\u001b[34m\u001b[1mtrain: \u001b[0m/content/fire-1/train/images/ck0kl3bjt5xyz0863ru5wbw27_jpeg_jpg.rf.7caea842db86475838f6d8301adf4b23.jpg: ignoring corrupt image/label: Label class 1 exceeds dataset class count 1. Possible class labels are 0-0\n",
            "\u001b[34m\u001b[1mtrain: \u001b[0m/content/fire-1/train/images/ck0kl3wpd616z079452ea8lq2_jpeg_jpg.rf.bb599f9e18078eaa64854597cf5f41cf.jpg: ignoring corrupt image/label: Label class 1 exceeds dataset class count 1. Possible class labels are 0-0\n",
            "\u001b[34m\u001b[1mtrain: \u001b[0m/content/fire-1/train/images/ck0kl4d8y7e9x0838i33y0nta_jpeg_jpg.rf.35fbd635464fea9a8b0390758c0b2d0a.jpg: ignoring corrupt image/label: Label class 1 exceeds dataset class count 1. Possible class labels are 0-0\n",
            "\u001b[34m\u001b[1mtrain: \u001b[0m/content/fire-1/train/images/ck0kl5uir7ej708386nnh95ra_jpeg_jpg.rf.6269f6dae8474b566592cb2a4591b3e8.jpg: ignoring corrupt image/label: Label class 1 exceeds dataset class count 1. Possible class labels are 0-0\n",
            "\u001b[34m\u001b[1mtrain: \u001b[0m/content/fire-1/train/images/ck0klcevilg5n0848axl4ww0k_jpeg_jpg.rf.d42d655d4315ba2880357a5a7cd39484.jpg: ignoring corrupt image/label: Label class 1 exceeds dataset class count 1. Possible class labels are 0-0\n",
            "\u001b[34m\u001b[1mtrain: \u001b[0m/content/fire-1/train/images/ck0klds7p9myv07018b68zcsu_jpeg_jpg.rf.f10410b2b606b363577d0bcc815b9fac.jpg: ignoring corrupt image/label: Label class 1 exceeds dataset class count 1. Possible class labels are 0-0\n",
            "\u001b[34m\u001b[1mtrain: \u001b[0m/content/fire-1/train/images/ck0km26n78w6b0944d8vapoyy_jpeg_jpg.rf.2571418ebad2d45c1a30c7567665d137.jpg: ignoring corrupt image/label: Label class 1 exceeds dataset class count 1. Possible class labels are 0-0\n",
            "\u001b[34m\u001b[1mtrain: \u001b[0m/content/fire-1/train/images/ck0km3uktkdxc0a46uf6e417v_jpeg_jpg.rf.99bc5fcc1296d5ab98b39076d8da443b.jpg: ignoring corrupt image/label: Label class 1 exceeds dataset class count 1. Possible class labels are 0-0\n",
            "\u001b[34m\u001b[1mtrain: \u001b[0m/content/fire-1/train/images/ck0km415y8wk90944mab9i4lr_jpeg_jpg.rf.7252719d25f827ef3c47efe61a94bb68.jpg: ignoring corrupt image/label: Label class 1 exceeds dataset class count 1. Possible class labels are 0-0\n",
            "\u001b[34m\u001b[1mtrain: \u001b[0m/content/fire-1/train/images/ck0km4hlk63zp0863ur0owhkg_jpeg_jpg.rf.bcf101aaa3f77d7febea42c5bd8be75c.jpg: ignoring corrupt image/label: Label class 1 exceeds dataset class count 1. Possible class labels are 0-0\n",
            "\u001b[34m\u001b[1mtrain: \u001b[0m/content/fire-1/train/images/ck0km4pkh640f086302no99ma_jpeg_jpg.rf.188c733b5cc61495adaba0cfcfb9add6.jpg: ignoring corrupt image/label: Label class 1 exceeds dataset class count 1. Possible class labels are 0-0\n",
            "\u001b[34m\u001b[1mtrain: \u001b[0m/content/fire-1/train/images/ck0km4x1h672j0794gya4kfco_jpeg_jpg.rf.b4fb2059bcd16d3654ef844791bc64b4.jpg: ignoring corrupt image/label: Label class 1 exceeds dataset class count 1. Possible class labels are 0-0\n",
            "\u001b[34m\u001b[1mtrain: \u001b[0m/content/fire-1/train/images/ck0km5c8vke4q0a46trc774lh_jpeg_jpg.rf.08b43c0937c65351580bc157e4824672.jpg: ignoring corrupt image/label: Label class 1 exceeds dataset class count 1. Possible class labels are 0-0\n",
            "\u001b[34m\u001b[1mtrain: \u001b[0m/content/fire-1/train/images/ck0km5x3u9r910701d3yfjhtv_jpeg_jpg.rf.2736de93a504c033899bd48068312ac7.jpg: ignoring corrupt image/label: Label class 1 exceeds dataset class count 1. Possible class labels are 0-0\n",
            "\u001b[34m\u001b[1mtrain: \u001b[0m/content/fire-1/train/images/ck0kmem9m68vr07947lx0jam1_jpeg_jpg.rf.a3c023a0908bbdc263dbdae5661a196d.jpg: ignoring corrupt image/label: Label class 1 exceeds dataset class count 1. Possible class labels are 0-0\n",
            "\u001b[34m\u001b[1mtrain: \u001b[0m/content/fire-1/train/images/ck0kmewv08ygm0944br9j606r_jpeg_jpg.rf.f08d5b075133746f1c07df2ef564f42f.jpg: ignoring corrupt image/label: Label class 1 exceeds dataset class count 1. Possible class labels are 0-0\n",
            "\u001b[34m\u001b[1mtrain: \u001b[0m/content/fire-1/train/images/ck0kmf5q58yik0944gdwwrqnt_jpeg_jpg.rf.559102507065cc0ec84333773c4b337d.jpg: ignoring corrupt image/label: Label class 1 exceeds dataset class count 1. Possible class labels are 0-0\n",
            "\u001b[34m\u001b[1mtrain: \u001b[0m/content/fire-1/train/images/ck0kmfd7ibcib0721v08q1jv0_jpeg_jpg.rf.b18a5072fa24251333c29efc5a5ad793.jpg: ignoring corrupt image/label: Label class 1 exceeds dataset class count 1. Possible class labels are 0-0\n",
            "\u001b[34m\u001b[1mtrain: \u001b[0m/content/fire-1/train/images/ck0kmftzekfwv0a46aj0nh5dz_jpeg_jpg.rf.2f35229cdfa435372a04e1793b1c9244.jpg: ignoring corrupt image/label: Label class 1 exceeds dataset class count 1. Possible class labels are 0-0\n",
            "\u001b[34m\u001b[1mtrain: \u001b[0m/content/fire-1/train/images/ck0kmgevm69ac0794mihosd3p_jpeg_jpg.rf.9efecc2479758226749f1666a41d3669.jpg: ignoring corrupt image/label: Label class 1 exceeds dataset class count 1. Possible class labels are 0-0\n",
            "\u001b[34m\u001b[1mtrain: \u001b[0m/content/fire-1/train/images/ck0kmhpz99t9w0701ftiu8jlx_jpeg_jpg.rf.ac81407b9e8771dcccd1db26e5927ce0.jpg: ignoring corrupt image/label: Label class 1 exceeds dataset class count 1. Possible class labels are 0-0\n",
            "\u001b[34m\u001b[1mtrain: \u001b[0m/content/fire-1/train/images/ck0kmi067lmu70848mrnfi0rc_jpeg_jpg.rf.9881f98e2db9358c58f95c90b307b2d1.jpg: ignoring corrupt image/label: Label class 1 exceeds dataset class count 1. Possible class labels are 0-0\n",
            "\u001b[34m\u001b[1mtrain: \u001b[0m/content/fire-1/train/images/ck0kmi7k47m0i08380dwkjuc1_jpeg_jpg.rf.540799b6fc63fcd94d445b91d3200d50.jpg: ignoring corrupt image/label: Label class 1 exceeds dataset class count 1. Possible class labels are 0-0\n",
            "\u001b[34m\u001b[1mtrain: \u001b[0m/content/fire-1/train/images/ck0kmp3qy67dy08634jubsyx8_jpeg_jpg.rf.814d786c7198bdf2eabf0f866a5cc5d4.jpg: ignoring corrupt image/label: Label class 1 exceeds dataset class count 1. Possible class labels are 0-0\n",
            "\u001b[34m\u001b[1mtrain: \u001b[0m/content/fire-1/train/images/ck0kmpmy67n4j08386u8554cs_jpeg_jpg.rf.51db8c63932eb36833c4acb20c3161c3.jpg: ignoring corrupt image/label: Label class 1 exceeds dataset class count 1. Possible class labels are 0-0\n",
            "\u001b[34m\u001b[1mtrain: \u001b[0m/content/fire-1/train/images/ck0kmr5ewkhpq0a46nuv73id4_jpeg_jpg.rf.1e422ae6e155cecb921c05e385f4bc0f.jpg: ignoring corrupt image/label: Label class 1 exceeds dataset class count 1. Possible class labels are 0-0\n",
            "\u001b[34m\u001b[1mtrain: \u001b[0m/content/fire-1/train/images/ck0kmtk7c90w60944bjhqhm4j_jpeg_jpg.rf.c3e797f929f417678ec7b55063c28eaa.jpg: ignoring corrupt image/label: Label class 1 exceeds dataset class count 1. Possible class labels are 0-0\n",
            "\u001b[34m\u001b[1mtrain: \u001b[0m/content/fire-1/train/images/ck0kn591g92v60944tmg09bpa_jpeg_jpg.rf.1408d5b774f5f239b9e1d03c3afe3c02.jpg: ignoring corrupt image/label: Label class 1 exceeds dataset class count 1. Possible class labels are 0-0\n",
            "\u001b[34m\u001b[1mtrain: \u001b[0m/content/fire-1/train/images/ck0kn6a6093460944dnwl19so_jpeg_jpg.rf.35699cb751ab815fa420e44807c89664.jpg: ignoring corrupt image/label: Label class 1 exceeds dataset class count 1. Possible class labels are 0-0\n",
            "\u001b[34m\u001b[1mtrain: \u001b[0m/content/fire-1/train/images/ck0kn6xvv6ds10794waw8k1tx_jpeg_jpg.rf.60c5cbe5133eae914d24cc555a4d2cfa.jpg: ignoring corrupt image/label: Label class 1 exceeds dataset class count 1. Possible class labels are 0-0\n",
            "\u001b[34m\u001b[1mtrain: \u001b[0m/content/fire-1/train/images/ck0kn8y5y9y3507018k5p06ma_jpeg_jpg.rf.8a615d3ffd558a6b0524a2962ff7d39f.jpg: ignoring corrupt image/label: Label class 1 exceeds dataset class count 1. Possible class labels are 0-0\n",
            "\u001b[34m\u001b[1mtrain: \u001b[0m/content/fire-1/train/images/ck0kn966blrt008482afk6mhy_jpeg_jpg.rf.71c8eca9d3891b28990f6a8c10c0bd0f.jpg: ignoring corrupt image/label: Label class 1 exceeds dataset class count 1. Possible class labels are 0-0\n",
            "\u001b[34m\u001b[1mtrain: \u001b[0m/content/fire-1/train/images/ck0knae84lryw08485s94co4s_jpeg_jpg.rf.6c8d1b47f4789a48ec27d27d7c523f86.jpg: ignoring corrupt image/label: Label class 1 exceeds dataset class count 1. Possible class labels are 0-0\n",
            "\u001b[34m\u001b[1mtrain: \u001b[0m/content/fire-1/train/images/ck0knam319ybv0701clozevt3_jpeg_jpg.rf.631f5746a19e62c6c68b771c6f57cc62.jpg: ignoring corrupt image/label: Label class 1 exceeds dataset class count 1. Possible class labels are 0-0\n",
            "\u001b[34m\u001b[1mtrain: \u001b[0m/content/fire-1/train/images/ck0knvsi36h390794sjhcf0ri_jpeg_jpg.rf.022b168fc305f1dec786141f0b604e34.jpg: ignoring corrupt image/label: Label class 1 exceeds dataset class count 1. Possible class labels are 0-0\n",
            "\u001b[34m\u001b[1mtrain: \u001b[0m/content/fire-1/train/images/ck0knw1mc96cu09446iq0ugae_jpeg_jpg.rf.6fa569c59a03d725926f1c8f36ccf9c1.jpg: ignoring corrupt image/label: Label class 1 exceeds dataset class count 1. Possible class labels are 0-0\n",
            "\u001b[34m\u001b[1mtrain: \u001b[0m/content/fire-1/train/images/ck0koqfpl6g0x0863mmghhzwg_jpeg_jpg.rf.83fc1ed4049d2fc8efad92a382feca2f.jpg: ignoring corrupt image/label: Label class 1 exceeds dataset class count 1. Possible class labels are 0-0\n",
            "\u001b[34m\u001b[1mtrain: \u001b[0m/content/fire-1/train/images/ck0koqsqta39h0701f6xas96g_jpeg_jpg.rf.a7e8bd6f054101b1a2dc26ca216bbecc.jpg: ignoring corrupt image/label: Label class 1 exceeds dataset class count 1. Possible class labels are 0-0\n",
            "\u001b[34m\u001b[1mtrain: \u001b[0m/content/fire-1/train/images/ck0korwq7kq730a465vnctqhc_jpeg_jpg.rf.52881b1b9af9a05be62a53269fcf97d0.jpg: ignoring corrupt image/label: Label class 1 exceeds dataset class count 1. Possible class labels are 0-0\n",
            "\u001b[34m\u001b[1mtrain: \u001b[0m/content/fire-1/train/images/ck0kosbce7vpn0838c5telfw3_jpeg_jpg.rf.097941e988110a7147585e7830d98116.jpg: ignoring corrupt image/label: Label class 1 exceeds dataset class count 1. Possible class labels are 0-0\n",
            "\u001b[34m\u001b[1mtrain: \u001b[0m/content/fire-1/train/images/ck0kosmizkqdq0a46xgz65fgt_jpeg_jpg.rf.b17716a8ce0764314fb1077b413e7503.jpg: ignoring corrupt image/label: Label class 1 exceeds dataset class count 1. Possible class labels are 0-0\n",
            "\u001b[34m\u001b[1mtrain: \u001b[0m/content/fire-1/train/images/ck0kosu846k350794gya7bot0_jpeg_jpg.rf.2e2b09879956a7ffb9943b02c300a78a.jpg: ignoring corrupt image/label: Label class 1 exceeds dataset class count 1. Possible class labels are 0-0\n",
            "\u001b[34m\u001b[1mtrain: \u001b[0m/content/fire-1/train/images/ck0kot81t6k5g079474qsyev2_jpeg_jpg.rf.133de7e4f5735c660997900b2fd5ca18.jpg: ignoring corrupt image/label: Label class 1 exceeds dataset class count 1. Possible class labels are 0-0\n",
            "\u001b[34m\u001b[1mtrain: \u001b[0m/content/fire-1/train/images/ck0kotq5d99760944cc8w1pib_jpeg_jpg.rf.f69963998aff64fa3e7b5cea6441ccbc.jpg: ignoring corrupt image/label: Label class 1 exceeds dataset class count 1. Possible class labels are 0-0\n",
            "\u001b[34m\u001b[1mtrain: \u001b[0m/content/fire-1/train/images/ck0kovirm99fg0944fdv57hd8_jpeg_jpg.rf.061e49f7715f5f8047335297817dddb0.jpg: ignoring corrupt image/label: Label class 1 exceeds dataset class count 1. Possible class labels are 0-0\n",
            "\u001b[34m\u001b[1mtrain: \u001b[0m/content/fire-1/train/images/ck0kow7lga3y30701f2yvt2b2_jpeg_jpg.rf.d90d6a4a95868761f0ecfd1254ffa9b1.jpg: ignoring corrupt image/label: Label class 1 exceeds dataset class count 1. Possible class labels are 0-0\n",
            "\u001b[34m\u001b[1mtrain: \u001b[0m/content/fire-1/train/images/ck0kp6k1p6lxe0794by4thy6r_jpeg_jpg.rf.70643548a2db92278bca1a819abe8a71.jpg: ignoring corrupt image/label: Label class 1 exceeds dataset class count 1. Possible class labels are 0-0\n",
            "\u001b[34m\u001b[1mtrain: \u001b[0m/content/fire-1/train/images/ck0l7xwvu94160794ed6vldx0_jpeg_jpg.rf.942945cdac4556b63bf8b7f271d55a48.jpg: ignoring corrupt image/label: Label class 1 exceeds dataset class count 1. Possible class labels are 0-0\n",
            "\u001b[34m\u001b[1mtrain: \u001b[0m/content/fire-1/train/images/ck0l8b13joiy30848vj3d2ndb_jpeg_jpg.rf.b40fdfbd3cc9d9186f6fd8b338bd8621.jpg: ignoring corrupt image/label: Label class 1 exceeds dataset class count 1. Possible class labels are 0-0\n",
            "\u001b[34m\u001b[1mtrain: \u001b[0m/content/fire-1/train/images/ck0l8bhz891hy086381o84nhd_jpeg_jpg.rf.ddd65185e6230ac0abc0182a68d2017b.jpg: ignoring corrupt image/label: Label class 1 exceeds dataset class count 1. Possible class labels are 0-0\n",
            "\u001b[34m\u001b[1mtrain: \u001b[0m/content/fire-1/train/images/ck0l8bqss96gu0794pchtppli_jpeg_jpg.rf.4551d945e61f6dd6e7e623638819792e.jpg: ignoring corrupt image/label: Label class 1 exceeds dataset class count 1. Possible class labels are 0-0\n",
            "\u001b[34m\u001b[1mtrain: \u001b[0m/content/fire-1/train/images/ck0l8cfmgahkk0838nbgj26un_jpeg_jpg.rf.1ffa176dbc70b8f1aa90b2f1df74be94.jpg: ignoring corrupt image/label: Label class 1 exceeds dataset class count 1. Possible class labels are 0-0\n",
            "\u001b[34m\u001b[1mtrain: \u001b[0m/content/fire-1/train/images/ck0l8culveaqb0721xkucococ_jpeg_jpg.rf.6c6a887c1dd192942acbedb379676df5.jpg: ignoring corrupt image/label: Label class 1 exceeds dataset class count 1. Possible class labels are 0-0\n",
            "\u001b[34m\u001b[1mtrain: \u001b[0m/content/fire-1/train/images/ck0l8di4xoje408487bsrbpj9_jpeg_jpg.rf.ef87e6b49dfe977d82e8938f3f35cb5d.jpg: ignoring corrupt image/label: Label class 1 exceeds dataset class count 1. Possible class labels are 0-0\n",
            "\u001b[34m\u001b[1mtrain: \u001b[0m/content/fire-1/train/images/ck0l8drn7ahtr08388pnkoq7o_jpeg_jpg.rf.f9058a941c825472d7e67b3397501037.jpg: ignoring corrupt image/label: Label class 1 exceeds dataset class count 1. Possible class labels are 0-0\n",
            "\u001b[34m\u001b[1mtrain: \u001b[0m/content/fire-1/train/images/ck0l8e146nb1h0a46oop6lane_jpeg_jpg.rf.22ec3aa6a45a1664156237283c43a912.jpg: ignoring corrupt image/label: Label class 1 exceeds dataset class count 1. Possible class labels are 0-0\n",
            "\u001b[34m\u001b[1mtrain: \u001b[0m/content/fire-1/train/images/ck0l939lbnftj0a46atyx4hh4_jpeg_jpg.rf.b635300e0d053c1ea62bc44376b2b7d8.jpg: ignoring corrupt image/label: Label class 1 exceeds dataset class count 1. Possible class labels are 0-0\n",
            "\u001b[34m\u001b[1mtrain: \u001b[0m/content/fire-1/train/images/ck0l9434gamzj0838n5rjdp1a_jpeg_jpg.rf.f63d1646ff30449d5b0c5077d4440d3c.jpg: ignoring corrupt image/label: Label class 1 exceeds dataset class count 1. Possible class labels are 0-0\n",
            "\u001b[34m\u001b[1mtrain: \u001b[0m/content/fire-1/train/images/ck0l95c8fegck072116xdbwp6_jpeg_jpg.rf.433c2d4629305b90a8660b3831928216.jpg: ignoring corrupt image/label: Label class 1 exceeds dataset class count 1. Possible class labels are 0-0\n",
            "\u001b[34m\u001b[1mtrain: \u001b[0m/content/fire-1/train/images/ck0l967uheggs0721rz56fgry_jpeg_jpg.rf.fd0dd4301be9635b1b0d2258f3eea909.jpg: ignoring corrupt image/label: Label class 1 exceeds dataset class count 1. Possible class labels are 0-0\n",
            "\u001b[34m\u001b[1mtrain: \u001b[0m/content/fire-1/train/images/ck0l97837c0ta0944wnryuimb_jpeg_jpg.rf.324c0fbb38357cd7e12d0562a4b4e128.jpg: ignoring corrupt image/label: Label class 1 exceeds dataset class count 1. Possible class labels are 0-0\n",
            "\u001b[34m\u001b[1mtrain: \u001b[0m/content/fire-1/train/images/ck0l9d0tt981g0863dmttkl8h_jpeg_jpg.rf.c35cf8f157ef21fbf2c58bc50e79b7d6.jpg: ignoring corrupt image/label: Label class 1 exceeds dataset class count 1. Possible class labels are 0-0\n",
            "\u001b[34m\u001b[1mtrain: \u001b[0m/content/fire-1/train/images/ck0l9dfokcv7o07013t4kgamc_jpeg_jpg.rf.28f136a91751f699284987d5231a7d89.jpg: ignoring corrupt image/label: Label class 1 exceeds dataset class count 1. Possible class labels are 0-0\n",
            "\u001b[34m\u001b[1mtrain: \u001b[0m/content/fire-1/train/images/ck0l9j6n6oqjo0848ps5blk3b_jpeg_jpg.rf.0a37e1728de454427c2ec55bcfeb3ccc.jpg: ignoring corrupt image/label: Label class 1 exceeds dataset class count 1. Possible class labels are 0-0\n",
            "\u001b[34m\u001b[1mtrain: \u001b[0m/content/fire-1/train/images/ck0l9jo4f9eey0794uap3bxz6_jpeg_jpg.rf.5e32c139018391fe05ff4f1ac5e407aa.jpg: ignoring corrupt image/label: Label class 1 exceeds dataset class count 1. Possible class labels are 0-0\n",
            "\u001b[34m\u001b[1mtrain: \u001b[0m/content/fire-1/train/images/ck0l9uumy9b4i0863izsuks74_jpeg_jpg.rf.b1e3a38db4b9cd5d610282b3d8df6895.jpg: ignoring corrupt image/label: Label class 1 exceeds dataset class count 1. Possible class labels are 0-0\n",
            "\u001b[34m\u001b[1mtrain: \u001b[0m/content/fire-1/train/images/ck0l9wcc5cyhb07010g94nwxz_jpeg_jpg.rf.e7b0bdac67ae13f0dfb2e620522095ed.jpg: ignoring corrupt image/label: Label class 1 exceeds dataset class count 1. Possible class labels are 0-0\n",
            "\u001b[34m\u001b[1mtrain: \u001b[0m/content/fire-1/train/images/ck0l9xgch9grx0794i0878xu3_jpeg_jpg.rf.00859ae09dc98990b92698da22029255.jpg: ignoring corrupt image/label: Label class 1 exceeds dataset class count 1. Possible class labels are 0-0\n",
            "\u001b[34m\u001b[1mtrain: \u001b[0m/content/fire-1/train/images/ck0l9xvyaot920848tv62nd7o_jpeg_jpg.rf.f954efacc9629bd98259b3c5021f523a.jpg: ignoring corrupt image/label: Label class 1 exceeds dataset class count 1. Possible class labels are 0-0\n",
            "\u001b[34m\u001b[1mtrain: \u001b[0m/content/fire-1/train/images/ck0l9y6snotc30848s7ciyz6j_jpeg_jpg.rf.ed2128cd7f7aac52888e7ac0691cb09c.jpg: ignoring corrupt image/label: Label class 1 exceeds dataset class count 1. Possible class labels are 0-0\n",
            "\u001b[34m\u001b[1mtrain: \u001b[0m/content/fire-1/train/images/ck0l9zam2nl6c0a46g4g3m6c4_jpeg_jpg.rf.3f5a0919fc1b20a95bf7485eb87ca279.jpg: ignoring corrupt image/label: Label class 1 exceeds dataset class count 1. Possible class labels are 0-0\n",
            "\u001b[34m\u001b[1mtrain: \u001b[0m/content/fire-1/train/images/ck0lwextoec1a0863lou65q4l_jpeg_jpg.rf.2bf9bc38543a989098d9e500dcc4b04e.jpg: ignoring corrupt image/label: Label class 1 exceeds dataset class count 1. Possible class labels are 0-0\n",
            "\u001b[34m\u001b[1mtrain: \u001b[0m/content/fire-1/train/images/ck0lwfg8yjmbz07219irceyfl_jpeg_jpg.rf.f89c0c212ea772730ef024ff49d15201.jpg: ignoring corrupt image/label: Label class 1 exceeds dataset class count 1. Possible class labels are 0-0\n",
            "\u001b[34m\u001b[1mtrain: \u001b[0m/content/fire-1/train/images/ck0lwg0retsfg0848hqi60tlt_jpeg_jpg.rf.cc843c2a9b0f6e78a63022ac7a9ef43c.jpg: ignoring corrupt image/label: Label class 1 exceeds dataset class count 1. Possible class labels are 0-0\n",
            "\u001b[34m\u001b[1mtrain: \u001b[0m/content/fire-1/train/images/ck0lwgsmatsrm0848br00vfki_jpeg_jpg.rf.4daf8ee7d3c20a3a1fa032d3667e8302.jpg: ignoring corrupt image/label: Label class 1 exceeds dataset class count 1. Possible class labels are 0-0\n",
            "\u001b[34m\u001b[1mtrain: \u001b[0m/content/fire-1/train/images/ck0lwh1i7ed810863a8ql1pat_jpeg_jpg.rf.4ddcab5661d372f74f76bd8fe319308d.jpg: ignoring corrupt image/label: Label class 1 exceeds dataset class count 1. Possible class labels are 0-0\n",
            "\u001b[34m\u001b[1mtrain: \u001b[0m/content/fire-1/train/images/ck0lwhatvfrid08386w2352zc_jpeg_jpg.rf.1dafd95d0e5b61c88acb03c3d2ba2218.jpg: ignoring corrupt image/label: Label class 1 exceeds dataset class count 1. Possible class labels are 0-0\n",
            "\u001b[34m\u001b[1mtrain: \u001b[0m/content/fire-1/train/images/ck0lwirdeh6zk0944n5uj6q6i_jpeg_jpg.rf.16533b43e2a1638613df1754fe920f65.jpg: ignoring corrupt image/label: Label class 1 exceeds dataset class count 1. Possible class labels are 0-0\n",
            "\u001b[34m\u001b[1mtrain: \u001b[0m/content/fire-1/train/images/ck0lwj354jo7n07218v6vgpvi_jpeg_jpg.rf.27efd6354b4c4ad2f6e56791cf6692fc.jpg: ignoring corrupt image/label: Label class 1 exceeds dataset class count 1. Possible class labels are 0-0\n",
            "\u001b[34m\u001b[1mtrain: \u001b[0m/content/fire-1/train/images/ck0lwjms6i2ru0701i4l78d84_jpeg_jpg.rf.b99ee4d6bdc32a7448e250705d4ff475.jpg: ignoring corrupt image/label: Label class 1 exceeds dataset class count 1. Possible class labels are 0-0\n",
            "\u001b[34m\u001b[1mtrain: \u001b[0m/content/fire-1/train/images/ck0lwlv9fjpfg07217xwy7qne_jpeg_jpg.rf.838f4ca5dfe213224df7080c490bda8c.jpg: ignoring corrupt image/label: Label class 1 exceeds dataset class count 1. Possible class labels are 0-0\n",
            "\u001b[34m\u001b[1mtrain: \u001b[0m/content/fire-1/train/images/ck0lx3s62sysz0a46pq7rsuuw_jpeg_jpg.rf.82ca9eb2dbc46109271f621e805c186b.jpg: ignoring corrupt image/label: Label class 1 exceeds dataset class count 1. Possible class labels are 0-0\n",
            "\u001b[34m\u001b[1mtrain: \u001b[0m/content/fire-1/train/images/ck0lx4sqkjw920721qbehquxz_jpeg_jpg.rf.7311f91285c22bc17f4935976567d1e4.jpg: ignoring corrupt image/label: Label class 1 exceeds dataset class count 1. Possible class labels are 0-0\n",
            "\u001b[34m\u001b[1mtrain: \u001b[0m/content/fire-1/train/images/ck0lx50eojwbq0721qtix2xqg_jpeg_jpg.rf.bbbbd910be5baaaf8035fcf0ce3670dd.jpg: ignoring corrupt image/label: Label class 1 exceeds dataset class count 1. Possible class labels are 0-0\n",
            "\u001b[34m\u001b[1mtrain: \u001b[0m/content/fire-1/train/images/ck0lx5e5rhf4f0944ldgqzhf1_jpeg_jpg.rf.c6fc2d28076ca47d4dcf4cd3bbb8afe2.jpg: ignoring corrupt image/label: Label class 1 exceeds dataset class count 1. Possible class labels are 0-0\n",
            "\u001b[34m\u001b[1mtrain: \u001b[0m/content/fire-1/train/images/ck0lx68q2szgt0a460zlk49kf_jpeg_jpg.rf.7a7e18b811b31c4d51d59f8fe7c01626.jpg: ignoring corrupt image/label: Label class 1 exceeds dataset class count 1. Possible class labels are 0-0\n",
            "\u001b[34m\u001b[1mtrain: \u001b[0m/content/fire-1/train/images/ck0lx7plvg1e50838ps3cuu9h_jpeg_jpg.rf.075304f665b07c28fe360ba808d0b547.jpg: ignoring corrupt image/label: Label class 1 exceeds dataset class count 1. Possible class labels are 0-0\n",
            "\u001b[34m\u001b[1mtrain: \u001b[0m/content/fire-1/train/images/ck0lx8c34u38a08480v1hz7dz_jpeg_jpg.rf.bc39f7071a965aee2f875c22a1a2c622.jpg: ignoring corrupt image/label: Label class 1 exceeds dataset class count 1. Possible class labels are 0-0\n",
            "\u001b[34m\u001b[1mtrain: \u001b[0m/content/fire-1/train/images/ck0lx9tk9g22n0838e6v5csum_jpeg_jpg.rf.ee6eaca83cac97fd89a05ae3481a7dd3.jpg: ignoring corrupt image/label: Label class 1 exceeds dataset class count 1. Possible class labels are 0-0\n",
            "\u001b[34m\u001b[1mtrain: \u001b[0m/content/fire-1/train/images/ck0lxa18hic880701ux5axl97_jpeg_jpg.rf.4b88e9e1c3e9b353e7acd878ee3d6c32.jpg: ignoring corrupt image/label: Label class 1 exceeds dataset class count 1. Possible class labels are 0-0\n",
            "\u001b[34m\u001b[1mtrain: \u001b[0m/content/fire-1/train/images/ck0lxaxgyeo150863mih7ypb7_jpeg_jpg.rf.1acdb7c139f05f5c066c3ce5c530315d.jpg: ignoring corrupt image/label: Label class 1 exceeds dataset class count 1. Possible class labels are 0-0\n",
            "\u001b[34m\u001b[1mtrain: \u001b[0m/content/fire-1/train/images/ck0lxcldkid0h0701q2hvnu98_jpeg_jpg.rf.42b8250a9aac2cc1b2c2ce55396c9aa0.jpg: ignoring corrupt image/label: Label class 1 exceeds dataset class count 1. Possible class labels are 0-0\n",
            "\u001b[34m\u001b[1mtrain: \u001b[0m/content/fire-1/train/images/ck0lxe157jywu0721jwuvnom0_jpeg_jpg.rf.cb2d3c78a8e6809e020cef1d529e42db.jpg: ignoring corrupt image/label: Label class 1 exceeds dataset class count 1. Possible class labels are 0-0\n",
            "\u001b[34m\u001b[1mtrain: \u001b[0m/content/fire-1/train/images/ck0lxekamu4wa0848z3xssbek_jpeg_jpg.rf.5762bcb22df94ee6557a49c0c0850290.jpg: ignoring corrupt image/label: Label class 1 exceeds dataset class count 1. Possible class labels are 0-0\n",
            "\u001b[34m\u001b[1mtrain: \u001b[0m/content/fire-1/train/images/ck0lxeugahhve09449l5anbuj_jpeg_jpg.rf.d20473cc5debff91fed5de49f1213c71.jpg: ignoring corrupt image/label: Label class 1 exceeds dataset class count 1. Possible class labels are 0-0\n",
            "\u001b[34m\u001b[1mtrain: \u001b[0m/content/fire-1/train/images/ck0lxfa6uepfr0863exlzozuc_jpeg_jpg.rf.a6cae0e296bfd35bbd145ed3791ccf6c.jpg: ignoring corrupt image/label: Label class 1 exceeds dataset class count 1. Possible class labels are 0-0\n",
            "\u001b[34m\u001b[1mtrain: \u001b[0m/content/fire-1/train/images/ck0lxgqhheq2b08638gu6tna1_jpeg_jpg.rf.d69ec92870973706ed4729d6611dbea1.jpg: ignoring corrupt image/label: Label class 1 exceeds dataset class count 1. Possible class labels are 0-0\n",
            "\u001b[34m\u001b[1mtrain: \u001b[0m/content/fire-1/train/images/ck0lxh38zu5ri0848ra81j7ne_jpeg_jpg.rf.868b41477f5b2233bd41011a052487cb.jpg: ignoring corrupt image/label: Label class 1 exceeds dataset class count 1. Possible class labels are 0-0\n",
            "\u001b[34m\u001b[1mtrain: \u001b[0m/content/fire-1/train/images/ck0lxhbtdewio0794g9qrp7o9_jpeg_jpg.rf.ff5bda29519373492698f6857b53abef.jpg: ignoring corrupt image/label: Label class 1 exceeds dataset class count 1. Possible class labels are 0-0\n",
            "\u001b[34m\u001b[1mtrain: \u001b[0m/content/fire-1/train/images/ck0lxhudct3ac0a46446v80ie_jpeg_jpg.rf.17b81c5d06e2b091edebf4c1eb9de2dd.jpg: ignoring corrupt image/label: Label class 1 exceeds dataset class count 1. Possible class labels are 0-0\n",
            "\u001b[34m\u001b[1mtrain: \u001b[0m/content/fire-1/train/images/ck0lxi2vsiexh0701c7jcu934_jpeg_jpg.rf.25e716db81fb884cde8287f7cee3ee2f.jpg: ignoring corrupt image/label: Label class 1 exceeds dataset class count 1. Possible class labels are 0-0\n",
            "\u001b[34m\u001b[1mtrain: \u001b[0m/content/fire-1/train/images/ck0lyf2lnhyy10944t8eb842u_jpeg_jpg.rf.8644bc57c9761d4ac8a4fbf3cdc18887.jpg: ignoring corrupt image/label: Label class 1 exceeds dataset class count 1. Possible class labels are 0-0\n",
            "\u001b[34m\u001b[1mtrain: \u001b[0m/content/fire-1/train/images/ck0lyfhltum8h0848fs747twi_jpeg_jpg.rf.978f6b611b5ebffad36d118827122e70.jpg: ignoring corrupt image/label: Label class 1 exceeds dataset class count 1. Possible class labels are 0-0\n",
            "\u001b[34m\u001b[1mtrain: \u001b[0m/content/fire-1/train/images/ck0lyghgkfe8a0794h5pz92p7_jpeg_jpg.rf.0832daacfd73450182d709f21fd2d371.jpg: ignoring corrupt image/label: Label class 1 exceeds dataset class count 1. Possible class labels are 0-0\n",
            "\u001b[34m\u001b[1mtrain: \u001b[0m/content/fire-1/train/images/ck0lygt2vkh030721ufglqzq9_jpeg_jpg.rf.3b10d024a4d8d8c26bc157f01fd1906f.jpg: ignoring corrupt image/label: Label class 1 exceeds dataset class count 1. Possible class labels are 0-0\n",
            "\u001b[34m\u001b[1mtrain: \u001b[0m/content/fire-1/train/images/ck0lyhdgvtl1m0a46g6vawhau_jpeg_jpg.rf.28c48ce956643eb37293acf47e8ad632.jpg: ignoring corrupt image/label: Label class 1 exceeds dataset class count 1. Possible class labels are 0-0\n",
            "\u001b[34m\u001b[1mtrain: \u001b[0m/content/fire-1/train/images/ck0lzxfw9iyx50944qfn9yxxl_jpeg_jpg.rf.80daddb185b667d296d04ac85a45a194.jpg: ignoring corrupt image/label: Label class 1 exceeds dataset class count 1. Possible class labels are 0-0\n",
            "\u001b[34m\u001b[1mtrain: \u001b[0m/content/fire-1/train/images/ck0lzyygqj00t0944qnwlwjf2_jpeg_jpg.rf.69ce6df40bf152eaa0e34b563a5a0fda.jpg: ignoring corrupt image/label: Label class 1 exceeds dataset class count 1. Possible class labels are 0-0\n",
            "\u001b[34m\u001b[1mtrain: \u001b[0m/content/fire-1/train/images/ck0m0ch9ugnna07940o8x989j_jpeg_jpg.rf.7797f36c0817bed9e5c44d2db7c660a6.jpg: ignoring corrupt image/label: Label class 1 exceeds dataset class count 1. Possible class labels are 0-0\n",
            "\u001b[34m\u001b[1mtrain: \u001b[0m/content/fire-1/train/images/ck0m0dejchvnj08381f1xtpqs_jpeg_jpg.rf.d7a78f74ca48c4f084140836ce732cc8.jpg: ignoring corrupt image/label: Label class 1 exceeds dataset class count 1. Possible class labels are 0-0\n",
            "\u001b[34m\u001b[1mtrain: \u001b[0m/content/fire-1/train/images/ck0m0etrphwjo0838r9wzd6ia_jpeg_jpg.rf.7fe1b7803c17686821f22fdd2c7da413.jpg: ignoring corrupt image/label: Label class 1 exceeds dataset class count 1. Possible class labels are 0-0\n",
            "\u001b[34m\u001b[1mtrain: \u001b[0m/content/fire-1/train/images/ck0m0f8x4hwsq0838adn9hkti_jpeg_jpg.rf.2afd49977a1686074c494c42e4aa467d.jpg: ignoring corrupt image/label: Label class 1 exceeds dataset class count 1. Possible class labels are 0-0\n",
            "\u001b[34m\u001b[1mtrain: \u001b[0m/content/fire-1/train/images/ck0m0fi9vgpgr0794ibqomk6e_jpeg_jpg.rf.debc17fb5d108691bf7944d4866aaa92.jpg: ignoring corrupt image/label: Label class 1 exceeds dataset class count 1. Possible class labels are 0-0\n",
            "\u001b[34m\u001b[1mtrain: \u001b[0m/content/fire-1/train/images/ck0m0gpkagpzy0794ulwtreu6_jpeg_jpg.rf.7f8670485c840c4f8da13a1f7d9e1e10.jpg: ignoring corrupt image/label: Label class 1 exceeds dataset class count 1. Possible class labels are 0-0\n",
            "\u001b[34m\u001b[1mtrain: \u001b[0m/content/fire-1/train/images/ck0m14kd9vbfd0a46f2gcpvjf_jpeg_jpg.rf.bc24e09d4f24f536afd17c2161ae2ac7.jpg: ignoring corrupt image/label: Label class 1 exceeds dataset class count 1. Possible class labels are 0-0\n",
            "\u001b[34m\u001b[1mtrain: \u001b[0m/content/fire-1/train/images/ck0m14sd8vbk90a461shu6qbb_jpeg_jpg.rf.25bb9450cb188f32eb5e4d59bbaf233f.jpg: ignoring corrupt image/label: Label class 1 exceeds dataset class count 1. Possible class labels are 0-0\n",
            "\u001b[34m\u001b[1mtrain: \u001b[0m/content/fire-1/train/images/ck0m15edijrbs0944olo8aqra_jpeg_jpg.rf.d450b1022b3e8ff577882fbcd06b49e6.jpg: ignoring corrupt image/label: Label class 1 exceeds dataset class count 1. Possible class labels are 0-0\n",
            "\u001b[34m\u001b[1mtrain: \u001b[0m/content/fire-1/train/images/ck0m15mtdwdk30848aglnguy1_jpeg_jpg.rf.280f1d7a39f3746743039c9544fd5461.jpg: ignoring corrupt image/label: Label class 1 exceeds dataset class count 1. Possible class labels are 0-0\n",
            "\u001b[34m\u001b[1mtrain: \u001b[0m/content/fire-1/train/images/ck0m1643sidi5083850vpmnkb_jpeg_jpg.rf.e2aa78a9feea552b6c8e8004945cb111.jpg: ignoring corrupt image/label: Label class 1 exceeds dataset class count 1. Possible class labels are 0-0\n",
            "\u001b[34m\u001b[1mtrain: \u001b[0m/content/fire-1/train/images/ck0m1lu0nhb320863zyoofeiw_jpeg_jpg.rf.9030c36ce5d9e186cdfb19578281c14b.jpg: ignoring corrupt image/label: Label class 1 exceeds dataset class count 1. Possible class labels are 0-0\n",
            "\u001b[34m\u001b[1mtrain: \u001b[0m/content/fire-1/train/images/ck0m1m206hgy907944qxlvo5i_jpeg_jpg.rf.269f476a6e85d6433d46d515c2ddad8a.jpg: ignoring corrupt image/label: Label class 1 exceeds dataset class count 1. Possible class labels are 0-0\n",
            "\u001b[34m\u001b[1mtrain: \u001b[0m/content/fire-1/train/images/ck0m1maf2vnl30a46vnjvga3r_jpeg_jpg.rf.97f723fde0be74200d6961179f47fbaf.jpg: ignoring corrupt image/label: Label class 1 exceeds dataset class count 1. Possible class labels are 0-0\n",
            "\u001b[34m\u001b[1mtrain: \u001b[0m/content/fire-1/train/images/ck0m1mrauhbpe0863qyvhhrcx_jpeg_jpg.rf.97d719469c52096353e701ce18e8ebc6.jpg: ignoring corrupt image/label: Label class 1 exceeds dataset class count 1. Possible class labels are 0-0\n",
            "\u001b[34m\u001b[1mtrain: \u001b[0m/content/fire-1/train/images/ck0m1n0c1hbus0863ti6kd58t_jpeg_jpg.rf.b68588e68e8b9e232267435a71c096e7.jpg: ignoring corrupt image/label: Label class 1 exceeds dataset class count 1. Possible class labels are 0-0\n",
            "\u001b[34m\u001b[1mtrain: \u001b[0m/content/fire-1/train/images/ck0m1nvd7hi5g0794ixq4uhub_jpeg_jpg.rf.70b05798851778ca8ed69b22138f1ea9.jpg: ignoring corrupt image/label: Label class 1 exceeds dataset class count 1. Possible class labels are 0-0\n",
            "\u001b[34m\u001b[1mtrain: \u001b[0m/content/fire-1/train/images/ck0na20uvg69k0a46b7cgr9rd_jpeg_jpg.rf.d1f4085d93d928918455205de0ae33df.jpg: ignoring corrupt image/label: Label class 1 exceeds dataset class count 1. Possible class labels are 0-0\n",
            "\u001b[34m\u001b[1mtrain: \u001b[0m/content/fire-1/train/images/ck0na2ozl2ejz08633ausfi26_jpeg_jpg.rf.f0becfa56a3f47f3441f60f8ce6bd3d7.jpg: ignoring corrupt image/label: Label class 1 exceeds dataset class count 1. Possible class labels are 0-0\n",
            "\u001b[34m\u001b[1mtrain: \u001b[0m/content/fire-1/train/images/ck0na2zrshcs50848i2690yin_jpeg_jpg.rf.f050465c57528876b35ce829de96a5b4.jpg: ignoring corrupt image/label: Label class 1 exceeds dataset class count 1. Possible class labels are 0-0\n",
            "\u001b[34m\u001b[1mtrain: \u001b[0m/content/fire-1/train/images/ck0na3ee97aa6072160kaqfv8_jpeg_jpg.rf.bafc0989c44995769cc08c43fdf63686.jpg: ignoring corrupt image/label: Label class 1 exceeds dataset class count 1. Possible class labels are 0-0\n",
            "\u001b[34m\u001b[1mtrain: \u001b[0m/content/fire-1/train/images/ck0na43fc1vfh0794pxban58i_jpeg_jpg.rf.3e911af5053df66eb92c05d7a658b65a.jpg: ignoring corrupt image/label: Label class 1 exceeds dataset class count 1. Possible class labels are 0-0\n",
            "\u001b[34m\u001b[1mtrain: \u001b[0m/content/fire-1/train/images/ck0na55fy5b720701gr5xzev9_jpeg_jpg.rf.77dc62f8638490bedeb8358eddbc26c5.jpg: ignoring corrupt image/label: Label class 1 exceeds dataset class count 1. Possible class labels are 0-0\n",
            "\u001b[34m\u001b[1mtrain: \u001b[0m/content/fire-1/train/images/ck0na5s461w2n0794ifd5c5cs_jpeg_jpg.rf.da80c10d170a3f2d06e6cb8752cc2e29.jpg: ignoring corrupt image/label: Label class 1 exceeds dataset class count 1. Possible class labels are 0-0\n",
            "\u001b[34m\u001b[1mtrain: \u001b[0m/content/fire-1/train/images/ck0na66fi7cky0721kx2rj68t_jpeg_jpg.rf.674ffaeda72d0e0d45089083b868fdb0.jpg: ignoring corrupt image/label: Label class 1 exceeds dataset class count 1. Possible class labels are 0-0\n",
            "\u001b[34m\u001b[1mtrain: \u001b[0m/content/fire-1/train/images/ck0na7jmkg9gj0a46p7jofg58_jpeg_jpg.rf.07f8e1d2620ce21a29cc95ea44b37fdc.jpg: ignoring corrupt image/label: Label class 1 exceeds dataset class count 1. Possible class labels are 0-0\n",
            "\u001b[34m\u001b[1mtrain: \u001b[0m/content/fire-1/train/images/ck0na7z5a7deh0721q2xhjvl6_jpeg_jpg.rf.63c40779a5d168a71af2c63cef8e6af3.jpg: ignoring corrupt image/label: Label class 1 exceeds dataset class count 1. Possible class labels are 0-0\n",
            "\u001b[34m\u001b[1mtrain: \u001b[0m/content/fire-1/train/images/ck0na8r4s7dor0721s8pn4uvo_jpeg_jpg.rf.3b9e4eaa7f258769d1f9ddb0a1d24b0d.jpg: ignoring corrupt image/label: Label class 1 exceeds dataset class count 1. Possible class labels are 0-0\n",
            "\u001b[34m\u001b[1mtrain: \u001b[0m/content/fire-1/train/images/ck0na9q14gaaa0a46ghbnn940_jpeg_jpg.rf.6b871b5dc40435b9fd588f133c041350.jpg: ignoring corrupt image/label: Label class 1 exceeds dataset class count 1. Possible class labels are 0-0\n",
            "\u001b[34m\u001b[1mtrain: \u001b[0m/content/fire-1/train/images/ck0nabd8whgv30848prwciv2b_jpeg_jpg.rf.8695956e421db5818ce337bbc9bfdde9.jpg: ignoring corrupt image/label: Label class 1 exceeds dataset class count 1. Possible class labels are 0-0\n",
            "\u001b[34m\u001b[1mtrain: \u001b[0m/content/fire-1/train/images/ck0ncji892we50794albpt7x4_jpeg_jpg.rf.f6d3812e9f37753c88f270db55f200aa.jpg: ignoring corrupt image/label: Label class 1 exceeds dataset class count 1. Possible class labels are 0-0\n",
            "\u001b[34m\u001b[1mtrain: \u001b[0m/content/fire-1/train/images/ck0ncrfj130c40794scji9fm2_jpeg_jpg.rf.7a0f41ca48950e2fcd7c236f6f765210.jpg: ignoring corrupt image/label: Label class 1 exceeds dataset class count 1. Possible class labels are 0-0\n",
            "\u001b[34m\u001b[1mtrain: \u001b[0m/content/fire-1/train/images/ck0ncrvqe47qd08384wqzjlk9_jpeg_jpg.rf.ba47398416869ea0e6e0d32cff997897.jpg: ignoring corrupt image/label: Label class 1 exceeds dataset class count 1. Possible class labels are 0-0\n",
            "\u001b[34m\u001b[1mtrain: \u001b[0m/content/fire-1/train/images/ck0nct2ia48au0838bivpmmn6_jpeg_jpg.rf.57a9f95c2e83168a3522e41587345aad.jpg: ignoring corrupt image/label: Label class 1 exceeds dataset class count 1. Possible class labels are 0-0\n",
            "\u001b[34m\u001b[1mtrain: \u001b[0m/content/fire-1/train/images/ck0nctujv31lz0794ow6lj285_jpeg_jpg.rf.362e90fda84b4218be00f32b084d89a6.jpg: ignoring corrupt image/label: Label class 1 exceeds dataset class count 1. Possible class labels are 0-0\n",
            "\u001b[34m\u001b[1mtrain: \u001b[0m/content/fire-1/train/images/ck0nculry62mq0944n824zvzk_jpeg_jpg.rf.f414d868a23c749701b4bb60fc817aa3.jpg: ignoring corrupt image/label: Label class 1 exceeds dataset class count 1. Possible class labels are 0-0\n",
            "\u001b[34m\u001b[1mtrain: \u001b[0m/content/fire-1/train/images/ck0ncvnd332hj079400vhocib_jpeg_jpg.rf.52822b6e6184228491d35d39447d2677.jpg: ignoring corrupt image/label: Label class 1 exceeds dataset class count 1. Possible class labels are 0-0\n",
            "\u001b[34m\u001b[1mtrain: \u001b[0m/content/fire-1/train/images/ck0ncwdaxhgtf0a46wezybiq2_jpeg_jpg.rf.a9b2f63f6c38425fdfd85f90d80e33ac.jpg: ignoring corrupt image/label: Label class 1 exceeds dataset class count 1. Possible class labels are 0-0\n",
            "\u001b[34m\u001b[1mtrain: \u001b[0m/content/fire-1/train/images/ck0ncwmnt6hyp07016zypssxs_jpeg_jpg.rf.ec681a148ab8125c6b28f081e238a59a.jpg: ignoring corrupt image/label: Label class 1 exceeds dataset class count 1. Possible class labels are 0-0\n",
            "\u001b[34m\u001b[1mtrain: \u001b[0m/content/fire-1/train/images/ck0ncye0iiouc0848ostst7bq_jpeg_jpg.rf.3a1fabb300670a89c5162b286f7f138f.jpg: ignoring corrupt image/label: Label class 1 exceeds dataset class count 1. Possible class labels are 0-0\n",
            "\u001b[34m\u001b[1mtrain: \u001b[0m/content/fire-1/train/images/ck0nd5l7girkp0848rd5cwpcq_jpeg_jpg.rf.06fcecfc9995a143e4271d1e92f3aa6c.jpg: ignoring corrupt image/label: Label class 1 exceeds dataset class count 1. Possible class labels are 0-0\n",
            "\u001b[34m\u001b[1mtrain: \u001b[0m/content/fire-1/train/images/ck0nd5toq009k0804lhknr6zt_jpeg_jpg.rf.b6316e271ff44c08702010b25897a275.jpg: ignoring corrupt image/label: Label class 1 exceeds dataset class count 1. Possible class labels are 0-0\n",
            "\u001b[34m\u001b[1mtrain: \u001b[0m/content/fire-1/train/images/ck0nd794g00mz078022z17djb_jpeg_jpg.rf.f619765e40321fd7e11d09e55755cbf2.jpg: ignoring corrupt image/label: Label class 1 exceeds dataset class count 1. Possible class labels are 0-0\n",
            "\u001b[34m\u001b[1mtrain: \u001b[0m/content/fire-1/train/images/ck0nd98ujhlfg0a46hhco18rf_jpeg_jpg.rf.263a8ec3fb40a569ca2324531ba0460a.jpg: ignoring corrupt image/label: Label class 1 exceeds dataset class count 1. Possible class labels are 0-0\n",
            "\u001b[34m\u001b[1mtrain: \u001b[0m/content/fire-1/train/images/ck0ndbtmr8oa50721hzgxpue8_jpeg_jpg.rf.91bb4bed7fce22918a63e5a4d949b96e.jpg: ignoring corrupt image/label: Label class 1 exceeds dataset class count 1. Possible class labels are 0-0\n",
            "\u001b[34m\u001b[1mtrain: \u001b[0m/content/fire-1/train/images/ck0ndcirh69sn0944tmwamh75_jpeg_jpg.rf.75932847440d46bad6d850d3b971126b.jpg: ignoring corrupt image/label: Label class 1 exceeds dataset class count 1. Possible class labels are 0-0\n",
            "\u001b[34m\u001b[1mtrain: \u001b[0m/content/fire-1/train/images/ck0ndfo8l6ov10701vn095htn_jpeg_jpg.rf.65140c06bcdd5450b484b6e3b50db49f.jpg: ignoring corrupt image/label: Label class 1 exceeds dataset class count 1. Possible class labels are 0-0\n",
            "\u001b[34m\u001b[1mtrain: \u001b[0m/content/fire-1/train/images/ck0ndgh043xns0863o9d4l0kk_jpeg_jpg.rf.a57b08665612e56844dc20b2482767cc.jpg: ignoring corrupt image/label: Label class 1 exceeds dataset class count 1. Possible class labels are 0-0\n",
            "\u001b[34m\u001b[1mtrain: \u001b[0m/content/fire-1/train/images/ck0ndqvn48v820721miq46qnl_jpeg_jpg.rf.19a003756a997e2e037882a9e5922f4b.jpg: ignoring corrupt image/label: Label class 1 exceeds dataset class count 1. Possible class labels are 0-0\n",
            "\u001b[34m\u001b[1mtrain: \u001b[0m/content/fire-1/train/images/ck0ndrnhi3fkn0794vbn53c08_jpeg_jpg.rf.95944ecdf8d12ecc88fa916cec6f5f06.jpg: ignoring corrupt image/label: Label class 1 exceeds dataset class count 1. Possible class labels are 0-0\n",
            "\u001b[34m\u001b[1mtrain: \u001b[0m/content/fire-1/train/images/ck0nds16a43eg08630h6n5un1_jpeg_jpg.rf.e1e447304d5e412bbe37764de6ede2f8.jpg: ignoring corrupt image/label: Label class 1 exceeds dataset class count 1. Possible class labels are 0-0\n",
            "\u001b[34m\u001b[1mtrain: \u001b[0m/content/fire-1/train/images/ck0ndu6n1059n0738t860ip47_jpeg_jpg.rf.c3f8e8fafd7dcae481fd72069d5cb8ec.jpg: ignoring corrupt image/label: Label class 1 exceeds dataset class count 1. Possible class labels are 0-0\n",
            "\u001b[34m\u001b[1mtrain: \u001b[0m/content/fire-1/train/images/ck0ndugzs6hv90944q18viki9_jpeg_jpg.rf.7fbf3e9aac6e945228c6a8b76568651e.jpg: ignoring corrupt image/label: Label class 1 exceeds dataset class count 1. Possible class labels are 0-0\n",
            "\u001b[34m\u001b[1mtrain: \u001b[0m/content/fire-1/train/images/ck0ndwu8pj3180848zonjasmz_jpeg_jpg.rf.250b88a338bae3e44e5bfa659489f904.jpg: ignoring corrupt image/label: Label class 1 exceeds dataset class count 1. Possible class labels are 0-0\n",
            "\u001b[34m\u001b[1mtrain: \u001b[0m/content/fire-1/train/images/ck0ndxi6w6j5f0944tbx465xr_jpeg_jpg.rf.4a3f71fb3e73ca1c6cd011f32d815892.jpg: ignoring corrupt image/label: Label class 1 exceeds dataset class count 1. Possible class labels are 0-0\n",
            "\u001b[34m\u001b[1mtrain: \u001b[0m/content/fire-1/train/images/ck0ndxwjf3icx0794m3hlih4u_jpeg_jpg.rf.85d3698b14c3b054de1de3c4476ba1ae.jpg: ignoring corrupt image/label: Label class 1 exceeds dataset class count 1. Possible class labels are 0-0\n",
            "\u001b[34m\u001b[1mtrain: \u001b[0m/content/fire-1/train/images/ck0ndy9p207ai0738n7khflbr_jpeg_jpg.rf.795e18bdf66a6b1d6ebfe5e0d01f00f8.jpg: ignoring corrupt image/label: Label class 1 exceeds dataset class count 1. Possible class labels are 0-0\n",
            "\u001b[34m\u001b[1mtrain: \u001b[0m/content/fire-1/train/images/ck0nefzg24hv30863efhq3fp1_jpeg_jpg.rf.15782c74317301de4017effcd6cb7959.jpg: ignoring corrupt image/label: Label class 1 exceeds dataset class count 1. Possible class labels are 0-0\n",
            "\u001b[34m\u001b[1mtrain: \u001b[0m/content/fire-1/train/images/ck0negbgs3uhi0794nkdvb6zi_jpeg_jpg.rf.e1de3c5128fa2b1fc8b656e8b9c15de5.jpg: ignoring corrupt image/label: Label class 1 exceeds dataset class count 1. Possible class labels are 0-0\n",
            "\u001b[34m\u001b[1mtrain: \u001b[0m/content/fire-1/train/images/ck0negpok9ao50721aw0ozvpl_jpeg_jpg.rf.4df29fe131ee11ef122d00bfc3613ba1.jpg: ignoring corrupt image/label: Label class 1 exceeds dataset class count 1. Possible class labels are 0-0\n",
            "\u001b[34m\u001b[1mtrain: \u001b[0m/content/fire-1/train/images/ck0neh5qnjfoh0848s35xyyj8_jpeg_jpg.rf.100efec7ae3df8d2af4eb572c32134e9.jpg: ignoring corrupt image/label: Label class 1 exceeds dataset class count 1. Possible class labels are 0-0\n",
            "\u001b[34m\u001b[1mtrain: \u001b[0m/content/fire-1/train/images/ck0nehpd69bax0721onacbe33_jpeg_jpg.rf.919eabb3a1b4f3084520e69cb4953c9b.jpg: ignoring corrupt image/label: Label class 1 exceeds dataset class count 1. Possible class labels are 0-0\n",
            "\u001b[34m\u001b[1mtrain: \u001b[0m/content/fire-1/train/images/ck0nem99k9e9v0721yu2dtiqq_jpeg_jpg.rf.6e834e8ecce0c882a02a436c79828c8b.jpg: ignoring corrupt image/label: Label class 1 exceeds dataset class count 1. Possible class labels are 0-0\n",
            "\u001b[34m\u001b[1mtrain: \u001b[0m/content/fire-1/train/images/ck0nepj3s015b0a88py3wvbqu_jpeg_jpg.rf.d9eff013c2a4d0fa4952f1e836cd6415.jpg: ignoring corrupt image/label: Label class 1 exceeds dataset class count 1. Possible class labels are 0-0\n",
            "\u001b[34m\u001b[1mtrain: \u001b[0m/content/fire-1/train/images/ck0nett9672gj0944feegfre7_jpeg_jpg.rf.5d4ee639d8a0f4ad8ceb8d44e796563a.jpg: ignoring corrupt image/label: Label class 1 exceeds dataset class count 1. Possible class labels are 0-0\n",
            "\u001b[34m\u001b[1mtrain: \u001b[0m/content/fire-1/train/images/ck0neurvn42jv0794al16dzhw_jpeg_jpg.rf.a2ee664fc02f921aceaa5b283d395e05.jpg: ignoring corrupt image/label: Label class 1 exceeds dataset class count 1. Possible class labels are 0-0\n",
            "\u001b[34m\u001b[1mtrain: \u001b[0m/content/fire-1/train/images/ck0nexpddii7b0a463cb74ti7_jpeg_jpg.rf.98a57e7b342080944f21550f9af09f2a.jpg: ignoring corrupt image/label: Label class 1 exceeds dataset class count 1. Possible class labels are 0-0\n",
            "\u001b[34m\u001b[1mtrain: \u001b[0m/content/fire-1/train/images/ck0nf3wev47fm0794xfr1xuhs_jpeg_jpg.rf.4068f715fbed388346e7c3058a0dbeb9.jpg: ignoring corrupt image/label: Label class 1 exceeds dataset class count 1. Possible class labels are 0-0\n",
            "\u001b[34m\u001b[1mtrain: \u001b[0m/content/fire-1/train/images/ck0nf44ililfz0a469cimeiu1_jpeg_jpg.rf.e3bde866f7fb285e45fec96e13610410.jpg: ignoring corrupt image/label: Label class 1 exceeds dataset class count 1. Possible class labels are 0-0\n",
            "\u001b[34m\u001b[1mtrain: \u001b[0m/content/fire-1/train/images/ck0nf4ks0js7z0848cku0h6t5_jpeg_jpg.rf.17e6757a048106a49b2cd5d10fe30400.jpg: ignoring corrupt image/label: Label class 1 exceeds dataset class count 1. Possible class labels are 0-0\n",
            "\u001b[34m\u001b[1mtrain: \u001b[0m/content/fire-1/train/images/ck0nf4rw3093h0a886by1nwca_jpeg_jpg.rf.c86530558b78c680f0ad401e9e68ee0c.jpg: ignoring corrupt image/label: Label class 1 exceeds dataset class count 1. Possible class labels are 0-0\n",
            "\u001b[34m\u001b[1mtrain: \u001b[0m/content/fire-1/train/images/ck0nf53eo78rg0944btmudhsc_jpeg_jpg.rf.fd78d792157229e2c56a0db2112a8e29.jpg: ignoring corrupt image/label: Label class 1 exceeds dataset class count 1. Possible class labels are 0-0\n",
            "\u001b[34m\u001b[1mtrain: \u001b[0m/content/fire-1/train/images/ck0nfms4c59l108632rf19agc_jpeg_jpg.rf.af0e3d977456cf950a8df5697bdb52a1.jpg: ignoring corrupt image/label: Label class 1 exceeds dataset class count 1. Possible class labels are 0-0\n",
            "\u001b[34m\u001b[1mtrain: \u001b[0m/content/fire-1/train/images/ck0nfnbw45srt083889319uj8_jpeg_jpg.rf.eae2d53bf4d518f59c727ee2fddbd65b.jpg: ignoring corrupt image/label: Label class 1 exceeds dataset class count 1. Possible class labels are 0-0\n",
            "\u001b[34m\u001b[1mtrain: \u001b[0m/content/fire-1/train/images/ck0nfo0y4a2a00721ek5g056r_jpeg_jpg.rf.c98f20bc408d9579e45c0493ecf39391.jpg: ignoring corrupt image/label: Label class 1 exceeds dataset class count 1. Possible class labels are 0-0\n",
            "\u001b[34m\u001b[1mtrain: \u001b[0m/content/fire-1/train/images/ck0nfobvt4msi07944oj7bzx6_jpeg_jpg.rf.09b2236f7548f42a5f9767874526da19.jpg: ignoring corrupt image/label: Label class 1 exceeds dataset class count 1. Possible class labels are 0-0\n",
            "\u001b[34m\u001b[1mtrain: \u001b[0m/content/fire-1/train/images/ck0nfpjig5u9z0838mgcq82oz_jpeg_jpg.rf.7af9a14acd193b95ca799399d7806779.jpg: ignoring corrupt image/label: Label class 1 exceeds dataset class count 1. Possible class labels are 0-0\n",
            "\u001b[34m\u001b[1mtrain: \u001b[0m/content/fire-1/train/images/ck0nfq2hsj1ro0a46o4gncg6r_jpeg_jpg.rf.686e9990895681bb90dedf026eb6548e.jpg: ignoring corrupt image/label: Label class 1 exceeds dataset class count 1. Possible class labels are 0-0\n",
            "\u001b[34m\u001b[1mtrain: \u001b[0m/content/fire-1/train/images/ck0nfrec983h90701yvzbsczw_jpeg_jpg.rf.0de5300855100c5ac204f2acc13306fc.jpg: ignoring corrupt image/label: Label class 1 exceeds dataset class count 1. Possible class labels are 0-0\n",
            "\u001b[34m\u001b[1mtrain: \u001b[0m/content/fire-1/train/images/ck0nfsgb3a5cl0721k678jfzb_jpeg_jpg.rf.be9eb2f158b8dbe71b8c053e29ddc630.jpg: ignoring corrupt image/label: Label class 1 exceeds dataset class count 1. Possible class labels are 0-0\n",
            "\u001b[34m\u001b[1mtrain: \u001b[0m/content/fire-1/train/images/ck0nftsdy5xck0838qb0yk262_jpeg_jpg.rf.6c7fb4ff4c3179392a85a5fca17f2a35.jpg: ignoring corrupt image/label: Label class 1 exceeds dataset class count 1. Possible class labels are 0-0\n",
            "\u001b[34m\u001b[1mtrain: \u001b[0m/content/fire-1/train/images/ck0nfuci585lm0701jw9i5zhj_jpeg_jpg.rf.0ae82c716247cc4b1b54dc2c98272035.jpg: ignoring corrupt image/label: Label class 1 exceeds dataset class count 1. Possible class labels are 0-0\n",
            "\u001b[34m\u001b[1mtrain: \u001b[0m/content/fire-1/train/images/ck0nfxm5e5gq50863tqwxrgft_jpeg_jpg.rf.0cc86a39347487eee0aa170e4f3efb5c.jpg: ignoring corrupt image/label: Label class 1 exceeds dataset class count 1. Possible class labels are 0-0\n",
            "\u001b[34m\u001b[1mtrain: \u001b[0m/content/fire-1/train/images/ck0nfz8fe60yr0838az9x331y_jpeg_jpg.rf.423bad190126a602b93d8057eb2f4086.jpg: ignoring corrupt image/label: Label class 1 exceeds dataset class count 1. Possible class labels are 0-0\n",
            "\u001b[34m\u001b[1mtrain: \u001b[0m/content/fire-1/train/images/ck0ng3jtr5k7j08637da4685p_jpeg_jpg.rf.3a0ed746cc9eae931d73fcaec0d758be.jpg: ignoring corrupt image/label: Label class 1 exceeds dataset class count 1. Possible class labels are 0-0\n",
            "\u001b[34m\u001b[1mtrain: \u001b[0m/content/fire-1/train/images/ck0ng3zz98boz07013zyds00f_jpeg_jpg.rf.e24b451efad0807d8179a6799a7c0908.jpg: ignoring corrupt image/label: Label class 1 exceeds dataset class count 1. Possible class labels are 0-0\n",
            "\u001b[34m\u001b[1mtrain: \u001b[0m/content/fire-1/train/images/ck0ng4fa263vn083809qkbt4y_jpeg_jpg.rf.8466fdff1f4deda888e3dc6d0afd8dba.jpg: ignoring corrupt image/label: Label class 1 exceeds dataset class count 1. Possible class labels are 0-0\n",
            "\u001b[34m\u001b[1mtrain: \u001b[0m/content/fire-1/train/images/ck0ng5zyb5lrz086320xihwm8_jpeg_jpg.rf.65c103721cafe5b1d1fdadcf339c626f.jpg: ignoring corrupt image/label: Label class 1 exceeds dataset class count 1. Possible class labels are 0-0\n",
            "\u001b[34m\u001b[1mtrain: \u001b[0m/content/fire-1/train/images/ck0ng67nbkhul0848gacp299b_jpeg_jpg.rf.ad9fc14c310fb9d6280d2ea2972ccbc0.jpg: ignoring corrupt image/label: Label class 1 exceeds dataset class count 1. Possible class labels are 0-0\n",
            "\u001b[34m\u001b[1mtrain: \u001b[0m/content/fire-1/train/images/ck0ngm4b3jk5e0a46nplsw4xb_jpeg_jpg.rf.42564e1e5ec51ae2d470d8a21a36bfab.jpg: ignoring corrupt image/label: Label class 1 exceeds dataset class count 1. Possible class labels are 0-0\n",
            "\u001b[34m\u001b[1mtrain: \u001b[0m/content/fire-1/train/images/ck0ngmfoyjka50a46cagrxpig_jpeg_jpg.rf.8b7da1d9fb6df6275c3b26d446e3a3a0.jpg: ignoring corrupt image/label: Label class 1 exceeds dataset class count 1. Possible class labels are 0-0\n",
            "\u001b[34m\u001b[1mtrain: \u001b[0m/content/fire-1/train/images/ck0ngmuykjkh80a46a5qzv263_jpeg_jpg.rf.6b8c0765a425a8829df89822d06e9a92.jpg: ignoring corrupt image/label: Label class 1 exceeds dataset class count 1. Possible class labels are 0-0\n",
            "\u001b[34m\u001b[1mtrain: \u001b[0m/content/fire-1/train/images/ck0oukbtwsjxp083897f03qo4_jpeg_jpg.rf.9a71696e369bade6dc31845f78fe552f.jpg: ignoring corrupt image/label: Label class 1 exceeds dataset class count 1. Possible class labels are 0-0\n",
            "\u001b[34m\u001b[1mtrain: \u001b[0m/content/fire-1/train/images/ck0oukw23toun0944nstsyx8g_jpeg_jpg.rf.d119b3a46f8f3680908d603eefe17fad.jpg: ignoring corrupt image/label: Label class 1 exceeds dataset class count 1. Possible class labels are 0-0\n",
            "\u001b[34m\u001b[1mtrain: \u001b[0m/content/fire-1/train/images/ck0oul6eyrpa408637g72xnc4_jpeg_jpg.rf.5bac2c985865c78813612500ecfea5c5.jpg: ignoring corrupt image/label: Label class 1 exceeds dataset class count 1. Possible class labels are 0-0\n",
            "\u001b[34m\u001b[1mtrain: \u001b[0m/content/fire-1/train/images/ck0ouldkdrpic086327fu1wjk_jpeg_jpg.rf.5bc0e07151afd284ddd181ce729841a9.jpg: ignoring corrupt image/label: Label class 1 exceeds dataset class count 1. Possible class labels are 0-0\n",
            "\u001b[34m\u001b[1mtrain: \u001b[0m/content/fire-1/train/images/ck0oulkapr2bj0794zz57fbjp_jpeg_jpg.rf.deb3dde61f8fc7ac9e740c9526521158.jpg: ignoring corrupt image/label: Label class 1 exceeds dataset class count 1. Possible class labels are 0-0\n",
            "\u001b[34m\u001b[1mtrain: \u001b[0m/content/fire-1/train/images/ck0oulyr8sldl0838tkv3hqk8_jpeg_jpg.rf.61172133a002a680f0e43a026fb149bf.jpg: ignoring corrupt image/label: Label class 1 exceeds dataset class count 1. Possible class labels are 0-0\n",
            "\u001b[34m\u001b[1mtrain: \u001b[0m/content/fire-1/train/images/ck0oumds8r2ws0794yqsnls8v_jpeg_jpg.rf.a0a2ffcc970b8b025c25161275376597.jpg: ignoring corrupt image/label: Label class 1 exceeds dataset class count 1. Possible class labels are 0-0\n",
            "\u001b[34m\u001b[1mtrain: \u001b[0m/content/fire-1/train/images/ck0ounp7qrrb80863c0xidr4j_jpeg_jpg.rf.3ac10bfe69342bdcb96e5ffad19a85e8.jpg: ignoring corrupt image/label: Label class 1 exceeds dataset class count 1. Possible class labels are 0-0\n",
            "\u001b[34m\u001b[1mtrain: \u001b[0m/content/fire-1/train/images/ck0ounuswsms108388flcbazi_jpeg_jpg.rf.c783a7df3a030e3a187087fb9f5f3fad.jpg: ignoring corrupt image/label: Label class 1 exceeds dataset class count 1. Possible class labels are 0-0\n",
            "\u001b[34m\u001b[1mtrain: \u001b[0m/content/fire-1/train/images/ck0ovkzw8secm0863zxuv11su_jpeg_jpg.rf.6427231a297f48047f380fdaff1e6a78.jpg: ignoring corrupt image/label: Label class 1 exceeds dataset class count 1. Possible class labels are 0-0\n",
            "\u001b[34m\u001b[1mtrain: \u001b[0m/content/fire-1/train/images/ck0ovlupvx57v0721dn80vmur_jpeg_jpg.rf.b2eff272af5c611057be741afcaaaaca.jpg: ignoring corrupt image/label: Label class 1 exceeds dataset class count 1. Possible class labels are 0-0\n",
            "\u001b[34m\u001b[1mtrain: \u001b[0m/content/fire-1/train/images/ck0ovnfap7g9u0848nlx6v59i_jpeg_jpg.rf.1373421a7cb584e7e9495d062e47796b.jpg: ignoring corrupt image/label: Label class 1 exceeds dataset class count 1. Possible class labels are 0-0\n",
            "\u001b[34m\u001b[1mtrain: \u001b[0m/content/fire-1/train/images/ck0ovrdff7ir20848kelskyn8_jpeg_jpg.rf.89574b4e055d8f2efa86920d2e15f3b3.jpg: ignoring corrupt image/label: Label class 1 exceeds dataset class count 1. Possible class labels are 0-0\n",
            "\u001b[34m\u001b[1mtrain: \u001b[0m/content/fire-1/train/images/ck0ovtzvntedo08385kjpyx6a_jpeg_jpg.rf.9fdba5e429b3e0ec5336e581c898420b.jpg: ignoring corrupt image/label: Label class 1 exceeds dataset class count 1. Possible class labels are 0-0\n",
            "\u001b[34m\u001b[1mtrain: \u001b[0m/content/fire-1/train/images/ck0ovvrza6e0e0a46doaio091_jpeg_jpg.rf.0d3c0e2aab487ded9267a29f6997c8f3.jpg: ignoring corrupt image/label: Label class 1 exceeds dataset class count 1. Possible class labels are 0-0\n",
            "\u001b[34m\u001b[1mtrain: \u001b[0m/content/fire-1/train/images/ck0ow39yt6j650a4633r8lu2g_jpeg_jpg.rf.25acb77bbd5382460c33e7437a318af5.jpg: ignoring corrupt image/label: Label class 1 exceeds dataset class count 1. Possible class labels are 0-0\n",
            "\u001b[34m\u001b[1mtrain: \u001b[0m/content/fire-1/train/images/ck0ow7vs07tuz08485n4yz5si_jpeg_jpg.rf.8ab9975bc54d16a85fcd3c77ba382675.jpg: ignoring corrupt image/label: Label class 1 exceeds dataset class count 1. Possible class labels are 0-0\n",
            "\u001b[34m\u001b[1mtrain: \u001b[0m/content/fire-1/train/images/ck0owo8knvext07012gernxb0_jpeg_jpg.rf.a0becde742c8d0308ee2147c595b4b8c.jpg: ignoring corrupt image/label: Label class 1 exceeds dataset class count 1. Possible class labels are 0-0\n",
            "\u001b[34m\u001b[1mtrain: \u001b[0m/content/fire-1/train/images/ck0owog84vf1d0701sbf84fw6_jpeg_jpg.rf.05484f363814ba31fdc7858ff575ec88.jpg: ignoring corrupt image/label: Label class 1 exceeds dataset class count 1. Possible class labels are 0-0\n",
            "\u001b[34m\u001b[1mtrain: \u001b[0m/content/fire-1/train/images/ck0qb78lnsvjg0a46r1s6hxr1_jpeg_jpg.rf.294ccda9ed0a326c4b24c6f3c58e335a.jpg: ignoring corrupt image/label: Label class 1 exceeds dataset class count 1. Possible class labels are 0-0\n",
            "\u001b[34m\u001b[1mtrain: \u001b[0m/content/fire-1/train/images/ck0qb7h0asvnf0a46l0myka01_jpeg_jpg.rf.ea560c80edd22abb3909884c07935772.jpg: ignoring corrupt image/label: Label class 1 exceeds dataset class count 1. Possible class labels are 0-0\n",
            "\u001b[34m\u001b[1mtrain: \u001b[0m/content/fire-1/train/images/ck0qb8cz6tfnt0848glf38bpe_jpeg_jpg.rf.889fc2a12177d563069527e143565284.jpg: ignoring corrupt image/label: Label class 1 exceeds dataset class count 1. Possible class labels are 0-0\n",
            "\u001b[34m\u001b[1mtrain: \u001b[0m/content/fire-1/train/images/ck0qb93azjo480721ojf86ytj_jpeg_jpg.rf.133f44021cd6907359dcea778da8394a.jpg: ignoring corrupt image/label: Label class 1 exceeds dataset class count 1. Possible class labels are 0-0\n",
            "\u001b[34m\u001b[1mtrain: \u001b[0m/content/fire-1/train/images/ck0qb9do2fwc708385reizk6h_jpeg_jpg.rf.1512ad4b5411019871b3578255d07a0c.jpg: ignoring corrupt image/label: Label class 1 exceeds dataset class count 1. Possible class labels are 0-0\n",
            "\u001b[34m\u001b[1mtrain: \u001b[0m/content/fire-1/train/images/ck0qb9rg6tgo40848b6pmbrod_jpeg_jpg.rf.46fbc48c87d1c8527d37fbccc23d231d.jpg: ignoring corrupt image/label: Label class 1 exceeds dataset class count 1. Possible class labels are 0-0\n",
            "\u001b[34m\u001b[1mtrain: \u001b[0m/content/fire-1/train/images/ck0qba5yvh45x0944qw0oaamw_jpeg_jpg.rf.46f7ddb098be20e68b25fc60f0012b2c.jpg: ignoring corrupt image/label: Label class 1 exceeds dataset class count 1. Possible class labels are 0-0\n",
            "\u001b[34m\u001b[1mtrain: \u001b[0m/content/fire-1/train/images/ck0qbakbhjoyy0721qw4fut6n_jpeg_jpg.rf.d47b0962bf441352fdc8bfbc3b2ad5b0.jpg: ignoring corrupt image/label: Label class 1 exceeds dataset class count 1. Possible class labels are 0-0\n",
            "\u001b[34m\u001b[1mtrain: \u001b[0m/content/fire-1/train/images/ck0qbaubof1z40863w0scvpra_jpeg_jpg.rf.8262ae911b99ca0e37129bf989973862.jpg: ignoring corrupt image/label: Label class 1 exceeds dataset class count 1. Possible class labels are 0-0\n",
            "\u001b[34m\u001b[1mtrain: \u001b[0m/content/fire-1/train/images/ck0qbedgvf3qu08637yvo02cq_jpeg_jpg.rf.a29d52099f4abae0d6b21ce17655a790.jpg: ignoring corrupt image/label: Label class 1 exceeds dataset class count 1. Possible class labels are 0-0\n",
            "\u001b[34m\u001b[1mtrain: \u001b[0m/content/fire-1/train/images/ck0qbex0ljri20721b1v9gyp5_jpeg_jpg.rf.3c09a31f40265ada0cdfd5914d64fa70.jpg: ignoring corrupt image/label: Label class 1 exceeds dataset class count 1. Possible class labels are 0-0\n",
            "\u001b[34m\u001b[1mtrain: \u001b[0m/content/fire-1/train/images/ck0qbn4c2to820848neklprj5_jpeg_jpg.rf.97db6365352f3e33daca855cf79e6a83.jpg: ignoring corrupt image/label: Label class 1 exceeds dataset class count 1. Possible class labels are 0-0\n",
            "\u001b[34m\u001b[1mtrain: \u001b[0m/content/fire-1/train/images/ck0qbnoibg4ip0838na1tnqe8_jpeg_jpg.rf.49b4405329e68c1cb674a5bb35dbd741.jpg: ignoring corrupt image/label: Label class 1 exceeds dataset class count 1. Possible class labels are 0-0\n",
            "\u001b[34m\u001b[1mtrain: \u001b[0m/content/fire-1/train/images/ck0qbnvn6hk6w0701x0mcjvq8_jpeg_jpg.rf.73d533f87429eb4025259931dea22d59.jpg: ignoring corrupt image/label: Label class 1 exceeds dataset class count 1. Possible class labels are 0-0\n",
            "\u001b[34m\u001b[1mtrain: \u001b[0m/content/fire-1/train/images/ck0qbo5snhkcv0701pwtwt35x_jpeg_jpg.rf.3cb190b9e1e13a479dcfe4717857b619.jpg: ignoring corrupt image/label: Label class 1 exceeds dataset class count 1. Possible class labels are 0-0\n",
            "\u001b[34m\u001b[1mtrain: \u001b[0m/content/fire-1/train/images/ck0qbp5dkg5920838gygl8n4f_jpeg_jpg.rf.380a3f7f40e400a185c45df983d2a00e.jpg: ignoring corrupt image/label: Label class 1 exceeds dataset class count 1. Possible class labels are 0-0\n",
            "\u001b[34m\u001b[1mtrain: \u001b[0m/content/fire-1/train/images/ck0qbrxq0fc870863u9dy1xsl_jpeg_jpg.rf.a9539f788aabfbb3174041b3bb384ce7.jpg: ignoring corrupt image/label: Label class 1 exceeds dataset class count 1. Possible class labels are 0-0\n",
            "\u001b[34m\u001b[1mtrain: \u001b[0m/content/fire-1/train/images/ck0qbsnz6fcn40863jl1deoe9_jpeg_jpg.rf.beab0cfb3dee64aeeed6f88240167793.jpg: ignoring corrupt image/label: Label class 1 exceeds dataset class count 1. Possible class labels are 0-0\n",
            "\u001b[34m\u001b[1mtrain: \u001b[0m/content/fire-1/train/images/ck0qbu8qqenrd0794vafe93ht_jpeg_jpg.rf.07551b095cbd221980704bce05e0ed2a.jpg: ignoring corrupt image/label: Label class 1 exceeds dataset class count 1. Possible class labels are 0-0\n",
            "\u001b[34m\u001b[1mtrain: \u001b[0m/content/fire-1/train/images/ck0qbwggghon207016zt7rz5a_jpeg_jpg.rf.a96408a046364c0ca67b0db4fa49173a.jpg: ignoring corrupt image/label: Label class 1 exceeds dataset class count 1. Possible class labels are 0-0\n",
            "\u001b[34m\u001b[1mtrain: \u001b[0m/content/fire-1/train/images/ck0qc5zvxk5mi0721s96pwrwt_jpeg_jpg.rf.378206e21e8c55e0c4cea90cf66de49a.jpg: ignoring corrupt image/label: Label class 1 exceeds dataset class count 1. Possible class labels are 0-0\n",
            "\u001b[34m\u001b[1mtrain: \u001b[0m/content/fire-1/train/images/ck0qc6lwsetj70794bennfrza_jpeg_jpg.rf.4fbb6b8e5143b9b71c06d2c130100295.jpg: ignoring corrupt image/label: Label class 1 exceeds dataset class count 1. Possible class labels are 0-0\n",
            "\u001b[34m\u001b[1mtrain: \u001b[0m/content/fire-1/train/images/ck0qc6vn5htmh07016mtpli3w_jpeg_jpg.rf.2cc8e583ccbf39cf7e0444d75cc49d91.jpg: ignoring corrupt image/label: Label class 1 exceeds dataset class count 1. Possible class labels are 0-0\n",
            "\u001b[34m\u001b[1mtrain: \u001b[0m/content/fire-1/train/images/ck0qc7df7fjr30863hqmtj5i3_jpeg_jpg.rf.f30e0c7f1d959b681dd4463280317bfa.jpg: ignoring corrupt image/label: Label class 1 exceeds dataset class count 1. Possible class labels are 0-0\n",
            "\u001b[34m\u001b[1mtrain: \u001b[0m/content/fire-1/train/images/ck0qc7xskeu3r07948qg5ycne_jpeg_jpg.rf.db89fbd0cf467d451555e834cfff84ce.jpg: ignoring corrupt image/label: Label class 1 exceeds dataset class count 1. Possible class labels are 0-0\n",
            "\u001b[34m\u001b[1mtrain: \u001b[0m/content/fire-1/train/images/ck0qc86fnk6ox0721cb5kg3tl_jpeg_jpg.rf.6f41dfa626bf666e2ffdd61ebdd242f0.jpg: ignoring corrupt image/label: Label class 1 exceeds dataset class count 1. Possible class labels are 0-0\n",
            "\u001b[34m\u001b[1mtrain: \u001b[0m/content/fire-1/train/images/ck0qc8qkohujb0701aq2988oa_jpeg_jpg.rf.c102cc18efc7ab15f3faf3d4bebbdbea.jpg: ignoring corrupt image/label: Label class 1 exceeds dataset class count 1. Possible class labels are 0-0\n",
            "\u001b[34m\u001b[1mtrain: \u001b[0m/content/fire-1/train/images/ck0qd4sisfz1x0863riapvr9k_jpeg_jpg.rf.049bd856e4b8bb8588dfd6c86d0c54b9.jpg: ignoring corrupt image/label: Label class 1 exceeds dataset class count 1. Possible class labels are 0-0\n",
            "\u001b[34m\u001b[1mtrain: \u001b[0m/content/fire-1/train/images/ck0qd50hwi1k10944i25e7al9_jpeg_jpg.rf.165e6ca4ec4477f8ea21bc03a3e588a2.jpg: ignoring corrupt image/label: Label class 1 exceeds dataset class count 1. Possible class labels are 0-0\n",
            "\u001b[34m\u001b[1mtrain: \u001b[0m/content/fire-1/train/images/ck0qd5it1i1wl0944fqp8vf9c_jpeg_jpg.rf.6229cd3304f19d61def94e0345bff094.jpg: ignoring corrupt image/label: Label class 1 exceeds dataset class count 1. Possible class labels are 0-0\n",
            "\u001b[34m\u001b[1mtrain: \u001b[0m/content/fire-1/train/images/ck0qd5yquiaiq07016q73qoz3_jpeg_jpg.rf.f6010ab94b0a17d800a308332c90df43.jpg: ignoring corrupt image/label: Label class 1 exceeds dataset class count 1. Possible class labels are 0-0\n",
            "\u001b[34m\u001b[1mtrain: \u001b[0m/content/fire-1/train/images/ck0qd6v51ib0j0701sf2wolfq_jpeg_jpg.rf.82f3c9c4208e02bc780d98c065f3cf89.jpg: ignoring corrupt image/label: Label class 1 exceeds dataset class count 1. Possible class labels are 0-0\n",
            "\u001b[34m\u001b[1mtrain: \u001b[0m/content/fire-1/train/images/ck0qd7cyiib8f0701npyn63rc_jpeg_jpg.rf.5cf09ba6cc5c7d1ba7f524085cc6b17f.jpg: ignoring corrupt image/label: Label class 1 exceeds dataset class count 1. Possible class labels are 0-0\n",
            "\u001b[34m\u001b[1mtrain: \u001b[0m/content/fire-1/train/images/ck0qd7oxtgwug08385hhoh6c6_jpeg_jpg.rf.49f0ec190dc310c9ea34778a840bf33e.jpg: ignoring corrupt image/label: Label class 1 exceeds dataset class count 1. Possible class labels are 0-0\n",
            "\u001b[34m\u001b[1mtrain: \u001b[0m/content/fire-1/train/images/ck0qd7zf9fax10794ucj3kmt5_jpeg_jpg.rf.67f1f19d8a71f06f152672f285440b14.jpg: ignoring corrupt image/label: Label class 1 exceeds dataset class count 1. Possible class labels are 0-0\n",
            "\u001b[34m\u001b[1mtrain: \u001b[0m/content/fire-1/train/images/ck0qd8gs6ko7j0721x25cv4o3_jpeg_jpg.rf.867f4cc2fbd3513f464e0efebf2f7a7d.jpg: ignoring corrupt image/label: Label class 1 exceeds dataset class count 1. Possible class labels are 0-0\n",
            "\u001b[34m\u001b[1mtrain: \u001b[0m/content/fire-1/train/images/ck0qdeht7feba0794xskx01vd_jpeg_jpg.rf.25061e06fcfcc73bcbaf6b78009ad7f0.jpg: ignoring corrupt image/label: Label class 1 exceeds dataset class count 1. Possible class labels are 0-0\n",
            "\u001b[34m\u001b[1mtrain: \u001b[0m/content/fire-1/train/images/ck0qdf4hwkrzf0721pwn991sv_jpeg_jpg.rf.7b4d73003796be6e12078f281570cb3c.jpg: ignoring corrupt image/label: Label class 1 exceeds dataset class count 1. Possible class labels are 0-0\n",
            "\u001b[34m\u001b[1mtrain: \u001b[0m/content/fire-1/train/images/ck0qdgpy2ksso0721wbiaedz7_jpeg_jpg.rf.9c9d143a0c8ce02f35f00469b3ceaa12.jpg: ignoring corrupt image/label: Label class 1 exceeds dataset class count 1. Possible class labels are 0-0\n",
            "\u001b[34m\u001b[1mtrain: \u001b[0m/content/fire-1/train/images/ck0qdhfh1uks20848pclbrty6_jpeg_jpg.rf.c88a50445b9a580a6731a431f7d8cb65.jpg: ignoring corrupt image/label: Label class 1 exceeds dataset class count 1. Possible class labels are 0-0\n",
            "\u001b[34m\u001b[1mtrain: \u001b[0m/content/fire-1/train/images/ck0rp4r7382md0721515r9ll0_jpeg_jpg.rf.8341bdc21994dce6de16a94590763211.jpg: ignoring corrupt image/label: Label class 1 exceeds dataset class count 1. Possible class labels are 0-0\n",
            "\u001b[34m\u001b[1mtrain: \u001b[0m/content/fire-1/train/images/ck0rp6q4583zz0721mrh6corb_jpeg_jpg.rf.07acccdf7cac19865a99d4cb8fbc5053.jpg: ignoring corrupt image/label: Label class 1 exceeds dataset class count 1. Possible class labels are 0-0\n",
            "\u001b[34m\u001b[1mtrain: \u001b[0m/content/fire-1/train/images/ck0rp6xx53tvu0863dmbu45el_jpeg_jpg.rf.5eb83f635a3abf68e37144a15debccc7.jpg: ignoring corrupt image/label: Label class 1 exceeds dataset class count 1. Possible class labels are 0-0\n",
            "\u001b[34m\u001b[1mtrain: \u001b[0m/content/fire-1/train/images/ck0rp7ech84jq0721s8wfw8tz_jpeg_jpg.rf.4ef138bd4aac8e0ff8425d04209133e0.jpg: ignoring corrupt image/label: Label class 1 exceeds dataset class count 1. Possible class labels are 0-0\n",
            "\u001b[34m\u001b[1mtrain: \u001b[0m/content/fire-1/train/images/ck0rp7n2684q30721hrzu5r15_jpeg_jpg.rf.fea6c2782d9aa877d394f658d43fd312.jpg: ignoring corrupt image/label: Label class 1 exceeds dataset class count 1. Possible class labels are 0-0\n",
            "\u001b[34m\u001b[1mtrain: \u001b[0m/content/fire-1/train/images/ck0rp7ve43ul20863ldcq568m_jpeg_jpg.rf.2897dd1499398a3cc277ba4678480ef5.jpg: ignoring corrupt image/label: Label class 1 exceeds dataset class count 1. Possible class labels are 0-0\n",
            "\u001b[34m\u001b[1mtrain: \u001b[0m/content/fire-1/train/images/ck0rp8d7p858s0721qrjixerv_jpeg_jpg.rf.62d40e44ad62eb22c65337c35d32b0a7.jpg: ignoring corrupt image/label: Label class 1 exceeds dataset class count 1. Possible class labels are 0-0\n",
            "\u001b[34m\u001b[1mtrain: \u001b[0m/content/fire-1/train/images/ck0rp8yjl4f5b0838yi4z8ub1_jpeg_jpg.rf.9a70e34219f9e6245689d0a719a31d3e.jpg: ignoring corrupt image/label: Label class 1 exceeds dataset class count 1. Possible class labels are 0-0\n",
            "\u001b[34m\u001b[1mtrain: \u001b[0m/content/fire-1/train/images/ck0rp95tf2vg70794wbjk2kk3_jpeg_jpg.rf.b9aefc8862ac0b7de090e3bf0795d2db.jpg: ignoring corrupt image/label: Label class 1 exceeds dataset class count 1. Possible class labels are 0-0\n",
            "\u001b[34m\u001b[1mtrain: \u001b[0m/content/fire-1/train/images/ck0rp9iochje10a46pq920puz_jpeg_jpg.rf.611c168bd5a66bc98817fef81a783720.jpg: ignoring corrupt image/label: Label class 1 exceeds dataset class count 1. Possible class labels are 0-0\n",
            "\u001b[34m\u001b[1mtrain: \u001b[0m/content/fire-1/train/images/ck0rp9zh85rbh0944g0fanl6o_jpeg_jpg.rf.835caed453be629f9a0337501867e292.jpg: ignoring corrupt image/label: Label class 1 exceeds dataset class count 1. Possible class labels are 0-0\n",
            "\u001b[34m\u001b[1mtrain: \u001b[0m/content/fire-1/train/images/ck0rpe8ja3z6m0863q1narygs_jpeg_jpg.rf.f4ac6f147f0d973286a6e143e978e6cc.jpg: ignoring corrupt image/label: Label class 1 exceeds dataset class count 1. Possible class labels are 0-0\n",
            "\u001b[34m\u001b[1mtrain: \u001b[0m/content/fire-1/train/images/ck0rpemia2zhr0794cdnvuzck_jpeg_jpg.rf.e0aa036d0478d549a988ea0d97c5e3e4.jpg: ignoring corrupt image/label: Label class 1 exceeds dataset class count 1. Possible class labels are 0-0\n",
            "\u001b[34m\u001b[1mtrain: \u001b[0m/content/fire-1/train/images/ck0rpfqrnhnon0a46jv1r8s8w_jpeg_jpg.rf.3d8562b3e6d8db2c1e710e8b9b54d310.jpg: ignoring corrupt image/label: Label class 1 exceeds dataset class count 1. Possible class labels are 0-0\n",
            "\u001b[34m\u001b[1mtrain: \u001b[0m/content/fire-1/train/images/ck0rpimt3ifig0848hijlm44t_jpeg_jpg.rf.994cdd9d63e8bf2e7814c29e273cad71.jpg: ignoring corrupt image/label: Label class 1 exceeds dataset class count 1. Possible class labels are 0-0\n",
            "\u001b[34m\u001b[1mtrain: \u001b[0m/content/fire-1/train/images/ck0rpje8d32fg07940gwkympb_jpeg_jpg.rf.6ff57744c61d3ca1d31552d8a5df920e.jpg: ignoring corrupt image/label: Label class 1 exceeds dataset class count 1. Possible class labels are 0-0\n",
            "\u001b[34m\u001b[1mtrain: \u001b[0m/content/fire-1/train/images/ck0rpjxds42tv0863ke8nrsmn_jpeg_jpg.rf.f33210349b549310a441827db8275dd1.jpg: ignoring corrupt image/label: Label class 1 exceeds dataset class count 1. Possible class labels are 0-0\n",
            "\u001b[34m\u001b[1mtrain: \u001b[0m/content/fire-1/train/images/ck0rplig25z1n0944kpecwx3o_jpeg_jpg.rf.b1ee3dddc7e4c11e628019e960d6a748.jpg: ignoring corrupt image/label: Label class 1 exceeds dataset class count 1. Possible class labels are 0-0\n",
            "\u001b[34m\u001b[1mtrain: \u001b[0m/content/fire-1/train/images/ck0rqdyeq4kxa08633xv2wqe1_jpeg_jpg.rf.5152ba70c0d698608e8695ae41bbff35.jpg: ignoring corrupt image/label: Label class 1 exceeds dataset class count 1. Possible class labels are 0-0\n",
            "\u001b[34m\u001b[1mtrain: \u001b[0m/content/fire-1/train/images/ck0rqf6p055aw0838g7rq1u9v_jpeg_jpg.rf.b266c5681ab7be62bcf3ad0c98bcc400.jpg: ignoring corrupt image/label: Label class 1 exceeds dataset class count 1. Possible class labels are 0-0\n",
            "\u001b[34m\u001b[1mtrain: \u001b[0m/content/fire-1/train/images/ck0rqflbw4lvd0863gyi0mzp1_jpeg_jpg.rf.2c62c76d182e3bea93e20d27e8e64c43.jpg: ignoring corrupt image/label: Label class 1 exceeds dataset class count 1. Possible class labels are 0-0\n",
            "\u001b[34m\u001b[1mtrain: \u001b[0m/content/fire-1/train/images/ck0rqfvfjizmt0848qs0rsd4l_jpeg_jpg.rf.a37ba86208c6e69cf178f0c7710e075b.jpg: ignoring corrupt image/label: Label class 1 exceeds dataset class count 1. Possible class labels are 0-0\n",
            "\u001b[34m\u001b[1mtrain: \u001b[0m/content/fire-1/train/images/ck0rqgv1m8wok07216g2getrt_jpeg_jpg.rf.3a9b817f71a3993c06ed6bdaf87ae78c.jpg: ignoring corrupt image/label: Label class 1 exceeds dataset class count 1. Possible class labels are 0-0\n",
            "\u001b[34m\u001b[1mtrain: \u001b[0m/content/fire-1/train/images/ck0rqiv7l57ak0838i1l3rovg_jpeg_jpg.rf.c07a3e57fd7e30f8de16dd68c2d403d9.jpg: ignoring corrupt image/label: Label class 1 exceeds dataset class count 1. Possible class labels are 0-0\n",
            "\u001b[34m\u001b[1mtrain: \u001b[0m/content/fire-1/train/images/ck0rqjda68xrv07215zq41dpi_jpeg_jpg.rf.1510356d352801b7a21e7014c5ed0f73.jpg: ignoring corrupt image/label: Label class 1 exceeds dataset class count 1. Possible class labels are 0-0\n",
            "\u001b[34m\u001b[1mtrain: \u001b[0m/content/fire-1/train/images/ck0rqjl29ibr20a46351u8ys5_jpeg_jpg.rf.3f4ce0e09a0b5a9f5133b84588cbe794.jpg: ignoring corrupt image/label: Label class 1 exceeds dataset class count 1. Possible class labels are 0-0\n",
            "\u001b[34m\u001b[1mtrain: \u001b[0m/content/fire-1/train/images/ck0rqkhjb4o7k0863lhsglv38_jpeg_jpg.rf.99237c36c079830dd58c2f8a5fd8bf0e.jpg: ignoring corrupt image/label: Label class 1 exceeds dataset class count 1. Possible class labels are 0-0\n",
            "\u001b[34m\u001b[1mtrain: \u001b[0m/content/fire-1/train/images/ck0rqkoz2587n08387o17rv73_jpeg_jpg.rf.0d442c689afa00060ce9bff913dc7d8b.jpg: ignoring corrupt image/label: Label class 1 exceeds dataset class count 1. Possible class labels are 0-0\n",
            "\u001b[34m\u001b[1mtrain: \u001b[0m/content/fire-1/train/images/ck0rql046icek0a462kapdu97_jpeg_jpg.rf.5463d5989e95e4fd95cc81ae05f43756.jpg: ignoring corrupt image/label: Label class 1 exceeds dataset class count 1. Possible class labels are 0-0\n",
            "\u001b[34m\u001b[1mtrain: \u001b[0m/content/fire-1/train/images/ck0rqlgco58j50838724x6rym_jpeg_jpg.rf.4e84c5e49c32533537ffc88512d7301c.jpg: ignoring corrupt image/label: Label class 1 exceeds dataset class count 1. Possible class labels are 0-0\n",
            "\u001b[34m\u001b[1mtrain: \u001b[0m/content/fire-1/train/images/ck0rqlovu6jid0944lyedc9vj_jpeg_jpg.rf.020d49d96a6f7e1ec9769eaa25e8fcc5.jpg: ignoring corrupt image/label: Label class 1 exceeds dataset class count 1. Possible class labels are 0-0\n",
            "\u001b[34m\u001b[1mtrain: \u001b[0m/content/fire-1/train/images/ck0rqph585aki0838q1hxpf6k_jpeg_jpg.rf.4828972fe88fd83d2a367d3f2845be33.jpg: ignoring corrupt image/label: Label class 1 exceeds dataset class count 1. Possible class labels are 0-0\n",
            "\u001b[34m\u001b[1mtrain: \u001b[0m/content/fire-1/train/images/ck0rqq0y3j4tu0848p884qvn1_jpeg_jpg.rf.65a56bfa98689320a4269366a266e95f.jpg: ignoring corrupt image/label: Label class 1 exceeds dataset class count 1. Possible class labels are 0-0\n",
            "\u001b[34m\u001b[1mtrain: \u001b[0m/content/fire-1/train/images/ck0rqqw9o6t8x07017cthtiom_jpeg_jpg.rf.68b3cf615810b67fa0af91056577ecc9.jpg: ignoring corrupt image/label: Label class 1 exceeds dataset class count 1. Possible class labels are 0-0\n",
            "\u001b[34m\u001b[1mtrain: \u001b[0m/content/fire-1/train/images/ck0rqrdr86mhp09441c8d69w7_jpeg_jpg.rf.1c7a7b3e7b20b989aaf0791b76a7043c.jpg: ignoring corrupt image/label: Label class 1 exceeds dataset class count 1. Possible class labels are 0-0\n",
            "\u001b[34m\u001b[1mtrain: \u001b[0m/content/fire-1/train/images/ck0rqzwam6rx20944o5eby5wd_jpeg_jpg.rf.f902536dbea5e85b64d69e50cb816608.jpg: ignoring corrupt image/label: Label class 1 exceeds dataset class count 1. Possible class labels are 0-0\n",
            "\u001b[34m\u001b[1mtrain: \u001b[0m/content/fire-1/train/images/ck0rr05k797je0721hrz4bw9e_jpeg_jpg.rf.e6ea7cd1c7c241984993b89aed43652c.jpg: ignoring corrupt image/label: Label class 1 exceeds dataset class count 1. Possible class labels are 0-0\n",
            "\u001b[34m\u001b[1mtrain: \u001b[0m/content/fire-1/train/images/ck0rr0ik14xk30863c291xijp_jpeg_jpg.rf.6ccdaede12155124ab524c14cddc81a5.jpg: ignoring corrupt image/label: Label class 1 exceeds dataset class count 1. Possible class labels are 0-0\n",
            "\u001b[34m\u001b[1mtrain: \u001b[0m/content/fire-1/train/images/ck0rr132a3x9r0794yhwyho26_jpeg_jpg.rf.eb8f7d2ebd1085c84984cfb1f800a0fb.jpg: ignoring corrupt image/label: Label class 1 exceeds dataset class count 1. Possible class labels are 0-0\n",
            "\u001b[34m\u001b[1mtrain: \u001b[0m/content/fire-1/train/images/ck0rr40pt71p40701fl50vzfa_jpeg_jpg.rf.90af1c6bc7dd041f71204f5ba06c98a7.jpg: ignoring corrupt image/label: Label class 1 exceeds dataset class count 1. Possible class labels are 0-0\n",
            "\u001b[34m\u001b[1mtrain: \u001b[0m/content/fire-1/train/images/ck0rr4nj43za20794o7o3btuw_jpeg_jpg.rf.eb4d4b4fee8095118067bd0400152e4d.jpg: ignoring corrupt image/label: Label class 1 exceeds dataset class count 1. Possible class labels are 0-0\n",
            "\u001b[34m\u001b[1mtrain: \u001b[0m/content/fire-1/train/images/ck0rr6kut5kx30838ethvdv5u_jpeg_jpg.rf.cef94f52468e029e501c37acf5996546.jpg: ignoring corrupt image/label: Label class 1 exceeds dataset class count 1. Possible class labels are 0-0\n",
            "\u001b[34m\u001b[1mtrain: \u001b[0m/content/fire-1/train/images/ck0rr7nhf6w970944cb2nnlih_jpeg_jpg.rf.fcabc20aea6a9faf42f9bba0bc073466.jpg: ignoring corrupt image/label: Label class 1 exceeds dataset class count 1. Possible class labels are 0-0\n",
            "\u001b[34m\u001b[1mtrain: \u001b[0m/content/fire-1/train/images/ck0rrpwlvj04d0a46r4th0cjf_jpeg_jpg.rf.66318d424101ddce4681b349aa7a8cfb.jpg: ignoring corrupt image/label: Label class 1 exceeds dataset class count 1. Possible class labels are 0-0\n",
            "\u001b[34m\u001b[1mtrain: \u001b[0m/content/fire-1/train/images/ck0t1qg3kyft90a46nddriu6k_jpeg_jpg.rf.7e21e67ff475fbd5444764988c598249.jpg: ignoring corrupt image/label: Label class 1 exceeds dataset class count 1. Possible class labels are 0-0\n",
            "\u001b[34m\u001b[1mtrain: \u001b[0m/content/fire-1/train/images/ck0t1r1esms8s0701jmlvghkw_jpeg_jpg.rf.43eed496256fa999ad15adea9235a317.jpg: ignoring corrupt image/label: Label class 1 exceeds dataset class count 1. Possible class labels are 0-0\n",
            "\u001b[34m\u001b[1mtrain: \u001b[0m/content/fire-1/train/images/ck0t1umd5jowc0794my89kbsj_jpeg_jpg.rf.575f19e5a380f6cbe9c5317237dd7cf4.jpg: ignoring corrupt image/label: Label class 1 exceeds dataset class count 1. Possible class labels are 0-0\n",
            "\u001b[34m\u001b[1mtrain: \u001b[0m/content/fire-1/train/images/ck0t1ywwdmqkf0944mhiw5huk_jpeg_jpg.rf.ac97a06582207362071a95c963d2b641.jpg: ignoring corrupt image/label: Label class 1 exceeds dataset class count 1. Possible class labels are 0-0\n",
            "\u001b[34m\u001b[1mtrain: \u001b[0m/content/fire-1/train/images/ck0t1zwemkseu08636i7fpksi_jpeg_jpg.rf.84553e6397c0b1b30d4a77d6d6623732.jpg: ignoring corrupt image/label: Label class 1 exceeds dataset class count 1. Possible class labels are 0-0\n",
            "\u001b[34m\u001b[1mtrain: \u001b[0m/content/fire-1/train/images/ck0t20os6mrcb0944xrc0wamx_jpeg_jpg.rf.ca7f74314718ce4b8025a2a2da4cc4be.jpg: ignoring corrupt image/label: Label class 1 exceeds dataset class count 1. Possible class labels are 0-0\n",
            "\u001b[34m\u001b[1mtrain: \u001b[0m/content/fire-1/train/images/ck0t22nfcmwoj0701cj69tol6_jpeg_jpg.rf.f9d0b7e6a4e1c06b2aff422fae064d0f.jpg: ignoring corrupt image/label: Label class 1 exceeds dataset class count 1. Possible class labels are 0-0\n",
            "\u001b[34m\u001b[1mtrain: \u001b[0m/content/fire-1/train/images/ck0t235u3msgt0944a7jzn8hp_jpeg_jpg.rf.0829ff3881eef6907183c1410c930c62.jpg: ignoring corrupt image/label: Label class 1 exceeds dataset class count 1. Possible class labels are 0-0\n",
            "\u001b[34m\u001b[1mtrain: \u001b[0m/content/fire-1/train/images/ck0t24ndxkug60863id6f8pfc_jpeg_jpg.rf.d2f6fc6698dec9f5264a134bcf0498f6.jpg: ignoring corrupt image/label: Label class 1 exceeds dataset class count 1. Possible class labels are 0-0\n",
            "\u001b[34m\u001b[1mtrain: \u001b[0m/content/fire-1/train/images/ck0t252udmxqz070188sd9z1u_jpeg_jpg.rf.615d518ce675664f94ec42f60e7b87f8.jpg: ignoring corrupt image/label: Label class 1 exceeds dataset class count 1. Possible class labels are 0-0\n",
            "\u001b[34m\u001b[1mtrain: \u001b[0m/content/fire-1/train/images/ck0t2b97en04q0701ndyfepcr_jpeg_jpg.rf.69b353eea803bb21b138961e9b70c81e.jpg: ignoring corrupt image/label: Label class 1 exceeds dataset class count 1. Possible class labels are 0-0\n",
            "\u001b[34m\u001b[1mtrain: \u001b[0m/content/fire-1/train/images/ck0t2d3kbyou40a46a56kl6x8_jpeg_jpg.rf.d28c52c2fe853c28fed431c1bff7be4a.jpg: ignoring corrupt image/label: Label class 1 exceeds dataset class count 1. Possible class labels are 0-0\n",
            "\u001b[34m\u001b[1mtrain: \u001b[0m/content/fire-1/train/images/ck0t2fzvhlj200838b26ckwda_jpeg_jpg.rf.96504122cdb5294808bb4eebb80c8f51.jpg: ignoring corrupt image/label: Label class 1 exceeds dataset class count 1. Possible class labels are 0-0\n",
            "\u001b[34m\u001b[1mtrain: \u001b[0m/content/fire-1/train/images/ck0t2gf1wypnz0a4651vbm3b5_jpeg_jpg.rf.da0a9d5071245add1d5191a8815197f2.jpg: ignoring corrupt image/label: Label class 1 exceeds dataset class count 1. Possible class labels are 0-0\n",
            "\u001b[34m\u001b[1mtrain: \u001b[0m/content/fire-1/train/images/ck0t2kogeyqy50a46u6e56yb9_jpeg_jpg.rf.14c73194299ee7e993b401309e0e443d.jpg: ignoring corrupt image/label: Label class 1 exceeds dataset class count 1. Possible class labels are 0-0\n",
            "\u001b[34m\u001b[1mtrain: \u001b[0m/content/fire-1/train/images/ck0t2pyk3l0ym08636r4hqnty_jpeg_jpg.rf.35ccb4385d9edc7dccb7154163c6f20a.jpg: ignoring corrupt image/label: Label class 1 exceeds dataset class count 1. Possible class labels are 0-0\n",
            "\u001b[34m\u001b[1mtrain: \u001b[0m/content/fire-1/train/images/ck0t2tlmmzfds0848mvj42ujg_jpeg_jpg.rf.518018c7385e732c587fa9ca96f1c394.jpg: ignoring corrupt image/label: Label class 1 exceeds dataset class count 1. Possible class labels are 0-0\n",
            "\u001b[34m\u001b[1mtrain: \u001b[0m/content/fire-1/train/images/ck0t2z9knn3060944ppcr9fkn_jpeg_jpg.rf.3e322eea470fbe1b0d8de6a0dc58d23b.jpg: ignoring corrupt image/label: Label class 1 exceeds dataset class count 1. Possible class labels are 0-0\n",
            "\u001b[34m\u001b[1mtrain: \u001b[0m/content/fire-1/train/images/ck0t2zodcyvqs0a46wwxb53xm_jpeg_jpg.rf.8c66c165a34325a156d2517fe213324d.jpg: ignoring corrupt image/label: Label class 1 exceeds dataset class count 1. Possible class labels are 0-0\n",
            "\u001b[34m\u001b[1mtrain: \u001b[0m/content/fire-1/train/images/ck0t2zw8elp2f0838ve84hm51_jpeg_jpg.rf.1f0c4478ec3f3e704bed93fb009a9ab4.jpg: ignoring corrupt image/label: Label class 1 exceeds dataset class count 1. Possible class labels are 0-0\n",
            "\u001b[34m\u001b[1mtrain: \u001b[0m/content/fire-1/train/images/ck0t30z1wlpg60838dc6e4lcx_jpeg_jpg.rf.0da549b6b83d625d176bcfa0a7a29d26.jpg: ignoring corrupt image/label: Label class 1 exceeds dataset class count 1. Possible class labels are 0-0\n",
            "\u001b[34m\u001b[1mtrain: \u001b[0m/content/fire-1/train/images/ck0t3htqxn88w09443dhqtzrh_jpeg_jpg.rf.f98fe6b243ecaf91704eb7edf3439ff0.jpg: ignoring corrupt image/label: Label class 1 exceeds dataset class count 1. Possible class labels are 0-0\n",
            "\u001b[34m\u001b[1mtrain: \u001b[0m/content/fire-1/train/images/ck0t3kjngndaa0701i76i8q2c_jpeg_jpg.rf.86fa288937fb818bb214a238dc69ee1b.jpg: ignoring corrupt image/label: Label class 1 exceeds dataset class count 1. Possible class labels are 0-0\n",
            "\u001b[34m\u001b[1mtrain: \u001b[0m/content/fire-1/train/images/ck0t3r291z3xb0a46a6hx1rak_jpeg_jpg.rf.08045dea74f310a1ade4d5cb3f86f420.jpg: ignoring corrupt image/label: Label class 1 exceeds dataset class count 1. Possible class labels are 0-0\n",
            "\u001b[34m\u001b[1mtrain: \u001b[0m/content/fire-1/train/images/ck0t3r8twkazh0794uxyta3xz_jpeg_jpg.rf.8c7f2c1000e5b3a4a7eb544c014f3273.jpg: ignoring corrupt image/label: Label class 1 exceeds dataset class count 1. Possible class labels are 0-0\n",
            "\u001b[34m\u001b[1mtrain: \u001b[0m/content/fire-1/train/images/ck0t3s74cnfks070126deykt2_jpeg_jpg.rf.9f2191220657826cbb0b40fb373ced53.jpg: ignoring corrupt image/label: Label class 1 exceeds dataset class count 1. Possible class labels are 0-0\n",
            "\u001b[34m\u001b[1mtrain: \u001b[0m/content/fire-1/train/images/ck0t3zlhdz6180a46kq06kflk_jpeg_jpg.rf.83edece96b1dea0cd2e59e2e3d9e8792.jpg: ignoring corrupt image/label: Label class 1 exceeds dataset class count 1. Possible class labels are 0-0\n",
            "\u001b[34m\u001b[1mtrain: \u001b[0m/content/fire-1/train/images/ck0t3zt3lnd7u0944gqvvuxtw_jpeg_jpg.rf.bf39718464104be5e3107fef6a53a708.jpg: ignoring corrupt image/label: Label class 1 exceeds dataset class count 1. Possible class labels are 0-0\n",
            "\u001b[34m\u001b[1mtrain: \u001b[0m/content/fire-1/train/images/ck0t40rhdz68s0a46ekx049a6_jpeg_jpg.rf.dbc692213da3eefc65c257e4b44daf0f.jpg: ignoring corrupt image/label: Label class 1 exceeds dataset class count 1. Possible class labels are 0-0\n",
            "\u001b[34m\u001b[1mtrain: \u001b[0m/content/fire-1/train/images/ck0t421swni18070115tymsht_jpeg_jpg.rf.1b271a67c1a66eb7d2049b0d816c1dce.jpg: ignoring corrupt image/label: Label class 1 exceeds dataset class count 1. Possible class labels are 0-0\n",
            "\u001b[34m\u001b[1mtrain: \u001b[0m/content/fire-1/train/images/ck0t45urenix00701imio8cdw_jpeg_jpg.rf.4f05c442d47c2a9b5379d821386e0d11.jpg: ignoring corrupt image/label: Label class 1 exceeds dataset class count 1. Possible class labels are 0-0\n",
            "\u001b[34m\u001b[1mtrain: \u001b[0m/content/fire-1/train/images/ck0t4kdl1nlyb07011sj8qjd8_jpeg_jpg.rf.fc2e0a003ddd2b4e2a32e1b91242ce02.jpg: ignoring corrupt image/label: Label class 1 exceeds dataset class count 1. Possible class labels are 0-0\n",
            "\u001b[34m\u001b[1mtrain: \u001b[0m/content/fire-1/train/images/ck0t4mzl8ljds0863b0iswyfc_jpeg_jpg.rf.903221ca20e169abe22105e523b56841.jpg: ignoring corrupt image/label: Label class 1 exceeds dataset class count 1. Possible class labels are 0-0\n",
            "\u001b[34m\u001b[1mtrain: \u001b[0m/content/fire-1/train/images/ck0t4pic2zxuv0848rp6npxiw_jpeg_jpg.rf.e763a4e929a55d4f45e8285f4a2a8e93.jpg: ignoring corrupt image/label: Label class 1 exceeds dataset class count 1. Possible class labels are 0-0\n",
            "\u001b[34m\u001b[1mtrain: \u001b[0m/content/fire-1/train/images/ck0t4rrmsnjuy0944xt22ilg4_jpeg_jpg.rf.78ef031b058f02c6f3ef74ab403197a8.jpg: ignoring corrupt image/label: Label class 1 exceeds dataset class count 1. Possible class labels are 0-0\n",
            "\u001b[34m\u001b[1mtrain: \u001b[0m/content/fire-1/train/images/ck0t4s7ibnk170944ffcd9q57_jpeg_jpg.rf.9f7ac13b0d57841f776b3911df0e46b4.jpg: ignoring corrupt image/label: Label class 1 exceeds dataset class count 1. Possible class labels are 0-0\n",
            "\u001b[34m\u001b[1mtrain: \u001b[0m/content/fire-1/train/images/ck0t4sh7pnk3v09447wbxifkk_jpeg_jpg.rf.0c6cf7b68f709fa6d2667fdc5f024af7.jpg: ignoring corrupt image/label: Label class 1 exceeds dataset class count 1. Possible class labels are 0-0\n",
            "\u001b[34m\u001b[1mtrain: \u001b[0m/content/fire-1/train/images/ck0t4z1yrkmfv0794t2oqhd3f_jpeg_jpg.rf.7d2e47163eaa6625c97a945d37966cb2.jpg: ignoring corrupt image/label: Label class 1 exceeds dataset class count 1. Possible class labels are 0-0\n",
            "\u001b[34m\u001b[1mtrain: \u001b[0m/content/fire-1/train/images/ck0t50qh5zfpc0a46o2ppy49w_jpeg_jpg.rf.86a2308f6943eefe28f59508cc82c032.jpg: ignoring corrupt image/label: Label class 1 exceeds dataset class count 1. Possible class labels are 0-0\n",
            "\u001b[34m\u001b[1mtrain: \u001b[0m/content/fire-1/train/images/ck0t5243y02ss0848d4w8z1bl_jpeg_jpg.rf.0ac0aed88f10b07596ee4f530699f34e.jpg: ignoring corrupt image/label: Label class 1 exceeds dataset class count 1. Possible class labels are 0-0\n",
            "\u001b[34m\u001b[1mtrain: \u001b[0m/content/fire-1/train/images/ck0t52agrlp0p0863vg9f8svy_jpeg_jpg.rf.69782cd2f8e9594bb31b438e26abcc1c.jpg: ignoring corrupt image/label: Label class 1 exceeds dataset class count 1. Possible class labels are 0-0\n",
            "\u001b[34m\u001b[1mtrain: \u001b[0m/content/fire-1/train/images/ck0t52natq0it07218mpku7q5_jpeg_jpg.rf.429b3f6bcf66bb7c97068b75372b4b77.jpg: ignoring corrupt image/label: Label class 1 exceeds dataset class count 1. Possible class labels are 0-0\n",
            "\u001b[34m\u001b[1mtrain: \u001b[0m/content/fire-1/train/images/ck0t592vckr6p07949h19oxce_jpeg_jpg.rf.ac51048fbd94927b9cecb6f3f0894010.jpg: ignoring corrupt image/label: Label class 1 exceeds dataset class count 1. Possible class labels are 0-0\n",
            "\u001b[34m\u001b[1mtrain: \u001b[0m/content/fire-1/train/images/ck0t59c0wnw4607010uyziiam_jpeg_jpg.rf.115fb46b8bd0be80e89be2e83f728d16.jpg: ignoring corrupt image/label: Label class 1 exceeds dataset class count 1. Possible class labels are 0-0\n",
            "\u001b[34m\u001b[1mtrain: \u001b[0m/content/fire-1/train/images/ck0t5n2jlkxuc07940mygjo8f_jpeg_jpg.rf.6ec612852c7a042d54181d18c3167ea7.jpg: ignoring corrupt image/label: Label class 1 exceeds dataset class count 1. Possible class labels are 0-0\n",
            "\u001b[34m\u001b[1mtrain: \u001b[0m/content/fire-1/train/images/ck0t5nqi3zqqj0a46iyhhhw7b_jpeg_jpg.rf.b0b77a50b65a94610027387859ac4654.jpg: ignoring corrupt image/label: Label class 1 exceeds dataset class count 1. Possible class labels are 0-0\n",
            "\u001b[34m\u001b[1mtrain: \u001b[0m/content/fire-1/train/images/ck0t5oyi1mlpd08385ihi4js3_jpeg_jpg.rf.a8992189995755ccbb5e9d456bedd7b0.jpg: ignoring corrupt image/label: Label class 1 exceeds dataset class count 1. Possible class labels are 0-0\n",
            "\u001b[34m\u001b[1mtrain: \u001b[0m/content/fire-1/train/images/ck0t5sc8zo0px0944bab8o9n5_jpeg_jpg.rf.ff4b97b7fa6315c5c64765426e42f844.jpg: ignoring corrupt image/label: Label class 1 exceeds dataset class count 1. Possible class labels are 0-0\n",
            "\u001b[34m\u001b[1mtrain: \u001b[0m/content/fire-1/train/images/ck0t5t7ggo1650944q3cyegrd_jpeg_jpg.rf.24ac4dbb10b181247f9e87dc29683f88.jpg: ignoring corrupt image/label: Label class 1 exceeds dataset class count 1. Possible class labels are 0-0\n",
            "\u001b[34m\u001b[1mtrain: \u001b[0m/content/fire-1/train/images/ck0t5tq5hmo8508389vjkpile_jpeg_jpg.rf.d6717d24c086c5faa0841d17f9a24ab7.jpg: ignoring corrupt image/label: Label class 1 exceeds dataset class count 1. Possible class labels are 0-0\n",
            "\u001b[34m\u001b[1mtrain: \u001b[0m/content/fire-1/train/images/ck0t5vqyazukh0a46v2hq9td6_jpeg_jpg.rf.549726b616b00324ec4a61fb376dff51.jpg: ignoring corrupt image/label: Label class 1 exceeds dataset class count 1. Possible class labels are 0-0\n",
            "\u001b[34m\u001b[1mtrain: \u001b[0m/content/fire-1/train/images/ck0t5wu9ao70b0701rdv7c7af_jpeg_jpg.rf.8a6501359cba2eb76b77aff2004d4ef6.jpg: ignoring corrupt image/label: Label class 1 exceeds dataset class count 1. Possible class labels are 0-0\n",
            "\u001b[34m\u001b[1mtrain: \u001b[0m/content/fire-1/train/images/ck0t5xpty0hyp08488g6a7n6l_jpeg_jpg.rf.ccc58b4ed8bcb359a0f71b0a450f4e1b.jpg: ignoring corrupt image/label: Label class 1 exceeds dataset class count 1. Possible class labels are 0-0\n",
            "\u001b[34m\u001b[1mtrain: \u001b[0m/content/fire-1/train/images/ck0t6epc3ql720721yfbt878q_jpeg_jpg.rf.823841f8ae09010b2be30f4979115cd9.jpg: ignoring corrupt image/label: Label class 1 exceeds dataset class count 1. Possible class labels are 0-0\n",
            "\u001b[34m\u001b[1mtrain: \u001b[0m/content/fire-1/train/images/ck0t6flogo9bb094428fjegnm_jpeg_jpg.rf.0c061f0786450f0511c3c1f84361061a.jpg: ignoring corrupt image/label: Label class 1 exceeds dataset class count 1. Possible class labels are 0-0\n",
            "\u001b[34m\u001b[1mtrain: \u001b[0m/content/fire-1/train/images/ck0t6nixgmcop0863zbzsc32e_jpeg_jpg.rf.ae5130be55e63351076d232848934b0b.jpg: ignoring corrupt image/label: Label class 1 exceeds dataset class count 1. Possible class labels are 0-0\n",
            "\u001b[34m\u001b[1mtrain: \u001b[0m/content/fire-1/train/images/ck0t6o7hrlbs407944kyd1i2r_jpeg_jpg.rf.0856eca901fa9aec397a581cd5fe7437.jpg: ignoring corrupt image/label: Label class 1 exceeds dataset class count 1. Possible class labels are 0-0\n",
            "\u001b[34m\u001b[1mtrain: \u001b[0m/content/fire-1/train/images/ck0t6p0chogef0701xhns6ujk_jpeg_jpg.rf.f8309292bae49a9c5dfb6749c05cde7d.jpg: ignoring corrupt image/label: Label class 1 exceeds dataset class count 1. Possible class labels are 0-0\n",
            "\u001b[34m\u001b[1mtrain: \u001b[0m/content/fire-1/train/images/ck0t6v4mw07810a46gj9vqfvu_jpeg_jpg.rf.595f1b5fb3f39f68b3e8acaa0406793e.jpg: ignoring corrupt image/label: Label class 1 exceeds dataset class count 1. Possible class labels are 0-0\n",
            "\u001b[34m\u001b[1mtrain: \u001b[0m/content/fire-1/train/images/ck0t6yokymh1c0863qvlkbezb_jpeg_jpg.rf.0b7b7b0800c0df27ae49728ac162f4f6.jpg: ignoring corrupt image/label: Label class 1 exceeds dataset class count 1. Possible class labels are 0-0\n",
            "\u001b[34m\u001b[1mtrain: \u001b[0m/content/fire-1/train/images/ck0t734s0mizv0863sujq0i7p_jpeg_jpg.rf.7c5c351dba64cfc46bb7e25abb478b69.jpg: ignoring corrupt image/label: Label class 1 exceeds dataset class count 1. Possible class labels are 0-0\n",
            "\u001b[34m\u001b[1mtrain: \u001b[0m/content/fire-1/train/images/ck0t73htzoi4l0944t1g4vr7e_jpeg_jpg.rf.3900a2030abdc6ff305235987fb68611.jpg: ignoring corrupt image/label: Label class 1 exceeds dataset class count 1. Possible class labels are 0-0\n",
            "\u001b[34m\u001b[1mtrain: \u001b[0m/content/fire-1/train/images/ck0t74gx40b5u0a46s72no2dg_jpeg_jpg.rf.684051a03ecab37d03e095c3bba897ea.jpg: ignoring corrupt image/label: Label class 1 exceeds dataset class count 1. Possible class labels are 0-0\n",
            "\u001b[34m\u001b[1mtrain: \u001b[0m/content/fire-1/train/images/ck0t75ti6on9t07015p6wbjle_jpeg_jpg.rf.0748537761f37ca4dc45dca298c6a7e6.jpg: ignoring corrupt image/label: Label class 1 exceeds dataset class count 1. Possible class labels are 0-0\n",
            "\u001b[34m\u001b[1mtrain: \u001b[0m/content/fire-1/train/images/ck0t765i5mk8j0863od0a5ghy_jpeg_jpg.rf.9f5fd45ff8f58f81408ab986c24691bf.jpg: ignoring corrupt image/label: Label class 1 exceeds dataset class count 1. Possible class labels are 0-0\n",
            "\u001b[34m\u001b[1mtrain: \u001b[0m/content/fire-1/train/images/ck0t7cczuqxtt07212nj5eznh_jpeg_jpg.rf.8cca0050388b59063b01d09935260b45.jpg: ignoring corrupt image/label: Label class 1 exceeds dataset class count 1. Possible class labels are 0-0\n",
            "\u001b[34m\u001b[1mtrain: \u001b[0m/content/fire-1/train/images/ck0t7cnx9n84208386ufrbnj2_jpeg_jpg.rf.496059c90c590e8c8d5919ee1f51c28b.jpg: ignoring corrupt image/label: Label class 1 exceeds dataset class count 1. Possible class labels are 0-0\n",
            "\u001b[34m\u001b[1mtrain: \u001b[0m/content/fire-1/train/images/ck0t7czov10bf08489elv37go_jpeg_jpg.rf.c473eb274001542acf0c18bd43cb65b3.jpg: ignoring corrupt image/label: Label class 1 exceeds dataset class count 1. Possible class labels are 0-0\n",
            "\u001b[34m\u001b[1mtrain: \u001b[0m/content/fire-1/train/images/ck0t7hsj2on2s094444drdqs0_jpeg_jpg.rf.8dd4ae7074f12e8c7ef03e5b101bd429.jpg: ignoring corrupt image/label: Label class 1 exceeds dataset class count 1. Possible class labels are 0-0\n",
            "\u001b[34m\u001b[1mtrain: \u001b[0m/content/fire-1/train/images/ck0t7iosiorq50701wgtb048m_jpeg_jpg.rf.9101974a1f2d519f52ecb4a5f66cfc19.jpg: ignoring corrupt image/label: Label class 1 exceeds dataset class count 1. Possible class labels are 0-0\n",
            "\u001b[34m\u001b[1mtrain: \u001b[0m/content/fire-1/train/images/ck0t7s2o0ne4408387zvqn6pr_jpeg_jpg.rf.f4e8973a3c692f61f0709a50c6a93dd1.jpg: ignoring corrupt image/label: Label class 1 exceeds dataset class count 1. Possible class labels are 0-0\n",
            "\u001b[34m\u001b[1mtrain: \u001b[0m/content/fire-1/train/images/ck0t7yaokmuhl0863v1rlsm5p_jpeg_jpg.rf.7ad0f6837ee651b6fa116b7d229b500a.jpg: ignoring corrupt image/label: Label class 1 exceeds dataset class count 1. Possible class labels are 0-0\n",
            "\u001b[34m\u001b[1mtrain: \u001b[0m/content/fire-1/train/images/ck0t81ysfnhui0838yucfeszk_jpeg_jpg.rf.422777643a756d89f6418d8753280512.jpg: ignoring corrupt image/label: Label class 1 exceeds dataset class count 1. Possible class labels are 0-0\n",
            "\u001b[34m\u001b[1mtrain: \u001b[0m/content/fire-1/train/images/ck0tssirhrq1u0863eoicr5bp_jpeg_jpg.rf.190bb0fc234f1a3796325019bff17d7d.jpg: ignoring corrupt image/label: Label class 1 exceeds dataset class count 1. Possible class labels are 0-0\n",
            "\u001b[34m\u001b[1mtrain: \u001b[0m/content/fire-1/train/images/ck0tstact5eu60a46dakdr243_jpeg_jpg.rf.9baff8e6afad5d425d0fe3131b028b67.jpg: ignoring corrupt image/label: Label class 1 exceeds dataset class count 1. Possible class labels are 0-0\n",
            "\u001b[34m\u001b[1mtrain: \u001b[0m/content/fire-1/train/images/ck0tsvw19vzj90721zgwt6zcu_jpeg_jpg.rf.10b26e8101566f9eb4c6cc0f7d8d43fc.jpg: ignoring corrupt image/label: Label class 1 exceeds dataset class count 1. Possible class labels are 0-0\n",
            "\u001b[34m\u001b[1mtrain: \u001b[0m/content/fire-1/train/images/ck0tsw61gqm680794v186apwr_jpeg_jpg.rf.45a40aead5758399976839be8c42f4de.jpg: ignoring corrupt image/label: Label class 1 exceeds dataset class count 1. Possible class labels are 0-0\n",
            "\u001b[34m\u001b[1mtrain: \u001b[0m/content/fire-1/train/images/ck0tswp1wtrfp0701idogph92_jpeg_jpg.rf.6ac49a500d05157f905a2372856e1536.jpg: ignoring corrupt image/label: Label class 1 exceeds dataset class count 1. Possible class labels are 0-0\n",
            "\u001b[34m\u001b[1mtrain: \u001b[0m/content/fire-1/train/images/ck0tswxwqqmau0794imifdgnh_jpeg_jpg.rf.aa84d5b0df8103997d22663e0e115d69.jpg: ignoring corrupt image/label: Label class 1 exceeds dataset class count 1. Possible class labels are 0-0\n",
            "\u001b[34m\u001b[1mtrain: \u001b[0m/content/fire-1/train/images/ck0tsx6f1rqmc08631bs71ker_jpeg_jpg.rf.b5604ca13d9f81b26e646ffff3703e81.jpg: ignoring corrupt image/label: Label class 1 exceeds dataset class count 1. Possible class labels are 0-0\n",
            "\u001b[34m\u001b[1mtrain: \u001b[0m/content/fire-1/train/images/ck0tsyvp361ow084867dinue0_jpeg_jpg.rf.7571f02d04c2dce3fde14296e8da388c.jpg: ignoring corrupt image/label: Label class 1 exceeds dataset class count 1. Possible class labels are 0-0\n",
            "\u001b[34m\u001b[1mtrain: \u001b[0m/content/fire-1/train/images/ck0tsz3b0624008481fmfbt28_jpeg_jpg.rf.c57f8634e64b92c2d7e6b1ae4f6280c2.jpg: ignoring corrupt image/label: Label class 1 exceeds dataset class count 1. Possible class labels are 0-0\n",
            "\u001b[34m\u001b[1mtrain: \u001b[0m/content/fire-1/train/images/ck0tszlepw02k0721zr71djfj_jpeg_jpg.rf.bf4e7f2f3b20ae6570ca8fb058329f49.jpg: ignoring corrupt image/label: Label class 1 exceeds dataset class count 1. Possible class labels are 0-0\n",
            "\u001b[34m\u001b[1mtrain: \u001b[0m/content/fire-1/train/images/ck0tt0dkysbs70838q7t3vnr9_jpeg_jpg.rf.8afd605705817d1570672a7349ad4829.jpg: ignoring corrupt image/label: Label class 1 exceeds dataset class count 1. Possible class labels are 0-0\n",
            "\u001b[34m\u001b[1mtrain: \u001b[0m/content/fire-1/train/images/ck0tt28fjsc1i0838s2ji5dhe_jpeg_jpg.rf.52466e32f1a3329dcac5f7a4d01062f6.jpg: ignoring corrupt image/label: Label class 1 exceeds dataset class count 1. Possible class labels are 0-0\n",
            "\u001b[34m\u001b[1mtrain: \u001b[0m/content/fire-1/train/images/ck0tt2h2btoz109449lxjh5hi_jpeg_jpg.rf.bfdef3f0dac0735ccaa4bfc31c7e81cc.jpg: ignoring corrupt image/label: Label class 1 exceeds dataset class count 1. Possible class labels are 0-0\n",
            "\u001b[34m\u001b[1mtrain: \u001b[0m/content/fire-1/train/images/ck0tt2r6arrbl0863z4d7kz9g_jpeg_jpg.rf.26158f1f58f6e8358a56ba742c640fce.jpg: ignoring corrupt image/label: Label class 1 exceeds dataset class count 1. Possible class labels are 0-0\n",
            "\u001b[34m\u001b[1mtrain: \u001b[0m/content/fire-1/train/images/ck0tt357asc4k0838zbkl0wrd_jpeg_jpg.rf.fed0cd4d64c6f3dfaf7e13f42ce12934.jpg: ignoring corrupt image/label: Label class 1 exceeds dataset class count 1. Possible class labels are 0-0\n",
            "\u001b[34m\u001b[1mtrain: \u001b[0m/content/fire-1/train/images/ck0tt3hm6tsh90701m4t0sq7e_jpeg_jpg.rf.5c9f81a11c4f0ed884018ef691dceb08.jpg: ignoring corrupt image/label: Label class 1 exceeds dataset class count 1. Possible class labels are 0-0\n",
            "\u001b[34m\u001b[1mtrain: \u001b[0m/content/fire-1/train/images/ck0twb97n5uc20a46en2e2spb_jpeg_jpg.rf.a480129e6c35614de0c1479c0f8e335e.jpg: ignoring corrupt image/label: Label class 1 exceeds dataset class count 1. Possible class labels are 0-0\n",
            "\u001b[34m\u001b[1mtrain: \u001b[0m/content/fire-1/train/images/ck0twbr4hwf330721j3vv8j30_jpeg_jpg.rf.1f7f1a5e630500e19eea55b861b10e3c.jpg: ignoring corrupt image/label: Label class 1 exceeds dataset class count 1. Possible class labels are 0-0\n",
            "\u001b[34m\u001b[1mtrain: \u001b[0m/content/fire-1/train/images/ck0twbzbz6hga0848z3sx5lsi_jpeg_jpg.rf.b969c4790620bb4e3f5e58314402f513.jpg: ignoring corrupt image/label: Label class 1 exceeds dataset class count 1. Possible class labels are 0-0\n",
            "\u001b[34m\u001b[1mtrain: \u001b[0m/content/fire-1/train/images/ck0twef0nu7ej0701ku08izg4_jpeg_jpg.rf.3fff0e0e8de7e6a684e5092cfb674b5f.jpg: ignoring corrupt image/label: Label class 1 exceeds dataset class count 1. Possible class labels are 0-0\n",
            "\u001b[34m\u001b[1mtrain: \u001b[0m/content/fire-1/train/images/ck0twempn5ur80a462q4bosuo_jpeg_jpg.rf.7a11ee98c0e92a6803ee8cdb40bca239.jpg: ignoring corrupt image/label: Label class 1 exceeds dataset class count 1. Possible class labels are 0-0\n",
            "\u001b[34m\u001b[1mtrain: \u001b[0m/content/fire-1/train/images/ck0twhqawsr970838xj2topr5_jpeg_jpg.rf.76d9cf439bd660573da97b5ded59e1d8.jpg: ignoring corrupt image/label: Label class 1 exceeds dataset class count 1. Possible class labels are 0-0\n",
            "\u001b[34m\u001b[1mtrain: \u001b[0m/content/fire-1/train/images/ck0twi6d05v8f0a469q54h3iq_jpeg_jpg.rf.8ed453eac35de093da9b421b1b76ed0c.jpg: ignoring corrupt image/label: Label class 1 exceeds dataset class count 1. Possible class labels are 0-0\n",
            "\u001b[34m\u001b[1mtrain: \u001b[0m/content/fire-1/train/images/ck0twl6pqwg6c0721ja81m52m_jpeg_jpg.rf.e6e1722de63e74341c26f0e9ede51f22.jpg: ignoring corrupt image/label: Label class 1 exceeds dataset class count 1. Possible class labels are 0-0\n",
            "\u001b[34m\u001b[1mtrain: \u001b[0m/content/fire-1/train/images/ck0twvkofr3wr0794xzv7br97_jpeg_jpg.rf.914927d5736c17728be06c0fb5a03570.jpg: ignoring corrupt image/label: Label class 1 exceeds dataset class count 1. Possible class labels are 0-0\n",
            "\u001b[34m\u001b[1mtrain: \u001b[0m/content/fire-1/train/images/ck0twvs9zu5t00944ltnvijnz_jpeg_jpg.rf.8e6056b6ba88b8536d3d2b0e10beccd4.jpg: ignoring corrupt image/label: Label class 1 exceeds dataset class count 1. Possible class labels are 0-0\n",
            "\u001b[34m\u001b[1mtrain: \u001b[0m/content/fire-1/train/images/ck0twwuxz6k9i0848br68e8wm_jpeg_jpg.rf.b822cd17e4311c53220e9c82c275788f.jpg: ignoring corrupt image/label: Label class 1 exceeds dataset class count 1. Possible class labels are 0-0\n",
            "\u001b[34m\u001b[1mtrain: \u001b[0m/content/fire-1/train/images/ck0twxu2f5xaj0a4648ury7hi_jpeg_jpg.rf.3849ecca995527f1cf7e96bddd81f29e.jpg: ignoring corrupt image/label: Label class 1 exceeds dataset class count 1. Possible class labels are 0-0\n",
            "\u001b[34m\u001b[1mtrain: \u001b[0m/content/fire-1/train/images/ck0twzaqtua2r0701hljesqvp_jpeg_jpg.rf.5a1843e943a3460b0d97c647665e91d3.jpg: ignoring corrupt image/label: Label class 1 exceeds dataset class count 1. Possible class labels are 0-0\n",
            "\u001b[34m\u001b[1mtrain: \u001b[0m/content/fire-1/train/images/ck0twzjvps8kb0863yht85hg8_jpeg_jpg.rf.24299d8f952ee3c5a0cd6fe78f469358.jpg: ignoring corrupt image/label: Label class 1 exceeds dataset class count 1. Possible class labels are 0-0\n",
            "\u001b[34m\u001b[1mtrain: \u001b[0m/content/fire-1/train/images/ck0twzs19s8ld08632qx4gg12_jpeg_jpg.rf.4bd24a973555fe308367cd6d403ea792.jpg: ignoring corrupt image/label: Label class 1 exceeds dataset class count 1. Possible class labels are 0-0\n",
            "\u001b[34m\u001b[1mtrain: \u001b[0m/content/fire-1/train/images/ck0tx0999u6br0944s68atde0_jpeg_jpg.rf.a761cc1b70dda5700ab3ecab0bd7fefe.jpg: ignoring corrupt image/label: Label class 1 exceeds dataset class count 1. Possible class labels are 0-0\n",
            "\u001b[34m\u001b[1mtrain: \u001b[0m/content/fire-1/train/images/ck0tx10f0r4n40794pbbiu6iw_jpeg_jpg.rf.f01482ea3c11b658b3b74597ec37c3c9.jpg: ignoring corrupt image/label: Label class 1 exceeds dataset class count 1. Possible class labels are 0-0\n",
            "\u001b[34m\u001b[1mtrain: \u001b[0m/content/fire-1/train/images/ck0tx2mh0r4wk079479dvqbfl_jpeg_jpg.rf.11fe69d4bf7bec894c41b78f3ab28a7f.jpg: ignoring corrupt image/label: Label class 1 exceeds dataset class count 1. Possible class labels are 0-0\n",
            "\u001b[34m\u001b[1mtrain: \u001b[0m/content/fire-1/train/images/ck0tx2twm5xya0a46rieclafo_jpeg_jpg.rf.46240ea229f64c002011315ce9534943.jpg: ignoring corrupt image/label: Label class 1 exceeds dataset class count 1. Possible class labels are 0-0\n",
            "\u001b[34m\u001b[1mtrain: \u001b[0m/content/fire-1/train/images/ck0tx3bpm5y140a46ul6hlru8_jpeg_jpg.rf.4672cd2004876e1ef94ac3dedcab54ff.jpg: ignoring corrupt image/label: Label class 1 exceeds dataset class count 1. Possible class labels are 0-0\n",
            "\u001b[34m\u001b[1mtrain: \u001b[0m/content/fire-1/train/images/ck0tx7k0tr5rz0794r2twuz1o_jpeg_jpg.rf.42f13a6419c1ab2c9456189320455a28.jpg: ignoring corrupt image/label: Label class 1 exceeds dataset class count 1. Possible class labels are 0-0\n",
            "\u001b[34m\u001b[1mtrain: \u001b[0m/content/fire-1/train/images/ck0tx9epawjk50721w6282v2c_jpeg_jpg.rf.1f62cc9bbcc9a7dcbbb53b6a0c449045.jpg: ignoring corrupt image/label: Label class 1 exceeds dataset class count 1. Possible class labels are 0-0\n",
            "\u001b[34m\u001b[1mtrain: \u001b[0m/content/fire-1/train/images/ck0txbqlewjuv0721agjyhu78_jpeg_jpg.rf.303ba940d5bd7bec799ebddafa8d46dc.jpg: ignoring corrupt image/label: Label class 1 exceeds dataset class count 1. Possible class labels are 0-0\n",
            "\u001b[34m\u001b[1mtrain: \u001b[0m/content/fire-1/train/images/ck0txdhj9wk390721me7hmajn_jpeg_jpg.rf.ede836a54f886a3de4a71f8e34310f50.jpg: ignoring corrupt image/label: Label class 1 exceeds dataset class count 1. Possible class labels are 0-0\n",
            "\u001b[34m\u001b[1mtrain: \u001b[0m/content/fire-1/train/images/ck0txfme8sat90863ybrk8lzv_jpeg_jpg.rf.939d521a87d870906b4f9453e9d6e681.jpg: ignoring corrupt image/label: Label class 1 exceeds dataset class count 1. Possible class labels are 0-0\n",
            "\u001b[34m\u001b[1mtrain: \u001b[0m/content/fire-1/train/images/ck0txg39r6n250848puinmu6k_jpeg_jpg.rf.4cba398c9010d3fdf48fc260338e5cf3.jpg: ignoring corrupt image/label: Label class 1 exceeds dataset class count 1. Possible class labels are 0-0\n",
            "\u001b[34m\u001b[1mtrain: \u001b[0m/content/fire-1/train/images/ck0txgdlcsvs8083883yrxqar_jpeg_jpg.rf.0857651172d80336c4b16731eb1dec84.jpg: ignoring corrupt image/label: Label class 1 exceeds dataset class count 1. Possible class labels are 0-0\n",
            "\u001b[34m\u001b[1mtrain: \u001b[0m/content/fire-1/train/images/ck0txgnxxud4y0701d5z7lpx7_jpeg_jpg.rf.95c95a3818a3d94d1e38809554a8c81a.jpg: ignoring corrupt image/label: Label class 1 exceeds dataset class count 1. Possible class labels are 0-0\n",
            "\u001b[34m\u001b[1mtrain: \u001b[0m/content/fire-1/train/images/ck0txmpuosbkk0863coq4p42u_jpeg_jpg.rf.42ea4b742c7c52386a042df1630e7a65.jpg: ignoring corrupt image/label: Label class 1 exceeds dataset class count 1. Possible class labels are 0-0\n",
            "\u001b[34m\u001b[1mtrain: \u001b[0m/content/fire-1/train/images/ck0txn3y1uaec0944bo6m4q6c_jpeg_jpg.rf.6685d1ed17419bee531fdc4583306285.jpg: ignoring corrupt image/label: Label class 1 exceeds dataset class count 1. Possible class labels are 0-0\n",
            "\u001b[34m\u001b[1mtrain: \u001b[0m/content/fire-1/train/images/ck0txo8iyue140701jnymorwf_jpeg_jpg.rf.07f6a9c8438b040858daaf0ad2cbdc9a.jpg: ignoring corrupt image/label: Label class 1 exceeds dataset class count 1. Possible class labels are 0-0\n",
            "\u001b[34m\u001b[1mtrain: \u001b[0m/content/fire-1/train/images/ck0txp6s8ue5b0701zx9qjwwe_jpeg_jpg.rf.eb949153228cc5b7c2781d460d86e68c.jpg: ignoring corrupt image/label: Label class 1 exceeds dataset class count 1. Possible class labels are 0-0\n",
            "\u001b[34m\u001b[1mtrain: \u001b[0m/content/fire-1/train/images/ck0txrkyx611l0a46u3b4n8bb_jpeg_jpg.rf.76763806ab132b4285822809d2bdb011.jpg: ignoring corrupt image/label: Label class 1 exceeds dataset class count 1. Possible class labels are 0-0\n",
            "\u001b[34m\u001b[1mtrain: \u001b[0m/content/fire-1/train/images/ck0txrr4nswy40838d5s9tydp_jpeg_jpg.rf.96456af0cbcf16e5e4b104a4c665bf3e.jpg: ignoring corrupt image/label: Label class 1 exceeds dataset class count 1. Possible class labels are 0-0\n",
            "\u001b[34m\u001b[1mtrain: \u001b[0m/content/fire-1/train/images/ck0txs402uehd070195c9mfko_jpeg_jpg.rf.6b9a905c6a1cfe0b3328e38a1de81384.jpg: ignoring corrupt image/label: Label class 1 exceeds dataset class count 1. Possible class labels are 0-0\n",
            "\u001b[34m\u001b[1mtrain: \u001b[0m/content/fire-1/train/images/ck0txsbnlsx040838wocuy68k_jpeg_jpg.rf.fecadbae4e47c3046e623fbce9f2f5fc.jpg: ignoring corrupt image/label: Label class 1 exceeds dataset class count 1. Possible class labels are 0-0\n",
            "\u001b[34m\u001b[1mtrain: \u001b[0m/content/fire-1/train/images/ck0txsj116ojr0848emet52dc_jpeg_jpg.rf.8bdbe42134beff13f6a044645074835e.jpg: ignoring corrupt image/label: Label class 1 exceeds dataset class count 1. Possible class labels are 0-0\n",
            "\u001b[34m\u001b[1mtrain: \u001b[0m/content/fire-1/train/images/ck0txus39scfk0863py0w15qb_jpeg_jpg.rf.a48a2ad2c6a030de14ae4c8d5a3bb540.jpg: ignoring corrupt image/label: Label class 1 exceeds dataset class count 1. Possible class labels are 0-0\n",
            "\u001b[34m\u001b[1mtrain: \u001b[0m/content/fire-1/train/images/ck0txvaz6ub6h09447ux3qyyt_jpeg_jpg.rf.a5d6e835973114dd414cef345e26ffcd.jpg: ignoring corrupt image/label: Label class 1 exceeds dataset class count 1. Possible class labels are 0-0\n",
            "\u001b[34m\u001b[1mtrain: \u001b[0m/content/fire-1/train/images/ck0txvj9m6otr0848fayj9tte_jpeg_jpg.rf.866d15ebbf87e7c129b580ff0e4ce4cb.jpg: ignoring corrupt image/label: Label class 1 exceeds dataset class count 1. Possible class labels are 0-0\n",
            "\u001b[34m\u001b[1mtrain: \u001b[0m/content/fire-1/train/images/ck0txvtlisck20863fbb7u1gc_jpeg_jpg.rf.e0c015fff0d184d5a0446efe75d54d1e.jpg: ignoring corrupt image/label: Label class 1 exceeds dataset class count 1. Possible class labels are 0-0\n",
            "\u001b[34m\u001b[1mtrain: \u001b[0m/content/fire-1/train/images/ck0txw47261iz0a46k76oyfzj_jpeg_jpg.rf.9e28a4f550a9931a04044fa05511b1fc.jpg: ignoring corrupt image/label: Label class 1 exceeds dataset class count 1. Possible class labels are 0-0\n",
            "\u001b[34m\u001b[1mtrain: \u001b[0m/content/fire-1/train/images/ck0txwcn1scmo0863p2fmcq09_jpeg_jpg.rf.6f6047e8c7607a9a52734b251025f953.jpg: ignoring corrupt image/label: Label class 1 exceeds dataset class count 1. Possible class labels are 0-0\n",
            "\u001b[34m\u001b[1mtrain: \u001b[0m/content/fire-1/train/images/ck0txwk8k6owz0848gejqchq8_jpeg_jpg.rf.cdd9c2313bdf6f5a8b166e8080da78fe.jpg: ignoring corrupt image/label: Label class 1 exceeds dataset class count 1. Possible class labels are 0-0\n",
            "\u001b[34m\u001b[1mtrain: \u001b[0m/content/fire-1/train/images/ck0txx0ddscoq0863bm1ntw9g_jpeg_jpg.rf.3c01ac3acb593e88732900900445a063.jpg: ignoring corrupt image/label: Label class 1 exceeds dataset class count 1. Possible class labels are 0-0\n",
            "\u001b[34m\u001b[1mtrain: \u001b[0m/content/fire-1/train/images/ck0txxd8f6p0l08484tupben9_jpeg_jpg.rf.0057cd8e381d05c63875f5702267f453.jpg: ignoring corrupt image/label: Label class 1 exceeds dataset class count 1. Possible class labels are 0-0\n",
            "\u001b[34m\u001b[1mtrain: \u001b[0m/content/fire-1/train/images/ck0ty5rb66pry08483lgrlmhz_jpeg_jpg.rf.5b07ceac10a94a9123e002c1ae55a516.jpg: ignoring corrupt image/label: Label class 1 exceeds dataset class count 1. Possible class labels are 0-0\n",
            "\u001b[34m\u001b[1mtrain: \u001b[0m/content/fire-1/train/images/ck0ty797gwmyd0721weeb3b90_jpeg_jpg.rf.4df01698088fb99e7723cdb37e083c57.jpg: ignoring corrupt image/label: Label class 1 exceeds dataset class count 1. Possible class labels are 0-0\n",
            "\u001b[34m\u001b[1mtrain: \u001b[0m/content/fire-1/train/images/ck0ty7yegwn140721h5wixp2h_jpeg_jpg.rf.f92b25cbb7204a1c5cde053a891d4591.jpg: ignoring corrupt image/label: Label class 1 exceeds dataset class count 1. Possible class labels are 0-0\n",
            "\u001b[34m\u001b[1mtrain: \u001b[0m/content/fire-1/train/images/ck0ty9cx4r9qk0794foscpnun_jpeg_jpg.rf.26ed92cd15084a16c1da2bf16b241b15.jpg: ignoring corrupt image/label: Label class 1 exceeds dataset class count 1. Possible class labels are 0-0\n",
            "\u001b[34m\u001b[1mtrain: \u001b[0m/content/fire-1/train/images/ck0tya1tfr9sz0794w5roonwp_jpeg_jpg.rf.e3500c00282f25ead994112ea7f57d1e.jpg: ignoring corrupt image/label: Label class 1 exceeds dataset class count 1. Possible class labels are 0-0\n",
            "\u001b[34m\u001b[1mtrain: \u001b[0m/content/fire-1/train/images/ck0tyaitfuchg0944iz87630d_jpeg_jpg.rf.b04b3346e084a04e87d3e8a49c40db32.jpg: ignoring corrupt image/label: Label class 1 exceeds dataset class count 1. Possible class labels are 0-0\n",
            "\u001b[34m\u001b[1mtrain: \u001b[0m/content/fire-1/train/images/ck0tyexsuugj1070158ffdyyt_jpeg_jpg.rf.e8c8c9eac39963033fd763b263090324.jpg: ignoring corrupt image/label: Label class 1 exceeds dataset class count 1. Possible class labels are 0-0\n",
            "\u001b[34m\u001b[1mtrain: \u001b[0m/content/fire-1/train/images/ck0tyfppk6qqc0848u6xtpzgx_jpeg_jpg.rf.1be83b05419e8e800d17e33d211b23b0.jpg: ignoring corrupt image/label: Label class 1 exceeds dataset class count 1. Possible class labels are 0-0\n",
            "\u001b[34m\u001b[1mtrain: \u001b[0m/content/fire-1/train/images/ck0tyhb0zszbr0838w1dyisjw_jpeg_jpg.rf.843d2325cf702c598283203108dfca88.jpg: ignoring corrupt image/label: Label class 1 exceeds dataset class count 1. Possible class labels are 0-0\n",
            "\u001b[34m\u001b[1mtrain: \u001b[0m/content/fire-1/train/images/ck0tyhipjwo1707211p8ov4bm_jpeg_jpg.rf.d7a78505f2ab5c884ae683f531514ac7.jpg: ignoring corrupt image/label: Label class 1 exceeds dataset class count 1. Possible class labels are 0-0\n",
            "\u001b[34m\u001b[1mtrain: \u001b[0m/content/fire-1/train/images/ck0tyjzuxsewd0863g6vu5zec_jpeg_jpg.rf.b613591222a93f9bf4f482fa65a75a11.jpg: ignoring corrupt image/label: Label class 1 exceeds dataset class count 1. Possible class labels are 0-0\n",
            "\u001b[34m\u001b[1mtrain: \u001b[0m/content/fire-1/train/images/ck0tylooksf3f0863s6tbwxhx_jpeg_jpg.rf.67cbb7cd07ee5e7aaac84ea04aa1e00d.jpg: ignoring corrupt image/label: Label class 1 exceeds dataset class count 1. Possible class labels are 0-0\n",
            "\u001b[34m\u001b[1mtrain: \u001b[0m/content/fire-1/train/images/ck0tyojsawouz0721wteyaxe4_jpeg_jpg.rf.b2f8c5ec876acc9cd9919b74338dc89b.jpg: ignoring corrupt image/label: Label class 1 exceeds dataset class count 1. Possible class labels are 0-0\n",
            "\u001b[34m\u001b[1mtrain: \u001b[0m/content/fire-1/train/images/ck0tyoro0uhpt0701sbzpdha0_jpeg_jpg.rf.27342e10cc5568daed4fdd2c3733b5ef.jpg: ignoring corrupt image/label: Label class 1 exceeds dataset class count 1. Possible class labels are 0-0\n",
            "\u001b[34m\u001b[1mtrain: \u001b[0m/content/fire-1/train/images/ck0tyq31o6ryb08488lus3geb_jpeg_jpg.rf.4d5fd7622bd102b641f04643e6236940.jpg: ignoring corrupt image/label: Label class 1 exceeds dataset class count 1. Possible class labels are 0-0\n",
            "\u001b[34m\u001b[1mtrain: \u001b[0m/content/fire-1/train/images/ck0tyt1orui7t0701sxkqcrnt_jpeg_jpg.rf.ba8924625a44f8b15066bf48439b6e85.jpg: ignoring corrupt image/label: Label class 1 exceeds dataset class count 1. Possible class labels are 0-0\n",
            "\u001b[34m\u001b[1mtrain: \u001b[0m/content/fire-1/train/images/ck0tyt8nmui9l0701fr3lsu7s_jpeg_jpg.rf.862e00ff01bfbf50375e9009c426db9b.jpg: ignoring corrupt image/label: Label class 1 exceeds dataset class count 1. Possible class labels are 0-0\n",
            "\u001b[34m\u001b[1mtrain: \u001b[0m/content/fire-1/train/images/ck0tyucu3uekj0944f3usafki_jpeg_jpg.rf.e4f5c09327dde5edcc121ce7a40e9432.jpg: ignoring corrupt image/label: Label class 1 exceeds dataset class count 1. Possible class labels are 0-0\n",
            "\u001b[34m\u001b[1mtrain: \u001b[0m/content/fire-1/train/images/ck0tyv5y2wpox0721volr4z26_jpeg_jpg.rf.08b1331e95fa3d98a680fa76fe0d9a35.jpg: ignoring corrupt image/label: Label class 1 exceeds dataset class count 1. Possible class labels are 0-0\n",
            "\u001b[34m\u001b[1mtrain: \u001b[0m/content/fire-1/train/images/ck0tyvn3lwprq0721btsf3icr_jpeg_jpg.rf.5a194cc88ccb9f2e6ac40d78764cf070.jpg: ignoring corrupt image/label: Label class 1 exceeds dataset class count 1. Possible class labels are 0-0\n",
            "\u001b[34m\u001b[1mtrain: \u001b[0m/content/fire-1/train/images/ck0tyvz1p6ssd0848z1brl0fl_jpeg_jpg.rf.bc591df7649dac2059ce536215927742.jpg: ignoring corrupt image/label: Label class 1 exceeds dataset class count 1. Possible class labels are 0-0\n",
            "\u001b[34m\u001b[1mtrain: \u001b[0m/content/fire-1/train/images/ck0tywg9ruew50944r0qom5i0_jpeg_jpg.rf.d91449c05094c37a4cfa469364bf8137.jpg: ignoring corrupt image/label: Label class 1 exceeds dataset class count 1. Possible class labels are 0-0\n",
            "\u001b[34m\u001b[1mtrain: \u001b[0m/content/fire-1/train/images/ck0tyx4x7t16i0838grtlspkh_jpeg_jpg.rf.c04d96f98c7a3488c89a399699ad280f.jpg: ignoring corrupt image/label: Label class 1 exceeds dataset class count 1. Possible class labels are 0-0\n",
            "\u001b[34m\u001b[1mtrain: \u001b[0m/content/fire-1/train/images/ck0tyzb4kwq9407210i0lbk6v_jpeg_jpg.rf.5244ec474c6b152ce41fb97d19b76773.jpg: ignoring corrupt image/label: Label class 1 exceeds dataset class count 1. Possible class labels are 0-0\n",
            "\u001b[34m\u001b[1mtrain: \u001b[0m/content/fire-1/train/images/ck0tz2vh7wqqw0721qe4odmlu_jpeg_jpg.rf.a6bc4e511cca6154600c221b32541174.jpg: ignoring corrupt image/label: Label class 1 exceeds dataset class count 1. Possible class labels are 0-0\n",
            "\u001b[34m\u001b[1mtrain: \u001b[0m/content/fire-1/train/images/ck0tz35vrt1xh08382lzzsg2v_jpeg_jpg.rf.1cf4f5d970568aeb33d6901c4537f4a6.jpg: ignoring corrupt image/label: Label class 1 exceeds dataset class count 1. Possible class labels are 0-0\n",
            "\u001b[34m\u001b[1mtrain: \u001b[0m/content/fire-1/train/images/ck0tz3qdjt20v0838pjjz36dn_jpeg_jpg.rf.405f8e001206155289ebf76f31375288.jpg: ignoring corrupt image/label: Label class 1 exceeds dataset class count 1. Possible class labels are 0-0\n",
            "\u001b[34m\u001b[1mtrain: \u001b[0m/content/fire-1/train/images/ck0tz4dsmshgh08637pfl2z1c_jpeg_jpg.rf.72cd90997351d725c3e9741c07b3e9d9.jpg: ignoring corrupt image/label: Label class 1 exceeds dataset class count 1. Possible class labels are 0-0\n",
            "\u001b[34m\u001b[1mtrain: \u001b[0m/content/fire-1/train/images/ck0tz4vu9wr2707210cs2d85i_jpeg_jpg.rf.69ec5b323133e091b1c32134e20fd903.jpg: ignoring corrupt image/label: Label class 1 exceeds dataset class count 1. Possible class labels are 0-0\n",
            "\u001b[34m\u001b[1mtrain: \u001b[0m/content/fire-1/train/images/ck0tz7lcnugfi0944xj04x69y_jpeg_jpg.rf.0e671ec5c5ad6a9620a0764cae37bd81.jpg: ignoring corrupt image/label: Label class 1 exceeds dataset class count 1. Possible class labels are 0-0\n",
            "\u001b[34m\u001b[1mtrain: \u001b[0m/content/fire-1/train/images/ck0tzh0mmsjb70863m9jdqypg_jpeg_jpg.rf.1e9c7bb9e4889928aabb19179acb5a98.jpg: ignoring corrupt image/label: Label class 1 exceeds dataset class count 1. Possible class labels are 0-0\n",
            "\u001b[34m\u001b[1mtrain: \u001b[0m/content/fire-1/train/images/ck0tzjni6sjt50863e6a6a8fl_jpeg_jpg.rf.f08e845a3f73d6218c2f778dfaf5eacd.jpg: ignoring corrupt image/label: Label class 1 exceeds dataset class count 1. Possible class labels are 0-0\n",
            "\u001b[34m\u001b[1mtrain: \u001b[0m/content/fire-1/train/images/ck0tzkkd8ulz70701xe5upkxe_jpeg_jpg.rf.da183fe5a40e8d9b30318ded9ca54d30.jpg: ignoring corrupt image/label: Label class 1 exceeds dataset class count 1. Possible class labels are 0-0\n",
            "\u001b[34m\u001b[1mtrain: \u001b[0m/content/fire-1/train/images/ck0tzmo81wtq50721yer41mgt_jpeg_jpg.rf.9bed4fa5df444b3cb3d1709dca34b0bb.jpg: ignoring corrupt image/label: Label class 1 exceeds dataset class count 1. Possible class labels are 0-0\n",
            "\u001b[34m\u001b[1mtrain: \u001b[0m/content/fire-1/train/images/ck0tzncx5rg970794klhrot7p_jpeg_jpg.rf.419b1c8953b4892858518316c5c0a56b.jpg: ignoring corrupt image/label: Label class 1 exceeds dataset class count 1. Possible class labels are 0-0\n",
            "\u001b[34m\u001b[1mtrain: \u001b[0m/content/fire-1/train/images/ck0tznjlaumey0701fbjp1dbu_jpeg_jpg.rf.17bbd34c2f8c8f401a6238382deb8129.jpg: ignoring corrupt image/label: Label class 1 exceeds dataset class count 1. Possible class labels are 0-0\n",
            "\u001b[34m\u001b[1mtrain: \u001b[0m/content/fire-1/train/images/ck0tzox41umlv0701crxo159j_jpeg_jpg.rf.179c3f4d102870039aa1564d21d27553.jpg: ignoring corrupt image/label: Label class 1 exceeds dataset class count 1. Possible class labels are 0-0\n",
            "\u001b[34m\u001b[1mtrain: \u001b[0m/content/fire-1/train/images/ck0tzp3rvummy07010t4dolzz_jpeg_jpg.rf.1fb5c8f5fe78a811b35745019ec13118.jpg: ignoring corrupt image/label: Label class 1 exceeds dataset class count 1. Possible class labels are 0-0\n",
            "\u001b[34m\u001b[1mtrain: \u001b[0m/content/fire-1/train/images/ck0tzphn3t5by0838ge18vkq7_jpeg_jpg.rf.8063117affa0400fac6838706c3aa21f.jpg: ignoring corrupt image/label: Label class 1 exceeds dataset class count 1. Possible class labels are 0-0\n",
            "\u001b[34m\u001b[1mtrain: \u001b[0m/content/fire-1/train/images/ck0tzpp8dskmt0863jjiyujwl_jpeg_jpg.rf.3ba6796958ca8920f64eeb4c8ab344c4.jpg: ignoring corrupt image/label: Label class 1 exceeds dataset class count 1. Possible class labels are 0-0\n",
            "\u001b[34m\u001b[1mtrain: \u001b[0m/content/fire-1/train/images/ck0tzpygswuae0721bhuvjofj_jpeg_jpg.rf.9bba8c167b6c80a339e421085e824028.jpg: ignoring corrupt image/label: Label class 1 exceeds dataset class count 1. Possible class labels are 0-0\n",
            "\u001b[34m\u001b[1mtrain: \u001b[0m/content/fire-1/train/images/ck0tzqdzqwucd07218blh12ir_jpeg_jpg.rf.d576e36df57c268597c46a81e38b5124.jpg: ignoring corrupt image/label: Label class 1 exceeds dataset class count 1. Possible class labels are 0-0\n",
            "\u001b[34m\u001b[1mtrain: \u001b[0m/content/fire-1/train/images/ck0tzttgusl7o0863k0kfvcid_jpeg_jpg.rf.d665e0130c7077e905e70820508bd706.jpg: ignoring corrupt image/label: Label class 1 exceeds dataset class count 1. Possible class labels are 0-0\n",
            "\u001b[34m\u001b[1mtrain: \u001b[0m/content/fire-1/train/images/ck0tzu01r69vw0a464th4yn43_jpeg_jpg.rf.0d8acc72554306e1762a3b1d401eb6af.jpg: ignoring corrupt image/label: Label class 1 exceeds dataset class count 1. Possible class labels are 0-0\n",
            "\u001b[34m\u001b[1mtrain: \u001b[0m/content/fire-1/train/images/ck0tzuao2wuuv0721d9vb3uvm_jpeg_jpg.rf.5b3df7bde7944bfe3edead2934b1ff88.jpg: ignoring corrupt image/label: Label class 1 exceeds dataset class count 1. Possible class labels are 0-0\n",
            "\u001b[34m\u001b[1mtrain: \u001b[0m/content/fire-1/train/images/ck0tzvykb6xxf0848pysx89eg_jpeg_jpg.rf.4a763a8ffc62bf931325ab5d95182329.jpg: ignoring corrupt image/label: Label class 1 exceeds dataset class count 1. Possible class labels are 0-0\n",
            "\u001b[34m\u001b[1mtrain: \u001b[0m/content/fire-1/train/images/ck0tzxdcpslr10863f9172aju_jpeg_jpg.rf.2837237fb6b5765afe4efbef43ed2bc3.jpg: ignoring corrupt image/label: Label class 1 exceeds dataset class count 1. Possible class labels are 0-0\n",
            "\u001b[34m\u001b[1mtrain: \u001b[0m/content/fire-1/train/images/ck0tzza3ut6ra0838aef1ubfa_jpeg_jpg.rf.bd56f19163c88df8e8f2e2668551bd2d.jpg: ignoring corrupt image/label: Label class 1 exceeds dataset class count 1. Possible class labels are 0-0\n",
            "\u001b[34m\u001b[1mtrain: \u001b[0m/content/fire-1/train/images/ck0tzzys2sm6b0863k8qyy7hp_jpeg_jpg.rf.fdac39860d35da33fe1ce3a25f104ff6.jpg: ignoring corrupt image/label: Label class 1 exceeds dataset class count 1. Possible class labels are 0-0\n",
            "\u001b[34m\u001b[1mtrain: \u001b[0m/content/fire-1/train/images/ck0u00h8m6yow0848u1pohlak_jpeg_jpg.rf.c557f634194865ee22f76130e464db1e.jpg: ignoring corrupt image/label: Label class 1 exceeds dataset class count 1. Possible class labels are 0-0\n",
            "\u001b[34m\u001b[1mtrain: \u001b[0m/content/fire-1/train/images/ck0u00wpmuoae0701e4j4rgq4_jpeg_jpg.rf.6995ec94f285c920b51d147ad0288029.jpg: ignoring corrupt image/label: Label class 1 exceeds dataset class count 1. Possible class labels are 0-0\n",
            "\u001b[34m\u001b[1mtrain: \u001b[0m/content/fire-1/train/images/ck0u01dbyuoe30701p6pfzb0q_jpeg_jpg.rf.988eeb083af0eb200d597c55e55eac7f.jpg: ignoring corrupt image/label: Label class 1 exceeds dataset class count 1. Possible class labels are 0-0\n",
            "\u001b[34m\u001b[1mtrain: \u001b[0m/content/fire-1/train/images/ck0u02mwv6bah0a467209caub_jpeg_jpg.rf.435768e93d54ede2deac848a5bb2ea1a.jpg: ignoring corrupt image/label: Label class 1 exceeds dataset class count 1. Possible class labels are 0-0\n",
            "\u001b[34m\u001b[1mtrain: \u001b[0m/content/fire-1/train/images/ck0u030x8uono0701kp4dvddz_jpeg_jpg.rf.f250317df82504e1765d9c27485a06ed.jpg: ignoring corrupt image/label: Label class 1 exceeds dataset class count 1. Possible class labels are 0-0\n",
            "\u001b[34m\u001b[1mtrain: \u001b[0m/content/fire-1/train/images/ck0u03onjuosl0701rhy18f7o_jpeg_jpg.rf.b805e3d494c0cdccc57e3e9f4c442e74.jpg: ignoring corrupt image/label: Label class 1 exceeds dataset class count 1. Possible class labels are 0-0\n",
            "\u001b[34m\u001b[1mtrain: \u001b[0m/content/fire-1/train/images/ck0u07w91ulq009446ol1bta4_jpeg_jpg.rf.e25e0d7b5afdeda22c53773222a143a0.jpg: ignoring corrupt image/label: Label class 1 exceeds dataset class count 1. Possible class labels are 0-0\n",
            "\u001b[34m\u001b[1mtrain: \u001b[0m/content/fire-1/train/images/ck0u086m36ca30a46uxou346g_jpeg_jpg.rf.16ac95d1942e218fdb469527539c6964.jpg: ignoring corrupt image/label: Label class 1 exceeds dataset class count 1. Possible class labels are 0-0\n",
            "\u001b[34m\u001b[1mtrain: \u001b[0m/content/fire-1/train/images/ck0u095lit8ti08381w4noa0x_jpeg_jpg.rf.76b213161a4108684e04be17c8d71452.jpg: ignoring corrupt image/label: Label class 1 exceeds dataset class count 1. Possible class labels are 0-0\n",
            "\u001b[34m\u001b[1mtrain: \u001b[0m/content/fire-1/train/images/ck0u09p0z70h60848av5vdh7v_jpeg_jpg.rf.6a6181561fa04198ae474270be58cf7f.jpg: ignoring corrupt image/label: Label class 1 exceeds dataset class count 1. Possible class labels are 0-0\n",
            "\u001b[34m\u001b[1mtrain: \u001b[0m/content/fire-1/train/images/ck0u0dcgdwy9r072177202gnd_jpeg_jpg.rf.b27a15ffde2bb3b9683fd259fcf75aa2.jpg: ignoring corrupt image/label: Label class 1 exceeds dataset class count 1. Possible class labels are 0-0\n",
            "\u001b[34m\u001b[1mtrain: \u001b[0m/content/fire-1/train/images/ck0u0dtzbt9mu08385juqmknt_jpeg_jpg.rf.4cb1850639909d5a7725b2b100d2806d.jpg: ignoring corrupt image/label: Label class 1 exceeds dataset class count 1. Possible class labels are 0-0\n",
            "\u001b[34m\u001b[1mtrain: \u001b[0m/content/fire-1/train/images/ck0u0e1zzwydk07210xx5o9vv_jpeg_jpg.rf.a3065586cb44ec7c1507ec508828ae02.jpg: ignoring corrupt image/label: Label class 1 exceeds dataset class count 1. Possible class labels are 0-0\n",
            "\u001b[34m\u001b[1mtrain: \u001b[0m/content/fire-1/train/images/ck0u0fzglungw0944luype68g_jpeg_jpg.rf.153354f4e5a05aac2d65c64d55e5b39d.jpg: ignoring corrupt image/label: Label class 1 exceeds dataset class count 1. Possible class labels are 0-0\n",
            "\u001b[34m\u001b[1mtrain: \u001b[0m/content/fire-1/train/images/ck0u0hkwqurd207012dbpgjhf_jpeg_jpg.rf.54391657e4a3dbe8b8b3bea9af62b672.jpg: ignoring corrupt image/label: Label class 1 exceeds dataset class count 1. Possible class labels are 0-0\n",
            "\u001b[34m\u001b[1mtrain: \u001b[0m/content/fire-1/train/images/ck0u0hs5pwywo0721zyjfy75h_jpeg_jpg.rf.a896179e83477dc668e53bce9cb7c135.jpg: ignoring corrupt image/label: Label class 1 exceeds dataset class count 1. Possible class labels are 0-0\n",
            "\u001b[34m\u001b[1mtrain: \u001b[0m/content/fire-1/train/images/ck0u0i88bunv00944unevdbqg_jpeg_jpg.rf.ab7704be375e9d2d7cf1fa5f728bc66f.jpg: ignoring corrupt image/label: Label class 1 exceeds dataset class count 1. Possible class labels are 0-0\n",
            "\u001b[34m\u001b[1mtrain: \u001b[0m/content/fire-1/train/images/ck0u0ihp7sq1z086335c6h592_jpeg_jpg.rf.5a48eb889384fd260ee73408d51f84e1.jpg: ignoring corrupt image/label: Label class 1 exceeds dataset class count 1. Possible class labels are 0-0\n",
            "\u001b[34m\u001b[1mtrain: \u001b[0m/content/fire-1/train/images/ck0u0iymarljc079432rld6ur_jpeg_jpg.rf.76dab8627cbc009e5682af21ea3f4260.jpg: ignoring corrupt image/label: Label class 1 exceeds dataset class count 1. Possible class labels are 0-0\n",
            "\u001b[34m\u001b[1mtrain: \u001b[0m/content/fire-1/train/images/ck0u0jzlqsqbn0863uii3azjh_jpeg_jpg.rf.f40bd25c0614c8ab03132769f2792431.jpg: ignoring corrupt image/label: Label class 1 exceeds dataset class count 1. Possible class labels are 0-0\n",
            "\u001b[34m\u001b[1mtrain: \u001b[0m/content/fire-1/train/images/ck0u0l462sqjj0863jgtyd84b_jpeg_jpg.rf.03b414b48b16f98088ca4c3d0e2f2e42.jpg: ignoring corrupt image/label: Label class 1 exceeds dataset class count 1. Possible class labels are 0-0\n",
            "\u001b[34m\u001b[1mtrain: \u001b[0m/content/fire-1/train/images/ck0u0m0dqtaz70838kcm0o9w3_jpeg_jpg.rf.a6c5229de9d65f4dd23d75d924a62fdd.jpg: ignoring corrupt image/label: Label class 1 exceeds dataset class count 1. Possible class labels are 0-0\n",
            "\u001b[34m\u001b[1mtrain: \u001b[0m/content/fire-1/train/images/ck0u0muhduoik0944fwbze43u_jpeg_jpg.rf.170d8dd6bb5c24b733269b92aeebaa87.jpg: ignoring corrupt image/label: Label class 1 exceeds dataset class count 1. Possible class labels are 0-0\n",
            "\u001b[34m\u001b[1mtrain: \u001b[0m/content/fire-1/train/images/ck0u0nf3ftb7n083861jt62o2_jpeg_jpg.rf.0de31e02d2bd1f7368038eea3887bc2c.jpg: ignoring corrupt image/label: Label class 1 exceeds dataset class count 1. Possible class labels are 0-0\n",
            "\u001b[34m\u001b[1mtrain: \u001b[0m/content/fire-1/train/images/ck0u0obru6f6u0a46axncdx9n_jpeg_jpg.rf.11b5dfb6ad525ca216ab97249bbbe3d5.jpg: ignoring corrupt image/label: Label class 1 exceeds dataset class count 1. Possible class labels are 0-0\n",
            "\u001b[34m\u001b[1mtrain: \u001b[0m/content/fire-1/train/images/ck0u0raa96fpd0a46z626vh9b_jpeg_jpg.rf.db1331394e0f9c2e6c0e92d417cb2b97.jpg: ignoring corrupt image/label: Label class 1 exceeds dataset class count 1. Possible class labels are 0-0\n",
            "\u001b[34m\u001b[1mtrain: \u001b[0m/content/fire-1/train/images/ck0u0y7byrnvd0794vpqdexro_jpeg_jpg.rf.ed54b86ce8ec38c459acb940c08f9407.jpg: ignoring corrupt image/label: Label class 1 exceeds dataset class count 1. Possible class labels are 0-0\n",
            "\u001b[34m\u001b[1mtrain: \u001b[0m/content/fire-1/train/images/ck0u0zahz74ln0848lonhk1xg_jpeg_jpg.rf.e64f8f8da7f0db945d6e70c74abb52cd.jpg: ignoring corrupt image/label: Label class 1 exceeds dataset class count 1. Possible class labels are 0-0\n",
            "\u001b[34m\u001b[1mtrain: \u001b[0m/content/fire-1/train/images/ck0u0znmjuuay0701hyc6trun_jpeg_jpg.rf.a6101714a73ad9dbb55d2cd14ff5c087.jpg: ignoring corrupt image/label: Label class 1 exceeds dataset class count 1. Possible class labels are 0-0\n",
            "\u001b[34m\u001b[1mtrain: \u001b[0m/content/fire-1/train/images/ck0u101es74sl08484y0z9pb6_jpeg_jpg.rf.31a8379ff426b2ec18e16069c73002c7.jpg: ignoring corrupt image/label: Label class 1 exceeds dataset class count 1. Possible class labels are 0-0\n",
            "\u001b[34m\u001b[1mtrain: \u001b[0m/content/fire-1/train/images/ck0u10zeh74ym0848ow29lc1l_jpeg_jpg.rf.863dbddff7e4b2dc5aec3820b21db5b8.jpg: ignoring corrupt image/label: Label class 1 exceeds dataset class count 1. Possible class labels are 0-0\n",
            "\u001b[34m\u001b[1mtrain: \u001b[0m/content/fire-1/train/images/ck0u13g18uv1x070166k2ew3t_jpeg_jpg.rf.454952d3c0e88ba2df0eae0424206035.jpg: ignoring corrupt image/label: Label class 1 exceeds dataset class count 1. Possible class labels are 0-0\n",
            "\u001b[34m\u001b[1mtrain: \u001b[0m/content/fire-1/train/images/ck0u13mbhte0v0838nxz2zdkf_jpeg_jpg.rf.2e9bdbe76a24b6b5461750ec11301895.jpg: ignoring corrupt image/label: Label class 1 exceeds dataset class count 1. Possible class labels are 0-0\n",
            "\u001b[34m\u001b[1mtrain: \u001b[0m/content/fire-1/train/images/ck0u14y7arp5c0794llhscme5_jpeg_jpg.rf.18ae6fb954cf3ca8fa56345da80ce4d4.jpg: ignoring corrupt image/label: Label class 1 exceeds dataset class count 1. Possible class labels are 0-0\n",
            "\u001b[34m\u001b[1mtrain: \u001b[0m/content/fire-1/train/images/ck0u155em6hy90a46mm9izvjz_jpeg_jpg.rf.2557c079411ea09bd39c7d69399b92c3.jpg: ignoring corrupt image/label: Label class 1 exceeds dataset class count 1. Possible class labels are 0-0\n",
            "\u001b[34m\u001b[1mtrain: \u001b[0m/content/fire-1/train/images/ck0u96z1nxzlx0721hdcmet81_jpeg_jpg.rf.d43d4a98bf6fbacaaa8fda03363315c5.jpg: ignoring corrupt image/label: Label class 1 exceeds dataset class count 1. Possible class labels are 0-0\n",
            "\u001b[34m\u001b[1mtrain: \u001b[0m/content/fire-1/train/images/ck0u97a47vo2h0944rwxehqpl_jpeg_jpg.rf.621862fef0a6a215a21d0bba80f0079d.jpg: ignoring corrupt image/label: Label class 1 exceeds dataset class count 1. Possible class labels are 0-0\n",
            "\u001b[34m\u001b[1mtrain: \u001b[0m/content/fire-1/train/images/ck0u98ba1xzpe0721rgjjjun5_jpeg_jpg.rf.528b466521af4d4fdcdcaf474430d3ee.jpg: ignoring corrupt image/label: Label class 1 exceeds dataset class count 1. Possible class labels are 0-0\n",
            "\u001b[34m\u001b[1mtrain: \u001b[0m/content/fire-1/train/images/ck0u98uysslwa0794bmd4n7fd_jpeg_jpg.rf.c701fc1e791a7c7de3e81ce9d056f53e.jpg: ignoring corrupt image/label: Label class 1 exceeds dataset class count 1. Possible class labels are 0-0\n",
            "\u001b[34m\u001b[1mtrain: \u001b[0m/content/fire-1/train/images/ck0u9dw5dsmcv07947ss72195_jpeg_jpg.rf.26b8de2ba5bce3e13c6ea978b83d6a47.jpg: ignoring corrupt image/label: Label class 1 exceeds dataset class count 1. Possible class labels are 0-0\n",
            "\u001b[34m\u001b[1mtrain: \u001b[0m/content/fire-1/train/images/ck0u9e8u77f9y0a46i2qc7hje_jpeg_jpg.rf.d32a0562ec892ab384cec08111f711bb.jpg: ignoring corrupt image/label: Label class 1 exceeds dataset class count 1. Possible class labels are 0-0\n",
            "\u001b[34m\u001b[1mtrain: \u001b[0m/content/fire-1/train/images/ck0ug28sbusje083872me6leq_jpeg_jpg.rf.05f5a8c4b115bc3a49de07cd7d41514b.jpg: ignoring corrupt image/label: Label class 1 exceeds dataset class count 1. Possible class labels are 0-0\n",
            "\u001b[34m\u001b[1mtrain: \u001b[0m/content/fire-1/train/images/ck0ug2o6ku8b708632bp2y2zn_jpeg_jpg.rf.6294b098d955276cd9d4664d1c0d2ef9.jpg: ignoring corrupt image/label: Label class 1 exceeds dataset class count 1. Possible class labels are 0-0\n",
            "\u001b[34m\u001b[1mtrain: \u001b[0m/content/fire-1/train/images/ck0ug2zaqt3zf0794joucwcgf_jpeg_jpg.rf.85f88cbc9808bbf096beef206b684d6a.jpg: ignoring corrupt image/label: Label class 1 exceeds dataset class count 1. Possible class labels are 0-0\n",
            "\u001b[34m\u001b[1mtrain: \u001b[0m/content/fire-1/train/images/ck0ug3gjz7wk00a46ikj346zv_jpeg_jpg.rf.77386dcc8f9aea01f037076fb38d3164.jpg: ignoring corrupt image/label: Label class 1 exceeds dataset class count 1. Possible class labels are 0-0\n",
            "\u001b[34m\u001b[1mtrain: \u001b[0m/content/fire-1/train/images/ck0ug3zlfw61d09445i888ftl_jpeg_jpg.rf.278ae80fe2c30f3108bfe32f67248417.jpg: ignoring corrupt image/label: Label class 1 exceeds dataset class count 1. Possible class labels are 0-0\n",
            "\u001b[34m\u001b[1mtrain: \u001b[0m/content/fire-1/train/images/ck0uivtpc841h0a46ydgo7566_jpeg_jpg.rf.90ee1ed3ad2382e4123f650fb1e9558a.jpg: ignoring corrupt image/label: Label class 1 exceeds dataset class count 1. Possible class labels are 0-0\n",
            "\u001b[34m\u001b[1mtrain: \u001b[0m/content/fire-1/train/images/ck0uj9sgjyq2b0721813otzrx_jpeg_jpg.rf.e1f8b8f5d1a2ab2c47c17f2696fdccef.jpg: ignoring corrupt image/label: Label class 1 exceeds dataset class count 1. Possible class labels are 0-0\n",
            "\u001b[34m\u001b[1mtrain: \u001b[0m/content/fire-1/train/images/ck0ujb0z98s2k08487aup4zlv_jpeg_jpg.rf.3367f3d8c2914f1dd481bba83b11ad85.jpg: ignoring corrupt image/label: Label class 1 exceeds dataset class count 1. Possible class labels are 0-0\n",
            "\u001b[34m\u001b[1mtrain: \u001b[0m/content/fire-1/train/images/ck0ujedh4wiln0701x3dugshl_jpeg_jpg.rf.9f8b06c997f09e2ad83a62831bd645ef.jpg: ignoring corrupt image/label: Label class 1 exceeds dataset class count 1. Possible class labels are 0-0\n",
            "\u001b[34m\u001b[1mtrain: \u001b[0m/content/fire-1/train/images/ck0ujfqoy85bw0a46u3lgcx88_jpeg_jpg.rf.9c3d46e5ae359810dc07409e234add0d.jpg: ignoring corrupt image/label: Label class 1 exceeds dataset class count 1. Possible class labels are 0-0\n",
            "\u001b[34m\u001b[1mtrain: \u001b[0m/content/fire-1/train/images/ck0ujik07yqmk0721cwatmrh8_jpeg_jpg.rf.95e706b19239f0191c41c8666b795786.jpg: ignoring corrupt image/label: Label class 1 exceeds dataset class count 1. Possible class labels are 0-0\n",
            "\u001b[34m\u001b[1mtrain: \u001b[0m/content/fire-1/train/images/ck0ujirqowixt07012814w3ox_jpeg_jpg.rf.9f2f5fa7d7b6691cc47275cc1a146909.jpg: ignoring corrupt image/label: Label class 1 exceeds dataset class count 1. Possible class labels are 0-0\n",
            "\u001b[34m\u001b[1mtrain: \u001b[0m/content/fire-1/train/images/ck0ujkl8y85nx0a4678ht59jh_jpeg_jpg.rf.a8b2d0963a6fe831520e0b29b8e33bcc.jpg: ignoring corrupt image/label: Label class 1 exceeds dataset class count 1. Possible class labels are 0-0\n",
            "\u001b[34m\u001b[1mtrain: \u001b[0m/content/fire-1/train/images/ck0ujle3ouhd20863udrln8yl_jpeg_jpg.rf.2e5133b7de104417c8e3d6a29d36b2af.jpg: ignoring corrupt image/label: Label class 1 exceeds dataset class count 1. Possible class labels are 0-0\n",
            "\u001b[34m\u001b[1mtrain: \u001b[0m/content/fire-1/train/images/ck0ujmglz85u10a468qt0d4fc_jpeg_jpg.rf.497743341b3c75566c706adbd413f660.jpg: ignoring corrupt image/label: Label class 1 exceeds dataset class count 1. Possible class labels are 0-0\n",
            "\u001b[34m\u001b[1mtrain: \u001b[0m/content/fire-1/train/images/ck0ujo3wrv2130838pn66pvj4_jpeg_jpg.rf.b04ba95cdb2678affe202806254fd5a0.jpg: ignoring corrupt image/label: Label class 1 exceeds dataset class count 1. Possible class labels are 0-0\n",
            "\u001b[34m\u001b[1mtrain: \u001b[0m/content/fire-1/train/images/ck0ujob3n85zc0a46r0pdmhoy_jpeg_jpg.rf.3ff127199aa365cf4b93473a79fd5646.jpg: ignoring corrupt image/label: Label class 1 exceeds dataset class count 1. Possible class labels are 0-0\n",
            "\u001b[34m\u001b[1mtrain: \u001b[0m/content/fire-1/train/images/ck0ujoiltwezp0944u48gk6wn_jpeg_jpg.rf.e129f12dade7af1c6e5693727240dfd4.jpg: ignoring corrupt image/label: Label class 1 exceeds dataset class count 1. Possible class labels are 0-0\n",
            "\u001b[34m\u001b[1mtrain: \u001b[0m/content/fire-1/train/images/ck0ujvtjvyrjx0721f1bk9yvy_jpeg_jpg.rf.774f7fddc40531f7add3c6eaeea60b3d.jpg: ignoring corrupt image/label: Label class 1 exceeds dataset class count 1. Possible class labels are 0-0\n",
            "\u001b[34m\u001b[1mtrain: \u001b[0m/content/fire-1/train/images/ck0ujw76nui2g0863hz7l7uqo_jpeg_jpg.rf.0f74535fa316cf8139ae433f3c55b6ce.jpg: ignoring corrupt image/label: Label class 1 exceeds dataset class count 1. Possible class labels are 0-0\n",
            "\u001b[34m\u001b[1mtrain: \u001b[0m/content/fire-1/train/images/ck0ujwlr98tkt0848fudx9cb3_jpeg_jpg.rf.2835b2cca95613d0abe05aa701eacbbe.jpg: ignoring corrupt image/label: Label class 1 exceeds dataset class count 1. Possible class labels are 0-0\n",
            "\u001b[34m\u001b[1mtrain: \u001b[0m/content/fire-1/train/images/ck0ujxg4qyroe0721yt57ymqa_jpeg_jpg.rf.4fdcf149f2a0f3b3389cac9f24db9c8b.jpg: ignoring corrupt image/label: Label class 1 exceeds dataset class count 1. Possible class labels are 0-0\n",
            "\u001b[34m\u001b[1mtrain: \u001b[0m/content/fire-1/train/images/ck0ujxwiv8tpa0848i4mm92da_jpeg_jpg.rf.e7c689021614704c0cdc8fd440884490.jpg: ignoring corrupt image/label: Label class 1 exceeds dataset class count 1. Possible class labels are 0-0\n",
            "\u001b[34m\u001b[1mtrain: \u001b[0m/content/fire-1/train/images/ck0ujy91ete1p0794u8tbqbox_jpeg_jpg.rf.76c2d4be977b351cd2dcbb1e7612b0d7.jpg: ignoring corrupt image/label: Label class 1 exceeds dataset class count 1. Possible class labels are 0-0\n",
            "\u001b[34m\u001b[1mtrain: \u001b[0m/content/fire-1/train/images/ck0ujzue9uicd08638rcyl1ro_jpeg_jpg.rf.3d3f8a2a024f13c6590a31b96b0191ab.jpg: ignoring corrupt image/label: Label class 1 exceeds dataset class count 1. Possible class labels are 0-0\n",
            "\u001b[34m\u001b[1mtrain: \u001b[0m/content/fire-1/train/images/ck0uk19kvwftk0944hsc0vul0_jpeg_jpg.rf.86092764191d7774eba42bd4f5cc795e.jpg: ignoring corrupt image/label: Label class 1 exceeds dataset class count 1. Possible class labels are 0-0\n",
            "\u001b[34m\u001b[1mtrain: \u001b[0m/content/fire-1/train/images/ck0uk2i9z86xl0a46gizlif59_jpeg_jpg.rf.22752344447dc3564311503faaa08dbc.jpg: ignoring corrupt image/label: Label class 1 exceeds dataset class count 1. Possible class labels are 0-0\n",
            "\u001b[34m\u001b[1mtrain: \u001b[0m/content/fire-1/train/images/ck0uk4wf8875i0a46hztpqvip_jpeg_jpg.rf.08184761755140e9525c68f9ae724cca.jpg: ignoring corrupt image/label: Label class 1 exceeds dataset class count 1. Possible class labels are 0-0\n",
            "\u001b[34m\u001b[1mtrain: \u001b[0m/content/fire-1/train/images/ck0uk5cl3877p0a468qm2bfay_jpeg_jpg.rf.8830d8b5523eb05cf3e75ef9b8fb7858.jpg: ignoring corrupt image/label: Label class 1 exceeds dataset class count 1. Possible class labels are 0-0\n",
            "\u001b[34m\u001b[1mtrain: \u001b[0m/content/fire-1/train/images/ck0uk5rawysf20721e35n6nk5_jpeg_jpg.rf.80ced58ccb9cd2e4073cfc80bdd5c8e1.jpg: ignoring corrupt image/label: Label class 1 exceeds dataset class count 1. Possible class labels are 0-0\n",
            "\u001b[34m\u001b[1mtrain: \u001b[0m/content/fire-1/train/images/ck0uk75x5ysls0721e5a9j891_jpeg_jpg.rf.9ff5c959aa2b601a8dfcd35c4779c00f.jpg: ignoring corrupt image/label: Label class 1 exceeds dataset class count 1. Possible class labels are 0-0\n",
            "\u001b[34m\u001b[1mtrain: \u001b[0m/content/fire-1/train/images/ck0ukgesfwh7f0944smkfpncd_jpeg_jpg.rf.3ac7bd43a47f2a7b7719282f18b53462.jpg: ignoring corrupt image/label: Label class 1 exceeds dataset class count 1. Possible class labels are 0-0\n",
            "\u001b[34m\u001b[1mtrain: \u001b[0m/content/fire-1/train/images/ck0ukglh8v4be0838snyl10yu_jpeg_jpg.rf.963164a4de330d72d32e729438f8ceb7.jpg: ignoring corrupt image/label: Label class 1 exceeds dataset class count 1. Possible class labels are 0-0\n",
            "\u001b[34m\u001b[1mtrain: \u001b[0m/content/fire-1/train/images/ck0ukh756v4e308383pqia4e4_jpeg_jpg.rf.3ae45d49560b8dd86572db1fd3ef0c5e.jpg: ignoring corrupt image/label: Label class 1 exceeds dataset class count 1. Possible class labels are 0-0\n",
            "\u001b[34m\u001b[1mtrain: \u001b[0m/content/fire-1/train/images/ck0ukhrm7wh9z0944dld49omk_jpeg_jpg.rf.64c4cbfa10884311b8125a45740a7186.jpg: ignoring corrupt image/label: Label class 1 exceeds dataset class count 1. Possible class labels are 0-0\n",
            "\u001b[34m\u001b[1mtrain: \u001b[0m/content/fire-1/train/images/ck0uki6ppytkz0721bttibej8_jpeg_jpg.rf.60685baee2fca95a0ff1a69451cb00be.jpg: ignoring corrupt image/label: Label class 1 exceeds dataset class count 1. Possible class labels are 0-0\n",
            "\u001b[34m\u001b[1mtrain: \u001b[0m/content/fire-1/train/images/ck0ukjmceuk3t0863k4o3i8g4_jpeg_jpg.rf.06e56e326ebbd246105cfa94fa41b83a.jpg: ignoring corrupt image/label: Label class 1 exceeds dataset class count 1. Possible class labels are 0-0\n",
            "\u001b[34m\u001b[1mtrain: \u001b[0m/content/fire-1/train/images/ck0ukjupkwhfa0944r6gu3mh8_jpeg_jpg.rf.e2c0b4a53f60341273a3d08ed6531f02.jpg: ignoring corrupt image/label: Label class 1 exceeds dataset class count 1. Possible class labels are 0-0\n",
            "\u001b[34m\u001b[1mtrain: \u001b[0m/content/fire-1/train/images/ck0ukk30lwlt9070113ad7m2j_jpeg_jpg.rf.b037c616fb1216ab25e150cec4e0c15b.jpg: ignoring corrupt image/label: Label class 1 exceeds dataset class count 1. Possible class labels are 0-0\n",
            "\u001b[34m\u001b[1mtrain: \u001b[0m/content/fire-1/train/images/ck0ukkr2f8vml0848uyh1iw50_jpeg_jpg.rf.48198846998f88a2f4b7aea77f8b2935.jpg: ignoring corrupt image/label: Label class 1 exceeds dataset class count 1. Possible class labels are 0-0\n",
            "\u001b[34m\u001b[1mtrain: \u001b[0m/content/fire-1/train/images/ck0uklx72wly70701px5wl6fw_jpeg_jpg.rf.f7a5a4118ac0fe4d83fa2c2af29d868e.jpg: ignoring corrupt image/label: Label class 1 exceeds dataset class count 1. Possible class labels are 0-0\n",
            "\u001b[34m\u001b[1mtrain: \u001b[0m/content/fire-1/train/images/fire1-10-_jpg.rf.8bac2b21ccd17ea847dd9fb78a07da24.jpg: ignoring corrupt image/label: Label class 1 exceeds dataset class count 1. Possible class labels are 0-0\n",
            "\u001b[34m\u001b[1mtrain: \u001b[0m/content/fire-1/train/images/fire1-1010-_jpg.rf.8a08799c2c0d6e5abeca7d987aa017e4.jpg: ignoring corrupt image/label: Label class 1 exceeds dataset class count 1. Possible class labels are 0-0\n",
            "\u001b[34m\u001b[1mtrain: \u001b[0m/content/fire-1/train/images/fire1-1012-_jpg.rf.0747e125c442e03cf6c5e253f3b6040c.jpg: ignoring corrupt image/label: Label class 1 exceeds dataset class count 1. Possible class labels are 0-0\n",
            "\u001b[34m\u001b[1mtrain: \u001b[0m/content/fire-1/train/images/fire1-1013-_jpg.rf.e31d555bae83d932a45139760f81957e.jpg: ignoring corrupt image/label: Label class 1 exceeds dataset class count 1. Possible class labels are 0-0\n",
            "\u001b[34m\u001b[1mtrain: \u001b[0m/content/fire-1/train/images/fire1-1020-_jpg.rf.0aa282b141a3a9ee8d24547b9066eb30.jpg: ignoring corrupt image/label: Label class 1 exceeds dataset class count 1. Possible class labels are 0-0\n",
            "\u001b[34m\u001b[1mtrain: \u001b[0m/content/fire-1/train/images/fire1-1025-_jpg.rf.5f5b40074c910c8984c8f294faf3b54e.jpg: ignoring corrupt image/label: Label class 1 exceeds dataset class count 1. Possible class labels are 0-0\n",
            "\u001b[34m\u001b[1mtrain: \u001b[0m/content/fire-1/train/images/fire1-1026-_jpg.rf.473c3c6b800c0f8c41e28c84caa58ae1.jpg: ignoring corrupt image/label: Label class 1 exceeds dataset class count 1. Possible class labels are 0-0\n",
            "\u001b[34m\u001b[1mtrain: \u001b[0m/content/fire-1/train/images/fire1-1029-_jpg.rf.4d3989b30b176ac24f3ca9f31986c0a5.jpg: ignoring corrupt image/label: Label class 1 exceeds dataset class count 1. Possible class labels are 0-0\n",
            "\u001b[34m\u001b[1mtrain: \u001b[0m/content/fire-1/train/images/fire1-1035-_jpg.rf.c982aa7952901bae86ad656c163efcb0.jpg: ignoring corrupt image/label: Label class 1 exceeds dataset class count 1. Possible class labels are 0-0\n",
            "\u001b[34m\u001b[1mtrain: \u001b[0m/content/fire-1/train/images/fire1-1036-_jpg.rf.9e7dc861e2939108bf64371029cd9fc1.jpg: ignoring corrupt image/label: Label class 1 exceeds dataset class count 1. Possible class labels are 0-0\n",
            "\u001b[34m\u001b[1mtrain: \u001b[0m/content/fire-1/train/images/fire1-1037-_jpg.rf.57eec6fb2ac1fcfddd19f89eba6c1c34.jpg: ignoring corrupt image/label: Label class 1 exceeds dataset class count 1. Possible class labels are 0-0\n",
            "\u001b[34m\u001b[1mtrain: \u001b[0m/content/fire-1/train/images/fire1-1044-_jpg.rf.9420e85a3b1a4b73ad55d697f60193e1.jpg: ignoring corrupt image/label: Label class 1 exceeds dataset class count 1. Possible class labels are 0-0\n",
            "\u001b[34m\u001b[1mtrain: \u001b[0m/content/fire-1/train/images/fire1-1047-_jpg.rf.f266f1ca94bcf677055af0b489faf498.jpg: ignoring corrupt image/label: Label class 1 exceeds dataset class count 1. Possible class labels are 0-0\n",
            "\u001b[34m\u001b[1mtrain: \u001b[0m/content/fire-1/train/images/fire1-1055-_jpg.rf.adf8370c6f44c3fafa26811fc588a499.jpg: ignoring corrupt image/label: Label class 1 exceeds dataset class count 1. Possible class labels are 0-0\n",
            "\u001b[34m\u001b[1mtrain: \u001b[0m/content/fire-1/train/images/fire1-1059-_jpg.rf.34ad11aa32664613dcfc6ea47043b0ee.jpg: ignoring corrupt image/label: Label class 1 exceeds dataset class count 1. Possible class labels are 0-0\n",
            "\u001b[34m\u001b[1mtrain: \u001b[0m/content/fire-1/train/images/fire1-1065-_jpg.rf.7ff9a234ffbb4c7607d9fc5b55d14d20.jpg: ignoring corrupt image/label: Label class 1 exceeds dataset class count 1. Possible class labels are 0-0\n",
            "\u001b[34m\u001b[1mtrain: \u001b[0m/content/fire-1/train/images/fire1-1065-_jpg.rf.ffeaa4850bd9fdf6b409c8c63a660e94.jpg: ignoring corrupt image/label: Label class 1 exceeds dataset class count 1. Possible class labels are 0-0\n",
            "\u001b[34m\u001b[1mtrain: \u001b[0m/content/fire-1/train/images/fire1-1070-_jpg.rf.ed628bf0110e0ab254cf414e04a06e53.jpg: ignoring corrupt image/label: Label class 1 exceeds dataset class count 1. Possible class labels are 0-0\n",
            "\u001b[34m\u001b[1mtrain: \u001b[0m/content/fire-1/train/images/fire1-1076-_jpg.rf.06125d2a1a6bc1b99072287c7410a254.jpg: ignoring corrupt image/label: Label class 1 exceeds dataset class count 1. Possible class labels are 0-0\n",
            "\u001b[34m\u001b[1mtrain: \u001b[0m/content/fire-1/train/images/fire1-1086-_jpg.rf.29526f7b5a36f895d80fcbe9858163f2.jpg: ignoring corrupt image/label: Label class 1 exceeds dataset class count 1. Possible class labels are 0-0\n",
            "\u001b[34m\u001b[1mtrain: \u001b[0m/content/fire-1/train/images/fire1-11-_jpg.rf.94f3391c0c2d15283e50eb69491b69d7.jpg: ignoring corrupt image/label: Label class 1 exceeds dataset class count 1. Possible class labels are 0-0\n",
            "\u001b[34m\u001b[1mtrain: \u001b[0m/content/fire-1/train/images/fire1-1164-_jpg.rf.d5bafb48606b19f0a915d490a5a54998.jpg: ignoring corrupt image/label: Label class 1 exceeds dataset class count 1. Possible class labels are 0-0\n",
            "\u001b[34m\u001b[1mtrain: \u001b[0m/content/fire-1/train/images/fire1-1165-_jpg.rf.9552df5819770a8bdde8745d38be0a63.jpg: ignoring corrupt image/label: Label class 1 exceeds dataset class count 1. Possible class labels are 0-0\n",
            "\u001b[34m\u001b[1mtrain: \u001b[0m/content/fire-1/train/images/fire1-1165-_jpg.rf.c4efedfe571414a75242ba4594796224.jpg: ignoring corrupt image/label: Label class 1 exceeds dataset class count 1. Possible class labels are 0-0\n",
            "\u001b[34m\u001b[1mtrain: \u001b[0m/content/fire-1/train/images/fire1-1167-_jpg.rf.e2131e82bec768b77f62bcf35398259d.jpg: ignoring corrupt image/label: Label class 1 exceeds dataset class count 1. Possible class labels are 0-0\n",
            "\u001b[34m\u001b[1mtrain: \u001b[0m/content/fire-1/train/images/fire1-1170-_jpg.rf.1f098d4a00c12b1ea8418be0eda3142d.jpg: ignoring corrupt image/label: Label class 1 exceeds dataset class count 1. Possible class labels are 0-0\n",
            "\u001b[34m\u001b[1mtrain: \u001b[0m/content/fire-1/train/images/fire1-1170-_jpg.rf.213c66a435d8a60ab8dde067b8948379.jpg: ignoring corrupt image/label: Label class 1 exceeds dataset class count 1. Possible class labels are 0-0\n",
            "\u001b[34m\u001b[1mtrain: \u001b[0m/content/fire-1/train/images/fire1-1181-_jpg.rf.31ef6c36ca9d31c8892cee6d77a086e4.jpg: ignoring corrupt image/label: Label class 1 exceeds dataset class count 1. Possible class labels are 0-0\n",
            "\u001b[34m\u001b[1mtrain: \u001b[0m/content/fire-1/train/images/fire1-1191-_jpg.rf.998518460892fc950b94fd2ecaef1fe9.jpg: ignoring corrupt image/label: Label class 1 exceeds dataset class count 1. Possible class labels are 0-0\n",
            "\u001b[34m\u001b[1mtrain: \u001b[0m/content/fire-1/train/images/fire1-12-_jpg.rf.27b9fefc5cfadc87ad30988aaff56aab.jpg: ignoring corrupt image/label: Label class 1 exceeds dataset class count 1. Possible class labels are 0-0\n",
            "\u001b[34m\u001b[1mtrain: \u001b[0m/content/fire-1/train/images/fire1-1204-_jpg.rf.86de89be3ea7283ecfb45ed875148984.jpg: ignoring corrupt image/label: Label class 1 exceeds dataset class count 1. Possible class labels are 0-0\n",
            "\u001b[34m\u001b[1mtrain: \u001b[0m/content/fire-1/train/images/fire1-1214-_jpg.rf.624f717d8d55b56363f118432753df3c.jpg: ignoring corrupt image/label: Label class 1 exceeds dataset class count 1. Possible class labels are 0-0\n",
            "\u001b[34m\u001b[1mtrain: \u001b[0m/content/fire-1/train/images/fire1-1214-_jpg.rf.998d4767f08ad7179c9e2ac22b4a13ae.jpg: ignoring corrupt image/label: Label class 1 exceeds dataset class count 1. Possible class labels are 0-0\n",
            "\u001b[34m\u001b[1mtrain: \u001b[0m/content/fire-1/train/images/fire1-1215-_jpg.rf.5c6dd5a14d40fd1cc859ebd41fbe8e35.jpg: ignoring corrupt image/label: Label class 1 exceeds dataset class count 1. Possible class labels are 0-0\n",
            "\u001b[34m\u001b[1mtrain: \u001b[0m/content/fire-1/train/images/fire1-1215-_jpg.rf.904238ea37358979c6f8a65c5123948d.jpg: ignoring corrupt image/label: Label class 1 exceeds dataset class count 1. Possible class labels are 0-0\n",
            "\u001b[34m\u001b[1mtrain: \u001b[0m/content/fire-1/train/images/fire1-1218-_jpg.rf.477bfb6781a2bdcc7f118d6b46b2fec4.jpg: ignoring corrupt image/label: Label class 1 exceeds dataset class count 1. Possible class labels are 0-0\n",
            "\u001b[34m\u001b[1mtrain: \u001b[0m/content/fire-1/train/images/fire1-1218-_jpg.rf.a17fc6a6961fd783be48fb33d3a12ede.jpg: ignoring corrupt image/label: Label class 1 exceeds dataset class count 1. Possible class labels are 0-0\n",
            "\u001b[34m\u001b[1mtrain: \u001b[0m/content/fire-1/train/images/fire1-1219-_jpg.rf.623e19f87031998f9e02dd59debd4563.jpg: ignoring corrupt image/label: Label class 1 exceeds dataset class count 1. Possible class labels are 0-0\n",
            "\u001b[34m\u001b[1mtrain: \u001b[0m/content/fire-1/train/images/fire1-1234-_jpg.rf.79d28dff4402ca5a9e429822a08c8cb2.jpg: ignoring corrupt image/label: Label class 1 exceeds dataset class count 1. Possible class labels are 0-0\n",
            "\u001b[34m\u001b[1mtrain: \u001b[0m/content/fire-1/train/images/fire1-1236-_jpg.rf.4af586790ee0b8c0bf3546b459f9b4e2.jpg: ignoring corrupt image/label: Label class 1 exceeds dataset class count 1. Possible class labels are 0-0\n",
            "\u001b[34m\u001b[1mtrain: \u001b[0m/content/fire-1/train/images/fire1-1238-_jpg.rf.8ca49400ed555cf1b7dabf4d9c467d24.jpg: ignoring corrupt image/label: Label class 1 exceeds dataset class count 1. Possible class labels are 0-0\n",
            "\u001b[34m\u001b[1mtrain: \u001b[0m/content/fire-1/train/images/fire1-1239-_jpg.rf.f11ecc2094de20d87d4d6872bf847a9d.jpg: ignoring corrupt image/label: Label class 1 exceeds dataset class count 1. Possible class labels are 0-0\n",
            "\u001b[34m\u001b[1mtrain: \u001b[0m/content/fire-1/train/images/fire1-1250-_jpg.rf.fb317779bbd9e7ad4565e262767aeec0.jpg: ignoring corrupt image/label: Label class 1 exceeds dataset class count 1. Possible class labels are 0-0\n",
            "\u001b[34m\u001b[1mtrain: \u001b[0m/content/fire-1/train/images/fire1-1251-_jpg.rf.8dcd4c8192f96aa4b692d77fd5067b2d.jpg: ignoring corrupt image/label: Label class 1 exceeds dataset class count 1. Possible class labels are 0-0\n",
            "\u001b[34m\u001b[1mtrain: \u001b[0m/content/fire-1/train/images/fire1-1251-_jpg.rf.bb07ddfd32a6cf70e952bcd103f0ed3c.jpg: ignoring corrupt image/label: Label class 1 exceeds dataset class count 1. Possible class labels are 0-0\n",
            "\u001b[34m\u001b[1mtrain: \u001b[0m/content/fire-1/train/images/fire1-1254-_jpg.rf.8f61a8bfded658b197dd6a663f88d3df.jpg: ignoring corrupt image/label: Label class 1 exceeds dataset class count 1. Possible class labels are 0-0\n",
            "\u001b[34m\u001b[1mtrain: \u001b[0m/content/fire-1/train/images/fire1-1254-_jpg.rf.ce44439d3db10696f68f0d5d91b4820d.jpg: ignoring corrupt image/label: Label class 1 exceeds dataset class count 1. Possible class labels are 0-0\n",
            "\u001b[34m\u001b[1mtrain: \u001b[0m/content/fire-1/train/images/fire1-1257-_jpg.rf.2bdc3a8ea7b0c8837592addaa31cb828.jpg: ignoring corrupt image/label: Label class 1 exceeds dataset class count 1. Possible class labels are 0-0\n",
            "\u001b[34m\u001b[1mtrain: \u001b[0m/content/fire-1/train/images/fire1-1258-_jpg.rf.11b546d4228ecae7ba2fab7df55de019.jpg: ignoring corrupt image/label: Label class 1 exceeds dataset class count 1. Possible class labels are 0-0\n",
            "\u001b[34m\u001b[1mtrain: \u001b[0m/content/fire-1/train/images/fire1-1258-_jpg.rf.74da3cc2f03956e1564a610660053edf.jpg: ignoring corrupt image/label: Label class 1 exceeds dataset class count 1. Possible class labels are 0-0\n",
            "\u001b[34m\u001b[1mtrain: \u001b[0m/content/fire-1/train/images/fire1-1261-_jpg.rf.4c8e45b91242a84f71ddb84005a897a0.jpg: ignoring corrupt image/label: Label class 1 exceeds dataset class count 1. Possible class labels are 0-0\n",
            "\u001b[34m\u001b[1mtrain: \u001b[0m/content/fire-1/train/images/fire1-1261-_jpg.rf.beb16f515e72d949891fdb5277ee326d.jpg: ignoring corrupt image/label: Label class 1 exceeds dataset class count 1. Possible class labels are 0-0\n",
            "\u001b[34m\u001b[1mtrain: \u001b[0m/content/fire-1/train/images/fire1-1266-_jpg.rf.311456ef2243b903fa2832a32b948039.jpg: ignoring corrupt image/label: Label class 1 exceeds dataset class count 1. Possible class labels are 0-0\n",
            "\u001b[34m\u001b[1mtrain: \u001b[0m/content/fire-1/train/images/fire1-1266-_jpg.rf.70e2ed258734c1b66e4b40c6a31732b8.jpg: ignoring corrupt image/label: Label class 1 exceeds dataset class count 1. Possible class labels are 0-0\n",
            "\u001b[34m\u001b[1mtrain: \u001b[0m/content/fire-1/train/images/fire1-1269-_jpg.rf.21db84a3f4d9ed42f5847a36b67e134e.jpg: ignoring corrupt image/label: Label class 1 exceeds dataset class count 1. Possible class labels are 0-0\n",
            "\u001b[34m\u001b[1mtrain: \u001b[0m/content/fire-1/train/images/fire1-1269-_jpg.rf.9ace43f23e58700f7c42aed4462a1735.jpg: ignoring corrupt image/label: Label class 1 exceeds dataset class count 1. Possible class labels are 0-0\n",
            "\u001b[34m\u001b[1mtrain: \u001b[0m/content/fire-1/train/images/fire1-1272-_jpg.rf.45aab829aef58a29e81b8a68f2ff5ef9.jpg: ignoring corrupt image/label: Label class 1 exceeds dataset class count 1. Possible class labels are 0-0\n",
            "\u001b[34m\u001b[1mtrain: \u001b[0m/content/fire-1/train/images/fire1-1293-_jpg.rf.2eb032c5c5dbd1406a5bfceeba3380fd.jpg: ignoring corrupt image/label: Label class 1 exceeds dataset class count 1. Possible class labels are 0-0\n",
            "\u001b[34m\u001b[1mtrain: \u001b[0m/content/fire-1/train/images/fire1-1297-_jpg.rf.26e760e036063e118d08647bdb62907b.jpg: ignoring corrupt image/label: Label class 1 exceeds dataset class count 1. Possible class labels are 0-0\n",
            "\u001b[34m\u001b[1mtrain: \u001b[0m/content/fire-1/train/images/fire1-13-_jpg.rf.4b2a8333116ee088bf19d929223e61f3.jpg: ignoring corrupt image/label: Label class 1 exceeds dataset class count 1. Possible class labels are 0-0\n",
            "\u001b[34m\u001b[1mtrain: \u001b[0m/content/fire-1/train/images/fire1-13-_jpg.rf.87328e6e0fced53cc7a53c812405a4ea.jpg: ignoring corrupt image/label: Label class 1 exceeds dataset class count 1. Possible class labels are 0-0\n",
            "\u001b[34m\u001b[1mtrain: \u001b[0m/content/fire-1/train/images/fire1-1321-_jpg.rf.7942aa4ab4a8fcc619019cd577afc242.jpg: ignoring corrupt image/label: Label class 1 exceeds dataset class count 1. Possible class labels are 0-0\n",
            "\u001b[34m\u001b[1mtrain: \u001b[0m/content/fire-1/train/images/fire1-1324-_jpg.rf.cc840b2c0876cd9ca2e14a2366338cfc.jpg: ignoring corrupt image/label: Label class 1 exceeds dataset class count 1. Possible class labels are 0-0\n",
            "\u001b[34m\u001b[1mtrain: \u001b[0m/content/fire-1/train/images/fire1-1335-_jpg.rf.94f1f118dbc9e6d972e900056ece3051.jpg: ignoring corrupt image/label: Label class 1 exceeds dataset class count 1. Possible class labels are 0-0\n",
            "\u001b[34m\u001b[1mtrain: \u001b[0m/content/fire-1/train/images/fire1-1337-_jpg.rf.c38a7973ba0d2e6e78564be5c021ec9a.jpg: ignoring corrupt image/label: Label class 1 exceeds dataset class count 1. Possible class labels are 0-0\n",
            "\u001b[34m\u001b[1mtrain: \u001b[0m/content/fire-1/train/images/fire1-1344-_jpg.rf.0c379aea7ec3337f476e0d4c7d93953c.jpg: ignoring corrupt image/label: Label class 1 exceeds dataset class count 1. Possible class labels are 0-0\n",
            "\u001b[34m\u001b[1mtrain: \u001b[0m/content/fire-1/train/images/fire1-1344-_jpg.rf.677b411f852c6bcc6092e8b1ade0e053.jpg: ignoring corrupt image/label: Label class 1 exceeds dataset class count 1. Possible class labels are 0-0\n",
            "\u001b[34m\u001b[1mtrain: \u001b[0m/content/fire-1/train/images/fire1-1357-_jpg.rf.be89ccc4b0da577d8358122c31f8917f.jpg: ignoring corrupt image/label: Label class 1 exceeds dataset class count 1. Possible class labels are 0-0\n",
            "\u001b[34m\u001b[1mtrain: \u001b[0m/content/fire-1/train/images/fire1-1363-_jpg.rf.bbfc0221438e1aaa5b2084189d9cf3b0.jpg: ignoring corrupt image/label: Label class 1 exceeds dataset class count 1. Possible class labels are 0-0\n",
            "\u001b[34m\u001b[1mtrain: \u001b[0m/content/fire-1/train/images/fire1-1363-_jpg.rf.ed137f9dceadf9185dc4e84695d23df5.jpg: ignoring corrupt image/label: Label class 1 exceeds dataset class count 1. Possible class labels are 0-0\n",
            "\u001b[34m\u001b[1mtrain: \u001b[0m/content/fire-1/train/images/fire1-1364-_jpg.rf.58751a453ddb46e7abf83839bc0119f9.jpg: ignoring corrupt image/label: Label class 1 exceeds dataset class count 1. Possible class labels are 0-0\n",
            "\u001b[34m\u001b[1mtrain: \u001b[0m/content/fire-1/train/images/fire1-1380-_jpg.rf.2025cc30dbd717e90d829f337cfba3a4.jpg: ignoring corrupt image/label: Label class 1 exceeds dataset class count 1. Possible class labels are 0-0\n",
            "\u001b[34m\u001b[1mtrain: \u001b[0m/content/fire-1/train/images/fire1-1384-_jpg.rf.5488cce04a1dfcbcb48dd47111087eb8.jpg: ignoring corrupt image/label: Label class 1 exceeds dataset class count 1. Possible class labels are 0-0\n",
            "\u001b[34m\u001b[1mtrain: \u001b[0m/content/fire-1/train/images/fire1-1397-_jpg.rf.753a4fd6f3aac2e1d8cc3dd366f80b1a.jpg: ignoring corrupt image/label: Label class 1 exceeds dataset class count 1. Possible class labels are 0-0\n",
            "\u001b[34m\u001b[1mtrain: \u001b[0m/content/fire-1/train/images/fire1-1397-_jpg.rf.d80191005c1510cf041890db50cf00c8.jpg: ignoring corrupt image/label: Label class 1 exceeds dataset class count 1. Possible class labels are 0-0\n",
            "\u001b[34m\u001b[1mtrain: \u001b[0m/content/fire-1/train/images/fire1-14-_jpg.rf.45039ab4dad944971759b0fea72c6f0c.jpg: ignoring corrupt image/label: Label class 1 exceeds dataset class count 1. Possible class labels are 0-0\n",
            "\u001b[34m\u001b[1mtrain: \u001b[0m/content/fire-1/train/images/fire1-1402-_jpg.rf.b8ebb0a2decf0ad00ed1bc6e1aa6c83b.jpg: ignoring corrupt image/label: Label class 1 exceeds dataset class count 1. Possible class labels are 0-0\n",
            "\u001b[34m\u001b[1mtrain: \u001b[0m/content/fire-1/train/images/fire1-1402-_jpg.rf.f86b3ef23b918aa039c67e73bab1a4fc.jpg: ignoring corrupt image/label: Label class 1 exceeds dataset class count 1. Possible class labels are 0-0\n",
            "\u001b[34m\u001b[1mtrain: \u001b[0m/content/fire-1/train/images/fire1-1413-_jpg.rf.59fc46e39d639af4f648a147ba523975.jpg: ignoring corrupt image/label: Label class 1 exceeds dataset class count 1. Possible class labels are 0-0\n",
            "\u001b[34m\u001b[1mtrain: \u001b[0m/content/fire-1/train/images/fire1-1470-_jpg.rf.2b5abc5bbe445f4727c13b2ce9ff71ff.jpg: ignoring corrupt image/label: Label class 1 exceeds dataset class count 1. Possible class labels are 0-0\n",
            "\u001b[34m\u001b[1mtrain: \u001b[0m/content/fire-1/train/images/fire1-15-_jpg.rf.47b77b25af2966fc4ff9c23c26493b36.jpg: ignoring corrupt image/label: Label class 1 exceeds dataset class count 1. Possible class labels are 0-0\n",
            "\u001b[34m\u001b[1mtrain: \u001b[0m/content/fire-1/train/images/fire1-15-_jpg.rf.d4815a35665f32271d79922843621489.jpg: ignoring corrupt image/label: Label class 1 exceeds dataset class count 1. Possible class labels are 0-0\n",
            "\u001b[34m\u001b[1mtrain: \u001b[0m/content/fire-1/train/images/fire1-1518-_jpg.rf.d218489f2b98206d0a7dbf8de0946968.jpg: ignoring corrupt image/label: Label class 1 exceeds dataset class count 1. Possible class labels are 0-0\n",
            "\u001b[34m\u001b[1mtrain: \u001b[0m/content/fire-1/train/images/fire1-1527-_jpg.rf.5c51e0dab2d28938a984b0568892daea.jpg: ignoring corrupt image/label: Label class 1 exceeds dataset class count 1. Possible class labels are 0-0\n",
            "\u001b[34m\u001b[1mtrain: \u001b[0m/content/fire-1/train/images/fire1-1527-_jpg.rf.c8431655dd46bcd5014e4f56989ec6a5.jpg: ignoring corrupt image/label: Label class 1 exceeds dataset class count 1. Possible class labels are 0-0\n",
            "\u001b[34m\u001b[1mtrain: \u001b[0m/content/fire-1/train/images/fire1-1528-_jpg.rf.07d1cc1792760202c6bcc120df53289e.jpg: ignoring corrupt image/label: Label class 1 exceeds dataset class count 1. Possible class labels are 0-0\n",
            "\u001b[34m\u001b[1mtrain: \u001b[0m/content/fire-1/train/images/fire1-1528-_jpg.rf.10aa553f7ceeece156964d0b94bfcf89.jpg: ignoring corrupt image/label: Label class 1 exceeds dataset class count 1. Possible class labels are 0-0\n",
            "\u001b[34m\u001b[1mtrain: \u001b[0m/content/fire-1/train/images/fire1-1539-_jpg.rf.198c27d83c11020617c61e0288bbf69e.jpg: ignoring corrupt image/label: Label class 1 exceeds dataset class count 1. Possible class labels are 0-0\n",
            "\u001b[34m\u001b[1mtrain: \u001b[0m/content/fire-1/train/images/fire1-1539-_jpg.rf.ced053d2c8abe695344d27585b6f8542.jpg: ignoring corrupt image/label: Label class 1 exceeds dataset class count 1. Possible class labels are 0-0\n",
            "\u001b[34m\u001b[1mtrain: \u001b[0m/content/fire-1/train/images/fire1-1542-_jpg.rf.cf40b6b484561098ad612b11a836288e.jpg: ignoring corrupt image/label: Label class 1 exceeds dataset class count 1. Possible class labels are 0-0\n",
            "\u001b[34m\u001b[1mtrain: \u001b[0m/content/fire-1/train/images/fire1-1555-_jpg.rf.a51c0170d67b8a5e70c8d453943d2417.jpg: ignoring corrupt image/label: Label class 1 exceeds dataset class count 1. Possible class labels are 0-0\n",
            "\u001b[34m\u001b[1mtrain: \u001b[0m/content/fire-1/train/images/fire1-1567-_jpg.rf.d5ef18cb8854c3a564deb9670a8cf927.jpg: ignoring corrupt image/label: Label class 1 exceeds dataset class count 1. Possible class labels are 0-0\n",
            "\u001b[34m\u001b[1mtrain: \u001b[0m/content/fire-1/train/images/fire1-16-_jpg.rf.27a636b0732d8bfd3704faffca20b0fe.jpg: ignoring corrupt image/label: Label class 1 exceeds dataset class count 1. Possible class labels are 0-0\n",
            "\u001b[34m\u001b[1mtrain: \u001b[0m/content/fire-1/train/images/fire1-17-_jpg.rf.e2ecf1d7cea456c39e705842c7b96cd6.jpg: ignoring corrupt image/label: Label class 1 exceeds dataset class count 1. Possible class labels are 0-0\n",
            "\u001b[34m\u001b[1mtrain: \u001b[0m/content/fire-1/train/images/fire1-20-_jpg.rf.dcc1493b9305f8f79f89a102cbeff08b.jpg: ignoring corrupt image/label: Label class 1 exceeds dataset class count 1. Possible class labels are 0-0\n",
            "\u001b[34m\u001b[1mtrain: \u001b[0m/content/fire-1/train/images/fire1-20-_jpg.rf.ddbd44d33741b90b0841a15cedb27b7c.jpg: ignoring corrupt image/label: Label class 1 exceeds dataset class count 1. Possible class labels are 0-0\n",
            "\u001b[34m\u001b[1mtrain: \u001b[0m/content/fire-1/train/images/fire1-21-_jpg.rf.349a56633f422099579ba8fdc8bf758d.jpg: ignoring corrupt image/label: Label class 1 exceeds dataset class count 1. Possible class labels are 0-0\n",
            "\u001b[34m\u001b[1mtrain: \u001b[0m/content/fire-1/train/images/fire1-22-_jpg.rf.f0673bca44a1dcbb83ea8803e666e94f.jpg: ignoring corrupt image/label: Label class 1 exceeds dataset class count 1. Possible class labels are 0-0\n",
            "\u001b[34m\u001b[1mtrain: \u001b[0m/content/fire-1/train/images/fire1-23-_jpg.rf.766ab81ede50a706d1ddf3b0943171dd.jpg: ignoring corrupt image/label: Label class 1 exceeds dataset class count 1. Possible class labels are 0-0\n",
            "\u001b[34m\u001b[1mtrain: \u001b[0m/content/fire-1/train/images/fire1-24-_jpg.rf.a045589a30eeeb91f2b62a36b3df7f75.jpg: ignoring corrupt image/label: Label class 1 exceeds dataset class count 1. Possible class labels are 0-0\n",
            "\u001b[34m\u001b[1mtrain: \u001b[0m/content/fire-1/train/images/fire1-25-_jpg.rf.eaa801aa50e64cae7902b3c7bdfc8a24.jpg: ignoring corrupt image/label: Label class 1 exceeds dataset class count 1. Possible class labels are 0-0\n",
            "\u001b[34m\u001b[1mtrain: \u001b[0m/content/fire-1/train/images/fire1-26-_jpg.rf.84818323002fd727898c0b5a91d21a6f.jpg: ignoring corrupt image/label: Label class 1 exceeds dataset class count 1. Possible class labels are 0-0\n",
            "\u001b[34m\u001b[1mtrain: \u001b[0m/content/fire-1/train/images/fire1-28-_jpg.rf.7168806b4e38b8e66d6c6eb9bb51fc31.jpg: ignoring corrupt image/label: Label class 1 exceeds dataset class count 1. Possible class labels are 0-0\n",
            "\u001b[34m\u001b[1mtrain: \u001b[0m/content/fire-1/train/images/fire1-29-_jpg.rf.0599b1da7f678d855a73ff4ac9d7d8cd.jpg: ignoring corrupt image/label: Label class 1 exceeds dataset class count 1. Possible class labels are 0-0\n",
            "\u001b[34m\u001b[1mtrain: \u001b[0m/content/fire-1/train/images/fire1-3-_jpg.rf.2706bf2a50adde6c70b9d884b9fa150a.jpg: ignoring corrupt image/label: Label class 1 exceeds dataset class count 1. Possible class labels are 0-0\n",
            "\u001b[34m\u001b[1mtrain: \u001b[0m/content/fire-1/train/images/fire1-30-_jpg.rf.1b1ca347b0fa6a0acf1fbc00e33598f4.jpg: ignoring corrupt image/label: Label class 1 exceeds dataset class count 1. Possible class labels are 0-0\n",
            "\u001b[34m\u001b[1mtrain: \u001b[0m/content/fire-1/train/images/fire1-30-_jpg.rf.b794db14b6b62819f4c5f8e60c1a8a13.jpg: ignoring corrupt image/label: Label class 1 exceeds dataset class count 1. Possible class labels are 0-0\n",
            "\u001b[34m\u001b[1mtrain: \u001b[0m/content/fire-1/train/images/fire1-31-_jpg.rf.5250ae8cff3e9fee3ac8ec3ea6257773.jpg: ignoring corrupt image/label: Label class 1 exceeds dataset class count 1. Possible class labels are 0-0\n",
            "\u001b[34m\u001b[1mtrain: \u001b[0m/content/fire-1/train/images/fire1-31-_jpg.rf.8b9ebd5bba45c74a2620089fa00b2349.jpg: ignoring corrupt image/label: Label class 1 exceeds dataset class count 1. Possible class labels are 0-0\n",
            "\u001b[34m\u001b[1mtrain: \u001b[0m/content/fire-1/train/images/fire1-32-_jpg.rf.bd83123c6b6da8616be7cdd24a1537dd.jpg: ignoring corrupt image/label: Label class 1 exceeds dataset class count 1. Possible class labels are 0-0\n",
            "\u001b[34m\u001b[1mtrain: \u001b[0m/content/fire-1/train/images/fire1-33-_jpg.rf.690052f02d308c243717a06c2a263da9.jpg: ignoring corrupt image/label: Label class 1 exceeds dataset class count 1. Possible class labels are 0-0\n",
            "\u001b[34m\u001b[1mtrain: \u001b[0m/content/fire-1/train/images/fire1-443-_jpg.rf.1520443d9f25bfa2ec00a40a74651b77.jpg: ignoring corrupt image/label: Label class 1 exceeds dataset class count 1. Possible class labels are 0-0\n",
            "\u001b[34m\u001b[1mtrain: \u001b[0m/content/fire-1/train/images/fire1-470-_jpg.rf.171dc0267e8126ff72ee012fc46c7128.jpg: ignoring corrupt image/label: Label class 1 exceeds dataset class count 1. Possible class labels are 0-0\n",
            "\u001b[34m\u001b[1mtrain: \u001b[0m/content/fire-1/train/images/fire1-470-_jpg.rf.e4443a8177888362d90f6ad454a0ad93.jpg: ignoring corrupt image/label: Label class 1 exceeds dataset class count 1. Possible class labels are 0-0\n",
            "\u001b[34m\u001b[1mtrain: \u001b[0m/content/fire-1/train/images/fire1-471-_jpg.rf.a19b9dd245daca5fbff29c882d05255f.jpg: ignoring corrupt image/label: Label class 1 exceeds dataset class count 1. Possible class labels are 0-0\n",
            "\u001b[34m\u001b[1mtrain: \u001b[0m/content/fire-1/train/images/fire1-472-_jpg.rf.5561a75c9123791929ba87e5dd7a7109.jpg: ignoring corrupt image/label: Label class 1 exceeds dataset class count 1. Possible class labels are 0-0\n",
            "\u001b[34m\u001b[1mtrain: \u001b[0m/content/fire-1/train/images/fire1-474-_jpg.rf.45b1dc946d66d4bc723f4a81cf4770c1.jpg: ignoring corrupt image/label: Label class 1 exceeds dataset class count 1. Possible class labels are 0-0\n",
            "\u001b[34m\u001b[1mtrain: \u001b[0m/content/fire-1/train/images/fire1-474-_jpg.rf.a5d971589afbec90b6a33484d43fb18b.jpg: ignoring corrupt image/label: Label class 1 exceeds dataset class count 1. Possible class labels are 0-0\n",
            "\u001b[34m\u001b[1mtrain: \u001b[0m/content/fire-1/train/images/fire1-5-_jpg.rf.100b51831fdf8077c02c634edb20107e.jpg: ignoring corrupt image/label: Label class 1 exceeds dataset class count 1. Possible class labels are 0-0\n",
            "\u001b[34m\u001b[1mtrain: \u001b[0m/content/fire-1/train/images/fire1-5-_jpg.rf.a93f2d183cc0d032bc26c98105051682.jpg: ignoring corrupt image/label: Label class 1 exceeds dataset class count 1. Possible class labels are 0-0\n",
            "\u001b[34m\u001b[1mtrain: \u001b[0m/content/fire-1/train/images/fire1-580-_jpg.rf.a4c8e674259338bcdbcf15979662fec6.jpg: ignoring corrupt image/label: Label class 1 exceeds dataset class count 1. Possible class labels are 0-0\n",
            "\u001b[34m\u001b[1mtrain: \u001b[0m/content/fire-1/train/images/fire1-586-_jpg.rf.3512cc97829d91e852e892df50da8f80.jpg: ignoring corrupt image/label: Label class 1 exceeds dataset class count 1. Possible class labels are 0-0\n",
            "\u001b[34m\u001b[1mtrain: \u001b[0m/content/fire-1/train/images/fire1-588-_jpg.rf.e53db2bd9ee56552015fb61fbe26d366.jpg: ignoring corrupt image/label: Label class 1 exceeds dataset class count 1. Possible class labels are 0-0\n",
            "\u001b[34m\u001b[1mtrain: \u001b[0m/content/fire-1/train/images/fire1-589-_jpg.rf.6ea6b3a89e7d9b0bf504fa445caafbc3.jpg: ignoring corrupt image/label: Label class 1 exceeds dataset class count 1. Possible class labels are 0-0\n",
            "\u001b[34m\u001b[1mtrain: \u001b[0m/content/fire-1/train/images/fire1-590-_jpg.rf.20cab06c078ed75f984cee64639cf1fc.jpg: ignoring corrupt image/label: Label class 1 exceeds dataset class count 1. Possible class labels are 0-0\n",
            "\u001b[34m\u001b[1mtrain: \u001b[0m/content/fire-1/train/images/fire1-590-_jpg.rf.88067c2ec85bd1a4875967ab6812997b.jpg: ignoring corrupt image/label: Label class 1 exceeds dataset class count 1. Possible class labels are 0-0\n",
            "\u001b[34m\u001b[1mtrain: \u001b[0m/content/fire-1/train/images/fire1-591-_jpg.rf.c27170fc532c2b56d9226f05fa3e95f7.jpg: ignoring corrupt image/label: Label class 1 exceeds dataset class count 1. Possible class labels are 0-0\n",
            "\u001b[34m\u001b[1mtrain: \u001b[0m/content/fire-1/train/images/fire1-593-_jpg.rf.516d7a10692cc8f1969d24adb0885f94.jpg: ignoring corrupt image/label: Label class 1 exceeds dataset class count 1. Possible class labels are 0-0\n",
            "\u001b[34m\u001b[1mtrain: \u001b[0m/content/fire-1/train/images/fire1-594-_jpg.rf.1154b3e5f5c6a30ec45258dff6bd4d60.jpg: ignoring corrupt image/label: Label class 1 exceeds dataset class count 1. Possible class labels are 0-0\n",
            "\u001b[34m\u001b[1mtrain: \u001b[0m/content/fire-1/train/images/fire1-594-_jpg.rf.cfea30d19b6add373507d357f41c8a75.jpg: ignoring corrupt image/label: Label class 1 exceeds dataset class count 1. Possible class labels are 0-0\n",
            "\u001b[34m\u001b[1mtrain: \u001b[0m/content/fire-1/train/images/fire1-596-_jpg.rf.bb6c60453be81efab787482a3a0d07c0.jpg: ignoring corrupt image/label: Label class 1 exceeds dataset class count 1. Possible class labels are 0-0\n",
            "\u001b[34m\u001b[1mtrain: \u001b[0m/content/fire-1/train/images/fire1-6-_jpg.rf.cc8a7523138ab91955d4c08591822532.jpg: ignoring corrupt image/label: Label class 1 exceeds dataset class count 1. Possible class labels are 0-0\n",
            "\u001b[34m\u001b[1mtrain: \u001b[0m/content/fire-1/train/images/fire1-601-_jpg.rf.9e6ddf06f4e92988fd4f9e02f241fe00.jpg: ignoring corrupt image/label: Label class 1 exceeds dataset class count 1. Possible class labels are 0-0\n",
            "\u001b[34m\u001b[1mtrain: \u001b[0m/content/fire-1/train/images/fire1-603-_jpg.rf.85f1c7303bb0016f95561e764d3a5b7e.jpg: ignoring corrupt image/label: Label class 1 exceeds dataset class count 1. Possible class labels are 0-0\n",
            "\u001b[34m\u001b[1mtrain: \u001b[0m/content/fire-1/train/images/fire1-631-_jpg.rf.2c8f8064faa3918b18b8a6fa6630cc49.jpg: ignoring corrupt image/label: Label class 1 exceeds dataset class count 1. Possible class labels are 0-0\n",
            "\u001b[34m\u001b[1mtrain: \u001b[0m/content/fire-1/train/images/fire1-686-_jpg.rf.fc9643cbe3ce92b9d80f18e26bf5403a.jpg: ignoring corrupt image/label: Label class 1 exceeds dataset class count 1. Possible class labels are 0-0\n",
            "\u001b[34m\u001b[1mtrain: \u001b[0m/content/fire-1/train/images/fire1-692-_jpg.rf.3e3b2af3e1ef4d7698f5389d02479da4.jpg: ignoring corrupt image/label: Label class 1 exceeds dataset class count 1. Possible class labels are 0-0\n",
            "\u001b[34m\u001b[1mtrain: \u001b[0m/content/fire-1/train/images/fire1-695-_jpg.rf.ea2686c4ae8a123f86aff2de51a61f81.jpg: ignoring corrupt image/label: Label class 1 exceeds dataset class count 1. Possible class labels are 0-0\n",
            "\u001b[34m\u001b[1mtrain: \u001b[0m/content/fire-1/train/images/fire1-7-_jpg.rf.8a40f8096439c9f0d76c960b68fac436.jpg: ignoring corrupt image/label: Label class 1 exceeds dataset class count 1. Possible class labels are 0-0\n",
            "\u001b[34m\u001b[1mtrain: \u001b[0m/content/fire-1/train/images/fire1-702-_jpg.rf.75d79d021ae5e520075eb642d1270859.jpg: ignoring corrupt image/label: Label class 1 exceeds dataset class count 1. Possible class labels are 0-0\n",
            "\u001b[34m\u001b[1mtrain: \u001b[0m/content/fire-1/train/images/fire1-704-_jpg.rf.c8b9083837055b08692eb212efef9dca.jpg: ignoring corrupt image/label: Label class 1 exceeds dataset class count 1. Possible class labels are 0-0\n",
            "\u001b[34m\u001b[1mtrain: \u001b[0m/content/fire-1/train/images/fire1-705-_jpg.rf.f1bd21ee5eb846305427da7c778363de.jpg: ignoring corrupt image/label: Label class 1 exceeds dataset class count 1. Possible class labels are 0-0\n",
            "\u001b[34m\u001b[1mtrain: \u001b[0m/content/fire-1/train/images/fire1-706-_jpg.rf.35816e2697c6980f4f4d9f6685ad1e74.jpg: ignoring corrupt image/label: Label class 1 exceeds dataset class count 1. Possible class labels are 0-0\n",
            "\u001b[34m\u001b[1mtrain: \u001b[0m/content/fire-1/train/images/fire1-706-_jpg.rf.89d7397a5d5a46bc5672d1e32267355e.jpg: ignoring corrupt image/label: Label class 1 exceeds dataset class count 1. Possible class labels are 0-0\n",
            "\u001b[34m\u001b[1mtrain: \u001b[0m/content/fire-1/train/images/fire1-712-_jpg.rf.b37b7e51f094568acbdea690d12bb9c8.jpg: ignoring corrupt image/label: Label class 1 exceeds dataset class count 1. Possible class labels are 0-0\n",
            "\u001b[34m\u001b[1mtrain: \u001b[0m/content/fire-1/train/images/fire1-720-_jpg.rf.5ff690ff924e466692d28bba987d4c54.jpg: ignoring corrupt image/label: Label class 1 exceeds dataset class count 1. Possible class labels are 0-0\n",
            "\u001b[34m\u001b[1mtrain: \u001b[0m/content/fire-1/train/images/fire1-720-_jpg.rf.f757557bdb5f5887d139e1a5875d0f26.jpg: ignoring corrupt image/label: Label class 1 exceeds dataset class count 1. Possible class labels are 0-0\n",
            "\u001b[34m\u001b[1mtrain: \u001b[0m/content/fire-1/train/images/fire1-721-_jpg.rf.4f194fe8347ae1856ed246d8865ccae9.jpg: ignoring corrupt image/label: Label class 1 exceeds dataset class count 1. Possible class labels are 0-0\n",
            "\u001b[34m\u001b[1mtrain: \u001b[0m/content/fire-1/train/images/fire1-736-_jpg.rf.ac38b0261488888461404c1670ce96fa.jpg: ignoring corrupt image/label: Label class 1 exceeds dataset class count 1. Possible class labels are 0-0\n",
            "\u001b[34m\u001b[1mtrain: \u001b[0m/content/fire-1/train/images/fire1-739-_jpg.rf.ca8ae84ad8aba52af1e93d9a57ba3ee7.jpg: ignoring corrupt image/label: Label class 1 exceeds dataset class count 1. Possible class labels are 0-0\n",
            "\u001b[34m\u001b[1mtrain: \u001b[0m/content/fire-1/train/images/fire1-740-_jpg.rf.26d88d41fc036e5ff70557fe412ba79b.jpg: ignoring corrupt image/label: Label class 1 exceeds dataset class count 1. Possible class labels are 0-0\n",
            "\u001b[34m\u001b[1mtrain: \u001b[0m/content/fire-1/train/images/fire1-742-_jpg.rf.747710184a5b3f9a4b8faf94a281c2ea.jpg: ignoring corrupt image/label: Label class 1 exceeds dataset class count 1. Possible class labels are 0-0\n",
            "\u001b[34m\u001b[1mtrain: \u001b[0m/content/fire-1/train/images/fire1-746-_jpg.rf.7016413279384f9d5397136b3ca47118.jpg: ignoring corrupt image/label: Label class 1 exceeds dataset class count 1. Possible class labels are 0-0\n",
            "\u001b[34m\u001b[1mtrain: \u001b[0m/content/fire-1/train/images/fire1-747-_jpg.rf.1b8013375000d24306caf3c84f0200f4.jpg: ignoring corrupt image/label: Label class 1 exceeds dataset class count 1. Possible class labels are 0-0\n",
            "\u001b[34m\u001b[1mtrain: \u001b[0m/content/fire-1/train/images/fire1-750-_jpg.rf.aef35399777bba1548c5c4200fc84261.jpg: ignoring corrupt image/label: Label class 1 exceeds dataset class count 1. Possible class labels are 0-0\n",
            "\u001b[34m\u001b[1mtrain: \u001b[0m/content/fire-1/train/images/fire1-753-_jpg.rf.d12b7703ac0910511949041e588f351b.jpg: ignoring corrupt image/label: Label class 1 exceeds dataset class count 1. Possible class labels are 0-0\n",
            "\u001b[34m\u001b[1mtrain: \u001b[0m/content/fire-1/train/images/fire1-760-_jpg.rf.22eda806994cb6825b41fd9081085665.jpg: ignoring corrupt image/label: Label class 1 exceeds dataset class count 1. Possible class labels are 0-0\n",
            "\u001b[34m\u001b[1mtrain: \u001b[0m/content/fire-1/train/images/fire1-760-_jpg.rf.9cb8afb5bbc7bb3fdd05deb7340a5808.jpg: ignoring corrupt image/label: Label class 1 exceeds dataset class count 1. Possible class labels are 0-0\n",
            "\u001b[34m\u001b[1mtrain: \u001b[0m/content/fire-1/train/images/fire1-771-_jpg.rf.4a5c7f9f14209666f2497f7561e11da8.jpg: ignoring corrupt image/label: Label class 1 exceeds dataset class count 1. Possible class labels are 0-0\n",
            "\u001b[34m\u001b[1mtrain: \u001b[0m/content/fire-1/train/images/fire1-781-_jpg.rf.2812bfae976300d6d3e6c286c648e6ff.jpg: ignoring corrupt image/label: Label class 1 exceeds dataset class count 1. Possible class labels are 0-0\n",
            "\u001b[34m\u001b[1mtrain: \u001b[0m/content/fire-1/train/images/fire1-795-_jpg.rf.13c80ffe3aa437bcd7290b6b27d50b2d.jpg: ignoring corrupt image/label: Label class 1 exceeds dataset class count 1. Possible class labels are 0-0\n",
            "\u001b[34m\u001b[1mtrain: \u001b[0m/content/fire-1/train/images/fire1-796-_jpg.rf.3294eecae65cc885aa1329db374366fd.jpg: ignoring corrupt image/label: Label class 1 exceeds dataset class count 1. Possible class labels are 0-0\n",
            "\u001b[34m\u001b[1mtrain: \u001b[0m/content/fire-1/train/images/fire1-8-_jpg.rf.ed8a3439226fd13b70be3c1ec47f9e6a.jpg: ignoring corrupt image/label: Label class 1 exceeds dataset class count 1. Possible class labels are 0-0\n",
            "\u001b[34m\u001b[1mtrain: \u001b[0m/content/fire-1/train/images/fire1-819-_jpg.rf.221bb3e6e549646e10330c6f542dbc3a.jpg: ignoring corrupt image/label: Label class 1 exceeds dataset class count 1. Possible class labels are 0-0\n",
            "\u001b[34m\u001b[1mtrain: \u001b[0m/content/fire-1/train/images/fire1-825-_jpg.rf.762959b763f2bd03e985138cefc95e93.jpg: ignoring corrupt image/label: Label class 1 exceeds dataset class count 1. Possible class labels are 0-0\n",
            "\u001b[34m\u001b[1mtrain: \u001b[0m/content/fire-1/train/images/fire1-857-_jpg.rf.96773ee913bf6e294bb5daea1db3ad3b.jpg: ignoring corrupt image/label: Label class 1 exceeds dataset class count 1. Possible class labels are 0-0\n",
            "\u001b[34m\u001b[1mtrain: \u001b[0m/content/fire-1/train/images/fire1-870-_jpg.rf.0267542cc7a230fe961872ec012e741b.jpg: ignoring corrupt image/label: Label class 1 exceeds dataset class count 1. Possible class labels are 0-0\n",
            "\u001b[34m\u001b[1mtrain: \u001b[0m/content/fire-1/train/images/fire1-877-_jpg.rf.114f1480c0e2ed8d5339e0ba4cd75660.jpg: ignoring corrupt image/label: Label class 1 exceeds dataset class count 1. Possible class labels are 0-0\n",
            "\u001b[34m\u001b[1mtrain: \u001b[0m/content/fire-1/train/images/fire1-877-_jpg.rf.f07914f691e2d3555232247f96fd4532.jpg: ignoring corrupt image/label: Label class 1 exceeds dataset class count 1. Possible class labels are 0-0\n",
            "\u001b[34m\u001b[1mtrain: \u001b[0m/content/fire-1/train/images/fire1-879-_jpg.rf.aa36a0545f53ac70c7545f27c12cea45.jpg: ignoring corrupt image/label: Label class 1 exceeds dataset class count 1. Possible class labels are 0-0\n",
            "\u001b[34m\u001b[1mtrain: \u001b[0m/content/fire-1/train/images/fire1-889-_jpg.rf.28b1644c8cbdf8e059a963ccff292748.jpg: ignoring corrupt image/label: Label class 1 exceeds dataset class count 1. Possible class labels are 0-0\n",
            "\u001b[34m\u001b[1mtrain: \u001b[0m/content/fire-1/train/images/fire1-913-_jpg.rf.a16faf24645e1043830143aeaeea9648.jpg: ignoring corrupt image/label: Label class 1 exceeds dataset class count 1. Possible class labels are 0-0\n",
            "\u001b[34m\u001b[1mtrain: \u001b[0m/content/fire-1/train/images/fire1-935-_jpg.rf.75857f94510858d3b28d1d50fa43aa65.jpg: ignoring corrupt image/label: Label class 1 exceeds dataset class count 1. Possible class labels are 0-0\n",
            "\u001b[34m\u001b[1mtrain: \u001b[0m/content/fire-1/train/images/fire1-938-_jpg.rf.4646c1cece80b9b88c823db96961d1e6.jpg: ignoring corrupt image/label: Label class 1 exceeds dataset class count 1. Possible class labels are 0-0\n",
            "\u001b[34m\u001b[1mtrain: \u001b[0m/content/fire-1/train/images/fire1-938-_jpg.rf.6055aa67aef8529c77e4ef1f428f9fb6.jpg: ignoring corrupt image/label: Label class 1 exceeds dataset class count 1. Possible class labels are 0-0\n",
            "\u001b[34m\u001b[1mtrain: \u001b[0m/content/fire-1/train/images/fire1-946-_jpg.rf.fb1b96a3b4c529c1e3b91964a3fc1bc4.jpg: ignoring corrupt image/label: Label class 1 exceeds dataset class count 1. Possible class labels are 0-0\n",
            "\u001b[34m\u001b[1mtrain: \u001b[0m/content/fire-1/train/images/fire1-947-_jpg.rf.46c5197d1f9aa0012429b691f63b54a8.jpg: ignoring corrupt image/label: Label class 1 exceeds dataset class count 1. Possible class labels are 0-0\n",
            "\u001b[34m\u001b[1mtrain: \u001b[0m/content/fire-1/train/images/fire1-947-_jpg.rf.d7009723267ae0e3aea21dfa416aa26a.jpg: ignoring corrupt image/label: Label class 1 exceeds dataset class count 1. Possible class labels are 0-0\n",
            "\u001b[34m\u001b[1mtrain: \u001b[0m/content/fire-1/train/images/fire1-948-_jpg.rf.cb9df0ef0847c42aafe2797efc0cd7fa.jpg: ignoring corrupt image/label: Label class 1 exceeds dataset class count 1. Possible class labels are 0-0\n",
            "\u001b[34m\u001b[1mtrain: \u001b[0m/content/fire-1/train/images/fire1-949-_jpg.rf.3d300be32f0879a11da47133102c677c.jpg: ignoring corrupt image/label: Label class 1 exceeds dataset class count 1. Possible class labels are 0-0\n",
            "\u001b[34m\u001b[1mtrain: \u001b[0m/content/fire-1/train/images/fire1-950-_jpg.rf.1fa53954aeb8e79d288b63e8dbd71ee2.jpg: ignoring corrupt image/label: Label class 1 exceeds dataset class count 1. Possible class labels are 0-0\n",
            "\u001b[34m\u001b[1mtrain: \u001b[0m/content/fire-1/train/images/fire1-951-_jpg.rf.a23f07954a1bb7e8305f9ecb59ee2e66.jpg: ignoring corrupt image/label: Label class 1 exceeds dataset class count 1. Possible class labels are 0-0\n",
            "\u001b[34m\u001b[1mtrain: \u001b[0m/content/fire-1/train/images/fire1-951-_jpg.rf.ab848abf4e9b5c9e60b8f157a865121f.jpg: ignoring corrupt image/label: Label class 1 exceeds dataset class count 1. Possible class labels are 0-0\n",
            "\u001b[34m\u001b[1mtrain: \u001b[0m/content/fire-1/train/images/fire1-952-_jpg.rf.32a492cbe93fe86b41197f9d2cc428f2.jpg: ignoring corrupt image/label: Label class 1 exceeds dataset class count 1. Possible class labels are 0-0\n",
            "\u001b[34m\u001b[1mtrain: \u001b[0m/content/fire-1/train/images/fire1-957-_jpg.rf.f7e5408b9d22a24bff7c98544a237aea.jpg: ignoring corrupt image/label: Label class 1 exceeds dataset class count 1. Possible class labels are 0-0\n",
            "\u001b[34m\u001b[1mtrain: \u001b[0m/content/fire-1/train/images/fire1-959-_jpg.rf.7aa489168e6273948665a91c408256f3.jpg: ignoring corrupt image/label: Label class 1 exceeds dataset class count 1. Possible class labels are 0-0\n",
            "\u001b[34m\u001b[1mtrain: \u001b[0m/content/fire-1/train/images/fire1-963-_jpg.rf.f8b1659fadc43346cc495e233afaa0b4.jpg: ignoring corrupt image/label: Label class 1 exceeds dataset class count 1. Possible class labels are 0-0\n",
            "\u001b[34m\u001b[1mtrain: \u001b[0m/content/fire-1/train/images/fire1-965-_jpg.rf.b2629855fd38f2ae0ffb06d5f41c07eb.jpg: ignoring corrupt image/label: Label class 1 exceeds dataset class count 1. Possible class labels are 0-0\n",
            "\u001b[34m\u001b[1mtrain: \u001b[0m/content/fire-1/train/images/fire1-972-_jpg.rf.048321219622af0cafdcc48ee0e91822.jpg: ignoring corrupt image/label: Label class 1 exceeds dataset class count 1. Possible class labels are 0-0\n",
            "\u001b[34m\u001b[1mtrain: \u001b[0m/content/fire-1/train/images/fire1-973-_jpg.rf.9f77e07565275043724e0fcf0acfe1c0.jpg: ignoring corrupt image/label: Label class 1 exceeds dataset class count 1. Possible class labels are 0-0\n",
            "\u001b[34m\u001b[1mtrain: \u001b[0m/content/fire-1/train/images/fire1-975-_jpg.rf.41ff5c1e786edb2e3704a2dbc3355fc3.jpg: ignoring corrupt image/label: Label class 1 exceeds dataset class count 1. Possible class labels are 0-0\n",
            "\u001b[34m\u001b[1mtrain: \u001b[0m/content/fire-1/train/images/fire1-975-_jpg.rf.cfe38666fded37d5a5b590d418c54b0c.jpg: ignoring corrupt image/label: Label class 1 exceeds dataset class count 1. Possible class labels are 0-0\n",
            "\u001b[34m\u001b[1mtrain: \u001b[0m/content/fire-1/train/images/fire1-979-_jpg.rf.56fc54b00327f649ac71ad2e2f965196.jpg: ignoring corrupt image/label: Label class 1 exceeds dataset class count 1. Possible class labels are 0-0\n",
            "\u001b[34m\u001b[1mtrain: \u001b[0m/content/fire-1/train/images/fire1-980-_jpg.rf.5d52ba2d386568b1e3c1b25d1ff7652e.jpg: ignoring corrupt image/label: Label class 1 exceeds dataset class count 1. Possible class labels are 0-0\n",
            "\u001b[34m\u001b[1mtrain: \u001b[0m/content/fire-1/train/images/fire1-981-_jpg.rf.b2eda0b965f355d999b1ad0ef7ad658e.jpg: ignoring corrupt image/label: Label class 1 exceeds dataset class count 1. Possible class labels are 0-0\n",
            "\u001b[34m\u001b[1mtrain: \u001b[0m/content/fire-1/train/images/fire1-982-_jpg.rf.ade283827740af35fba682fc009b2308.jpg: ignoring corrupt image/label: Label class 1 exceeds dataset class count 1. Possible class labels are 0-0\n",
            "\u001b[34m\u001b[1mtrain: \u001b[0m/content/fire-1/train/images/fire1-984-_jpg.rf.b8fb383fea9aa62446ce5938579d144b.jpg: ignoring corrupt image/label: Label class 1 exceeds dataset class count 1. Possible class labels are 0-0\n",
            "\u001b[34m\u001b[1mtrain: \u001b[0m/content/fire-1/train/images/fire1-988-_jpg.rf.0a8bb37ec751017c8f925e6095ebb65f.jpg: ignoring corrupt image/label: Label class 1 exceeds dataset class count 1. Possible class labels are 0-0\n",
            "\u001b[34m\u001b[1mtrain: \u001b[0m/content/fire-1/train/images/fire1-998-_jpg.rf.32d2769bf3f1bdf1d34b336f47a070de.jpg: ignoring corrupt image/label: Label class 1 exceeds dataset class count 1. Possible class labels are 0-0\n",
            "\u001b[34m\u001b[1mtrain: \u001b[0m/content/fire-1/train/images/fire1-999-_jpg.rf.69d25c84e0e41b49ef808f711bedc6ef.jpg: ignoring corrupt image/label: Label class 1 exceeds dataset class count 1. Possible class labels are 0-0\n",
            "\u001b[34m\u001b[1mtrain: \u001b[0m/content/fire-1/train/images/istockphoto-172202319-612x612_jpg.rf.0f9e2b5ac83ecff1918c1ab9b6defaea.jpg: ignoring corrupt image/label: Label class 1 exceeds dataset class count 1. Possible class labels are 0-0\n",
            "\u001b[34m\u001b[1mtrain: \u001b[0m/content/fire-1/train/images/new_fire_11_jpg.rf.b134e12147f802ec24b4a1acb61a9023.jpg: ignoring corrupt image/label: Label class 1 exceeds dataset class count 1. Possible class labels are 0-0\n",
            "\u001b[34m\u001b[1mtrain: \u001b[0m/content/fire-1/train/images/new_fire_40_jpg.rf.de5311464d6568beaa03396c99165022.jpg: ignoring corrupt image/label: Label class 1 exceeds dataset class count 1. Possible class labels are 0-0\n",
            "\u001b[34m\u001b[1mtrain: \u001b[0m/content/fire-1/train/images/new_fire_54_jpg.rf.ac1a9a2331f13b1c09e51ad003143971.jpg: ignoring corrupt image/label: Label class 1 exceeds dataset class count 1. Possible class labels are 0-0\n",
            "\u001b[34m\u001b[1mtrain: \u001b[0m/content/fire-1/train/images/new_fire_6_jpg.rf.766cbbbdc4938bcde807b6f02e5fd08e.jpg: ignoring corrupt image/label: Label class 1 exceeds dataset class count 1. Possible class labels are 0-0\n",
            "\u001b[34m\u001b[1mtrain: \u001b[0m/content/fire-1/train/images/new_fire_fire-432_png_jpg.rf.c5f28f1acb7ffd2b377c419f3efbbc5d.jpg: ignoring corrupt image/label: Label class 1 exceeds dataset class count 1. Possible class labels are 0-0\n",
            "\u001b[34m\u001b[1mtrain: \u001b[0m/content/fire-1/train/images/new_fire_fire-485_png_jpg.rf.92ac4269e1f6960158cb3aa6e6523116.jpg: ignoring corrupt image/label: Label class 1 exceeds dataset class count 1. Possible class labels are 0-0\n",
            "\u001b[34m\u001b[1mtrain: \u001b[0m/content/fire-1/train/images/new_fire_fire-485_png_jpg.rf.abe40995237c323252f0b94eebc2ad81.jpg: ignoring corrupt image/label: Label class 1 exceeds dataset class count 1. Possible class labels are 0-0\n",
            "\u001b[34m\u001b[1mtrain: \u001b[0m/content/fire-1/train/images/new_fire_fire-509_png_jpg.rf.386f8315d48a45964c71c4e27cf96082.jpg: ignoring corrupt image/label: Label class 1 exceeds dataset class count 1. Possible class labels are 0-0\n",
            "\u001b[34m\u001b[1mtrain: \u001b[0m/content/fire-1/train/images/new_fire_fire-509_png_jpg.rf.e26f3f570b53424271e7aee13b1d68bc.jpg: ignoring corrupt image/label: Label class 1 exceeds dataset class count 1. Possible class labels are 0-0\n",
            "\u001b[34m\u001b[1mtrain: \u001b[0m/content/fire-1/train/images/new_fire_fire-529_png_jpg.rf.06bda03acedc09d2881e87f5731a1c0a.jpg: ignoring corrupt image/label: Label class 1 exceeds dataset class count 1. Possible class labels are 0-0\n",
            "\u001b[34m\u001b[1mtrain: \u001b[0m/content/fire-1/train/images/new_fire_fire-628_png_jpg.rf.6115f9f3ececd7a06673e1d25c3b14fc.jpg: ignoring corrupt image/label: Label class 1 exceeds dataset class count 1. Possible class labels are 0-0\n",
            "\u001b[34m\u001b[1mtrain: \u001b[0m/content/fire-1/train/images/new_fire_fire-62_png_jpg.rf.4e8fc24dfa28ee0d1cfc4495d27e25cf.jpg: ignoring corrupt image/label: Label class 1 exceeds dataset class count 1. Possible class labels are 0-0\n",
            "\u001b[34m\u001b[1mtrain: \u001b[0m/content/fire-1/train/images/new_fire_fire-6_png_jpg.rf.a799d61e1a81cf32cacb6238f228f05e.jpg: ignoring corrupt image/label: Label class 1 exceeds dataset class count 1. Possible class labels are 0-0\n",
            "\u001b[34m\u001b[1mtrain: \u001b[0m/content/fire-1/train/images/new_fire_fire-93_png_jpg.rf.ed1d482e4593691ff61269bee2cc4647.jpg: ignoring corrupt image/label: Label class 1 exceeds dataset class count 1. Possible class labels are 0-0\n"
          ]
        },
        {
          "output_type": "stream",
          "name": "stderr",
          "text": [
            "\n"
          ]
        },
        {
          "output_type": "stream",
          "name": "stdout",
          "text": [
            "\u001b[34m\u001b[1mtrain: \u001b[0mNew cache created: /content/fire-1/train/labels.cache\n",
            "WARNING ⚠️ Box and segment counts should be equal, but got len(segments) = 1, len(boxes) = 4584. To resolve this only boxes will be used and all segments will be removed. To avoid this please supply either a detect or segment dataset, not a detect-segment mixed dataset.\n",
            "\u001b[34m\u001b[1malbumentations: \u001b[0mBlur(p=0.01, blur_limit=(3, 7)), MedianBlur(p=0.01, blur_limit=(3, 7)), ToGray(p=0.01, method='weighted_average', num_output_channels=3), CLAHE(p=0.01, clip_limit=(1.0, 4.0), tile_grid_size=(8, 8))\n",
            "\u001b[34m\u001b[1mval: \u001b[0mFast image access ✅ (ping: 0.0±0.0 ms, read: 12.9±8.2 MB/s, size: 45.4 KB)\n"
          ]
        },
        {
          "output_type": "stream",
          "name": "stderr",
          "text": [
            "\u001b[34m\u001b[1mval: \u001b[0mScanning /content/fire-1/valid/labels... 120 images, 0 backgrounds, 0 corrupt: 100%|██████████| 120/120 [00:00<00:00, 488.74it/s]"
          ]
        },
        {
          "output_type": "stream",
          "name": "stdout",
          "text": [
            "\u001b[34m\u001b[1mval: \u001b[0mNew cache created: /content/fire-1/valid/labels.cache\n"
          ]
        },
        {
          "output_type": "stream",
          "name": "stderr",
          "text": [
            "\n"
          ]
        },
        {
          "output_type": "stream",
          "name": "stdout",
          "text": [
            "Plotting labels to runs/detect/train/labels.jpg... \n",
            "\u001b[34m\u001b[1moptimizer:\u001b[0m 'optimizer=auto' found, ignoring 'lr0=0.01' and 'momentum=0.937' and determining best 'optimizer', 'lr0' and 'momentum' automatically... \n",
            "\u001b[34m\u001b[1moptimizer:\u001b[0m AdamW(lr=0.002, momentum=0.9) with parameter groups 57 weight(decay=0.0), 64 weight(decay=0.0005), 63 bias(decay=0.0)\n",
            "Image sizes 640 train, 640 val\n",
            "Using 2 dataloader workers\n",
            "Logging results to \u001b[1mruns/detect/train\u001b[0m\n",
            "Starting training for 100 epochs...\n",
            "\n",
            "      Epoch    GPU_mem   box_loss   cls_loss   dfl_loss  Instances       Size\n"
          ]
        },
        {
          "output_type": "stream",
          "name": "stderr",
          "text": [
            "      1/100      1.11G      1.836      2.555       1.74          8        640: 100%|██████████| 332/332 [01:00<00:00,  5.48it/s]\n",
            "                 Class     Images  Instances      Box(P          R      mAP50  mAP50-95): 100%|██████████| 8/8 [00:02<00:00,  3.62it/s]\n"
          ]
        },
        {
          "output_type": "stream",
          "name": "stdout",
          "text": [
            "                   all        120        216      0.409      0.481      0.421      0.158\n",
            "\n",
            "      Epoch    GPU_mem   box_loss   cls_loss   dfl_loss  Instances       Size\n"
          ]
        },
        {
          "output_type": "stream",
          "name": "stderr",
          "text": [
            "      2/100      1.36G      1.938       2.21      1.818          4        640: 100%|██████████| 332/332 [00:58<00:00,  5.65it/s]\n",
            "                 Class     Images  Instances      Box(P          R      mAP50  mAP50-95): 100%|██████████| 8/8 [00:01<00:00,  7.97it/s]"
          ]
        },
        {
          "output_type": "stream",
          "name": "stdout",
          "text": [
            "                   all        120        216      0.249      0.292      0.189     0.0866\n"
          ]
        },
        {
          "output_type": "stream",
          "name": "stderr",
          "text": [
            "\n"
          ]
        },
        {
          "output_type": "stream",
          "name": "stdout",
          "text": [
            "\n",
            "      Epoch    GPU_mem   box_loss   cls_loss   dfl_loss  Instances       Size\n"
          ]
        },
        {
          "output_type": "stream",
          "name": "stderr",
          "text": [
            "      3/100      1.38G      1.952      2.071      1.803          3        640: 100%|██████████| 332/332 [00:57<00:00,  5.74it/s]\n",
            "                 Class     Images  Instances      Box(P          R      mAP50  mAP50-95): 100%|██████████| 8/8 [00:01<00:00,  7.88it/s]"
          ]
        },
        {
          "output_type": "stream",
          "name": "stdout",
          "text": [
            "                   all        120        216      0.525      0.435      0.474      0.207\n"
          ]
        },
        {
          "output_type": "stream",
          "name": "stderr",
          "text": [
            "\n"
          ]
        },
        {
          "output_type": "stream",
          "name": "stdout",
          "text": [
            "\n",
            "      Epoch    GPU_mem   box_loss   cls_loss   dfl_loss  Instances       Size\n"
          ]
        },
        {
          "output_type": "stream",
          "name": "stderr",
          "text": [
            "      4/100       1.4G      1.905      1.947       1.79          6        640: 100%|██████████| 332/332 [00:56<00:00,  5.90it/s]\n",
            "                 Class     Images  Instances      Box(P          R      mAP50  mAP50-95): 100%|██████████| 8/8 [00:01<00:00,  6.74it/s]"
          ]
        },
        {
          "output_type": "stream",
          "name": "stdout",
          "text": [
            "                   all        120        216      0.547      0.556      0.521      0.251\n"
          ]
        },
        {
          "output_type": "stream",
          "name": "stderr",
          "text": [
            "\n"
          ]
        },
        {
          "output_type": "stream",
          "name": "stdout",
          "text": [
            "\n",
            "      Epoch    GPU_mem   box_loss   cls_loss   dfl_loss  Instances       Size\n"
          ]
        },
        {
          "output_type": "stream",
          "name": "stderr",
          "text": [
            "      5/100      1.41G      1.887       1.86      1.743          4        640: 100%|██████████| 332/332 [00:55<00:00,  5.93it/s]\n",
            "                 Class     Images  Instances      Box(P          R      mAP50  mAP50-95): 100%|██████████| 8/8 [00:00<00:00,  8.25it/s]"
          ]
        },
        {
          "output_type": "stream",
          "name": "stdout",
          "text": [
            "                   all        120        216       0.59       0.58      0.601      0.309\n"
          ]
        },
        {
          "output_type": "stream",
          "name": "stderr",
          "text": [
            "\n"
          ]
        },
        {
          "output_type": "stream",
          "name": "stdout",
          "text": [
            "\n",
            "      Epoch    GPU_mem   box_loss   cls_loss   dfl_loss  Instances       Size\n"
          ]
        },
        {
          "output_type": "stream",
          "name": "stderr",
          "text": [
            "      6/100      1.44G      1.832      1.856      1.719          5        640: 100%|██████████| 332/332 [00:57<00:00,  5.80it/s]\n",
            "                 Class     Images  Instances      Box(P          R      mAP50  mAP50-95): 100%|██████████| 8/8 [00:01<00:00,  4.92it/s]"
          ]
        },
        {
          "output_type": "stream",
          "name": "stdout",
          "text": [
            "                   all        120        216      0.814      0.606      0.687      0.315\n"
          ]
        },
        {
          "output_type": "stream",
          "name": "stderr",
          "text": [
            "\n"
          ]
        },
        {
          "output_type": "stream",
          "name": "stdout",
          "text": [
            "\n",
            "      Epoch    GPU_mem   box_loss   cls_loss   dfl_loss  Instances       Size\n"
          ]
        },
        {
          "output_type": "stream",
          "name": "stderr",
          "text": [
            "      7/100      1.45G      1.804      1.737      1.688          6        640: 100%|██████████| 332/332 [00:56<00:00,  5.93it/s]\n",
            "                 Class     Images  Instances      Box(P          R      mAP50  mAP50-95): 100%|██████████| 8/8 [00:01<00:00,  7.90it/s]"
          ]
        },
        {
          "output_type": "stream",
          "name": "stdout",
          "text": [
            "                   all        120        216      0.781      0.616      0.699      0.373\n"
          ]
        },
        {
          "output_type": "stream",
          "name": "stderr",
          "text": [
            "\n"
          ]
        },
        {
          "output_type": "stream",
          "name": "stdout",
          "text": [
            "\n",
            "      Epoch    GPU_mem   box_loss   cls_loss   dfl_loss  Instances       Size\n"
          ]
        },
        {
          "output_type": "stream",
          "name": "stderr",
          "text": [
            "      8/100      1.47G      1.779      1.687      1.661          4        640: 100%|██████████| 332/332 [00:56<00:00,  5.88it/s]\n",
            "                 Class     Images  Instances      Box(P          R      mAP50  mAP50-95): 100%|██████████| 8/8 [00:00<00:00,  8.16it/s]"
          ]
        },
        {
          "output_type": "stream",
          "name": "stdout",
          "text": [
            "                   all        120        216      0.779      0.644      0.741      0.361\n"
          ]
        },
        {
          "output_type": "stream",
          "name": "stderr",
          "text": [
            "\n"
          ]
        },
        {
          "output_type": "stream",
          "name": "stdout",
          "text": [
            "\n",
            "      Epoch    GPU_mem   box_loss   cls_loss   dfl_loss  Instances       Size\n"
          ]
        },
        {
          "output_type": "stream",
          "name": "stderr",
          "text": [
            "      9/100      1.48G      1.758      1.649      1.656          5        640: 100%|██████████| 332/332 [00:58<00:00,  5.70it/s]\n",
            "                 Class     Images  Instances      Box(P          R      mAP50  mAP50-95): 100%|██████████| 8/8 [00:00<00:00,  8.36it/s]"
          ]
        },
        {
          "output_type": "stream",
          "name": "stdout",
          "text": [
            "                   all        120        216      0.818       0.63      0.733      0.382\n"
          ]
        },
        {
          "output_type": "stream",
          "name": "stderr",
          "text": [
            "\n"
          ]
        },
        {
          "output_type": "stream",
          "name": "stdout",
          "text": [
            "\n",
            "      Epoch    GPU_mem   box_loss   cls_loss   dfl_loss  Instances       Size\n"
          ]
        },
        {
          "output_type": "stream",
          "name": "stderr",
          "text": [
            "     10/100      1.51G      1.719      1.581      1.626          5        640: 100%|██████████| 332/332 [00:56<00:00,  5.93it/s]\n",
            "                 Class     Images  Instances      Box(P          R      mAP50  mAP50-95): 100%|██████████| 8/8 [00:00<00:00,  8.15it/s]"
          ]
        },
        {
          "output_type": "stream",
          "name": "stdout",
          "text": [
            "                   all        120        216       0.79      0.662       0.75      0.417\n"
          ]
        },
        {
          "output_type": "stream",
          "name": "stderr",
          "text": [
            "\n"
          ]
        },
        {
          "output_type": "stream",
          "name": "stdout",
          "text": [
            "\n",
            "      Epoch    GPU_mem   box_loss   cls_loss   dfl_loss  Instances       Size\n"
          ]
        },
        {
          "output_type": "stream",
          "name": "stderr",
          "text": [
            "     11/100      1.51G      1.716      1.567      1.615          5        640: 100%|██████████| 332/332 [00:56<00:00,  5.88it/s]\n",
            "                 Class     Images  Instances      Box(P          R      mAP50  mAP50-95): 100%|██████████| 8/8 [00:01<00:00,  5.40it/s]"
          ]
        },
        {
          "output_type": "stream",
          "name": "stdout",
          "text": [
            "                   all        120        216       0.76      0.657       0.75      0.381\n"
          ]
        },
        {
          "output_type": "stream",
          "name": "stderr",
          "text": [
            "\n"
          ]
        },
        {
          "output_type": "stream",
          "name": "stdout",
          "text": [
            "\n",
            "      Epoch    GPU_mem   box_loss   cls_loss   dfl_loss  Instances       Size\n"
          ]
        },
        {
          "output_type": "stream",
          "name": "stderr",
          "text": [
            "     12/100      1.54G      1.681      1.548      1.615          4        640: 100%|██████████| 332/332 [00:57<00:00,  5.81it/s]\n",
            "                 Class     Images  Instances      Box(P          R      mAP50  mAP50-95): 100%|██████████| 8/8 [00:00<00:00,  8.21it/s]"
          ]
        },
        {
          "output_type": "stream",
          "name": "stdout",
          "text": [
            "                   all        120        216      0.843      0.669       0.76      0.404\n"
          ]
        },
        {
          "output_type": "stream",
          "name": "stderr",
          "text": [
            "\n"
          ]
        },
        {
          "output_type": "stream",
          "name": "stdout",
          "text": [
            "\n",
            "      Epoch    GPU_mem   box_loss   cls_loss   dfl_loss  Instances       Size\n"
          ]
        },
        {
          "output_type": "stream",
          "name": "stderr",
          "text": [
            "     13/100      1.55G      1.693       1.55      1.623          3        640: 100%|██████████| 332/332 [00:56<00:00,  5.88it/s]\n",
            "                 Class     Images  Instances      Box(P          R      mAP50  mAP50-95): 100%|██████████| 8/8 [00:00<00:00,  8.29it/s]\n"
          ]
        },
        {
          "output_type": "stream",
          "name": "stdout",
          "text": [
            "                   all        120        216      0.725      0.672      0.724       0.41\n",
            "\n",
            "      Epoch    GPU_mem   box_loss   cls_loss   dfl_loss  Instances       Size\n"
          ]
        },
        {
          "output_type": "stream",
          "name": "stderr",
          "text": [
            "     14/100      1.57G      1.681      1.522      1.595          6        640: 100%|██████████| 332/332 [00:57<00:00,  5.80it/s]\n",
            "                 Class     Images  Instances      Box(P          R      mAP50  mAP50-95): 100%|██████████| 8/8 [00:01<00:00,  7.99it/s]"
          ]
        },
        {
          "output_type": "stream",
          "name": "stdout",
          "text": [
            "                   all        120        216      0.836      0.676      0.776      0.395\n"
          ]
        },
        {
          "output_type": "stream",
          "name": "stderr",
          "text": [
            "\n"
          ]
        },
        {
          "output_type": "stream",
          "name": "stdout",
          "text": [
            "\n",
            "      Epoch    GPU_mem   box_loss   cls_loss   dfl_loss  Instances       Size\n"
          ]
        },
        {
          "output_type": "stream",
          "name": "stderr",
          "text": [
            "     15/100      1.58G       1.66      1.502      1.581          1        640: 100%|██████████| 332/332 [00:57<00:00,  5.73it/s]\n",
            "                 Class     Images  Instances      Box(P          R      mAP50  mAP50-95): 100%|██████████| 8/8 [00:01<00:00,  7.98it/s]"
          ]
        },
        {
          "output_type": "stream",
          "name": "stdout",
          "text": [
            "                   all        120        216       0.88      0.694      0.807      0.438\n"
          ]
        },
        {
          "output_type": "stream",
          "name": "stderr",
          "text": [
            "\n"
          ]
        },
        {
          "output_type": "stream",
          "name": "stdout",
          "text": [
            "\n",
            "      Epoch    GPU_mem   box_loss   cls_loss   dfl_loss  Instances       Size\n"
          ]
        },
        {
          "output_type": "stream",
          "name": "stderr",
          "text": [
            "     16/100      1.61G      1.654      1.486       1.58          3        640: 100%|██████████| 332/332 [00:57<00:00,  5.75it/s]\n",
            "                 Class     Images  Instances      Box(P          R      mAP50  mAP50-95): 100%|██████████| 8/8 [00:01<00:00,  7.86it/s]"
          ]
        },
        {
          "output_type": "stream",
          "name": "stdout",
          "text": [
            "                   all        120        216      0.848      0.648      0.762      0.437\n"
          ]
        },
        {
          "output_type": "stream",
          "name": "stderr",
          "text": [
            "\n"
          ]
        },
        {
          "output_type": "stream",
          "name": "stdout",
          "text": [
            "\n",
            "      Epoch    GPU_mem   box_loss   cls_loss   dfl_loss  Instances       Size\n"
          ]
        },
        {
          "output_type": "stream",
          "name": "stderr",
          "text": [
            "     17/100      1.62G      1.629       1.44      1.564          8        640: 100%|██████████| 332/332 [00:57<00:00,  5.81it/s]\n",
            "                 Class     Images  Instances      Box(P          R      mAP50  mAP50-95): 100%|██████████| 8/8 [00:01<00:00,  7.69it/s]"
          ]
        },
        {
          "output_type": "stream",
          "name": "stdout",
          "text": [
            "                   all        120        216      0.804      0.667      0.769      0.441\n"
          ]
        },
        {
          "output_type": "stream",
          "name": "stderr",
          "text": [
            "\n"
          ]
        },
        {
          "output_type": "stream",
          "name": "stdout",
          "text": [
            "\n",
            "      Epoch    GPU_mem   box_loss   cls_loss   dfl_loss  Instances       Size\n"
          ]
        },
        {
          "output_type": "stream",
          "name": "stderr",
          "text": [
            "     18/100      1.64G      1.625      1.437      1.569          3        640: 100%|██████████| 332/332 [00:57<00:00,  5.77it/s]\n",
            "                 Class     Images  Instances      Box(P          R      mAP50  mAP50-95): 100%|██████████| 8/8 [00:01<00:00,  7.32it/s]"
          ]
        },
        {
          "output_type": "stream",
          "name": "stdout",
          "text": [
            "                   all        120        216      0.847      0.691      0.785      0.438\n"
          ]
        },
        {
          "output_type": "stream",
          "name": "stderr",
          "text": [
            "\n"
          ]
        },
        {
          "output_type": "stream",
          "name": "stdout",
          "text": [
            "\n",
            "      Epoch    GPU_mem   box_loss   cls_loss   dfl_loss  Instances       Size\n"
          ]
        },
        {
          "output_type": "stream",
          "name": "stderr",
          "text": [
            "     19/100      1.65G      1.634        1.4       1.55          3        640: 100%|██████████| 332/332 [00:56<00:00,  5.90it/s]\n",
            "                 Class     Images  Instances      Box(P          R      mAP50  mAP50-95): 100%|██████████| 8/8 [00:00<00:00,  8.03it/s]"
          ]
        },
        {
          "output_type": "stream",
          "name": "stdout",
          "text": [
            "                   all        120        216      0.728      0.713      0.771      0.398\n"
          ]
        },
        {
          "output_type": "stream",
          "name": "stderr",
          "text": [
            "\n"
          ]
        },
        {
          "output_type": "stream",
          "name": "stdout",
          "text": [
            "\n",
            "      Epoch    GPU_mem   box_loss   cls_loss   dfl_loss  Instances       Size\n"
          ]
        },
        {
          "output_type": "stream",
          "name": "stderr",
          "text": [
            "     20/100      1.68G        1.6      1.397      1.529          5        640: 100%|██████████| 332/332 [00:58<00:00,  5.71it/s]\n",
            "                 Class     Images  Instances      Box(P          R      mAP50  mAP50-95): 100%|██████████| 8/8 [00:01<00:00,  5.70it/s]"
          ]
        },
        {
          "output_type": "stream",
          "name": "stdout",
          "text": [
            "                   all        120        216      0.769      0.738      0.815      0.456\n"
          ]
        },
        {
          "output_type": "stream",
          "name": "stderr",
          "text": [
            "\n"
          ]
        },
        {
          "output_type": "stream",
          "name": "stdout",
          "text": [
            "\n",
            "      Epoch    GPU_mem   box_loss   cls_loss   dfl_loss  Instances       Size\n"
          ]
        },
        {
          "output_type": "stream",
          "name": "stderr",
          "text": [
            "     21/100      1.69G      1.595      1.347      1.529         17        640: 100%|██████████| 332/332 [00:55<00:00,  5.96it/s]\n",
            "                 Class     Images  Instances      Box(P          R      mAP50  mAP50-95): 100%|██████████| 8/8 [00:00<00:00,  8.26it/s]"
          ]
        },
        {
          "output_type": "stream",
          "name": "stdout",
          "text": [
            "                   all        120        216      0.773      0.713      0.794      0.441\n"
          ]
        },
        {
          "output_type": "stream",
          "name": "stderr",
          "text": [
            "\n"
          ]
        },
        {
          "output_type": "stream",
          "name": "stdout",
          "text": [
            "\n",
            "      Epoch    GPU_mem   box_loss   cls_loss   dfl_loss  Instances       Size\n"
          ]
        },
        {
          "output_type": "stream",
          "name": "stderr",
          "text": [
            "     22/100      1.71G      1.574      1.331      1.517          9        640: 100%|██████████| 332/332 [00:56<00:00,  5.92it/s]\n",
            "                 Class     Images  Instances      Box(P          R      mAP50  mAP50-95): 100%|██████████| 8/8 [00:00<00:00,  8.10it/s]"
          ]
        },
        {
          "output_type": "stream",
          "name": "stdout",
          "text": [
            "                   all        120        216      0.853        0.7      0.811      0.445\n"
          ]
        },
        {
          "output_type": "stream",
          "name": "stderr",
          "text": [
            "\n"
          ]
        },
        {
          "output_type": "stream",
          "name": "stdout",
          "text": [
            "\n",
            "      Epoch    GPU_mem   box_loss   cls_loss   dfl_loss  Instances       Size\n"
          ]
        },
        {
          "output_type": "stream",
          "name": "stderr",
          "text": [
            "     23/100      1.72G      1.584      1.342      1.515         10        640: 100%|██████████| 332/332 [00:57<00:00,  5.74it/s]\n",
            "                 Class     Images  Instances      Box(P          R      mAP50  mAP50-95): 100%|██████████| 8/8 [00:00<00:00,  8.09it/s]"
          ]
        },
        {
          "output_type": "stream",
          "name": "stdout",
          "text": [
            "                   all        120        216      0.832      0.759      0.825      0.477\n"
          ]
        },
        {
          "output_type": "stream",
          "name": "stderr",
          "text": [
            "\n"
          ]
        },
        {
          "output_type": "stream",
          "name": "stdout",
          "text": [
            "\n",
            "      Epoch    GPU_mem   box_loss   cls_loss   dfl_loss  Instances       Size\n"
          ]
        },
        {
          "output_type": "stream",
          "name": "stderr",
          "text": [
            "     24/100      1.74G      1.558      1.335       1.51          3        640: 100%|██████████| 332/332 [00:56<00:00,  5.92it/s]\n",
            "                 Class     Images  Instances      Box(P          R      mAP50  mAP50-95): 100%|██████████| 8/8 [00:00<00:00,  8.37it/s]"
          ]
        },
        {
          "output_type": "stream",
          "name": "stdout",
          "text": [
            "                   all        120        216      0.796      0.704      0.802      0.443\n"
          ]
        },
        {
          "output_type": "stream",
          "name": "stderr",
          "text": [
            "\n"
          ]
        },
        {
          "output_type": "stream",
          "name": "stdout",
          "text": [
            "\n",
            "      Epoch    GPU_mem   box_loss   cls_loss   dfl_loss  Instances       Size\n"
          ]
        },
        {
          "output_type": "stream",
          "name": "stderr",
          "text": [
            "     25/100      1.75G      1.561      1.319      1.508          4        640: 100%|██████████| 332/332 [00:56<00:00,  5.84it/s]\n",
            "                 Class     Images  Instances      Box(P          R      mAP50  mAP50-95): 100%|██████████| 8/8 [00:00<00:00,  8.20it/s]\n"
          ]
        },
        {
          "output_type": "stream",
          "name": "stdout",
          "text": [
            "                   all        120        216      0.844      0.722      0.819      0.466\n",
            "\n",
            "      Epoch    GPU_mem   box_loss   cls_loss   dfl_loss  Instances       Size\n"
          ]
        },
        {
          "output_type": "stream",
          "name": "stderr",
          "text": [
            "     26/100      1.78G      1.545      1.301        1.5          5        640: 100%|██████████| 332/332 [00:56<00:00,  5.84it/s]\n",
            "                 Class     Images  Instances      Box(P          R      mAP50  mAP50-95): 100%|██████████| 8/8 [00:00<00:00,  8.14it/s]"
          ]
        },
        {
          "output_type": "stream",
          "name": "stdout",
          "text": [
            "                   all        120        216      0.883      0.704      0.828      0.472\n"
          ]
        },
        {
          "output_type": "stream",
          "name": "stderr",
          "text": [
            "\n"
          ]
        },
        {
          "output_type": "stream",
          "name": "stdout",
          "text": [
            "\n",
            "      Epoch    GPU_mem   box_loss   cls_loss   dfl_loss  Instances       Size\n"
          ]
        },
        {
          "output_type": "stream",
          "name": "stderr",
          "text": [
            "     27/100      1.79G      1.553      1.283       1.51          5        640: 100%|██████████| 332/332 [00:55<00:00,  5.93it/s]\n",
            "                 Class     Images  Instances      Box(P          R      mAP50  mAP50-95): 100%|██████████| 8/8 [00:01<00:00,  4.98it/s]"
          ]
        },
        {
          "output_type": "stream",
          "name": "stdout",
          "text": [
            "                   all        120        216      0.833      0.763      0.823       0.45\n"
          ]
        },
        {
          "output_type": "stream",
          "name": "stderr",
          "text": [
            "\n"
          ]
        },
        {
          "output_type": "stream",
          "name": "stdout",
          "text": [
            "\n",
            "      Epoch    GPU_mem   box_loss   cls_loss   dfl_loss  Instances       Size\n"
          ]
        },
        {
          "output_type": "stream",
          "name": "stderr",
          "text": [
            "     28/100      1.81G      1.544      1.264      1.495          3        640: 100%|██████████| 332/332 [00:56<00:00,  5.91it/s]\n",
            "                 Class     Images  Instances      Box(P          R      mAP50  mAP50-95): 100%|██████████| 8/8 [00:00<00:00,  8.31it/s]"
          ]
        },
        {
          "output_type": "stream",
          "name": "stdout",
          "text": [
            "                   all        120        216      0.853      0.722      0.814      0.477\n"
          ]
        },
        {
          "output_type": "stream",
          "name": "stderr",
          "text": [
            "\n"
          ]
        },
        {
          "output_type": "stream",
          "name": "stdout",
          "text": [
            "\n",
            "      Epoch    GPU_mem   box_loss   cls_loss   dfl_loss  Instances       Size\n"
          ]
        },
        {
          "output_type": "stream",
          "name": "stderr",
          "text": [
            "     29/100      1.82G      1.549      1.269      1.494          6        640: 100%|██████████| 332/332 [00:57<00:00,  5.79it/s]\n",
            "                 Class     Images  Instances      Box(P          R      mAP50  mAP50-95): 100%|██████████| 8/8 [00:01<00:00,  7.63it/s]\n"
          ]
        },
        {
          "output_type": "stream",
          "name": "stdout",
          "text": [
            "                   all        120        216      0.819      0.782      0.832      0.474\n",
            "\n",
            "      Epoch    GPU_mem   box_loss   cls_loss   dfl_loss  Instances       Size\n"
          ]
        },
        {
          "output_type": "stream",
          "name": "stderr",
          "text": [
            "     30/100      1.85G      1.528      1.257      1.474          7        640: 100%|██████████| 332/332 [00:56<00:00,  5.86it/s]\n",
            "                 Class     Images  Instances      Box(P          R      mAP50  mAP50-95): 100%|██████████| 8/8 [00:01<00:00,  8.00it/s]\n"
          ]
        },
        {
          "output_type": "stream",
          "name": "stdout",
          "text": [
            "                   all        120        216      0.803      0.764      0.827      0.486\n",
            "\n",
            "      Epoch    GPU_mem   box_loss   cls_loss   dfl_loss  Instances       Size\n"
          ]
        },
        {
          "output_type": "stream",
          "name": "stderr",
          "text": [
            "     31/100      1.86G      1.519      1.248      1.471          2        640: 100%|██████████| 332/332 [00:56<00:00,  5.91it/s]\n",
            "                 Class     Images  Instances      Box(P          R      mAP50  mAP50-95): 100%|██████████| 8/8 [00:00<00:00,  8.41it/s]\n"
          ]
        },
        {
          "output_type": "stream",
          "name": "stdout",
          "text": [
            "                   all        120        216      0.877      0.695      0.815      0.466\n",
            "\n",
            "      Epoch    GPU_mem   box_loss   cls_loss   dfl_loss  Instances       Size\n"
          ]
        },
        {
          "output_type": "stream",
          "name": "stderr",
          "text": [
            "     32/100      1.88G      1.511      1.233      1.468          4        640: 100%|██████████| 332/332 [00:57<00:00,  5.74it/s]\n",
            "                 Class     Images  Instances      Box(P          R      mAP50  mAP50-95): 100%|██████████| 8/8 [00:00<00:00,  8.22it/s]"
          ]
        },
        {
          "output_type": "stream",
          "name": "stdout",
          "text": [
            "                   all        120        216      0.852      0.801      0.862        0.5\n"
          ]
        },
        {
          "output_type": "stream",
          "name": "stderr",
          "text": [
            "\n"
          ]
        },
        {
          "output_type": "stream",
          "name": "stdout",
          "text": [
            "\n",
            "      Epoch    GPU_mem   box_loss   cls_loss   dfl_loss  Instances       Size\n"
          ]
        },
        {
          "output_type": "stream",
          "name": "stderr",
          "text": [
            "     33/100      1.89G      1.494      1.221      1.458          6        640: 100%|██████████| 332/332 [00:55<00:00,  5.99it/s]\n",
            "                 Class     Images  Instances      Box(P          R      mAP50  mAP50-95): 100%|██████████| 8/8 [00:01<00:00,  7.88it/s]\n"
          ]
        },
        {
          "output_type": "stream",
          "name": "stdout",
          "text": [
            "                   all        120        216      0.812      0.758      0.832      0.507\n",
            "\n",
            "      Epoch    GPU_mem   box_loss   cls_loss   dfl_loss  Instances       Size\n"
          ]
        },
        {
          "output_type": "stream",
          "name": "stderr",
          "text": [
            "     34/100      1.91G        1.5      1.217      1.462          4        640: 100%|██████████| 332/332 [00:55<00:00,  5.95it/s]\n",
            "                 Class     Images  Instances      Box(P          R      mAP50  mAP50-95): 100%|██████████| 8/8 [00:01<00:00,  7.38it/s]"
          ]
        },
        {
          "output_type": "stream",
          "name": "stdout",
          "text": [
            "                   all        120        216      0.843       0.77      0.856      0.478\n"
          ]
        },
        {
          "output_type": "stream",
          "name": "stderr",
          "text": [
            "\n"
          ]
        },
        {
          "output_type": "stream",
          "name": "stdout",
          "text": [
            "\n",
            "      Epoch    GPU_mem   box_loss   cls_loss   dfl_loss  Instances       Size\n"
          ]
        },
        {
          "output_type": "stream",
          "name": "stderr",
          "text": [
            "     35/100      1.92G      1.473      1.175       1.44          5        640: 100%|██████████| 332/332 [00:57<00:00,  5.80it/s]\n",
            "                 Class     Images  Instances      Box(P          R      mAP50  mAP50-95): 100%|██████████| 8/8 [00:00<00:00,  8.35it/s]"
          ]
        },
        {
          "output_type": "stream",
          "name": "stdout",
          "text": [
            "                   all        120        216      0.814      0.792      0.848      0.503\n"
          ]
        },
        {
          "output_type": "stream",
          "name": "stderr",
          "text": [
            "\n"
          ]
        },
        {
          "output_type": "stream",
          "name": "stdout",
          "text": [
            "\n",
            "      Epoch    GPU_mem   box_loss   cls_loss   dfl_loss  Instances       Size\n"
          ]
        },
        {
          "output_type": "stream",
          "name": "stderr",
          "text": [
            "     36/100      1.95G      1.463      1.176      1.438         10        640: 100%|██████████| 332/332 [00:55<00:00,  6.00it/s]\n",
            "                 Class     Images  Instances      Box(P          R      mAP50  mAP50-95): 100%|██████████| 8/8 [00:01<00:00,  7.87it/s]"
          ]
        },
        {
          "output_type": "stream",
          "name": "stdout",
          "text": [
            "                   all        120        216      0.857      0.805      0.868      0.501\n"
          ]
        },
        {
          "output_type": "stream",
          "name": "stderr",
          "text": [
            "\n"
          ]
        },
        {
          "output_type": "stream",
          "name": "stdout",
          "text": [
            "\n",
            "      Epoch    GPU_mem   box_loss   cls_loss   dfl_loss  Instances       Size\n"
          ]
        },
        {
          "output_type": "stream",
          "name": "stderr",
          "text": [
            "     37/100      1.96G      1.466       1.17      1.443          7        640: 100%|██████████| 332/332 [00:56<00:00,  5.93it/s]\n",
            "                 Class     Images  Instances      Box(P          R      mAP50  mAP50-95): 100%|██████████| 8/8 [00:01<00:00,  5.73it/s]"
          ]
        },
        {
          "output_type": "stream",
          "name": "stdout",
          "text": [
            "                   all        120        216      0.816      0.801      0.852      0.484\n"
          ]
        },
        {
          "output_type": "stream",
          "name": "stderr",
          "text": [
            "\n"
          ]
        },
        {
          "output_type": "stream",
          "name": "stdout",
          "text": [
            "\n",
            "      Epoch    GPU_mem   box_loss   cls_loss   dfl_loss  Instances       Size\n"
          ]
        },
        {
          "output_type": "stream",
          "name": "stderr",
          "text": [
            "     38/100      1.98G       1.46      1.166      1.432          4        640: 100%|██████████| 332/332 [00:56<00:00,  5.86it/s]\n",
            "                 Class     Images  Instances      Box(P          R      mAP50  mAP50-95): 100%|██████████| 8/8 [00:00<00:00,  8.47it/s]"
          ]
        },
        {
          "output_type": "stream",
          "name": "stdout",
          "text": [
            "                   all        120        216      0.856      0.801      0.857      0.492\n"
          ]
        },
        {
          "output_type": "stream",
          "name": "stderr",
          "text": [
            "\n"
          ]
        },
        {
          "output_type": "stream",
          "name": "stdout",
          "text": [
            "\n",
            "      Epoch    GPU_mem   box_loss   cls_loss   dfl_loss  Instances       Size\n"
          ]
        },
        {
          "output_type": "stream",
          "name": "stderr",
          "text": [
            "     39/100      1.99G      1.469       1.17      1.433          4        640: 100%|██████████| 332/332 [00:55<00:00,  5.98it/s]\n",
            "                 Class     Images  Instances      Box(P          R      mAP50  mAP50-95): 100%|██████████| 8/8 [00:00<00:00,  8.11it/s]"
          ]
        },
        {
          "output_type": "stream",
          "name": "stdout",
          "text": [
            "                   all        120        216      0.874      0.769      0.866      0.498\n"
          ]
        },
        {
          "output_type": "stream",
          "name": "stderr",
          "text": [
            "\n"
          ]
        },
        {
          "output_type": "stream",
          "name": "stdout",
          "text": [
            "\n",
            "      Epoch    GPU_mem   box_loss   cls_loss   dfl_loss  Instances       Size\n"
          ]
        },
        {
          "output_type": "stream",
          "name": "stderr",
          "text": [
            "     40/100      2.02G      1.445      1.143      1.427          3        640: 100%|██████████| 332/332 [00:57<00:00,  5.75it/s]\n",
            "                 Class     Images  Instances      Box(P          R      mAP50  mAP50-95): 100%|██████████| 8/8 [00:01<00:00,  7.88it/s]"
          ]
        },
        {
          "output_type": "stream",
          "name": "stdout",
          "text": [
            "                   all        120        216      0.876      0.754      0.862      0.527\n"
          ]
        },
        {
          "output_type": "stream",
          "name": "stderr",
          "text": [
            "\n"
          ]
        },
        {
          "output_type": "stream",
          "name": "stdout",
          "text": [
            "\n",
            "      Epoch    GPU_mem   box_loss   cls_loss   dfl_loss  Instances       Size\n"
          ]
        },
        {
          "output_type": "stream",
          "name": "stderr",
          "text": [
            "     41/100      2.03G      1.457      1.129      1.424          3        640: 100%|██████████| 332/332 [00:57<00:00,  5.75it/s]\n",
            "                 Class     Images  Instances      Box(P          R      mAP50  mAP50-95): 100%|██████████| 8/8 [00:00<00:00,  8.30it/s]"
          ]
        },
        {
          "output_type": "stream",
          "name": "stdout",
          "text": [
            "                   all        120        216      0.905      0.746       0.85      0.506\n"
          ]
        },
        {
          "output_type": "stream",
          "name": "stderr",
          "text": [
            "\n"
          ]
        },
        {
          "output_type": "stream",
          "name": "stdout",
          "text": [
            "\n",
            "      Epoch    GPU_mem   box_loss   cls_loss   dfl_loss  Instances       Size\n"
          ]
        },
        {
          "output_type": "stream",
          "name": "stderr",
          "text": [
            "     42/100      2.05G      1.436      1.128      1.418          3        640: 100%|██████████| 332/332 [00:57<00:00,  5.76it/s]\n",
            "                 Class     Images  Instances      Box(P          R      mAP50  mAP50-95): 100%|██████████| 8/8 [00:00<00:00,  8.00it/s]"
          ]
        },
        {
          "output_type": "stream",
          "name": "stdout",
          "text": [
            "                   all        120        216      0.883      0.807      0.872      0.494\n"
          ]
        },
        {
          "output_type": "stream",
          "name": "stderr",
          "text": [
            "\n"
          ]
        },
        {
          "output_type": "stream",
          "name": "stdout",
          "text": [
            "\n",
            "      Epoch    GPU_mem   box_loss   cls_loss   dfl_loss  Instances       Size\n"
          ]
        },
        {
          "output_type": "stream",
          "name": "stderr",
          "text": [
            "     43/100      2.06G      1.446      1.133      1.429          5        640: 100%|██████████| 332/332 [00:56<00:00,  5.92it/s]\n",
            "                 Class     Images  Instances      Box(P          R      mAP50  mAP50-95): 100%|██████████| 8/8 [00:01<00:00,  7.93it/s]\n"
          ]
        },
        {
          "output_type": "stream",
          "name": "stdout",
          "text": [
            "                   all        120        216      0.871      0.773      0.857      0.503\n",
            "\n",
            "      Epoch    GPU_mem   box_loss   cls_loss   dfl_loss  Instances       Size\n"
          ]
        },
        {
          "output_type": "stream",
          "name": "stderr",
          "text": [
            "     44/100      2.09G      1.433      1.108      1.416          8        640: 100%|██████████| 332/332 [00:58<00:00,  5.71it/s]\n",
            "                 Class     Images  Instances      Box(P          R      mAP50  mAP50-95): 100%|██████████| 8/8 [00:01<00:00,  5.94it/s]\n"
          ]
        },
        {
          "output_type": "stream",
          "name": "stdout",
          "text": [
            "                   all        120        216      0.841      0.792      0.862      0.512\n",
            "\n",
            "      Epoch    GPU_mem   box_loss   cls_loss   dfl_loss  Instances       Size\n"
          ]
        },
        {
          "output_type": "stream",
          "name": "stderr",
          "text": [
            "     45/100      2.09G      1.425      1.078      1.407          5        640: 100%|██████████| 332/332 [00:55<00:00,  5.97it/s]\n",
            "                 Class     Images  Instances      Box(P          R      mAP50  mAP50-95): 100%|██████████| 8/8 [00:00<00:00,  8.63it/s]"
          ]
        },
        {
          "output_type": "stream",
          "name": "stdout",
          "text": [
            "                   all        120        216      0.862      0.807      0.882      0.516\n"
          ]
        },
        {
          "output_type": "stream",
          "name": "stderr",
          "text": [
            "\n"
          ]
        },
        {
          "output_type": "stream",
          "name": "stdout",
          "text": [
            "\n",
            "      Epoch    GPU_mem   box_loss   cls_loss   dfl_loss  Instances       Size\n"
          ]
        },
        {
          "output_type": "stream",
          "name": "stderr",
          "text": [
            "     46/100      2.12G       1.43      1.087      1.399          4        640: 100%|██████████| 332/332 [00:55<00:00,  5.94it/s]\n",
            "                 Class     Images  Instances      Box(P          R      mAP50  mAP50-95): 100%|██████████| 8/8 [00:00<00:00,  8.51it/s]"
          ]
        },
        {
          "output_type": "stream",
          "name": "stdout",
          "text": [
            "                   all        120        216      0.857      0.804      0.861      0.505\n"
          ]
        },
        {
          "output_type": "stream",
          "name": "stderr",
          "text": [
            "\n"
          ]
        },
        {
          "output_type": "stream",
          "name": "stdout",
          "text": [
            "\n",
            "      Epoch    GPU_mem   box_loss   cls_loss   dfl_loss  Instances       Size\n"
          ]
        },
        {
          "output_type": "stream",
          "name": "stderr",
          "text": [
            "     47/100      2.13G      1.399      1.085      1.392          5        640: 100%|██████████| 332/332 [00:58<00:00,  5.66it/s]\n",
            "                 Class     Images  Instances      Box(P          R      mAP50  mAP50-95): 100%|██████████| 8/8 [00:01<00:00,  7.73it/s]"
          ]
        },
        {
          "output_type": "stream",
          "name": "stdout",
          "text": [
            "                   all        120        216      0.831      0.815      0.865      0.506\n"
          ]
        },
        {
          "output_type": "stream",
          "name": "stderr",
          "text": [
            "\n"
          ]
        },
        {
          "output_type": "stream",
          "name": "stdout",
          "text": [
            "\n",
            "      Epoch    GPU_mem   box_loss   cls_loss   dfl_loss  Instances       Size\n"
          ]
        },
        {
          "output_type": "stream",
          "name": "stderr",
          "text": [
            "     48/100      2.15G      1.405      1.075      1.403          5        640: 100%|██████████| 332/332 [00:56<00:00,  5.86it/s]\n",
            "                 Class     Images  Instances      Box(P          R      mAP50  mAP50-95): 100%|██████████| 8/8 [00:00<00:00,  8.37it/s]"
          ]
        },
        {
          "output_type": "stream",
          "name": "stdout",
          "text": [
            "                   all        120        216      0.843      0.794      0.845      0.503\n"
          ]
        },
        {
          "output_type": "stream",
          "name": "stderr",
          "text": [
            "\n"
          ]
        },
        {
          "output_type": "stream",
          "name": "stdout",
          "text": [
            "\n",
            "      Epoch    GPU_mem   box_loss   cls_loss   dfl_loss  Instances       Size\n"
          ]
        },
        {
          "output_type": "stream",
          "name": "stderr",
          "text": [
            "     49/100      2.16G      1.388      1.047      1.387          8        640: 100%|██████████| 332/332 [00:56<00:00,  5.84it/s]\n",
            "                 Class     Images  Instances      Box(P          R      mAP50  mAP50-95): 100%|██████████| 8/8 [00:01<00:00,  5.34it/s]"
          ]
        },
        {
          "output_type": "stream",
          "name": "stdout",
          "text": [
            "                   all        120        216      0.859      0.782      0.867      0.502\n"
          ]
        },
        {
          "output_type": "stream",
          "name": "stderr",
          "text": [
            "\n"
          ]
        },
        {
          "output_type": "stream",
          "name": "stdout",
          "text": [
            "\n",
            "      Epoch    GPU_mem   box_loss   cls_loss   dfl_loss  Instances       Size\n"
          ]
        },
        {
          "output_type": "stream",
          "name": "stderr",
          "text": [
            "     50/100      2.19G       1.38      1.055      1.388          3        640: 100%|██████████| 332/332 [00:57<00:00,  5.80it/s]\n",
            "                 Class     Images  Instances      Box(P          R      mAP50  mAP50-95): 100%|██████████| 8/8 [00:00<00:00,  8.22it/s]"
          ]
        },
        {
          "output_type": "stream",
          "name": "stdout",
          "text": [
            "                   all        120        216      0.878      0.801      0.883      0.521\n"
          ]
        },
        {
          "output_type": "stream",
          "name": "stderr",
          "text": [
            "\n"
          ]
        },
        {
          "output_type": "stream",
          "name": "stdout",
          "text": [
            "\n",
            "      Epoch    GPU_mem   box_loss   cls_loss   dfl_loss  Instances       Size\n"
          ]
        },
        {
          "output_type": "stream",
          "name": "stderr",
          "text": [
            "     51/100       2.2G      1.385      1.059       1.38          3        640: 100%|██████████| 332/332 [00:56<00:00,  5.90it/s]\n",
            "                 Class     Images  Instances      Box(P          R      mAP50  mAP50-95): 100%|██████████| 8/8 [00:00<00:00,  8.33it/s]"
          ]
        },
        {
          "output_type": "stream",
          "name": "stdout",
          "text": [
            "                   all        120        216      0.866      0.805      0.863      0.515\n"
          ]
        },
        {
          "output_type": "stream",
          "name": "stderr",
          "text": [
            "\n"
          ]
        },
        {
          "output_type": "stream",
          "name": "stdout",
          "text": [
            "\n",
            "      Epoch    GPU_mem   box_loss   cls_loss   dfl_loss  Instances       Size\n"
          ]
        },
        {
          "output_type": "stream",
          "name": "stderr",
          "text": [
            "     52/100      2.22G       1.41      1.061      1.389          3        640: 100%|██████████| 332/332 [00:57<00:00,  5.80it/s]\n",
            "                 Class     Images  Instances      Box(P          R      mAP50  mAP50-95): 100%|██████████| 8/8 [00:01<00:00,  7.85it/s]"
          ]
        },
        {
          "output_type": "stream",
          "name": "stdout",
          "text": [
            "                   all        120        216      0.829      0.824      0.868      0.516\n"
          ]
        },
        {
          "output_type": "stream",
          "name": "stderr",
          "text": [
            "\n"
          ]
        },
        {
          "output_type": "stream",
          "name": "stdout",
          "text": [
            "\n",
            "      Epoch    GPU_mem   box_loss   cls_loss   dfl_loss  Instances       Size\n"
          ]
        },
        {
          "output_type": "stream",
          "name": "stderr",
          "text": [
            "     53/100      2.23G      1.397      1.042      1.372          6        640: 100%|██████████| 332/332 [01:00<00:00,  5.52it/s]\n",
            "                 Class     Images  Instances      Box(P          R      mAP50  mAP50-95): 100%|██████████| 8/8 [00:01<00:00,  7.48it/s]"
          ]
        },
        {
          "output_type": "stream",
          "name": "stdout",
          "text": [
            "                   all        120        216      0.849       0.81      0.866      0.504\n"
          ]
        },
        {
          "output_type": "stream",
          "name": "stderr",
          "text": [
            "\n"
          ]
        },
        {
          "output_type": "stream",
          "name": "stdout",
          "text": [
            "\n",
            "      Epoch    GPU_mem   box_loss   cls_loss   dfl_loss  Instances       Size\n"
          ]
        },
        {
          "output_type": "stream",
          "name": "stderr",
          "text": [
            "     54/100      2.26G      1.366      1.028      1.367          5        640: 100%|██████████| 332/332 [00:56<00:00,  5.91it/s]\n",
            "                 Class     Images  Instances      Box(P          R      mAP50  mAP50-95): 100%|██████████| 8/8 [00:01<00:00,  6.70it/s]"
          ]
        },
        {
          "output_type": "stream",
          "name": "stdout",
          "text": [
            "                   all        120        216       0.89      0.819      0.869      0.522\n"
          ]
        },
        {
          "output_type": "stream",
          "name": "stderr",
          "text": [
            "\n"
          ]
        },
        {
          "output_type": "stream",
          "name": "stdout",
          "text": [
            "\n",
            "      Epoch    GPU_mem   box_loss   cls_loss   dfl_loss  Instances       Size\n"
          ]
        },
        {
          "output_type": "stream",
          "name": "stderr",
          "text": [
            "     55/100      2.27G      1.376      1.012      1.365         12        640: 100%|██████████| 332/332 [00:56<00:00,  5.92it/s]\n",
            "                 Class     Images  Instances      Box(P          R      mAP50  mAP50-95): 100%|██████████| 8/8 [00:00<00:00,  8.04it/s]"
          ]
        },
        {
          "output_type": "stream",
          "name": "stdout",
          "text": [
            "                   all        120        216      0.905      0.745      0.873      0.517\n"
          ]
        },
        {
          "output_type": "stream",
          "name": "stderr",
          "text": [
            "\n"
          ]
        },
        {
          "output_type": "stream",
          "name": "stdout",
          "text": [
            "\n",
            "      Epoch    GPU_mem   box_loss   cls_loss   dfl_loss  Instances       Size\n"
          ]
        },
        {
          "output_type": "stream",
          "name": "stderr",
          "text": [
            "     56/100      2.29G      1.346      1.009      1.361          4        640: 100%|██████████| 332/332 [00:57<00:00,  5.80it/s]\n",
            "                 Class     Images  Instances      Box(P          R      mAP50  mAP50-95): 100%|██████████| 8/8 [00:01<00:00,  5.71it/s]"
          ]
        },
        {
          "output_type": "stream",
          "name": "stdout",
          "text": [
            "                   all        120        216      0.822      0.833      0.866      0.519\n"
          ]
        },
        {
          "output_type": "stream",
          "name": "stderr",
          "text": [
            "\n"
          ]
        },
        {
          "output_type": "stream",
          "name": "stdout",
          "text": [
            "\n",
            "      Epoch    GPU_mem   box_loss   cls_loss   dfl_loss  Instances       Size\n"
          ]
        },
        {
          "output_type": "stream",
          "name": "stderr",
          "text": [
            "     57/100       2.3G      1.356      1.003      1.352          3        640: 100%|██████████| 332/332 [00:56<00:00,  5.88it/s]\n",
            "                 Class     Images  Instances      Box(P          R      mAP50  mAP50-95): 100%|██████████| 8/8 [00:00<00:00,  8.04it/s]"
          ]
        },
        {
          "output_type": "stream",
          "name": "stdout",
          "text": [
            "                   all        120        216       0.86      0.819      0.881      0.527\n"
          ]
        },
        {
          "output_type": "stream",
          "name": "stderr",
          "text": [
            "\n"
          ]
        },
        {
          "output_type": "stream",
          "name": "stdout",
          "text": [
            "\n",
            "      Epoch    GPU_mem   box_loss   cls_loss   dfl_loss  Instances       Size\n"
          ]
        },
        {
          "output_type": "stream",
          "name": "stderr",
          "text": [
            "     58/100      2.32G      1.358          1       1.36          4        640: 100%|██████████| 332/332 [00:56<00:00,  5.91it/s]\n",
            "                 Class     Images  Instances      Box(P          R      mAP50  mAP50-95): 100%|██████████| 8/8 [00:01<00:00,  7.63it/s]"
          ]
        },
        {
          "output_type": "stream",
          "name": "stdout",
          "text": [
            "                   all        120        216      0.902      0.801      0.877      0.525\n"
          ]
        },
        {
          "output_type": "stream",
          "name": "stderr",
          "text": [
            "\n"
          ]
        },
        {
          "output_type": "stream",
          "name": "stdout",
          "text": [
            "\n",
            "      Epoch    GPU_mem   box_loss   cls_loss   dfl_loss  Instances       Size\n"
          ]
        },
        {
          "output_type": "stream",
          "name": "stderr",
          "text": [
            "     59/100      2.33G      1.352     0.9927      1.352          4        640: 100%|██████████| 332/332 [00:57<00:00,  5.82it/s]\n",
            "                 Class     Images  Instances      Box(P          R      mAP50  mAP50-95): 100%|██████████| 8/8 [00:01<00:00,  5.15it/s]"
          ]
        },
        {
          "output_type": "stream",
          "name": "stdout",
          "text": [
            "                   all        120        216      0.873      0.798      0.868      0.533\n"
          ]
        },
        {
          "output_type": "stream",
          "name": "stderr",
          "text": [
            "\n"
          ]
        },
        {
          "output_type": "stream",
          "name": "stdout",
          "text": [
            "\n",
            "      Epoch    GPU_mem   box_loss   cls_loss   dfl_loss  Instances       Size\n"
          ]
        },
        {
          "output_type": "stream",
          "name": "stderr",
          "text": [
            "     60/100      2.36G      1.337     0.9726      1.347          4        640: 100%|██████████| 332/332 [00:55<00:00,  5.94it/s]\n",
            "                 Class     Images  Instances      Box(P          R      mAP50  mAP50-95): 100%|██████████| 8/8 [00:00<00:00,  8.62it/s]"
          ]
        },
        {
          "output_type": "stream",
          "name": "stdout",
          "text": [
            "                   all        120        216      0.891      0.833      0.877      0.533\n"
          ]
        },
        {
          "output_type": "stream",
          "name": "stderr",
          "text": [
            "\n"
          ]
        },
        {
          "output_type": "stream",
          "name": "stdout",
          "text": [
            "\n",
            "      Epoch    GPU_mem   box_loss   cls_loss   dfl_loss  Instances       Size\n"
          ]
        },
        {
          "output_type": "stream",
          "name": "stderr",
          "text": [
            "     61/100      2.37G      1.343      0.972      1.349          8        640: 100%|██████████| 332/332 [00:55<00:00,  5.93it/s]\n",
            "                 Class     Images  Instances      Box(P          R      mAP50  mAP50-95): 100%|██████████| 8/8 [00:00<00:00,  8.24it/s]"
          ]
        },
        {
          "output_type": "stream",
          "name": "stdout",
          "text": [
            "                   all        120        216      0.853      0.834      0.875      0.525\n"
          ]
        },
        {
          "output_type": "stream",
          "name": "stderr",
          "text": [
            "\n"
          ]
        },
        {
          "output_type": "stream",
          "name": "stdout",
          "text": [
            "\n",
            "      Epoch    GPU_mem   box_loss   cls_loss   dfl_loss  Instances       Size\n"
          ]
        },
        {
          "output_type": "stream",
          "name": "stderr",
          "text": [
            "     62/100      2.39G       1.33     0.9559      1.341          7        640: 100%|██████████| 332/332 [00:58<00:00,  5.65it/s]\n",
            "                 Class     Images  Instances      Box(P          R      mAP50  mAP50-95): 100%|██████████| 8/8 [00:00<00:00,  8.19it/s]"
          ]
        },
        {
          "output_type": "stream",
          "name": "stdout",
          "text": [
            "                   all        120        216      0.853      0.819      0.862      0.527\n"
          ]
        },
        {
          "output_type": "stream",
          "name": "stderr",
          "text": [
            "\n"
          ]
        },
        {
          "output_type": "stream",
          "name": "stdout",
          "text": [
            "\n",
            "      Epoch    GPU_mem   box_loss   cls_loss   dfl_loss  Instances       Size\n"
          ]
        },
        {
          "output_type": "stream",
          "name": "stderr",
          "text": [
            "     63/100       2.4G      1.312     0.9532      1.336          5        640: 100%|██████████| 332/332 [00:55<00:00,  5.95it/s]\n",
            "                 Class     Images  Instances      Box(P          R      mAP50  mAP50-95): 100%|██████████| 8/8 [00:01<00:00,  7.77it/s]"
          ]
        },
        {
          "output_type": "stream",
          "name": "stdout",
          "text": [
            "                   all        120        216       0.88       0.81      0.889      0.531\n"
          ]
        },
        {
          "output_type": "stream",
          "name": "stderr",
          "text": [
            "\n"
          ]
        },
        {
          "output_type": "stream",
          "name": "stdout",
          "text": [
            "\n",
            "      Epoch    GPU_mem   box_loss   cls_loss   dfl_loss  Instances       Size\n"
          ]
        },
        {
          "output_type": "stream",
          "name": "stderr",
          "text": [
            "     64/100      2.43G      1.322      0.933      1.336          5        640: 100%|██████████| 332/332 [00:55<00:00,  5.98it/s]\n",
            "                 Class     Images  Instances      Box(P          R      mAP50  mAP50-95): 100%|██████████| 8/8 [00:01<00:00,  5.03it/s]"
          ]
        },
        {
          "output_type": "stream",
          "name": "stdout",
          "text": [
            "                   all        120        216      0.895      0.824      0.882      0.528\n"
          ]
        },
        {
          "output_type": "stream",
          "name": "stderr",
          "text": [
            "\n"
          ]
        },
        {
          "output_type": "stream",
          "name": "stdout",
          "text": [
            "\n",
            "      Epoch    GPU_mem   box_loss   cls_loss   dfl_loss  Instances       Size\n"
          ]
        },
        {
          "output_type": "stream",
          "name": "stderr",
          "text": [
            "     65/100      2.44G      1.325     0.9439      1.331          9        640: 100%|██████████| 332/332 [00:57<00:00,  5.80it/s]\n",
            "                 Class     Images  Instances      Box(P          R      mAP50  mAP50-95): 100%|██████████| 8/8 [00:00<00:00,  8.61it/s]"
          ]
        },
        {
          "output_type": "stream",
          "name": "stdout",
          "text": [
            "                   all        120        216      0.863      0.829      0.879      0.533\n"
          ]
        },
        {
          "output_type": "stream",
          "name": "stderr",
          "text": [
            "\n"
          ]
        },
        {
          "output_type": "stream",
          "name": "stdout",
          "text": [
            "\n",
            "      Epoch    GPU_mem   box_loss   cls_loss   dfl_loss  Instances       Size\n"
          ]
        },
        {
          "output_type": "stream",
          "name": "stderr",
          "text": [
            "     66/100      2.46G      1.297      0.924      1.319          5        640: 100%|██████████| 332/332 [00:56<00:00,  5.90it/s]\n",
            "                 Class     Images  Instances      Box(P          R      mAP50  mAP50-95): 100%|██████████| 8/8 [00:00<00:00,  8.08it/s]"
          ]
        },
        {
          "output_type": "stream",
          "name": "stdout",
          "text": [
            "                   all        120        216      0.886      0.815      0.883       0.54\n"
          ]
        },
        {
          "output_type": "stream",
          "name": "stderr",
          "text": [
            "\n"
          ]
        },
        {
          "output_type": "stream",
          "name": "stdout",
          "text": [
            "\n",
            "      Epoch    GPU_mem   box_loss   cls_loss   dfl_loss  Instances       Size\n"
          ]
        },
        {
          "output_type": "stream",
          "name": "stderr",
          "text": [
            "     67/100      2.47G      1.299     0.9246       1.32          6        640: 100%|██████████| 332/332 [00:57<00:00,  5.79it/s]\n",
            "                 Class     Images  Instances      Box(P          R      mAP50  mAP50-95): 100%|██████████| 8/8 [00:00<00:00,  8.01it/s]"
          ]
        },
        {
          "output_type": "stream",
          "name": "stdout",
          "text": [
            "                   all        120        216       0.88      0.806      0.872      0.529\n"
          ]
        },
        {
          "output_type": "stream",
          "name": "stderr",
          "text": [
            "\n"
          ]
        },
        {
          "output_type": "stream",
          "name": "stdout",
          "text": [
            "\n",
            "      Epoch    GPU_mem   box_loss   cls_loss   dfl_loss  Instances       Size\n"
          ]
        },
        {
          "output_type": "stream",
          "name": "stderr",
          "text": [
            "     68/100       2.5G      1.291     0.9115      1.313          6        640: 100%|██████████| 332/332 [00:57<00:00,  5.77it/s]\n",
            "                 Class     Images  Instances      Box(P          R      mAP50  mAP50-95): 100%|██████████| 8/8 [00:00<00:00,  8.44it/s]\n"
          ]
        },
        {
          "output_type": "stream",
          "name": "stdout",
          "text": [
            "                   all        120        216      0.894      0.819      0.876      0.524\n",
            "\n",
            "      Epoch    GPU_mem   box_loss   cls_loss   dfl_loss  Instances       Size\n"
          ]
        },
        {
          "output_type": "stream",
          "name": "stderr",
          "text": [
            "     69/100       2.5G      1.286     0.9165      1.313          6        640: 100%|██████████| 332/332 [00:57<00:00,  5.78it/s]\n",
            "                 Class     Images  Instances      Box(P          R      mAP50  mAP50-95): 100%|██████████| 8/8 [00:00<00:00,  8.29it/s]"
          ]
        },
        {
          "output_type": "stream",
          "name": "stdout",
          "text": [
            "                   all        120        216      0.907      0.801       0.88      0.532\n"
          ]
        },
        {
          "output_type": "stream",
          "name": "stderr",
          "text": [
            "\n"
          ]
        },
        {
          "output_type": "stream",
          "name": "stdout",
          "text": [
            "\n",
            "      Epoch    GPU_mem   box_loss   cls_loss   dfl_loss  Instances       Size\n"
          ]
        },
        {
          "output_type": "stream",
          "name": "stderr",
          "text": [
            "     70/100      2.53G      1.291     0.9113       1.31          4        640: 100%|██████████| 332/332 [00:56<00:00,  5.90it/s]\n",
            "                 Class     Images  Instances      Box(P          R      mAP50  mAP50-95): 100%|██████████| 8/8 [00:01<00:00,  7.95it/s]"
          ]
        },
        {
          "output_type": "stream",
          "name": "stdout",
          "text": [
            "                   all        120        216       0.86      0.843      0.885      0.541\n"
          ]
        },
        {
          "output_type": "stream",
          "name": "stderr",
          "text": [
            "\n"
          ]
        },
        {
          "output_type": "stream",
          "name": "stdout",
          "text": [
            "\n",
            "      Epoch    GPU_mem   box_loss   cls_loss   dfl_loss  Instances       Size\n"
          ]
        },
        {
          "output_type": "stream",
          "name": "stderr",
          "text": [
            "     71/100      2.54G      1.293     0.9099      1.316          8        640: 100%|██████████| 332/332 [00:58<00:00,  5.70it/s]\n",
            "                 Class     Images  Instances      Box(P          R      mAP50  mAP50-95): 100%|██████████| 8/8 [00:01<00:00,  5.24it/s]"
          ]
        },
        {
          "output_type": "stream",
          "name": "stdout",
          "text": [
            "                   all        120        216      0.867      0.838       0.89       0.54\n"
          ]
        },
        {
          "output_type": "stream",
          "name": "stderr",
          "text": [
            "\n"
          ]
        },
        {
          "output_type": "stream",
          "name": "stdout",
          "text": [
            "\n",
            "      Epoch    GPU_mem   box_loss   cls_loss   dfl_loss  Instances       Size\n"
          ]
        },
        {
          "output_type": "stream",
          "name": "stderr",
          "text": [
            "     72/100      2.56G      1.275     0.8892      1.305          6        640: 100%|██████████| 332/332 [00:57<00:00,  5.81it/s]\n",
            "                 Class     Images  Instances      Box(P          R      mAP50  mAP50-95): 100%|██████████| 8/8 [00:00<00:00,  8.40it/s]"
          ]
        },
        {
          "output_type": "stream",
          "name": "stdout",
          "text": [
            "                   all        120        216      0.866      0.839      0.896      0.547\n"
          ]
        },
        {
          "output_type": "stream",
          "name": "stderr",
          "text": [
            "\n"
          ]
        },
        {
          "output_type": "stream",
          "name": "stdout",
          "text": [
            "\n",
            "      Epoch    GPU_mem   box_loss   cls_loss   dfl_loss  Instances       Size\n"
          ]
        },
        {
          "output_type": "stream",
          "name": "stderr",
          "text": [
            "     73/100      2.57G      1.267     0.8803      1.289          6        640: 100%|██████████| 332/332 [00:57<00:00,  5.81it/s]\n",
            "                 Class     Images  Instances      Box(P          R      mAP50  mAP50-95): 100%|██████████| 8/8 [00:01<00:00,  5.49it/s]"
          ]
        },
        {
          "output_type": "stream",
          "name": "stdout",
          "text": [
            "                   all        120        216      0.893      0.824      0.903      0.549\n"
          ]
        },
        {
          "output_type": "stream",
          "name": "stderr",
          "text": [
            "\n"
          ]
        },
        {
          "output_type": "stream",
          "name": "stdout",
          "text": [
            "\n",
            "      Epoch    GPU_mem   box_loss   cls_loss   dfl_loss  Instances       Size\n"
          ]
        },
        {
          "output_type": "stream",
          "name": "stderr",
          "text": [
            "     74/100       2.6G      1.268      0.876      1.294          3        640: 100%|██████████| 332/332 [00:57<00:00,  5.77it/s]\n",
            "                 Class     Images  Instances      Box(P          R      mAP50  mAP50-95): 100%|██████████| 8/8 [00:01<00:00,  7.93it/s]"
          ]
        },
        {
          "output_type": "stream",
          "name": "stdout",
          "text": [
            "                   all        120        216      0.908      0.843      0.898      0.545\n"
          ]
        },
        {
          "output_type": "stream",
          "name": "stderr",
          "text": [
            "\n"
          ]
        },
        {
          "output_type": "stream",
          "name": "stdout",
          "text": [
            "\n",
            "      Epoch    GPU_mem   box_loss   cls_loss   dfl_loss  Instances       Size\n"
          ]
        },
        {
          "output_type": "stream",
          "name": "stderr",
          "text": [
            "     75/100      2.61G      1.264     0.8759      1.289          6        640: 100%|██████████| 332/332 [00:55<00:00,  5.93it/s]\n",
            "                 Class     Images  Instances      Box(P          R      mAP50  mAP50-95): 100%|██████████| 8/8 [00:00<00:00,  8.33it/s]\n"
          ]
        },
        {
          "output_type": "stream",
          "name": "stdout",
          "text": [
            "                   all        120        216      0.903      0.818      0.883      0.556\n",
            "\n",
            "      Epoch    GPU_mem   box_loss   cls_loss   dfl_loss  Instances       Size\n"
          ]
        },
        {
          "output_type": "stream",
          "name": "stderr",
          "text": [
            "     76/100      2.63G      1.274     0.8592      1.292          4        640: 100%|██████████| 332/332 [00:57<00:00,  5.76it/s]\n",
            "                 Class     Images  Instances      Box(P          R      mAP50  mAP50-95): 100%|██████████| 8/8 [00:00<00:00,  8.17it/s]"
          ]
        },
        {
          "output_type": "stream",
          "name": "stdout",
          "text": [
            "                   all        120        216      0.847       0.87      0.895      0.536\n"
          ]
        },
        {
          "output_type": "stream",
          "name": "stderr",
          "text": [
            "\n"
          ]
        },
        {
          "output_type": "stream",
          "name": "stdout",
          "text": [
            "\n",
            "      Epoch    GPU_mem   box_loss   cls_loss   dfl_loss  Instances       Size\n"
          ]
        },
        {
          "output_type": "stream",
          "name": "stderr",
          "text": [
            "     77/100      2.64G      1.263     0.8774      1.287          5        640: 100%|██████████| 332/332 [00:57<00:00,  5.74it/s]\n",
            "                 Class     Images  Instances      Box(P          R      mAP50  mAP50-95): 100%|██████████| 8/8 [00:00<00:00,  8.20it/s]"
          ]
        },
        {
          "output_type": "stream",
          "name": "stdout",
          "text": [
            "                   all        120        216      0.889      0.833      0.882      0.542\n"
          ]
        },
        {
          "output_type": "stream",
          "name": "stderr",
          "text": [
            "\n"
          ]
        },
        {
          "output_type": "stream",
          "name": "stdout",
          "text": [
            "\n",
            "      Epoch    GPU_mem   box_loss   cls_loss   dfl_loss  Instances       Size\n"
          ]
        },
        {
          "output_type": "stream",
          "name": "stderr",
          "text": [
            "     78/100      2.67G      1.261     0.8597      1.286         14        640: 100%|██████████| 332/332 [00:56<00:00,  5.86it/s]\n",
            "                 Class     Images  Instances      Box(P          R      mAP50  mAP50-95): 100%|██████████| 8/8 [00:01<00:00,  5.10it/s]"
          ]
        },
        {
          "output_type": "stream",
          "name": "stdout",
          "text": [
            "                   all        120        216      0.868      0.819       0.88      0.551\n"
          ]
        },
        {
          "output_type": "stream",
          "name": "stderr",
          "text": [
            "\n"
          ]
        },
        {
          "output_type": "stream",
          "name": "stdout",
          "text": [
            "\n",
            "      Epoch    GPU_mem   box_loss   cls_loss   dfl_loss  Instances       Size\n"
          ]
        },
        {
          "output_type": "stream",
          "name": "stderr",
          "text": [
            "     79/100      2.67G      1.245     0.8512      1.284          2        640: 100%|██████████| 332/332 [00:56<00:00,  5.85it/s]\n",
            "                 Class     Images  Instances      Box(P          R      mAP50  mAP50-95): 100%|██████████| 8/8 [00:00<00:00,  8.34it/s]\n"
          ]
        },
        {
          "output_type": "stream",
          "name": "stdout",
          "text": [
            "                   all        120        216      0.942      0.796      0.894       0.55\n",
            "\n",
            "      Epoch    GPU_mem   box_loss   cls_loss   dfl_loss  Instances       Size\n"
          ]
        },
        {
          "output_type": "stream",
          "name": "stderr",
          "text": [
            "     80/100       2.7G      1.242     0.8442      1.275          5        640: 100%|██████████| 332/332 [00:57<00:00,  5.78it/s]\n",
            "                 Class     Images  Instances      Box(P          R      mAP50  mAP50-95): 100%|██████████| 8/8 [00:01<00:00,  4.81it/s]"
          ]
        },
        {
          "output_type": "stream",
          "name": "stdout",
          "text": [
            "                   all        120        216       0.87      0.843       0.88      0.548\n"
          ]
        },
        {
          "output_type": "stream",
          "name": "stderr",
          "text": [
            "\n"
          ]
        },
        {
          "output_type": "stream",
          "name": "stdout",
          "text": [
            "\n",
            "      Epoch    GPU_mem   box_loss   cls_loss   dfl_loss  Instances       Size\n"
          ]
        },
        {
          "output_type": "stream",
          "name": "stderr",
          "text": [
            "     81/100      2.71G      1.235      0.841      1.275          5        640: 100%|██████████| 332/332 [00:56<00:00,  5.89it/s]\n",
            "                 Class     Images  Instances      Box(P          R      mAP50  mAP50-95): 100%|██████████| 8/8 [00:00<00:00,  8.14it/s]"
          ]
        },
        {
          "output_type": "stream",
          "name": "stdout",
          "text": [
            "                   all        120        216      0.901      0.806      0.878      0.547\n"
          ]
        },
        {
          "output_type": "stream",
          "name": "stderr",
          "text": [
            "\n"
          ]
        },
        {
          "output_type": "stream",
          "name": "stdout",
          "text": [
            "\n",
            "      Epoch    GPU_mem   box_loss   cls_loss   dfl_loss  Instances       Size\n"
          ]
        },
        {
          "output_type": "stream",
          "name": "stderr",
          "text": [
            "     82/100      2.73G      1.238     0.8355      1.283          3        640: 100%|██████████| 332/332 [00:56<00:00,  5.88it/s]\n",
            "                 Class     Images  Instances      Box(P          R      mAP50  mAP50-95): 100%|██████████| 8/8 [00:00<00:00,  8.32it/s]"
          ]
        },
        {
          "output_type": "stream",
          "name": "stdout",
          "text": [
            "                   all        120        216      0.918      0.828      0.893      0.545\n"
          ]
        },
        {
          "output_type": "stream",
          "name": "stderr",
          "text": [
            "\n"
          ]
        },
        {
          "output_type": "stream",
          "name": "stdout",
          "text": [
            "\n",
            "      Epoch    GPU_mem   box_loss   cls_loss   dfl_loss  Instances       Size\n"
          ]
        },
        {
          "output_type": "stream",
          "name": "stderr",
          "text": [
            "     83/100      2.74G      1.219     0.8121      1.261          2        640: 100%|██████████| 332/332 [00:58<00:00,  5.63it/s]\n",
            "                 Class     Images  Instances      Box(P          R      mAP50  mAP50-95): 100%|██████████| 8/8 [00:01<00:00,  7.75it/s]"
          ]
        },
        {
          "output_type": "stream",
          "name": "stdout",
          "text": [
            "                   all        120        216      0.911      0.802      0.889      0.552\n"
          ]
        },
        {
          "output_type": "stream",
          "name": "stderr",
          "text": [
            "\n"
          ]
        },
        {
          "output_type": "stream",
          "name": "stdout",
          "text": [
            "\n",
            "      Epoch    GPU_mem   box_loss   cls_loss   dfl_loss  Instances       Size\n"
          ]
        },
        {
          "output_type": "stream",
          "name": "stderr",
          "text": [
            "     84/100      2.77G      1.213     0.8157      1.275          4        640: 100%|██████████| 332/332 [00:56<00:00,  5.91it/s]\n",
            "                 Class     Images  Instances      Box(P          R      mAP50  mAP50-95): 100%|██████████| 8/8 [00:01<00:00,  7.67it/s]"
          ]
        },
        {
          "output_type": "stream",
          "name": "stdout",
          "text": [
            "                   all        120        216      0.883      0.803      0.883      0.546\n"
          ]
        },
        {
          "output_type": "stream",
          "name": "stderr",
          "text": [
            "\n"
          ]
        },
        {
          "output_type": "stream",
          "name": "stdout",
          "text": [
            "\n",
            "      Epoch    GPU_mem   box_loss   cls_loss   dfl_loss  Instances       Size\n"
          ]
        },
        {
          "output_type": "stream",
          "name": "stderr",
          "text": [
            "     85/100      2.78G      1.215     0.8242      1.265          2        640: 100%|██████████| 332/332 [00:56<00:00,  5.84it/s]\n",
            "                 Class     Images  Instances      Box(P          R      mAP50  mAP50-95): 100%|██████████| 8/8 [00:01<00:00,  6.16it/s]"
          ]
        },
        {
          "output_type": "stream",
          "name": "stdout",
          "text": [
            "                   all        120        216      0.886      0.827      0.891       0.54\n"
          ]
        },
        {
          "output_type": "stream",
          "name": "stderr",
          "text": [
            "\n"
          ]
        },
        {
          "output_type": "stream",
          "name": "stdout",
          "text": [
            "\n",
            "      Epoch    GPU_mem   box_loss   cls_loss   dfl_loss  Instances       Size\n"
          ]
        },
        {
          "output_type": "stream",
          "name": "stderr",
          "text": [
            "     86/100       2.8G      1.205     0.7984      1.252          5        640: 100%|██████████| 332/332 [00:57<00:00,  5.78it/s]\n",
            "                 Class     Images  Instances      Box(P          R      mAP50  mAP50-95): 100%|██████████| 8/8 [00:00<00:00,  8.73it/s]"
          ]
        },
        {
          "output_type": "stream",
          "name": "stdout",
          "text": [
            "                   all        120        216      0.895      0.847      0.894      0.547\n"
          ]
        },
        {
          "output_type": "stream",
          "name": "stderr",
          "text": [
            "\n"
          ]
        },
        {
          "output_type": "stream",
          "name": "stdout",
          "text": [
            "\n",
            "      Epoch    GPU_mem   box_loss   cls_loss   dfl_loss  Instances       Size\n"
          ]
        },
        {
          "output_type": "stream",
          "name": "stderr",
          "text": [
            "     87/100      2.81G      1.204     0.8224      1.264          9        640: 100%|██████████| 332/332 [00:55<00:00,  5.97it/s]\n",
            "                 Class     Images  Instances      Box(P          R      mAP50  mAP50-95): 100%|██████████| 8/8 [00:00<00:00,  8.11it/s]"
          ]
        },
        {
          "output_type": "stream",
          "name": "stdout",
          "text": [
            "                   all        120        216      0.909      0.819       0.89      0.552\n"
          ]
        },
        {
          "output_type": "stream",
          "name": "stderr",
          "text": [
            "\n"
          ]
        },
        {
          "output_type": "stream",
          "name": "stdout",
          "text": [
            "\n",
            "      Epoch    GPU_mem   box_loss   cls_loss   dfl_loss  Instances       Size\n"
          ]
        },
        {
          "output_type": "stream",
          "name": "stderr",
          "text": [
            "     88/100      2.84G      1.208     0.8092      1.262          7        640: 100%|██████████| 332/332 [00:57<00:00,  5.76it/s]\n",
            "                 Class     Images  Instances      Box(P          R      mAP50  mAP50-95): 100%|██████████| 8/8 [00:01<00:00,  7.77it/s]"
          ]
        },
        {
          "output_type": "stream",
          "name": "stdout",
          "text": [
            "                   all        120        216      0.858      0.841       0.88      0.549\n"
          ]
        },
        {
          "output_type": "stream",
          "name": "stderr",
          "text": [
            "\n"
          ]
        },
        {
          "output_type": "stream",
          "name": "stdout",
          "text": [
            "\n",
            "      Epoch    GPU_mem   box_loss   cls_loss   dfl_loss  Instances       Size\n"
          ]
        },
        {
          "output_type": "stream",
          "name": "stderr",
          "text": [
            "     89/100      2.85G      1.195     0.8097      1.252         11        640: 100%|██████████| 332/332 [00:57<00:00,  5.73it/s]\n",
            "                 Class     Images  Instances      Box(P          R      mAP50  mAP50-95): 100%|██████████| 8/8 [00:00<00:00,  8.66it/s]"
          ]
        },
        {
          "output_type": "stream",
          "name": "stdout",
          "text": [
            "                   all        120        216      0.864       0.82      0.884      0.555\n"
          ]
        },
        {
          "output_type": "stream",
          "name": "stderr",
          "text": [
            "\n"
          ]
        },
        {
          "output_type": "stream",
          "name": "stdout",
          "text": [
            "\n",
            "      Epoch    GPU_mem   box_loss   cls_loss   dfl_loss  Instances       Size\n"
          ]
        },
        {
          "output_type": "stream",
          "name": "stderr",
          "text": [
            "     90/100      2.87G      1.191     0.8023      1.261          4        640: 100%|██████████| 332/332 [00:57<00:00,  5.80it/s]\n",
            "                 Class     Images  Instances      Box(P          R      mAP50  mAP50-95): 100%|██████████| 8/8 [00:00<00:00,  8.51it/s]"
          ]
        },
        {
          "output_type": "stream",
          "name": "stdout",
          "text": [
            "                   all        120        216      0.854      0.869      0.887      0.547\n"
          ]
        },
        {
          "output_type": "stream",
          "name": "stderr",
          "text": [
            "\n"
          ]
        },
        {
          "output_type": "stream",
          "name": "stdout",
          "text": [
            "Closing dataloader mosaic\n",
            "\u001b[34m\u001b[1malbumentations: \u001b[0mBlur(p=0.01, blur_limit=(3, 7)), MedianBlur(p=0.01, blur_limit=(3, 7)), ToGray(p=0.01, method='weighted_average', num_output_channels=3), CLAHE(p=0.01, clip_limit=(1.0, 4.0), tile_grid_size=(8, 8))\n",
            "\n",
            "      Epoch    GPU_mem   box_loss   cls_loss   dfl_loss  Instances       Size\n"
          ]
        },
        {
          "output_type": "stream",
          "name": "stderr",
          "text": [
            "     91/100      2.88G      1.166      0.711      1.251          4        640: 100%|██████████| 332/332 [00:55<00:00,  6.00it/s]\n",
            "                 Class     Images  Instances      Box(P          R      mAP50  mAP50-95): 100%|██████████| 8/8 [00:00<00:00,  8.41it/s]"
          ]
        },
        {
          "output_type": "stream",
          "name": "stdout",
          "text": [
            "                   all        120        216      0.931      0.807      0.885      0.554\n"
          ]
        },
        {
          "output_type": "stream",
          "name": "stderr",
          "text": [
            "\n"
          ]
        },
        {
          "output_type": "stream",
          "name": "stdout",
          "text": [
            "\n",
            "      Epoch    GPU_mem   box_loss   cls_loss   dfl_loss  Instances       Size\n"
          ]
        },
        {
          "output_type": "stream",
          "name": "stderr",
          "text": [
            "     92/100       2.9G      1.137     0.6852      1.226          1        640: 100%|██████████| 332/332 [00:54<00:00,  6.10it/s]\n",
            "                 Class     Images  Instances      Box(P          R      mAP50  mAP50-95): 100%|██████████| 8/8 [00:01<00:00,  6.60it/s]"
          ]
        },
        {
          "output_type": "stream",
          "name": "stdout",
          "text": [
            "                   all        120        216      0.931      0.815      0.884      0.556\n"
          ]
        },
        {
          "output_type": "stream",
          "name": "stderr",
          "text": [
            "\n"
          ]
        },
        {
          "output_type": "stream",
          "name": "stdout",
          "text": [
            "\n",
            "      Epoch    GPU_mem   box_loss   cls_loss   dfl_loss  Instances       Size\n"
          ]
        },
        {
          "output_type": "stream",
          "name": "stderr",
          "text": [
            "     93/100      2.91G      1.145     0.6833       1.23          2        640: 100%|██████████| 332/332 [00:55<00:00,  5.99it/s]\n",
            "                 Class     Images  Instances      Box(P          R      mAP50  mAP50-95): 100%|██████████| 8/8 [00:01<00:00,  5.15it/s]"
          ]
        },
        {
          "output_type": "stream",
          "name": "stdout",
          "text": [
            "                   all        120        216      0.899      0.825      0.888      0.558\n"
          ]
        },
        {
          "output_type": "stream",
          "name": "stderr",
          "text": [
            "\n"
          ]
        },
        {
          "output_type": "stream",
          "name": "stdout",
          "text": [
            "\n",
            "      Epoch    GPU_mem   box_loss   cls_loss   dfl_loss  Instances       Size\n"
          ]
        },
        {
          "output_type": "stream",
          "name": "stderr",
          "text": [
            "     94/100      2.94G      1.131     0.6723      1.223          2        640: 100%|██████████| 332/332 [00:54<00:00,  6.07it/s]\n",
            "                 Class     Images  Instances      Box(P          R      mAP50  mAP50-95): 100%|██████████| 8/8 [00:00<00:00,  8.38it/s]"
          ]
        },
        {
          "output_type": "stream",
          "name": "stdout",
          "text": [
            "                   all        120        216      0.918      0.824      0.893      0.558\n"
          ]
        },
        {
          "output_type": "stream",
          "name": "stderr",
          "text": [
            "\n"
          ]
        },
        {
          "output_type": "stream",
          "name": "stdout",
          "text": [
            "\n",
            "      Epoch    GPU_mem   box_loss   cls_loss   dfl_loss  Instances       Size\n"
          ]
        },
        {
          "output_type": "stream",
          "name": "stderr",
          "text": [
            "     95/100      2.95G      1.127     0.6713      1.224          2        640: 100%|██████████| 332/332 [00:54<00:00,  6.10it/s]\n",
            "                 Class     Images  Instances      Box(P          R      mAP50  mAP50-95): 100%|██████████| 8/8 [00:00<00:00,  8.16it/s]"
          ]
        },
        {
          "output_type": "stream",
          "name": "stdout",
          "text": [
            "                   all        120        216      0.897      0.833      0.889      0.559\n"
          ]
        },
        {
          "output_type": "stream",
          "name": "stderr",
          "text": [
            "\n"
          ]
        },
        {
          "output_type": "stream",
          "name": "stdout",
          "text": [
            "\n",
            "      Epoch    GPU_mem   box_loss   cls_loss   dfl_loss  Instances       Size\n"
          ]
        },
        {
          "output_type": "stream",
          "name": "stderr",
          "text": [
            "     96/100      2.97G      1.112     0.6619      1.216          2        640: 100%|██████████| 332/332 [00:55<00:00,  6.02it/s]\n",
            "                 Class     Images  Instances      Box(P          R      mAP50  mAP50-95): 100%|██████████| 8/8 [00:01<00:00,  7.13it/s]"
          ]
        },
        {
          "output_type": "stream",
          "name": "stdout",
          "text": [
            "                   all        120        216      0.902      0.833       0.89      0.559\n"
          ]
        },
        {
          "output_type": "stream",
          "name": "stderr",
          "text": [
            "\n"
          ]
        },
        {
          "output_type": "stream",
          "name": "stdout",
          "text": [
            "\n",
            "      Epoch    GPU_mem   box_loss   cls_loss   dfl_loss  Instances       Size\n"
          ]
        },
        {
          "output_type": "stream",
          "name": "stderr",
          "text": [
            "     97/100      2.98G      1.119     0.6562      1.216          2        640: 100%|██████████| 332/332 [00:54<00:00,  6.06it/s]\n",
            "                 Class     Images  Instances      Box(P          R      mAP50  mAP50-95): 100%|██████████| 8/8 [00:01<00:00,  5.52it/s]"
          ]
        },
        {
          "output_type": "stream",
          "name": "stdout",
          "text": [
            "                   all        120        216      0.888      0.852      0.892      0.565\n"
          ]
        },
        {
          "output_type": "stream",
          "name": "stderr",
          "text": [
            "\n"
          ]
        },
        {
          "output_type": "stream",
          "name": "stdout",
          "text": [
            "\n",
            "      Epoch    GPU_mem   box_loss   cls_loss   dfl_loss  Instances       Size\n"
          ]
        },
        {
          "output_type": "stream",
          "name": "stderr",
          "text": [
            "     98/100      3.01G      1.109      0.646      1.208          2        640: 100%|██████████| 332/332 [00:54<00:00,  6.08it/s]\n",
            "                 Class     Images  Instances      Box(P          R      mAP50  mAP50-95): 100%|██████████| 8/8 [00:00<00:00,  8.48it/s]\n"
          ]
        },
        {
          "output_type": "stream",
          "name": "stdout",
          "text": [
            "                   all        120        216      0.895      0.838      0.891      0.563\n",
            "\n",
            "      Epoch    GPU_mem   box_loss   cls_loss   dfl_loss  Instances       Size\n"
          ]
        },
        {
          "output_type": "stream",
          "name": "stderr",
          "text": [
            "     99/100      3.02G      1.109     0.6439      1.201         11        640: 100%|██████████| 332/332 [00:56<00:00,  5.90it/s]\n",
            "                 Class     Images  Instances      Box(P          R      mAP50  mAP50-95): 100%|██████████| 8/8 [00:00<00:00,  8.17it/s]"
          ]
        },
        {
          "output_type": "stream",
          "name": "stdout",
          "text": [
            "                   all        120        216      0.891      0.843       0.89      0.564\n"
          ]
        },
        {
          "output_type": "stream",
          "name": "stderr",
          "text": [
            "\n"
          ]
        },
        {
          "output_type": "stream",
          "name": "stdout",
          "text": [
            "\n",
            "      Epoch    GPU_mem   box_loss   cls_loss   dfl_loss  Instances       Size\n"
          ]
        },
        {
          "output_type": "stream",
          "name": "stderr",
          "text": [
            "    100/100      3.04G      1.101     0.6384      1.208          2        640: 100%|██████████| 332/332 [00:54<00:00,  6.10it/s]\n",
            "                 Class     Images  Instances      Box(P          R      mAP50  mAP50-95): 100%|██████████| 8/8 [00:00<00:00,  8.38it/s]"
          ]
        },
        {
          "output_type": "stream",
          "name": "stdout",
          "text": [
            "                   all        120        216      0.903      0.833      0.893      0.563\n"
          ]
        },
        {
          "output_type": "stream",
          "name": "stderr",
          "text": [
            "\n"
          ]
        },
        {
          "output_type": "stream",
          "name": "stdout",
          "text": [
            "\n",
            "100 epochs completed in 1.616 hours.\n",
            "Optimizer stripped from runs/detect/train/weights/last.pt, 6.3MB\n",
            "Optimizer stripped from runs/detect/train/weights/best.pt, 6.3MB\n",
            "\n",
            "Validating runs/detect/train/weights/best.pt...\n",
            "Ultralytics 8.3.176 🚀 Python-3.11.13 torch-2.6.0+cu124 CUDA:0 (Tesla T4, 15095MiB)\n",
            "Model summary (fused): 72 layers, 3,005,843 parameters, 0 gradients, 8.1 GFLOPs\n"
          ]
        },
        {
          "output_type": "stream",
          "name": "stderr",
          "text": [
            "                 Class     Images  Instances      Box(P          R      mAP50  mAP50-95): 100%|██████████| 8/8 [00:03<00:00,  2.21it/s]\n"
          ]
        },
        {
          "output_type": "stream",
          "name": "stdout",
          "text": [
            "                   all        120        216      0.888      0.845      0.892      0.565\n",
            "Speed: 0.8ms preprocess, 4.8ms inference, 0.0ms loss, 7.6ms postprocess per image\n",
            "Results saved to \u001b[1mruns/detect/train\u001b[0m\n"
          ]
        }
      ],
      "source": [
        "\n",
        "model = YOLO(\"yolov8n.pt\")  # detection model, NOT segmentation\n",
        "results = model.train(data=\"custom_data.yaml\", epochs=100, batch=8, imgsz=640, task=\"detect\")"
      ]
    },
    {
      "cell_type": "code",
      "execution_count": 9,
      "metadata": {
        "colab": {
          "base_uri": "https://localhost:8080/"
        },
        "id": "sRdpsywSvTUL",
        "outputId": "b481e04f-21e6-42f7-9b95-278d0b481b3d"
      },
      "outputs": [
        {
          "output_type": "stream",
          "name": "stdout",
          "text": [
            "\n",
            "image 1/1 /content/fire-1/test/images/Img_1269_jpg.rf.4bbdfbf08f8363658312ae9aedc6d86c.jpg: 640x640 2 fires, 7.5ms\n",
            "Speed: 2.1ms preprocess, 7.5ms inference, 1.6ms postprocess per image at shape (1, 3, 640, 640)\n",
            "Results saved to \u001b[1mruns/detect/train3\u001b[0m\n"
          ]
        }
      ],
      "source": [
        "predits = model.predict(source=\"/content/fire-1/test/images/Img_1269_jpg.rf.4bbdfbf08f8363658312ae9aedc6d86c.jpg\", save=True, imgsz=640)\n"
      ]
    },
    {
      "cell_type": "code",
      "execution_count": null,
      "metadata": {
        "id": "Tp098Qzg97Nt"
      },
      "outputs": [],
      "source": []
    },
    {
      "cell_type": "code",
      "execution_count": null,
      "metadata": {
        "id": "7pk8GK92zxkz"
      },
      "outputs": [],
      "source": []
    },
    {
      "cell_type": "code",
      "execution_count": 10,
      "metadata": {
        "colab": {
          "base_uri": "https://localhost:8080/",
          "height": 406
        },
        "id": "_U80NRbPy7Gi",
        "outputId": "9149f00b-21fe-4d22-9128-ff2a11b93651"
      },
      "outputs": [
        {
          "output_type": "display_data",
          "data": {
            "text/plain": [
              "<Figure size 640x480 with 1 Axes>"
            ],
            "image/png": "[encoded data removed]"
          },
          "metadata": {}
        }
      ],
      "source": [
        "import matplotlib.pyplot as plt\n",
        "\n",
        "for predict in predits:\n",
        "    predict.plot()\n",
        "    plt.imshow(predict.plot())\n",
        "    plt.axis('off')\n",
        "    plt.show()"
      ]
    },
    {
      "cell_type": "code",
      "execution_count": 12,
      "metadata": {
        "colab": {
          "base_uri": "https://localhost:8080/"
        },
        "id": "4iHcN4zCzylp",
        "outputId": "ad23873c-e8ce-4d03-f4c7-d635606c7dab"
      },
      "outputs": [
        {
          "output_type": "stream",
          "name": "stdout",
          "text": [
            "\n",
            "image 1/1 /content/fire-1/test/images/Img_1304_jpg.rf.7f1ea09959fa13ed0aa5cf3648ea145f.jpg: 640x640 4 fires, 10.0ms\n",
            "Speed: 2.9ms preprocess, 10.0ms inference, 2.5ms postprocess per image at shape (1, 3, 640, 640)\n",
            "Results saved to \u001b[1mruns/detect/train4\u001b[0m\n"
          ]
        }
      ],
      "source": [
        "predits2 = model.predict(source=\"/content/fire-1/test/images/Img_1304_jpg.rf.7f1ea09959fa13ed0aa5cf3648ea145f.jpg\", save=True, imgsz=640)"
      ]
    },
    {
      "cell_type": "code",
      "execution_count": 13,
      "metadata": {
        "colab": {
          "base_uri": "https://localhost:8080/",
          "height": 406
        },
        "id": "KIzPLvi0z67a",
        "outputId": "20e8592c-4771-44c3-c3d6-f9b3a9677204"
      },
      "outputs": [
        {
          "output_type": "display_data",
          "data": {
            "text/plain": [
              "<Figure size 640x480 with 1 Axes>"
            ],
            "image/png": "[encoded data removed]"
          },
          "metadata": {}
        }
      ],
      "source": [
        "import matplotlib.pyplot as plt\n",
        "\n",
        "for predict in predits2:\n",
        "    predict.plot()\n",
        "    plt.imshow(predict.plot())\n",
        "    plt.axis('off')\n",
        "    plt.show()"
      ]
    },
    {
      "cell_type": "code",
      "execution_count": 16,
      "metadata": {
        "colab": {
          "base_uri": "https://localhost:8080/",
          "height": 524
        },
        "id": "gVjne9RNeh-S",
        "outputId": "feb40b0b-ab3b-409d-cf92-5ddd9450c466"
      },
      "outputs": [
        {
          "output_type": "stream",
          "name": "stdout",
          "text": [
            "updating: content/runs/detect/train/ (stored 0%)\n",
            "updating: content/runs/detect/train/train_batch29880.jpg (deflated 9%)\n",
            "updating: content/runs/detect/train/BoxR_curve.png (deflated 15%)\n",
            "updating: content/runs/detect/train/labels_correlogram.jpg (deflated 35%)\n",
            "updating: content/runs/detect/train/results.png (deflated 8%)\n",
            "updating: content/runs/detect/train/BoxPR_curve.png (deflated 23%)\n",
            "updating: content/runs/detect/train/BoxF1_curve.png (deflated 15%)\n",
            "updating: content/runs/detect/train/val_batch2_labels.jpg (deflated 9%)\n",
            "updating: content/runs/detect/train/results.csv (deflated 61%)\n",
            "updating: content/runs/detect/train/train_batch29881.jpg (deflated 10%)\n",
            "updating: content/runs/detect/train/train_batch1.jpg (deflated 3%)\n",
            "updating: content/runs/detect/train/labels.jpg (deflated 30%)\n",
            "updating: content/runs/detect/train/val_batch0_labels.jpg (deflated 7%)\n",
            "updating: content/runs/detect/train/train_batch2.jpg (deflated 3%)\n",
            "updating: content/runs/detect/train/confusion_matrix.png (deflated 37%)\n",
            "updating: content/runs/detect/train/val_batch1_pred.jpg (deflated 7%)\n",
            "updating: content/runs/detect/train/val_batch1_labels.jpg (deflated 7%)\n",
            "updating: content/runs/detect/train/val_batch0_pred.jpg (deflated 7%)\n",
            "updating: content/runs/detect/train/val_batch2_pred.jpg (deflated 9%)\n",
            "updating: content/runs/detect/train/BoxP_curve.png (deflated 17%)\n",
            "updating: content/runs/detect/train/train_batch29882.jpg (deflated 7%)\n",
            "updating: content/runs/detect/train/weights/ (stored 0%)\n",
            "updating: content/runs/detect/train/weights/best.pt (deflated 10%)\n",
            "updating: content/runs/detect/train/weights/last.pt (deflated 10%)\n",
            "updating: content/runs/detect/train/confusion_matrix_normalized.png (deflated 37%)\n",
            "updating: content/runs/detect/train/args.yaml (deflated 53%)\n",
            "updating: content/runs/detect/train/train_batch0.jpg (deflated 7%)\n"
          ]
        },
        {
          "output_type": "display_data",
          "data": {
            "text/plain": [
              "<IPython.core.display.Javascript object>"
            ],
            "application/javascript": [
              "\n",
              "    async function download(id, filename, size) {\n",
              "      if (!google.colab.kernel.accessAllowed) {\n",
              "        return;\n",
              "      }\n",
              "      const div = document.createElement('div');\n",
              "      const label = document.createElement('label');\n",
              "      label.textContent = `Downloading \"${filename}\": `;\n",
              "      div.appendChild(label);\n",
              "      const progress = document.createElement('progress');\n",
              "      progress.max = size;\n",
              "      div.appendChild(progress);\n",
              "      document.body.appendChild(div);\n",
              "\n",
              "      const buffers = [];\n",
              "      let downloaded = 0;\n",
              "\n",
              "      const channel = await google.colab.kernel.comms.open(id);\n",
              "      // Send a message to notify the kernel that we're ready.\n",
              "      channel.send({})\n",
              "\n",
              "      for await (const message of channel.messages) {\n",
              "        // Send a message to notify the kernel that we're ready.\n",
              "        channel.send({})\n",
              "        if (message.buffers) {\n",
              "          for (const buffer of message.buffers) {\n",
              "            buffers.push(buffer);\n",
              "            downloaded += buffer.byteLength;\n",
              "            progress.value = downloaded;\n",
              "          }\n",
              "        }\n",
              "      }\n",
              "      const blob = new Blob(buffers, {type: 'application/binary'});\n",
              "      const a = document.createElement('a');\n",
              "      a.href = window.URL.createObjectURL(blob);\n",
              "      a.download = filename;\n",
              "      div.appendChild(a);\n",
              "      a.click();\n",
              "      div.remove();\n",
              "    }\n",
              "  "
            ]
          },
          "metadata": {}
        },
        {
          "output_type": "display_data",
          "data": {
            "text/plain": [
              "<IPython.core.display.Javascript object>"
            ],
            "application/javascript": [
              "download(\"download_bbd939ae-12c1-41dc-9c82-35ba9ff54396\", \"yolov8_training_output.zip\", 17811922)"
            ]
          },
          "metadata": {}
        }
      ],
      "source": [
        "from google.colab import files\n",
        "\n",
        "!zip -r yolov8_training_output.zip /content/runs/detect/train\n",
        "files.download(\"yolov8_training_output.zip\")\n"
      ]
    },
    {
      "cell_type": "code",
      "source": [
        "files.download('/content/runs/detect/train/weights/best.pt')"
      ],
      "metadata": {
        "id": "oajll8Rb4o4J",
        "outputId": "19af26e2-4f22-4df1-a5da-cac56678bff3",
        "colab": {
          "base_uri": "https://localhost:8080/",
          "height": 17
        }
      },
      "execution_count": 17,
      "outputs": [
        {
          "output_type": "display_data",
          "data": {
            "text/plain": [
              "<IPython.core.display.Javascript object>"
            ],
            "application/javascript": [
              "\n",
              "    async function download(id, filename, size) {\n",
              "      if (!google.colab.kernel.accessAllowed) {\n",
              "        return;\n",
              "      }\n",
              "      const div = document.createElement('div');\n",
              "      const label = document.createElement('label');\n",
              "      label.textContent = `Downloading \"${filename}\": `;\n",
              "      div.appendChild(label);\n",
              "      const progress = document.createElement('progress');\n",
              "      progress.max = size;\n",
              "      div.appendChild(progress);\n",
              "      document.body.appendChild(div);\n",
              "\n",
              "      const buffers = [];\n",
              "      let downloaded = 0;\n",
              "\n",
              "      const channel = await google.colab.kernel.comms.open(id);\n",
              "      // Send a message to notify the kernel that we're ready.\n",
              "      channel.send({})\n",
              "\n",
              "      for await (const message of channel.messages) {\n",
              "        // Send a message to notify the kernel that we're ready.\n",
              "        channel.send({})\n",
              "        if (message.buffers) {\n",
              "          for (const buffer of message.buffers) {\n",
              "            buffers.push(buffer);\n",
              "            downloaded += buffer.byteLength;\n",
              "            progress.value = downloaded;\n",
              "          }\n",
              "        }\n",
              "      }\n",
              "      const blob = new Blob(buffers, {type: 'application/binary'});\n",
              "      const a = document.createElement('a');\n",
              "      a.href = window.URL.createObjectURL(blob);\n",
              "      a.download = filename;\n",
              "      div.appendChild(a);\n",
              "      a.click();\n",
              "      div.remove();\n",
              "    }\n",
              "  "
            ]
          },
          "metadata": {}
        },
        {
          "output_type": "display_data",
          "data": {
            "text/plain": [
              "<IPython.core.display.Javascript object>"
            ],
            "application/javascript": [
              "download(\"download_172b21db-3978-4f32-aa0b-5e8fccaa02da\", \"best.pt\", 6254563)"
            ]
          },
          "metadata": {}
        }
      ]
    }
  ],
  "metadata": {
    "accelerator": "GPU",
    "colab": {
      "gpuType": "T4",
      "provenance": []
    },
    "kernelspec": {
      "display_name": "Python 3",
      "name": "python3"
    },
    "language_info": {
      "name": "python"
    }
  },
  "nbformat": 4,
  "nbformat_minor": 0
}